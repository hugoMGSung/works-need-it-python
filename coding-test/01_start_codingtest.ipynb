{
 "cells": [
  {
   "cell_type": "markdown",
   "metadata": {},
   "source": [
    "## 프로그래머스 초급 문제 Level 1 - 1"
   ]
  },
  {
   "cell_type": "code",
   "execution_count": 12,
   "metadata": {},
   "outputs": [
    {
     "name": "stdout",
     "output_type": "stream",
     "text": [
      "['1', '0']\n"
     ]
    },
    {
     "data": {
      "text/plain": [
       "0"
      ]
     },
     "execution_count": 12,
     "metadata": {},
     "output_type": "execute_result"
    }
   ],
   "source": [
    "import re\n",
    " \n",
    "X = 10\n",
    "numbers = re.findall(r'\\d', str(X))\n",
    "print(numbers)\n",
    "\n",
    "sum = 0\n",
    "for i in numbers:\n",
    "    sum = sum + int(i)\n",
    "    \n",
    "if X % sum == 0:\n",
    "    return True\n",
    "else:\n",
    "    return False"
   ]
  },
  {
   "cell_type": "code",
   "execution_count": 2,
   "metadata": {},
   "outputs": [
    {
     "ename": "ValueError",
     "evalue": "invalid literal for int() with base 10: 'a2345'",
     "output_type": "error",
     "traceback": [
      "\u001b[1;31m---------------------------------------------------------------------------\u001b[0m",
      "\u001b[1;31mValueError\u001b[0m                                Traceback (most recent call last)",
      "\u001b[1;32md:\\01_Programming\\100_HugoBank\\Mine\\works-need-it-python\\coding-test\\01_start_codingtest.ipynb 셀 3\u001b[0m in \u001b[0;36m<cell line: 4>\u001b[1;34m()\u001b[0m\n\u001b[0;32m      <a href='vscode-notebook-cell:/d%3A/01_Programming/100_HugoBank/Mine/works-need-it-python/coding-test/01_start_codingtest.ipynb#X11sZmlsZQ%3D%3D?line=0'>1</a>\u001b[0m \u001b[39m# 바뀐 문제\u001b[39;00m\n\u001b[0;32m      <a href='vscode-notebook-cell:/d%3A/01_Programming/100_HugoBank/Mine/works-need-it-python/coding-test/01_start_codingtest.ipynb#X11sZmlsZQ%3D%3D?line=1'>2</a>\u001b[0m s \u001b[39m=\u001b[39m \u001b[39m\"\u001b[39m\u001b[39ma2345\u001b[39m\u001b[39m\"\u001b[39m\n\u001b[1;32m----> <a href='vscode-notebook-cell:/d%3A/01_Programming/100_HugoBank/Mine/works-need-it-python/coding-test/01_start_codingtest.ipynb#X11sZmlsZQ%3D%3D?line=3'>4</a>\u001b[0m \u001b[39mint\u001b[39;49m(s)\n",
      "\u001b[1;31mValueError\u001b[0m: invalid literal for int() with base 10: 'a2345'"
     ]
    }
   ],
   "source": [
    "# 바뀐 문제\n",
    "s = \"a2345\"\n",
    "\n",
    "try:\n",
    "    \n",
    "except:\n",
    "int(s) "
   ]
  },
  {
   "cell_type": "code",
   "execution_count": null,
   "metadata": {},
   "outputs": [],
   "source": []
  },
  {
   "cell_type": "markdown",
   "metadata": {},
   "source": [
    "## 프로그래머스 초급 문제 Level 1 - 2"
   ]
  },
  {
   "cell_type": "code",
   "execution_count": 19,
   "metadata": {},
   "outputs": [
    {
     "name": "stdout",
     "output_type": "stream",
     "text": [
      "*7732\n"
     ]
    }
   ],
   "source": [
    "phone_number = \"37732\"\n",
    "lens = len(phone_number)\n",
    "\n",
    "if len(phone_number) < 4 or len(phone_number) > 20:\n",
    "    print('too long.')\n",
    "else:\n",
    "    result = ''\n",
    "    result = '*'*(len(phone_number)-4)\n",
    "    result = result + phone_number[len(phone_number)-4:len(phone_number)]\n",
    "    print(result)\n",
    "    "
   ]
  },
  {
   "cell_type": "markdown",
   "metadata": {},
   "source": [
    "## 백준 2750번"
   ]
  },
  {
   "cell_type": "code",
   "execution_count": 11,
   "metadata": {},
   "outputs": [
    {
     "name": "stdout",
     "output_type": "stream",
     "text": [
      "1 2 3 34 4 5 6 7 8 9\n"
     ]
    }
   ],
   "source": [
    "temp = input('예 -> 5 5 2 3 4 1')\n",
    "\n",
    "inputs = temp.split(' ')\n",
    "if len(inputs) >= 1000:\n",
    "    print('inputs are too many. please input under 1000.')\n",
    "else:\n",
    "    sets = set(inputs)\n",
    "    to_list = list(sets)\n",
    "    to_list.sort(reverse=False)\n",
    "    print(' '.join(to_list))"
   ]
  },
  {
   "cell_type": "code",
   "execution_count": 14,
   "metadata": {},
   "outputs": [
    {
     "name": "stdout",
     "output_type": "stream",
     "text": [
      "3\n",
      "4\n",
      "5\n",
      "6\n",
      "7\n",
      "55\n"
     ]
    }
   ],
   "source": [
    "num = int(input('입력 갯수'))\n",
    "if num >= 1000:\n",
    "    print('입력 갯수를 줄이세요')\n",
    "else:\n",
    "    num_list = []\n",
    "    for i in range(num):\n",
    "        num_list.append(int(input()))\n",
    "\n",
    "    num_list.sort(reverse=False)\n",
    "    for i in range(len(num_list)):\n",
    "        print(num_list[i])"
   ]
  },
  {
   "cell_type": "code",
   "execution_count": 15,
   "metadata": {},
   "outputs": [
    {
     "name": "stdout",
     "output_type": "stream",
     "text": [
      "2\n",
      "4\n",
      "4\n",
      "33\n",
      "55\n",
      "77\n"
     ]
    }
   ],
   "source": [
    "num = int(input())\n",
    "num_list = []\n",
    "for i in range(num):\n",
    "    num_list.append(int(input()))\n",
    "\n",
    "num_list.sort(reverse=False)\n",
    "for i in range(len(num_list)):\n",
    "    print(num_list[i])"
   ]
  }
 ],
 "metadata": {
  "kernelspec": {
   "display_name": "Python 3.10.7 64-bit",
   "language": "python",
   "name": "python3"
  },
  "language_info": {
   "codemirror_mode": {
    "name": "ipython",
    "version": 3
   },
   "file_extension": ".py",
   "mimetype": "text/x-python",
   "name": "python",
   "nbconvert_exporter": "python",
   "pygments_lexer": "ipython3",
   "version": "3.10.7"
  },
  "orig_nbformat": 4,
  "vscode": {
   "interpreter": {
    "hash": "20db6503c0fb7cfef3e0f497d11af019be42a43487df99bb7debe468b2230595"
   }
  }
 },
 "nbformat": 4,
 "nbformat_minor": 2
}
