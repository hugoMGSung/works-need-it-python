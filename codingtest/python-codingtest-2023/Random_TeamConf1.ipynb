{
 "cells": [
  {
   "cell_type": "code",
   "execution_count": 2,
   "metadata": {},
   "outputs": [
    {
     "data": {
      "text/plain": [
       "[0, 0, 0, 0, 0, 0]"
      ]
     },
     "execution_count": 2,
     "metadata": {},
     "output_type": "execute_result"
    }
   ],
   "source": [
    "N = 5\n",
    "indegree = [0 for _ in range(N+1)] # [0] * (N + 1) \n",
    "indegree\n"
   ]
  },
  {
   "cell_type": "code",
   "execution_count": 2,
   "metadata": {},
   "outputs": [
    {
     "name": "stdout",
     "output_type": "stream",
     "text": [
      "['1', '곽지은', '1']\n",
      "['2', '구자인', '0']\n",
      "['3', '김예서', '1']\n",
      "['4', '김지현', '0']\n",
      "['5', '박성현', '2']\n",
      "['6', '박영훈', '0']\n",
      "['7', '박주현', '1']\n",
      "['8', '박효창', '1']\n",
      "['9', '손민성', '2']\n",
      "['10', '안정재', '1']\n",
      "['11', '오슬예나', '0']\n",
      "['12', '오유리나', '1']\n",
      "['13', '오윤범', '2']\n",
      "['14', '이가연', '0']\n",
      "['15', '이동훈', '2']\n",
      "['16', '이수진', '1']\n",
      "['17', '이용환', '1']\n",
      "['18', '이재욱', '1']\n",
      "['19', '이주현', '1']\n",
      "['20', '이태윤', '2']\n",
      "['21', '임수진', '1']\n",
      "['22', '임채연', '1']\n",
      "['23', '장시현', '1']\n",
      "['24', '정수민', '0']\n",
      "['25', '정재영', '1']\n",
      "['26', '조원준', '0']\n",
      "['27', '최수정', '1']\n",
      "['28', '한승민', '1']\n",
      "['29', '홍동현', '0']\n",
      "['30', '황소영', '0']\n"
     ]
    }
   ],
   "source": [
    "import csv\n",
    "\n",
    "original = []\n",
    "\n",
    "f = open('./학생리스트.csv', mode='r', encoding='utf-8')\n",
    "reader = csv.reader(f, delimiter=',', )\n",
    "i = 0\n",
    "for line in reader:\n",
    "    if i == 0:\n",
    "        i += 1; continue\n",
    "\n",
    "    print(line)\n",
    "    original.append([line[0], line[1], line[2]])\n",
    "    i += 1\n",
    "f.close()"
   ]
  },
  {
   "cell_type": "code",
   "execution_count": 4,
   "metadata": {},
   "outputs": [],
   "source": [
    "leader_list = [] \n",
    "leader_list.append([None,None,None])\n",
    "student_list = []\n",
    "student_list.append([None,None,None])\n",
    "\n",
    "for item in original:\n",
    "    if item[2] == '2':\n",
    "        leader_list.append(item)\n",
    "    else:\n",
    "        student_list.append(item)"
   ]
  },
  {
   "cell_type": "code",
   "execution_count": 5,
   "metadata": {},
   "outputs": [
    {
     "data": {
      "text/plain": [
       "[[None, None, None],\n",
       " ['5', '박성현', '2'],\n",
       " ['9', '손민성', '2'],\n",
       " ['13', '오윤범', '2'],\n",
       " ['15', '이동훈', '2'],\n",
       " ['20', '이태윤', '2']]"
      ]
     },
     "execution_count": 5,
     "metadata": {},
     "output_type": "execute_result"
    }
   ],
   "source": [
    "leader_list"
   ]
  },
  {
   "cell_type": "code",
   "execution_count": 6,
   "metadata": {},
   "outputs": [
    {
     "data": {
      "text/plain": [
       "[[None, None, None],\n",
       " ['1', '곽지은', '1'],\n",
       " ['2', '구자인', '0'],\n",
       " ['3', '김예서', '1'],\n",
       " ['4', '김지현', '0'],\n",
       " ['6', '박영훈', '0'],\n",
       " ['7', '박주현', '1'],\n",
       " ['8', '박효창', '1'],\n",
       " ['10', '안정재', '1'],\n",
       " ['11', '오슬예나', '0'],\n",
       " ['12', '오유리나', '1'],\n",
       " ['14', '이가연', '0'],\n",
       " ['16', '이수진', '1'],\n",
       " ['17', '이용환', '1'],\n",
       " ['18', '이재욱', '1'],\n",
       " ['19', '이주현', '1'],\n",
       " ['21', '임수진', '1'],\n",
       " ['22', '임채연', '1'],\n",
       " ['23', '장시현', '1'],\n",
       " ['24', '정수민', '0'],\n",
       " ['25', '정재영', '1'],\n",
       " ['26', '조원준', '0'],\n",
       " ['27', '최수정', '1'],\n",
       " ['28', '한승민', '1'],\n",
       " ['29', '홍동현', '0'],\n",
       " ['30', '황소영', '0']]"
      ]
     },
     "execution_count": 6,
     "metadata": {},
     "output_type": "execute_result"
    }
   ],
   "source": [
    "student_list"
   ]
  },
  {
   "cell_type": "code",
   "execution_count": 113,
   "metadata": {},
   "outputs": [],
   "source": [
    "numbers = [[] for _ in range(25+1)]\n",
    "for i in range(1, 25+1):\n",
    "    numbers[i] = [i, 1]"
   ]
  },
  {
   "cell_type": "code",
   "execution_count": 9,
   "metadata": {},
   "outputs": [
    {
     "name": "stdout",
     "output_type": "stream",
     "text": [
      "4조 ['15', '이동훈', '2']\n",
      "5조 ['20', '이태윤', '2']\n",
      "2조 ['9', '손민성', '2']\n",
      "3조 ['13', '오윤범', '2']\n",
      "1조 ['5', '박성현', '2']\n"
     ]
    }
   ],
   "source": [
    "import random as rnd\n",
    "\n",
    "test = [i for i in range(1, 6)]\n",
    "team_leaders = []\n",
    "\n",
    "rnd.shuffle(test)\n",
    "\n",
    "for i in range(5):\n",
    "    print(f'{test[i]}조', leader_list[test[i]])\n"
   ]
  },
  {
   "cell_type": "code",
   "execution_count": 16,
   "metadata": {},
   "outputs": [],
   "source": [
    "test2 = [i for i in range(1, 25+1)]\n",
    "team_members = [[] for _ in range(5)]\n",
    "\n",
    "rnd.shuffle(test2)\n",
    "\n",
    "for i in range(5):\n",
    "    team_members[i].append(test2[i*5 : (i+1)*5])"
   ]
  },
  {
   "cell_type": "code",
   "execution_count": 17,
   "metadata": {},
   "outputs": [
    {
     "name": "stdout",
     "output_type": "stream",
     "text": [
      "[[5, 18, 10, 9, 15]]\n",
      "[[22, 4, 13, 14, 6]]\n",
      "[[23, 24, 7, 20, 8]]\n",
      "[[25, 3, 19, 2, 1]]\n",
      "[[11, 17, 12, 21, 16]]\n"
     ]
    }
   ],
   "source": [
    "for item in team_members:\n",
    "    print(item)"
   ]
  },
  {
   "cell_type": "code",
   "execution_count": 18,
   "metadata": {},
   "outputs": [
    {
     "name": "stdout",
     "output_type": "stream",
     "text": [
      "1조 ['6', '박영훈', '0'] ['23', '장시현', '1'] ['12', '오유리나', '1'] ['11', '오슬예나', '0'] ['19', '이주현', '1']\n",
      "2조 ['27', '최수정', '1'] ['4', '김지현', '0'] ['17', '이용환', '1'] ['18', '이재욱', '1'] ['7', '박주현', '1']\n",
      "3조 ['28', '한승민', '1'] ['29', '홍동현', '0'] ['8', '박효창', '1'] ['25', '정재영', '1'] ['10', '안정재', '1']\n",
      "4조 ['30', '황소영', '0'] ['3', '김예서', '1'] ['24', '정수민', '0'] ['2', '구자인', '0'] ['1', '곽지은', '1']\n",
      "5조 ['14', '이가연', '0'] ['22', '임채연', '1'] ['16', '이수진', '1'] ['26', '조원준', '0'] ['21', '임수진', '1']\n"
     ]
    }
   ],
   "source": [
    "for i, item in enumerate(team_members):\n",
    "    print(f'{i+1}조',  student_list[item[0][0]], student_list[item[0][1]], student_list[item[0][2]], \n",
    "                       student_list[item[0][3]], student_list[item[0][4]])"
   ]
  }
 ],
 "metadata": {
  "kernelspec": {
   "display_name": "Python 3",
   "language": "python",
   "name": "python3"
  },
  "language_info": {
   "codemirror_mode": {
    "name": "ipython",
    "version": 3
   },
   "file_extension": ".py",
   "mimetype": "text/x-python",
   "name": "python",
   "nbconvert_exporter": "python",
   "pygments_lexer": "ipython3",
   "version": "3.11.1"
  },
  "orig_nbformat": 4,
  "vscode": {
   "interpreter": {
    "hash": "a3d8f53f1429d27b792a3789224562ddd32c1395c9a9cfbb17b3c19c3b9a493d"
   }
  }
 },
 "nbformat": 4,
 "nbformat_minor": 2
}
