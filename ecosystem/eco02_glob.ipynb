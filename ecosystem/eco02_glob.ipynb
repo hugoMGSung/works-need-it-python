{
 "cells": [
  {
   "cell_type": "markdown",
   "metadata": {},
   "source": [
    "## glob: 패턴 매칭 기반 파일 목록 찾기\n",
    "- Glob 라이브러리는 파일 시스템에서 패턴 매칭을 사용하여 파일 목록을 찾는 Python의 내장 라이브러리\n",
    "- Glob는 주로 와일드카드 문자(예: *, ?, [...])를 사용하여 파일 패턴을 지정"
   ]
  },
  {
   "cell_type": "code",
   "execution_count": 1,
   "metadata": {},
   "outputs": [],
   "source": [
    "import glob"
   ]
  },
  {
   "cell_type": "code",
   "execution_count": 2,
   "metadata": {},
   "outputs": [
    {
     "name": "stdout",
     "output_type": "stream",
     "text": [
      "eco01_datetime.ipynb\n",
      "eco02_glob.ipynb\n"
     ]
    }
   ],
   "source": [
    "# 현재 폴더의 모든 .ipynb 파일 목록 리스트\n",
    "for filename in glob.glob('*.ipynb'):\n",
    "    print(filename)"
   ]
  },
  {
   "cell_type": "code",
   "execution_count": 5,
   "metadata": {},
   "outputs": [
    {
     "name": "stdout",
     "output_type": "stream",
     "text": [
      "..\\README.md\n",
      "..\\basic\\basic-python-2023\\README.md\n",
      "..\\codingtest\\python-codingtest-2023\\README.md\n",
      "..\\ecosystem\\README.md\n",
      "..\\google_coral\\corals\\pycoral\\CHANGES.md\n",
      "..\\google_coral\\corals\\pycoral\\CONTRIBUTING.md\n",
      "..\\google_coral\\corals\\pycoral\\README.md\n",
      "..\\google_coral\\corals\\pycoral\\docs\\README.md\n",
      "..\\google_coral\\corals\\pycoral\\examples\\README.md\n",
      "..\\performance\\README.md\n",
      "..\\pyqt6\\README.md\n",
      "..\\teaching\\teaching2020\\README.md\n",
      "..\\teaching\\teaching2022-2\\readme.MD\n",
      "..\\teaching\\teaching2022-3\\README.md\n",
      "..\\venv\\Lib\\site-packages\\debugpy\\_vendored\\pydevd\\pydevd_plugins\\extensions\\README.md\n",
      "..\\venv\\Lib\\site-packages\\idna-3.10.dist-info\\LICENSE.md\n",
      "..\\venv\\Lib\\site-packages\\numpy\\random\\LICENSE.md\n",
      "..\\venv\\Lib\\site-packages\\pyzmq-26.2.0.dist-info\\licenses\\LICENSE.md\n",
      "..\\venv\\Lib\\site-packages\\zmq\\backend\\cffi\\README.md\n",
      "..\\web_dev\\gpioFlask\\README.md\n"
     ]
    }
   ],
   "source": [
    "# 하위 폴더 포함 전체 *.md 파일 검색\n",
    "for filename in glob.glob('../**/*.md', recursive=True):\n",
    "    print(filename)"
   ]
  },
  {
   "cell_type": "markdown",
   "metadata": {},
   "source": [
    "## 디렉토리 핸들링\n",
    "\n",
    "### os 라이브러리"
   ]
  },
  {
   "cell_type": "code",
   "execution_count": 6,
   "metadata": {},
   "outputs": [],
   "source": [
    "import os  "
   ]
  },
  {
   "cell_type": "code",
   "execution_count": 7,
   "metadata": {},
   "outputs": [
    {
     "name": "stdout",
     "output_type": "stream",
     "text": [
      "Current Directory: d:\\01_Programming\\100_HugoBank\\Mine\\works-need-it-python\\ecosystem\n"
     ]
    }
   ],
   "source": [
    "# 현재 작업 디렉토리 조회  \n",
    "current_directory = os.getcwd()  \n",
    "print(\"Current Directory:\", current_directory)  "
   ]
  },
  {
   "cell_type": "code",
   "execution_count": 10,
   "metadata": {},
   "outputs": [],
   "source": [
    "# 새 디렉토리 생성  \n",
    "os.mkdir('new_dir')  "
   ]
  },
  {
   "cell_type": "code",
   "execution_count": 11,
   "metadata": {},
   "outputs": [],
   "source": [
    "# 디렉토리 삭제  \n",
    "os.rmdir('new_dir')  "
   ]
  },
  {
   "cell_type": "code",
   "execution_count": 12,
   "metadata": {},
   "outputs": [
    {
     "name": "stdout",
     "output_type": "stream",
     "text": [
      "PATH Environment Variable: d:\\01_Programming\\100_HugoBank\\Mine\\works-need-it-python\\venv\\Scripts;D:\\01_Programming\\100_HugoBank\\Mine\\works-need-it-python\\venv\\Scripts;C:\\Program Files\\Python310\\Scripts\\;C:\\Program Files\\Python310\\;C:\\Program Files\\NVIDIA GPU Computing Toolkit\\CUDA\\v12.4\\bin;C:\\Program Files\\NVIDIA GPU Computing Toolkit\\CUDA\\v12.4\\libnvvp;C:\\Program Files\\Common Files\\Oracle\\Java\\javapath;C:\\WINDOWS\\system32;C:\\WINDOWS;C:\\WINDOWS\\System32\\Wbem;C:\\WINDOWS\\System32\\WindowsPowerShell\\v1.0\\;C:\\WINDOWS\\System32\\OpenSSH\\;C:\\Program Files\\Bandizip\\;C:\\Program Files\\dotnet\\;C:\\Program Files (x86)\\NVIDIA Corporation\\PhysX\\Common;C:\\Program Files\\Git\\cmd;C:\\Program Files\\Docker\\Docker\\resources\\bin;C:\\Program Files\\TortoiseGit\\bin;C:\\DEV\\SERVERs\\MongoDB\\Server\\8.0\\bin;C:\\DEV\\LANGs\\Go\\bin;C:\\Program Files\\Microsoft SQL Server\\150\\Tools\\Binn\\;C:\\Program Files\\Microsoft SQL Server\\Client SDK\\ODBC\\170\\Tools\\Binn\\;C:\\Program Files (x86)\\Windows Kits\\10\\Windows Performance Toolkit\\;C:\\DEV\\LANGs\\nodejs\\;C:\\Program Files\\NVIDIA Corporation\\Nsight Compute 2024.1.1\\;C:\\Program Files\\NVIDIA Corporation\\NVIDIA NvDLISR;C:\\Program Files (x86)\\Microsoft SQL Server\\160\\Tools\\Binn\\;C:\\Program Files\\Microsoft SQL Server\\160\\Tools\\Binn\\;C:\\Program Files\\Microsoft SQL Server\\160\\DTS\\Binn\\;C:\\Program Files (x86)\\Microsoft SQL Server\\160\\DTS\\Binn\\;C:\\DEV\\TOOLs\\PuTTY\\;C:\\DEV\\LANGs\\Java\\jdk-21\\bin;C:\\DEV\\LANGs\\CMake\\bin;C:\\DEV\\SERVERs\\MySQL\\MySQL Shell 8.0\\bin\\;C:\\Users\\perso\\.pyenv\\pyenv-win\\bin;C:\\Users\\perso\\.pyenv\\pyenv-win\\shims;C:\\Users\\perso\\AppData\\Local\\Microsoft\\WindowsApps;C:\\Users\\perso\\AppData\\Local\\GitHubDesktop\\bin;C:\\Users\\perso\\go\\bin;C:\\DEV\\TOOLs\\Microsoft\\Microsoft VS Code\\bin;C:\\Users\\perso\\AppData\\Roaming\\npm;C:\\DEV\\TOOLs\\JetBrains\\IntelliJ IDEA Community Edition 2024.2.3\\bin;;C:\\DEV\\TOOLs\\chromedriver-win64;C:\\Users\\perso\\.dotnet\\tools;C:\\Program Files\\CMake\\bin\n"
     ]
    }
   ],
   "source": [
    "# 환경 변수 조회  \n",
    "path = os.environ.get('PATH')  \n",
    "print(\"PATH Environment Variable:\", path)  "
   ]
  },
  {
   "cell_type": "code",
   "execution_count": 16,
   "metadata": {},
   "outputs": [
    {
     "data": {
      "text/plain": [
       "['d:\\\\01_Programming\\\\100_HugoBank\\\\Mine\\\\works-need-it-python\\\\venv\\\\Scripts',\n",
       " 'D:\\\\01_Programming\\\\100_HugoBank\\\\Mine\\\\works-need-it-python\\\\venv\\\\Scripts',\n",
       " 'C:\\\\Program Files\\\\Python310\\\\Scripts\\\\',\n",
       " 'C:\\\\Program Files\\\\Python310\\\\',\n",
       " 'C:\\\\Program Files\\\\NVIDIA GPU Computing Toolkit\\\\CUDA\\\\v12.4\\\\bin',\n",
       " 'C:\\\\Program Files\\\\NVIDIA GPU Computing Toolkit\\\\CUDA\\\\v12.4\\\\libnvvp',\n",
       " 'C:\\\\Program Files\\\\Common Files\\\\Oracle\\\\Java\\\\javapath',\n",
       " 'C:\\\\WINDOWS\\\\system32',\n",
       " 'C:\\\\WINDOWS',\n",
       " 'C:\\\\WINDOWS\\\\System32\\\\Wbem',\n",
       " 'C:\\\\WINDOWS\\\\System32\\\\WindowsPowerShell\\\\v1.0\\\\',\n",
       " 'C:\\\\WINDOWS\\\\System32\\\\OpenSSH\\\\',\n",
       " 'C:\\\\Program Files\\\\Bandizip\\\\',\n",
       " 'C:\\\\Program Files\\\\dotnet\\\\',\n",
       " 'C:\\\\Program Files (x86)\\\\NVIDIA Corporation\\\\PhysX\\\\Common',\n",
       " 'C:\\\\Program Files\\\\Git\\\\cmd',\n",
       " 'C:\\\\Program Files\\\\Docker\\\\Docker\\\\resources\\\\bin',\n",
       " 'C:\\\\Program Files\\\\TortoiseGit\\\\bin',\n",
       " 'C:\\\\DEV\\\\SERVERs\\\\MongoDB\\\\Server\\\\8.0\\\\bin',\n",
       " 'C:\\\\DEV\\\\LANGs\\\\Go\\\\bin',\n",
       " 'C:\\\\Program Files\\\\Microsoft SQL Server\\\\150\\\\Tools\\\\Binn\\\\',\n",
       " 'C:\\\\Program Files\\\\Microsoft SQL Server\\\\Client SDK\\\\ODBC\\\\170\\\\Tools\\\\Binn\\\\',\n",
       " 'C:\\\\Program Files (x86)\\\\Windows Kits\\\\10\\\\Windows Performance Toolkit\\\\',\n",
       " 'C:\\\\DEV\\\\LANGs\\\\nodejs\\\\',\n",
       " 'C:\\\\Program Files\\\\NVIDIA Corporation\\\\Nsight Compute 2024.1.1\\\\',\n",
       " 'C:\\\\Program Files\\\\NVIDIA Corporation\\\\NVIDIA NvDLISR',\n",
       " 'C:\\\\Program Files (x86)\\\\Microsoft SQL Server\\\\160\\\\Tools\\\\Binn\\\\',\n",
       " 'C:\\\\Program Files\\\\Microsoft SQL Server\\\\160\\\\Tools\\\\Binn\\\\',\n",
       " 'C:\\\\Program Files\\\\Microsoft SQL Server\\\\160\\\\DTS\\\\Binn\\\\',\n",
       " 'C:\\\\Program Files (x86)\\\\Microsoft SQL Server\\\\160\\\\DTS\\\\Binn\\\\',\n",
       " 'C:\\\\DEV\\\\TOOLs\\\\PuTTY\\\\',\n",
       " 'C:\\\\DEV\\\\LANGs\\\\Java\\\\jdk-21\\\\bin',\n",
       " 'C:\\\\DEV\\\\LANGs\\\\CMake\\\\bin',\n",
       " 'C:\\\\DEV\\\\SERVERs\\\\MySQL\\\\MySQL Shell 8.0\\\\bin\\\\',\n",
       " 'C:\\\\Users\\\\perso\\\\.pyenv\\\\pyenv-win\\\\bin',\n",
       " 'C:\\\\Users\\\\perso\\\\.pyenv\\\\pyenv-win\\\\shims',\n",
       " 'C:\\\\Users\\\\perso\\\\AppData\\\\Local\\\\Microsoft\\\\WindowsApps',\n",
       " 'C:\\\\Users\\\\perso\\\\AppData\\\\Local\\\\GitHubDesktop\\\\bin',\n",
       " 'C:\\\\Users\\\\perso\\\\go\\\\bin',\n",
       " 'C:\\\\DEV\\\\TOOLs\\\\Microsoft\\\\Microsoft VS Code\\\\bin',\n",
       " 'C:\\\\Users\\\\perso\\\\AppData\\\\Roaming\\\\npm',\n",
       " 'C:\\\\DEV\\\\TOOLs\\\\JetBrains\\\\IntelliJ IDEA Community Edition 2024.2.3\\\\bin',\n",
       " '',\n",
       " 'C:\\\\DEV\\\\TOOLs\\\\chromedriver-win64',\n",
       " 'C:\\\\Users\\\\perso\\\\.dotnet\\\\tools',\n",
       " 'C:\\\\Program Files\\\\CMake\\\\bin']"
      ]
     },
     "execution_count": 16,
     "metadata": {},
     "output_type": "execute_result"
    }
   ],
   "source": [
    "path.split(';')"
   ]
  },
  {
   "cell_type": "code",
   "execution_count": 17,
   "metadata": {},
   "outputs": [],
   "source": [
    "# 새 디렉토리 생성  \n",
    "os.mkdir('output')  "
   ]
  },
  {
   "cell_type": "code",
   "execution_count": 18,
   "metadata": {},
   "outputs": [],
   "source": [
    "# 더미 파일을 생성하고 내용을 쓰기 모드로 오픈픈\n",
    "with open('./output/dummy.txt', 'w') as dummy_file:  \n",
    "    dummy_file.write('This is a dummy file.')  "
   ]
  },
  {
   "cell_type": "code",
   "execution_count": 19,
   "metadata": {},
   "outputs": [],
   "source": [
    "# 파일 이름 변경  \n",
    "os.rename('./output/dummy.txt', './output/new_dummy.txt')  "
   ]
  },
  {
   "cell_type": "code",
   "execution_count": 20,
   "metadata": {},
   "outputs": [],
   "source": [
    "# 파일 삭제  \n",
    "os.remove(\"./output/new_dummy.txt\")  "
   ]
  },
  {
   "cell_type": "code",
   "execution_count": 21,
   "metadata": {},
   "outputs": [
    {
     "data": {
      "text/plain": [
       "0"
      ]
     },
     "execution_count": 21,
     "metadata": {},
     "output_type": "execute_result"
    }
   ],
   "source": [
    "# 시스템 명령 실행  \n",
    "os.system(\"echo Hello World\")"
   ]
  },
  {
   "cell_type": "markdown",
   "metadata": {},
   "source": [
    "### pathlib: 객체 지향 파일 시스템 경로"
   ]
  },
  {
   "cell_type": "code",
   "execution_count": 22,
   "metadata": {},
   "outputs": [],
   "source": [
    "from pathlib import Path"
   ]
  },
  {
   "cell_type": "code",
   "execution_count": 24,
   "metadata": {},
   "outputs": [],
   "source": [
    "# 경로 객체 생성\n",
    "p = Path('C:/Temp')"
   ]
  },
  {
   "cell_type": "code",
   "execution_count": 25,
   "metadata": {},
   "outputs": [
    {
     "name": "stdout",
     "output_type": "stream",
     "text": [
      "C:\\Temp\\script.py\n"
     ]
    }
   ],
   "source": [
    "# 하위 경로 생성 및 파일 경로 조합\n",
    "new_path = p / 'script.py'\n",
    "print(new_path)"
   ]
  },
  {
   "cell_type": "code",
   "execution_count": 26,
   "metadata": {},
   "outputs": [
    {
     "name": "stdout",
     "output_type": "stream",
     "text": [
      "File does not exist\n"
     ]
    }
   ],
   "source": [
    "# 파일 및 디렉토리 존재 여부 확인\n",
    "if new_path.exists():\n",
    "    print(\"File exists\")\n",
    "else:\n",
    "    print(\"File does not exist\")"
   ]
  },
  {
   "cell_type": "code",
   "execution_count": 28,
   "metadata": {},
   "outputs": [
    {
     "name": "stdout",
     "output_type": "stream",
     "text": [
      "C:\\Temp\\test.zip\n"
     ]
    }
   ],
   "source": [
    "# 디렉토리 순회\n",
    "for file in p.glob('*.*'):\n",
    "    print(file)"
   ]
  },
  {
   "cell_type": "code",
   "execution_count": 29,
   "metadata": {},
   "outputs": [
    {
     "name": "stdout",
     "output_type": "stream",
     "text": [
      "Hello, pathlib!\n"
     ]
    }
   ],
   "source": [
    "# 파일 읽기 및 쓰기\n",
    "path_to_file = Path('example.txt')\n",
    "path_to_file.write_text('Hello, pathlib!')\n",
    "print(path_to_file.read_text())"
   ]
  },
  {
   "cell_type": "code",
   "execution_count": 30,
   "metadata": {},
   "outputs": [
    {
     "name": "stdout",
     "output_type": "stream",
     "text": [
      "File name: example.txt\n",
      "File extension: .txt\n",
      "Parent directory: .\n"
     ]
    }
   ],
   "source": [
    "# 경로 정보 추출\n",
    "print(\"File name:\", path_to_file.name)\n",
    "print(\"File extension:\", path_to_file.suffix)\n",
    "print(\"Parent directory:\", path_to_file.parent)"
   ]
  },
  {
   "cell_type": "markdown",
   "metadata": {},
   "source": [
    "### shutil: 고수준 파일 연산 라이브러리\n",
    "- TBC..."
   ]
  }
 ],
 "metadata": {
  "kernelspec": {
   "display_name": "venv",
   "language": "python",
   "name": "python3"
  },
  "language_info": {
   "codemirror_mode": {
    "name": "ipython",
    "version": 3
   },
   "file_extension": ".py",
   "mimetype": "text/x-python",
   "name": "python",
   "nbconvert_exporter": "python",
   "pygments_lexer": "ipython3",
   "version": "3.10.10"
  }
 },
 "nbformat": 4,
 "nbformat_minor": 2
}
