{
 "cells": [
  {
   "cell_type": "markdown",
   "metadata": {},
   "source": [
    "## 데이터 과학 및 분석\n",
    "\n",
    "### 시계열 데이터 처리"
   ]
  },
  {
   "cell_type": "markdown",
   "metadata": {},
   "source": [
    "#### AutoTS: 시계열 예측\n",
    "- AutoTS (Automatic Time Series)는 Python을 위한 시계열 예측 라이브러리\n",
    "- 머신러닝 및 통계적 접근 방식을 사용하여 자동으로 시계열 모델을 생성하고 최적화"
   ]
  },
  {
   "cell_type": "code",
   "execution_count": 1,
   "metadata": {},
   "outputs": [
    {
     "name": "stdout",
     "output_type": "stream",
     "text": [
      "Collecting autots\n",
      "  Downloading autots-0.6.17-py3-none-any.whl.metadata (11 kB)\n",
      "Requirement already satisfied: numpy>=1.14.6 in d:\\01_programming\\100_hugobank\\mine\\works-need-it-python\\venv\\lib\\site-packages (from autots) (2.0.2)\n",
      "Requirement already satisfied: pandas>=0.25.0 in d:\\01_programming\\100_hugobank\\mine\\works-need-it-python\\venv\\lib\\site-packages (from autots) (2.2.3)\n",
      "Collecting statsmodels>=0.10.0 (from autots)\n",
      "  Downloading statsmodels-0.14.4-cp310-cp310-win_amd64.whl.metadata (9.5 kB)\n",
      "Collecting scikit-learn>=0.20.0 (from autots)\n",
      "  Downloading scikit_learn-1.6.0-cp310-cp310-win_amd64.whl.metadata (15 kB)\n",
      "Requirement already satisfied: python-dateutil>=2.8.2 in d:\\01_programming\\100_hugobank\\mine\\works-need-it-python\\venv\\lib\\site-packages (from pandas>=0.25.0->autots) (2.9.0.post0)\n",
      "Requirement already satisfied: pytz>=2020.1 in d:\\01_programming\\100_hugobank\\mine\\works-need-it-python\\venv\\lib\\site-packages (from pandas>=0.25.0->autots) (2024.2)\n",
      "Requirement already satisfied: tzdata>=2022.7 in d:\\01_programming\\100_hugobank\\mine\\works-need-it-python\\venv\\lib\\site-packages (from pandas>=0.25.0->autots) (2024.2)\n",
      "Requirement already satisfied: scipy>=1.6.0 in d:\\01_programming\\100_hugobank\\mine\\works-need-it-python\\venv\\lib\\site-packages (from scikit-learn>=0.20.0->autots) (1.14.1)\n",
      "Requirement already satisfied: joblib>=1.2.0 in d:\\01_programming\\100_hugobank\\mine\\works-need-it-python\\venv\\lib\\site-packages (from scikit-learn>=0.20.0->autots) (1.4.2)\n",
      "Collecting threadpoolctl>=3.1.0 (from scikit-learn>=0.20.0->autots)\n",
      "  Using cached threadpoolctl-3.5.0-py3-none-any.whl.metadata (13 kB)\n",
      "Collecting patsy>=0.5.6 (from statsmodels>=0.10.0->autots)\n",
      "  Downloading patsy-1.0.1-py2.py3-none-any.whl.metadata (3.3 kB)\n",
      "Requirement already satisfied: packaging>=21.3 in d:\\01_programming\\100_hugobank\\mine\\works-need-it-python\\venv\\lib\\site-packages (from statsmodels>=0.10.0->autots) (24.2)\n",
      "Requirement already satisfied: six>=1.5 in d:\\01_programming\\100_hugobank\\mine\\works-need-it-python\\venv\\lib\\site-packages (from python-dateutil>=2.8.2->pandas>=0.25.0->autots) (1.17.0)\n",
      "Downloading autots-0.6.17-py3-none-any.whl (953 kB)\n",
      "   ---------------------------------------- 0.0/953.7 kB ? eta -:--:--\n",
      "   --------------------------------------- 953.7/953.7 kB 14.7 MB/s eta 0:00:00\n",
      "Downloading scikit_learn-1.6.0-cp310-cp310-win_amd64.whl (11.1 MB)\n",
      "   ---------------------------------------- 0.0/11.1 MB ? eta -:--:--\n",
      "   ------------------------------------ --- 10.2/11.1 MB 45.5 MB/s eta 0:00:01\n",
      "   ---------------------------------------- 11.1/11.1 MB 43.4 MB/s eta 0:00:00\n",
      "Downloading statsmodels-0.14.4-cp310-cp310-win_amd64.whl (9.8 MB)\n",
      "   ---------------------------------------- 0.0/9.8 MB ? eta -:--:--\n",
      "   ---------------------------------------  9.7/9.8 MB 50.5 MB/s eta 0:00:01\n",
      "   ---------------------------------------- 9.8/9.8 MB 41.0 MB/s eta 0:00:00\n",
      "Downloading patsy-1.0.1-py2.py3-none-any.whl (232 kB)\n",
      "Using cached threadpoolctl-3.5.0-py3-none-any.whl (18 kB)\n",
      "Installing collected packages: threadpoolctl, patsy, scikit-learn, statsmodels, autots\n",
      "Successfully installed autots-0.6.17 patsy-1.0.1 scikit-learn-1.6.0 statsmodels-0.14.4 threadpoolctl-3.5.0\n"
     ]
    }
   ],
   "source": [
    "# 설치\n",
    "!pip install autots"
   ]
  },
  {
   "cell_type": "code",
   "execution_count": 2,
   "metadata": {},
   "outputs": [],
   "source": [
    "from autots import AutoTS\n",
    "import pandas as pd"
   ]
  },
  {
   "cell_type": "code",
   "execution_count": null,
   "metadata": {},
   "outputs": [],
   "source": [
    "# 임의의 시계열 데이터 준비\n",
    "date_rng = pd.date_range(start='1/1/2018', end='1/08/2018', freq='H')\n",
    "df = pd.DataFrame(date_rng, columns=['date'])\n",
    "df['data'] = pd.Series(range(len(df)))\n",
    "\n",
    "# 모델 생성 및 학습\n",
    "model = AutoTS(forecast_length=3, frequency='infer', ensemble='simple')\n",
    "model = model.fit(df, date_col='date', value_col='data', id_col=None)"
   ]
  },
  {
   "cell_type": "code",
   "execution_count": 4,
   "metadata": {},
   "outputs": [
    {
     "name": "stdout",
     "output_type": "stream",
     "text": [
      "                      data\n",
      "2018-01-08 01:00:00  169.0\n",
      "2018-01-08 02:00:00  170.0\n",
      "2018-01-08 03:00:00  171.0\n"
     ]
    }
   ],
   "source": [
    "# 예측 수행\n",
    "prediction = model.predict()\n",
    "forecast = prediction.forecast\n",
    "print(forecast)"
   ]
  },
  {
   "cell_type": "markdown",
   "metadata": {},
   "source": [
    "#### Darts: 시계열 예측 및 분석\n",
    "- https://unit8co.github.io/darts/\n",
    "- 시계열 예측 및 분석 라이브러리"
   ]
  },
  {
   "cell_type": "code",
   "execution_count": 1,
   "metadata": {},
   "outputs": [
    {
     "name": "stdout",
     "output_type": "stream",
     "text": [
      "^C\n"
     ]
    }
   ],
   "source": [
    "# 설치\n",
    "!pip install darts"
   ]
  },
  {
   "cell_type": "markdown",
   "metadata": {},
   "source": [
    "- Pass!"
   ]
  },
  {
   "cell_type": "markdown",
   "metadata": {},
   "source": [
    "#### Kats: Facebook의 시계열 데이터 분석\n",
    "- https://facebookresearch.github.io/Kats/\n",
    "- Kats(Kit to Analyze Time Series)1는 페이스북에서 개발한 시계열 데이터 분석을 위한 파이썬 라이브러리\n"
   ]
  },
  {
   "cell_type": "code",
   "execution_count": 2,
   "metadata": {},
   "outputs": [
    {
     "name": "stdout",
     "output_type": "stream",
     "text": [
      "^C\n"
     ]
    },
    {
     "name": "stdout",
     "output_type": "stream",
     "text": [
      "Collecting kats\n",
      "  Downloading kats-0.2.0-py3-none-any.whl.metadata (9.4 kB)\n",
      "Requirement already satisfied: attrs>=21.2.0 in d:\\01_programming\\100_hugobank\\mine\\works-need-it-python\\venv\\lib\\site-packages (from kats) (24.3.0)\n",
      "Collecting deprecated>=1.2.12 (from kats)\n",
      "  Downloading Deprecated-1.2.15-py2.py3-none-any.whl.metadata (5.5 kB)\n",
      "Requirement already satisfied: matplotlib>=2.0.0 in d:\\01_programming\\100_hugobank\\mine\\works-need-it-python\\venv\\lib\\site-packages (from kats) (3.10.0)\n",
      "Collecting numpy<1.22,>=1.21 (from kats)\n",
      "  Downloading numpy-1.21.6-cp310-cp310-win_amd64.whl.metadata (2.2 kB)\n",
      "Collecting pandas<=1.3.5,>=1.0.4 (from kats)\n",
      "  Downloading pandas-1.3.5-cp310-cp310-win_amd64.whl.metadata (12 kB)\n",
      "Requirement already satisfied: python-dateutil>=2.8.0 in d:\\01_programming\\100_hugobank\\mine\\works-need-it-python\\venv\\lib\\site-packages (from kats) (2.9.0.post0)\n",
      "Collecting pystan==2.19.1.1 (from kats)\n",
      "  Downloading pystan-2.19.1.1.tar.gz (16.2 MB)\n",
      "     ---------------------------------------- 0.0/16.2 MB ? eta -:--:--\n",
      "     -------------------- ------------------- 8.4/16.2 MB 51.8 MB/s eta 0:00:01\n",
      "     --------------------------------------- 16.2/16.2 MB 48.5 MB/s eta 0:00:00\n",
      "  Installing build dependencies: started\n",
      "  Installing build dependencies: finished with status 'done'\n",
      "  Getting requirements to build wheel: started\n",
      "  Getting requirements to build wheel: finished with status 'error'\n"
     ]
    },
    {
     "name": "stderr",
     "output_type": "stream",
     "text": [
      "  error: subprocess-exited-with-error\n",
      "  \n",
      "  × Getting requirements to build wheel did not run successfully.\n",
      "  │ exit code: 1\n",
      "  ╰─> [17 lines of output]\n",
      "      Traceback (most recent call last):\n",
      "        File \"D:\\01_Programming\\100_HugoBank\\Mine\\works-need-it-python\\venv\\lib\\site-packages\\pip\\_vendor\\pyproject_hooks\\_in_process\\_in_process.py\", line 353, in <module>\n",
      "          main()\n",
      "        File \"D:\\01_Programming\\100_HugoBank\\Mine\\works-need-it-python\\venv\\lib\\site-packages\\pip\\_vendor\\pyproject_hooks\\_in_process\\_in_process.py\", line 335, in main\n",
      "          json_out['return_val'] = hook(**hook_input['kwargs'])\n",
      "        File \"D:\\01_Programming\\100_HugoBank\\Mine\\works-need-it-python\\venv\\lib\\site-packages\\pip\\_vendor\\pyproject_hooks\\_in_process\\_in_process.py\", line 118, in get_requires_for_build_wheel\n",
      "          return hook(config_settings)\n",
      "        File \"C:\\Users\\perso\\AppData\\Local\\Temp\\pip-build-env-eyh24iad\\overlay\\Lib\\site-packages\\setuptools\\build_meta.py\", line 334, in get_requires_for_build_wheel\n",
      "          return self._get_build_requires(config_settings, requirements=[])\n",
      "        File \"C:\\Users\\perso\\AppData\\Local\\Temp\\pip-build-env-eyh24iad\\overlay\\Lib\\site-packages\\setuptools\\build_meta.py\", line 304, in _get_build_requires\n",
      "          self.run_setup()\n",
      "        File \"C:\\Users\\perso\\AppData\\Local\\Temp\\pip-build-env-eyh24iad\\overlay\\Lib\\site-packages\\setuptools\\build_meta.py\", line 522, in run_setup\n",
      "          super().run_setup(setup_script=setup_script)\n",
      "        File \"C:\\Users\\perso\\AppData\\Local\\Temp\\pip-build-env-eyh24iad\\overlay\\Lib\\site-packages\\setuptools\\build_meta.py\", line 320, in run_setup\n",
      "          exec(code, locals())\n",
      "        File \"<string>\", line 122, in <module>\n",
      "      ModuleNotFoundError: No module named 'Cython'\n",
      "      [end of output]\n",
      "  \n",
      "  note: This error originates from a subprocess, and is likely not a problem with pip.\n",
      "error: subprocess-exited-with-error\n",
      "\n",
      "× Getting requirements to build wheel did not run successfully.\n",
      "│ exit code: 1\n",
      "╰─> See above for output.\n",
      "\n",
      "note: This error originates from a subprocess, and is likely not a problem with pip.\n"
     ]
    }
   ],
   "source": [
    "# 설치\n",
    "!pip install kats"
   ]
  },
  {
   "cell_type": "markdown",
   "metadata": {},
   "source": [
    "#### Prophet: Facebook의 시계열 데이터 예측\n",
    "- https://facebook.github.io/prophet/\n",
    "- Facebook에서 개발한 Python 및 R 라이브러리로, 시계열 데이터의 예측을 위해 설계"
   ]
  },
  {
   "cell_type": "markdown",
   "metadata": {},
   "source": [
    "#### Sktime: 시계열 데이터 분석 및 예측\n",
    "- 시계열 데이터를 분석하고 예측하기 위한 다목적 라이브러리\n",
    "- 시계열 분류, 회귀, 클러스터링, 예측 모델링 및 변환 기법을 포함한 광범위한 시계열 분석 기능을 제공"
   ]
  },
  {
   "cell_type": "code",
   "execution_count": 1,
   "metadata": {},
   "outputs": [
    {
     "name": "stdout",
     "output_type": "stream",
     "text": [
      "Collecting sktime"
     ]
    },
    {
     "name": "stderr",
     "output_type": "stream",
     "text": [
      "\n",
      "[notice] A new release of pip available: 22.3.1 -> 24.3.1\n",
      "[notice] To update, run: python.exe -m pip install --upgrade pip\n"
     ]
    },
    {
     "name": "stdout",
     "output_type": "stream",
     "text": [
      "\n",
      "  Downloading sktime-0.35.0-py3-none-any.whl (36.8 MB)\n",
      "     --------------------------------------- 36.8/36.8 MB 34.4 MB/s eta 0:00:00\n",
      "Collecting scikit-base<0.13.0,>=0.6.1\n",
      "  Downloading scikit_base-0.12.0-py3-none-any.whl (141 kB)\n",
      "     -------------------------------------- 141.5/141.5 kB 8.8 MB/s eta 0:00:00\n",
      "Collecting joblib<1.5,>=1.2.0\n",
      "  Using cached joblib-1.4.2-py3-none-any.whl (301 kB)\n",
      "Collecting scipy<2.0.0,>=1.2\n",
      "  Using cached scipy-1.14.1-cp310-cp310-win_amd64.whl (44.8 MB)\n",
      "Collecting numpy<2.2,>=1.21\n",
      "  Using cached numpy-2.1.3-cp310-cp310-win_amd64.whl (12.9 MB)\n",
      "Collecting scikit-learn<1.6.0,>=0.24\n",
      "  Using cached scikit_learn-1.5.2-cp310-cp310-win_amd64.whl (11.0 MB)\n",
      "Requirement already satisfied: packaging in d:\\01_programming\\100_hugobank\\mine\\works-need-it-python\\venv_thrd\\lib\\site-packages (from sktime) (24.2)\n",
      "Collecting pandas<2.3.0,>=1.1\n",
      "  Using cached pandas-2.2.3-cp310-cp310-win_amd64.whl (11.6 MB)\n",
      "Collecting pytz>=2020.1\n",
      "  Using cached pytz-2024.2-py2.py3-none-any.whl (508 kB)\n",
      "Collecting tzdata>=2022.7\n",
      "  Using cached tzdata-2024.2-py2.py3-none-any.whl (346 kB)\n",
      "Requirement already satisfied: python-dateutil>=2.8.2 in d:\\01_programming\\100_hugobank\\mine\\works-need-it-python\\venv_thrd\\lib\\site-packages (from pandas<2.3.0,>=1.1->sktime) (2.9.0.post0)\n",
      "Collecting threadpoolctl>=3.1.0\n",
      "  Using cached threadpoolctl-3.5.0-py3-none-any.whl (18 kB)\n",
      "Requirement already satisfied: six>=1.5 in d:\\01_programming\\100_hugobank\\mine\\works-need-it-python\\venv_thrd\\lib\\site-packages (from python-dateutil>=2.8.2->pandas<2.3.0,>=1.1->sktime) (1.17.0)\n",
      "Installing collected packages: pytz, tzdata, threadpoolctl, scikit-base, numpy, joblib, scipy, pandas, scikit-learn, sktime\n",
      "Successfully installed joblib-1.4.2 numpy-2.1.3 pandas-2.2.3 pytz-2024.2 scikit-base-0.12.0 scikit-learn-1.5.2 scipy-1.14.1 sktime-0.35.0 threadpoolctl-3.5.0 tzdata-2024.2\n"
     ]
    }
   ],
   "source": [
    "# 설치\n",
    "!pip install sktime"
   ]
  },
  {
   "cell_type": "code",
   "execution_count": 6,
   "metadata": {},
   "outputs": [],
   "source": [
    "from sktime.forecasting.model_selection import temporal_train_test_split\n",
    "from sktime.forecasting.naive import NaiveForecaster\n",
    "from sktime.utils.plotting import plot_series\n",
    "import pandas as pd"
   ]
  },
  {
   "cell_type": "code",
   "execution_count": 7,
   "metadata": {},
   "outputs": [
    {
     "data": {
      "text/html": [
       "<style>#sk-80a0a4fe-4c80-4ca7-a515-c6daf077bbb5 {\n",
       "    /* Definition of color scheme common for light and dark mode */\n",
       "    --sklearn-color-text: black;\n",
       "    --sklearn-color-line: gray;\n",
       "    /* Definition of color scheme for objects */\n",
       "    --sklearn-color-level-0: #fff5e6;\n",
       "    --sklearn-color-level-1: #f6e4d2;\n",
       "    --sklearn-color-level-2: #ffe0b3;\n",
       "    --sklearn-color-level-3: chocolate;\n",
       "\n",
       "    /* Specific color for light theme */\n",
       "    --sklearn-color-text-on-default-background: var(--theme-code-foreground, var(--jp-content-font-color1, black));\n",
       "    --sklearn-color-background: var(--theme-background, var(--jp-layout-color0, white));\n",
       "    --sklearn-color-border-box: var(--theme-code-foreground, var(--jp-content-font-color1, black));\n",
       "    --sklearn-color-icon: #696969;\n",
       "\n",
       "    @media (prefers-color-scheme: dark) {\n",
       "      /* Redefinition of color scheme for dark theme */\n",
       "      --sklearn-color-text-on-default-background: var(--theme-code-foreground, var(--jp-content-font-color1, white));\n",
       "      --sklearn-color-background: var(--theme-background, var(--jp-layout-color0, #111));\n",
       "      --sklearn-color-border-box: var(--theme-code-foreground, var(--jp-content-font-color1, white));\n",
       "      --sklearn-color-icon: #878787;\n",
       "    }\n",
       "  }\n",
       "\n",
       "  #sk-80a0a4fe-4c80-4ca7-a515-c6daf077bbb5 {\n",
       "    color: var(--sklearn-color-text);\n",
       "  }\n",
       "\n",
       "  #sk-80a0a4fe-4c80-4ca7-a515-c6daf077bbb5 pre {\n",
       "    padding: 0;\n",
       "  }\n",
       "\n",
       "  #sk-80a0a4fe-4c80-4ca7-a515-c6daf077bbb5 input.sk-hidden--visually {\n",
       "    border: 0;\n",
       "    clip: rect(1px 1px 1px 1px);\n",
       "    clip: rect(1px, 1px, 1px, 1px);\n",
       "    height: 1px;\n",
       "    margin: -1px;\n",
       "    overflow: hidden;\n",
       "    padding: 0;\n",
       "    position: absolute;\n",
       "    width: 1px;\n",
       "  }\n",
       "\n",
       "  #sk-80a0a4fe-4c80-4ca7-a515-c6daf077bbb5 div.sk-dashed-wrapped {\n",
       "    border: 1px dashed var(--sklearn-color-line);\n",
       "    margin: 0 0.4em 0.5em 0.4em;\n",
       "    box-sizing: border-box;\n",
       "    padding-bottom: 0.4em;\n",
       "    background-color: var(--sklearn-color-background);\n",
       "  }\n",
       "\n",
       "  #sk-80a0a4fe-4c80-4ca7-a515-c6daf077bbb5 div.sk-container {\n",
       "    /* jupyter's `normalize.less` sets `[hidden] { display: none; }`\n",
       "       but bootstrap.min.css set `[hidden] { display: none !important; }`\n",
       "       so we also need the `!important` here to be able to override the\n",
       "       default hidden behavior on the sphinx rendered scikit-learn.org.\n",
       "       See: https://github.com/scikit-learn/scikit-learn/issues/21755 */\n",
       "    display: inline-block !important;\n",
       "    position: relative;\n",
       "  }\n",
       "\n",
       "  #sk-80a0a4fe-4c80-4ca7-a515-c6daf077bbb5 div.sk-text-repr-fallback {\n",
       "    display: none;\n",
       "  }\n",
       "\n",
       "  div.sk-parallel-item,\n",
       "  div.sk-serial,\n",
       "  div.sk-item {\n",
       "    /* draw centered vertical line to link estimators */\n",
       "    background-image: linear-gradient(var(--sklearn-color-text-on-default-background), var(--sklearn-color-text-on-default-background));\n",
       "    background-size: 2px 100%;\n",
       "    background-repeat: no-repeat;\n",
       "    background-position: center center;\n",
       "  }\n",
       "\n",
       "  /* Parallel-specific style estimator block */\n",
       "\n",
       "  #sk-80a0a4fe-4c80-4ca7-a515-c6daf077bbb5 div.sk-parallel-item::after {\n",
       "    content: \"\";\n",
       "    width: 100%;\n",
       "    border-bottom: 2px solid var(--sklearn-color-text-on-default-background);\n",
       "    flex-grow: 1;\n",
       "  }\n",
       "\n",
       "  #sk-80a0a4fe-4c80-4ca7-a515-c6daf077bbb5 div.sk-parallel {\n",
       "    display: flex;\n",
       "    align-items: stretch;\n",
       "    justify-content: center;\n",
       "    background-color: var(--sklearn-color-background);\n",
       "    position: relative;\n",
       "  }\n",
       "\n",
       "  #sk-80a0a4fe-4c80-4ca7-a515-c6daf077bbb5 div.sk-parallel-item {\n",
       "    display: flex;\n",
       "    flex-direction: column;\n",
       "  }\n",
       "\n",
       "  #sk-80a0a4fe-4c80-4ca7-a515-c6daf077bbb5 div.sk-parallel-item:first-child::after {\n",
       "    align-self: flex-end;\n",
       "    width: 50%;\n",
       "  }\n",
       "\n",
       "  #sk-80a0a4fe-4c80-4ca7-a515-c6daf077bbb5 div.sk-parallel-item:last-child::after {\n",
       "    align-self: flex-start;\n",
       "    width: 50%;\n",
       "  }\n",
       "\n",
       "  #sk-80a0a4fe-4c80-4ca7-a515-c6daf077bbb5 div.sk-parallel-item:only-child::after {\n",
       "    width: 0;\n",
       "  }\n",
       "\n",
       "  /* Serial-specific style estimator block */\n",
       "\n",
       "  #sk-80a0a4fe-4c80-4ca7-a515-c6daf077bbb5 div.sk-serial {\n",
       "    display: flex;\n",
       "    flex-direction: column;\n",
       "    align-items: center;\n",
       "    background-color: var(--sklearn-color-background);\n",
       "    padding-right: 1em;\n",
       "    padding-left: 1em;\n",
       "  }\n",
       "\n",
       "\n",
       "  /* Toggleable style: style used for estimator/Pipeline/ColumnTransformer box that is\n",
       "  clickable and can be expanded/collapsed.\n",
       "  - Pipeline and ColumnTransformer use this feature and define the default style\n",
       "  - Estimators will overwrite some part of the style using the `sk-estimator` class\n",
       "  */\n",
       "\n",
       "  /* Pipeline and ColumnTransformer style (default) */\n",
       "\n",
       "  #sk-80a0a4fe-4c80-4ca7-a515-c6daf077bbb5 div.sk-toggleable {\n",
       "    /* Default theme specific background. It is overwritten whether we have a\n",
       "    specific estimator or a Pipeline/ColumnTransformer */\n",
       "    background-color: var(--sklearn-color-background);\n",
       "  }\n",
       "\n",
       "  /* Toggleable label */\n",
       "  #sk-80a0a4fe-4c80-4ca7-a515-c6daf077bbb5 label.sk-toggleable__label {\n",
       "    cursor: pointer;\n",
       "    display: block;\n",
       "    width: 100%;\n",
       "    margin-bottom: 0;\n",
       "    padding: 0.5em;\n",
       "    box-sizing: border-box;\n",
       "    text-align: center;\n",
       "  }\n",
       "\n",
       "  #sk-80a0a4fe-4c80-4ca7-a515-c6daf077bbb5 label.sk-toggleable__label-arrow:before {\n",
       "    /* Arrow on the left of the label */\n",
       "    content: \"▸\";\n",
       "    float: left;\n",
       "    margin-right: 0.25em;\n",
       "    color: var(--sklearn-color-icon);\n",
       "  }\n",
       "\n",
       "  #sk-80a0a4fe-4c80-4ca7-a515-c6daf077bbb5 label.sk-toggleable__label-arrow:hover:before {\n",
       "    color: var(--sklearn-color-text);\n",
       "  }\n",
       "\n",
       "  /* Toggleable content - dropdown */\n",
       "\n",
       "  #sk-80a0a4fe-4c80-4ca7-a515-c6daf077bbb5 div.sk-toggleable__content {\n",
       "    max-height: 0;\n",
       "    max-width: 0;\n",
       "    overflow: hidden;\n",
       "    text-align: left;\n",
       "    background-color: var(--sklearn-color-level-0);\n",
       "  }\n",
       "\n",
       "  #sk-80a0a4fe-4c80-4ca7-a515-c6daf077bbb5 div.sk-toggleable__content pre {\n",
       "    margin: 0.2em;\n",
       "    border-radius: 0.25em;\n",
       "    color: var(--sklearn-color-text);\n",
       "    background-color: var(--sklearn-color-level-0);\n",
       "  }\n",
       "\n",
       "  #sk-80a0a4fe-4c80-4ca7-a515-c6daf077bbb5 input.sk-toggleable__control:checked~div.sk-toggleable__content {\n",
       "    /* Expand drop-down */\n",
       "    max-height: 200px;\n",
       "    max-width: 100%;\n",
       "    overflow: auto;\n",
       "  }\n",
       "\n",
       "  #sk-80a0a4fe-4c80-4ca7-a515-c6daf077bbb5 input.sk-toggleable__control:checked~label.sk-toggleable__label-arrow:before {\n",
       "    content: \"▾\";\n",
       "  }\n",
       "\n",
       "  /* Pipeline/ColumnTransformer-specific style */\n",
       "\n",
       "  #sk-80a0a4fe-4c80-4ca7-a515-c6daf077bbb5 div.sk-label input.sk-toggleable__control:checked~label.sk-toggleable__label {\n",
       "    color: var(--sklearn-color-text);\n",
       "    background-color: var(--sklearn-color-level-2);\n",
       "  }\n",
       "\n",
       "  /* Estimator-specific style */\n",
       "\n",
       "  /* Colorize estimator box */\n",
       "  #sk-80a0a4fe-4c80-4ca7-a515-c6daf077bbb5 div.sk-estimator input.sk-toggleable__control:checked~label.sk-toggleable__label {\n",
       "    /* unfitted */\n",
       "    background-color: var(--sklearn-color-level-2);\n",
       "  }\n",
       "\n",
       "  #sk-80a0a4fe-4c80-4ca7-a515-c6daf077bbb5 div.sk-label label.sk-toggleable__label,\n",
       "  #sk-80a0a4fe-4c80-4ca7-a515-c6daf077bbb5 div.sk-label label {\n",
       "    /* The background is the default theme color */\n",
       "    color: var(--sklearn-color-text-on-default-background);\n",
       "  }\n",
       "\n",
       "  /* On hover, darken the color of the background */\n",
       "  #sk-80a0a4fe-4c80-4ca7-a515-c6daf077bbb5 div.sk-label:hover label.sk-toggleable__label {\n",
       "    color: var(--sklearn-color-text);\n",
       "    background-color: var(--sklearn-color-level-2);\n",
       "  }\n",
       "\n",
       "  /* Estimator label */\n",
       "\n",
       "  #sk-80a0a4fe-4c80-4ca7-a515-c6daf077bbb5 div.sk-label label {\n",
       "    font-family: monospace;\n",
       "    font-weight: bold;\n",
       "    display: inline-block;\n",
       "    line-height: 1.2em;\n",
       "  }\n",
       "\n",
       "  #sk-80a0a4fe-4c80-4ca7-a515-c6daf077bbb5 div.sk-label-container {\n",
       "    text-align: center;\n",
       "  }\n",
       "\n",
       "  /* Estimator-specific */\n",
       "  #sk-80a0a4fe-4c80-4ca7-a515-c6daf077bbb5 div.sk-estimator {\n",
       "    font-family: monospace;\n",
       "    border: 1px dotted var(--sklearn-color-border-box);\n",
       "    border-radius: 0.25em;\n",
       "    box-sizing: border-box;\n",
       "    margin-bottom: 0.5em;\n",
       "    background-color: var(--sklearn-color-level-0);\n",
       "  }\n",
       "\n",
       "  /* on hover */\n",
       "  #sk-80a0a4fe-4c80-4ca7-a515-c6daf077bbb5 div.sk-estimator:hover {\n",
       "    background-color: var(--sklearn-color-level-2);\n",
       "  }\n",
       "\n",
       "  /* Specification for estimator info */\n",
       "\n",
       "  .sk-estimator-doc-link,\n",
       "  a:link.sk-estimator-doc-link,\n",
       "  a:visited.sk-estimator-doc-link {\n",
       "    float: right;\n",
       "    font-size: smaller;\n",
       "    line-height: 1em;\n",
       "    font-family: monospace;\n",
       "    background-color: var(--sklearn-color-background);\n",
       "    border-radius: 1em;\n",
       "    height: 1em;\n",
       "    width: 1em;\n",
       "    text-decoration: none !important;\n",
       "    margin-left: 1ex;\n",
       "    border: var(--sklearn-color-level-1) 1pt solid;\n",
       "    color: var(--sklearn-color-level-1);\n",
       "  }\n",
       "\n",
       "  /* On hover */\n",
       "  div.sk-estimator:hover .sk-estimator-doc-link:hover,\n",
       "  .sk-estimator-doc-link:hover,\n",
       "  div.sk-label-container:hover .sk-estimator-doc-link:hover,\n",
       "  .sk-estimator-doc-link:hover {\n",
       "    background-color: var(--sklearn-color-level-3);\n",
       "    color: var(--sklearn-color-background);\n",
       "    text-decoration: none;\n",
       "  }\n",
       "\n",
       "  /* Span, style for the box shown on hovering the info icon */\n",
       "  .sk-estimator-doc-link span {\n",
       "    display: none;\n",
       "    z-index: 9999;\n",
       "    position: relative;\n",
       "    font-weight: normal;\n",
       "    right: .2ex;\n",
       "    padding: .5ex;\n",
       "    margin: .5ex;\n",
       "    width: min-content;\n",
       "    min-width: 20ex;\n",
       "    max-width: 50ex;\n",
       "    color: var(--sklearn-color-text);\n",
       "    box-shadow: 2pt 2pt 4pt #999;\n",
       "    background: var(--sklearn-color-level-0);\n",
       "    border: .5pt solid var(--sklearn-color-level-3);\n",
       "  }\n",
       "\n",
       "  .sk-estimator-doc-link:hover span {\n",
       "    display: block;\n",
       "  }\n",
       "\n",
       "  /* \"?\"-specific style due to the `<a>` HTML tag */\n",
       "\n",
       "  #sk-80a0a4fe-4c80-4ca7-a515-c6daf077bbb5 a.estimator_doc_link {\n",
       "    float: right;\n",
       "    font-size: 1rem;\n",
       "    line-height: 1em;\n",
       "    font-family: monospace;\n",
       "    background-color: var(--sklearn-color-background);\n",
       "    border-radius: 1rem;\n",
       "    height: 1rem;\n",
       "    width: 1rem;\n",
       "    text-decoration: none;\n",
       "    color: var(--sklearn-color-level-1);\n",
       "    border: var(--sklearn-color-level-1) 1pt solid;\n",
       "  }\n",
       "\n",
       "  /* On hover */\n",
       "  #sk-80a0a4fe-4c80-4ca7-a515-c6daf077bbb5 a.estimator_doc_link:hover {\n",
       "    background-color: var(--sklearn-color-level-3);\n",
       "    color: var(--sklearn-color-background);\n",
       "    text-decoration: none;\n",
       "  }\n",
       "</style><div id='sk-80a0a4fe-4c80-4ca7-a515-c6daf077bbb5' class=\"sk-top-container\"><div class=\"sk-text-repr-fallback\"><pre>NaiveForecaster()</pre><b>Please rerun this cell to show the HTML repr or trust the notebook.</b></div><div class=\"sk-container\" hidden><div class='sk-item'><div class=\"sk-estimator sk-toggleable\"><input class=\"sk-toggleable__control sk-hidden--visually\" id=UUID('3283028c-f959-4621-abfc-225aded75c15') type=\"checkbox\" checked><label for=UUID('3283028c-f959-4621-abfc-225aded75c15') class='sk-toggleable__label sk-toggleable__label-arrow'>NaiveForecaster<a class=\"sk-estimator-doc-link\" rel=\"noreferrer\" target=\"_blank\" href=\"https://www.sktime.net/en/v0.35.0/api_reference/auto_generated/sktime.forecasting.naive.NaiveForecaster.html\">?<span>Documentation for NaiveForecaster</span></a></label><div class=\"sk-toggleable__content\"><pre>NaiveForecaster()</pre></div></div></div></div></div>"
      ],
      "text/plain": [
       "NaiveForecaster()"
      ]
     },
     "execution_count": 7,
     "metadata": {},
     "output_type": "execute_result"
    }
   ],
   "source": [
    "# 임의의 시계열 데이터 생성\n",
    "data = pd.Series([1, 2, 3, 4, 5, 6, 7, 8, 9, 10])\n",
    "\n",
    "# 데이터를 학습 및 테스트 세트로 분할\n",
    "y_train, y_test = temporal_train_test_split(data, test_size=3)\n",
    "\n",
    "# NaiveForecaster 모델 생성 및 학습\n",
    "forecaster = NaiveForecaster(strategy=\"last\")\n",
    "forecaster.fit(y_train)"
   ]
  },
  {
   "cell_type": "code",
   "execution_count": 10,
   "metadata": {},
   "outputs": [],
   "source": [
    "# 미래 값 예측\n",
    "fh = [1, 2, 3]  # 예측하고자 하는 기간 설정\n",
    "y_pred = forecaster.predict(fh)"
   ]
  },
  {
   "cell_type": "code",
   "execution_count": null,
   "metadata": {},
   "outputs": [],
   "source": [
    "# 원래 데이터 및 예측 결과 시각화\n",
    "plot_series(y_train, y_test, y_pred, labels=[\"y_train\", \"y_test\", \"y_pred\"])\n",
    "# matplotlib 오류"
   ]
  },
  {
   "cell_type": "markdown",
   "metadata": {},
   "source": [
    "#### lifelines: 생존 분석 라이브러리\n",
    "- http://lifelines.readthedocs.org/\n",
    "- 생존 분석을 위해 사용되는 라이브러리\n",
    "- 사건 발생까지의 시간을 다루는 통계 기법 중 하나로, 주로 의학, 생물학, 공학, 경제학 등 다양한 분야에서 사용"
   ]
  },
  {
   "cell_type": "code",
   "execution_count": 12,
   "metadata": {},
   "outputs": [
    {
     "name": "stdout",
     "output_type": "stream",
     "text": [
      "Collecting lifelines\n",
      "  Downloading lifelines-0.30.0-py3-none-any.whl (349 kB)\n",
      "     -------------------------------------- 349.3/349.3 kB 7.2 MB/s eta 0:00:00\n",
      "Requirement already satisfied: scipy>=1.7.0 in d:\\01_programming\\100_hugobank\\mine\\works-need-it-python\\venv_thrd\\lib\\site-packages (from lifelines) (1.14.1)\n",
      "Collecting autograd>=1.5\n",
      "  Downloading autograd-1.7.0-py3-none-any.whl (52 kB)\n",
      "     ---------------------------------------- 52.5/52.5 kB 2.6 MB/s eta 0:00:00\n",
      "Collecting autograd-gamma>=0.3\n",
      "  Downloading autograd-gamma-0.5.0.tar.gz (4.0 kB)\n",
      "  Preparing metadata (setup.py): started\n",
      "  Preparing metadata (setup.py): finished with status 'done'\n",
      "Requirement already satisfied: matplotlib>=3.0 in d:\\01_programming\\100_hugobank\\mine\\works-need-it-python\\venv_thrd\\lib\\site-packages (from lifelines) (3.10.0)\n",
      "Requirement already satisfied: pandas>=2.1 in d:\\01_programming\\100_hugobank\\mine\\works-need-it-python\\venv_thrd\\lib\\site-packages (from lifelines) (2.2.3)\n",
      "Requirement already satisfied: numpy>=1.14.0 in d:\\01_programming\\100_hugobank\\mine\\works-need-it-python\\venv_thrd\\lib\\site-packages (from lifelines) (2.1.3)\n",
      "Collecting formulaic>=0.2.2\n",
      "  Downloading formulaic-1.1.1-py3-none-any.whl (115 kB)\n",
      "     -------------------------------------- 115.7/115.7 kB 7.0 MB/s eta 0:00:00\n",
      "Collecting wrapt>=1.0\n",
      "  Using cached wrapt-1.17.0-cp310-cp310-win_amd64.whl (38 kB)\n",
      "Collecting interface-meta>=1.2.0\n",
      "  Downloading interface_meta-1.3.0-py3-none-any.whl (14 kB)\n",
      "Requirement already satisfied: typing-extensions>=4.2.0 in d:\\01_programming\\100_hugobank\\mine\\works-need-it-python\\venv_thrd\\lib\\site-packages (from formulaic>=0.2.2->lifelines) (4.12.2)\n",
      "Requirement already satisfied: cycler>=0.10 in d:\\01_programming\\100_hugobank\\mine\\works-need-it-python\\venv_thrd\\lib\\site-packages (from matplotlib>=3.0->lifelines) (0.12.1)\n",
      "Requirement already satisfied: kiwisolver>=1.3.1 in d:\\01_programming\\100_hugobank\\mine\\works-need-it-python\\venv_thrd\\lib\\site-packages (from matplotlib>=3.0->lifelines) (1.4.8)\n",
      "Requirement already satisfied: pillow>=8 in d:\\01_programming\\100_hugobank\\mine\\works-need-it-python\\venv_thrd\\lib\\site-packages (from matplotlib>=3.0->lifelines) (11.0.0)\n",
      "Requirement already satisfied: pyparsing>=2.3.1 in d:\\01_programming\\100_hugobank\\mine\\works-need-it-python\\venv_thrd\\lib\\site-packages (from matplotlib>=3.0->lifelines) (3.2.1)\n",
      "Requirement already satisfied: fonttools>=4.22.0 in d:\\01_programming\\100_hugobank\\mine\\works-need-it-python\\venv_thrd\\lib\\site-packages (from matplotlib>=3.0->lifelines) (4.55.3)\n",
      "Requirement already satisfied: python-dateutil>=2.7 in d:\\01_programming\\100_hugobank\\mine\\works-need-it-python\\venv_thrd\\lib\\site-packages (from matplotlib>=3.0->lifelines) (2.9.0.post0)\n",
      "Requirement already satisfied: packaging>=20.0 in d:\\01_programming\\100_hugobank\\mine\\works-need-it-python\\venv_thrd\\lib\\site-packages (from matplotlib>=3.0->lifelines) (24.2)\n",
      "Requirement already satisfied: contourpy>=1.0.1 in d:\\01_programming\\100_hugobank\\mine\\works-need-it-python\\venv_thrd\\lib\\site-packages (from matplotlib>=3.0->lifelines) (1.3.1)\n",
      "Requirement already satisfied: pytz>=2020.1 in d:\\01_programming\\100_hugobank\\mine\\works-need-it-python\\venv_thrd\\lib\\site-packages (from pandas>=2.1->lifelines) (2024.2)\n",
      "Requirement already satisfied: tzdata>=2022.7 in d:\\01_programming\\100_hugobank\\mine\\works-need-it-python\\venv_thrd\\lib\\site-packages (from pandas>=2.1->lifelines) (2024.2)\n",
      "Requirement already satisfied: six>=1.5 in d:\\01_programming\\100_hugobank\\mine\\works-need-it-python\\venv_thrd\\lib\\site-packages (from python-dateutil>=2.7->matplotlib>=3.0->lifelines) (1.17.0)\n",
      "Installing collected packages: wrapt, interface-meta, autograd, autograd-gamma, formulaic, lifelines\n",
      "  Running setup.py install for autograd-gamma: started\n",
      "  Running setup.py install for autograd-gamma: finished with status 'done'\n",
      "Successfully installed autograd-1.7.0 autograd-gamma-0.5.0 formulaic-1.1.1 interface-meta-1.3.0 lifelines-0.30.0 wrapt-1.17.0\n"
     ]
    },
    {
     "name": "stderr",
     "output_type": "stream",
     "text": [
      "  DEPRECATION: autograd-gamma is being installed using the legacy 'setup.py install' method, because it does not have a 'pyproject.toml' and the 'wheel' package is not installed. pip 23.1 will enforce this behaviour change. A possible replacement is to enable the '--use-pep517' option. Discussion can be found at https://github.com/pypa/pip/issues/8559\n",
      "\n",
      "[notice] A new release of pip available: 22.3.1 -> 24.3.1\n",
      "[notice] To update, run: python.exe -m pip install --upgrade pip\n"
     ]
    }
   ],
   "source": [
    "# 설치\n",
    "!pip install lifelines"
   ]
  },
  {
   "cell_type": "code",
   "execution_count": 13,
   "metadata": {},
   "outputs": [],
   "source": [
    "from lifelines import KaplanMeierFitter\n",
    "import numpy as np"
   ]
  },
  {
   "cell_type": "code",
   "execution_count": 14,
   "metadata": {},
   "outputs": [
    {
     "data": {
      "text/plain": [
       "<lifelines.KaplanMeierFitter:\"KM_estimate\", fitted with 6 total observations, 2 right-censored observations>"
      ]
     },
     "execution_count": 14,
     "metadata": {},
     "output_type": "execute_result"
    }
   ],
   "source": [
    "# 데이터 생성\n",
    "durations = [5, 6, 6, 2.5, 4, 4]\n",
    "event_observed = [1, 0, 0, 1, 1, 1]\n",
    "\n",
    "# KaplanMeierFitter 객체 생성 및 학습\n",
    "kmf = KaplanMeierFitter()\n",
    "kmf.fit(durations, event_observed)"
   ]
  },
  {
   "cell_type": "code",
   "execution_count": 15,
   "metadata": {},
   "outputs": [
    {
     "data": {
      "text/plain": [
       "<Axes: xlabel='timeline'>"
      ]
     },
     "execution_count": 15,
     "metadata": {},
     "output_type": "execute_result"
    },
    {
     "data": {
      "image/png": "[encoded data removed]",
      "text/plain": [
       "<Figure size 640x480 with 1 Axes>"
      ]
     },
     "metadata": {},
     "output_type": "display_data"
    }
   ],
   "source": [
    "# 생존 함수 시각화\n",
    "kmf.plot()"
   ]
  },
  {
   "cell_type": "markdown",
   "metadata": {},
   "source": [
    "#### tsfresh: 시계열 예측 및 분류\n",
    "- http://tsfresh.readthedocs.io/\n",
    "- 시계열 데이터에서 자동으로 특징(feature)을 추출하는 Python 라이브러리"
   ]
  },
  {
   "cell_type": "code",
   "execution_count": 16,
   "metadata": {},
   "outputs": [
    {
     "name": "stdout",
     "output_type": "stream",
     "text": [
      "Collecting tsfresh\n",
      "  Downloading tsfresh-0.20.3-py2.py3-none-any.whl (95 kB)\n",
      "     ---------------------------------------- 95.8/95.8 kB 2.8 MB/s eta 0:00:00\n",
      "Collecting patsy>=0.4.1\n",
      "  Using cached patsy-1.0.1-py2.py3-none-any.whl (232 kB)\n",
      "Collecting cloudpickle\n",
      "  Using cached cloudpickle-3.1.0-py3-none-any.whl (22 kB)\n",
      "Requirement already satisfied: numpy>=1.15.1 in d:\\01_programming\\100_hugobank\\mine\\works-need-it-python\\venv_thrd\\lib\\site-packages (from tsfresh) (2.1.3)\n",
      "Requirement already satisfied: pandas>=0.25.0 in d:\\01_programming\\100_hugobank\\mine\\works-need-it-python\\venv_thrd\\lib\\site-packages (from tsfresh) (2.2.3)\n",
      "Collecting stumpy>=1.7.2\n",
      "  Downloading stumpy-1.13.0-py3-none-any.whl (176 kB)\n",
      "     -------------------------------------- 176.5/176.5 kB 5.4 MB/s eta 0:00:00\n",
      "Requirement already satisfied: scikit-learn>=0.22.0 in d:\\01_programming\\100_hugobank\\mine\\works-need-it-python\\venv_thrd\\lib\\site-packages (from tsfresh) (1.5.2)\n",
      "Collecting statsmodels>=0.13\n",
      "  Using cached statsmodels-0.14.4-cp310-cp310-win_amd64.whl (9.8 MB)\n",
      "Collecting requests>=2.9.1\n",
      "  Using cached requests-2.32.3-py3-none-any.whl (64 kB)\n",
      "Collecting tqdm>=4.10.0\n",
      "  Using cached tqdm-4.67.1-py3-none-any.whl (78 kB)\n",
      "Requirement already satisfied: scipy>=1.14.0 in d:\\01_programming\\100_hugobank\\mine\\works-need-it-python\\venv_thrd\\lib\\site-packages (from tsfresh) (1.14.1)\n",
      "Requirement already satisfied: pytz>=2020.1 in d:\\01_programming\\100_hugobank\\mine\\works-need-it-python\\venv_thrd\\lib\\site-packages (from pandas>=0.25.0->tsfresh) (2024.2)\n",
      "Requirement already satisfied: tzdata>=2022.7 in d:\\01_programming\\100_hugobank\\mine\\works-need-it-python\\venv_thrd\\lib\\site-packages (from pandas>=0.25.0->tsfresh) (2024.2)\n",
      "Requirement already satisfied: python-dateutil>=2.8.2 in d:\\01_programming\\100_hugobank\\mine\\works-need-it-python\\venv_thrd\\lib\\site-packages (from pandas>=0.25.0->tsfresh) (2.9.0.post0)\n",
      "Collecting urllib3<3,>=1.21.1\n",
      "  Using cached urllib3-2.3.0-py3-none-any.whl (128 kB)\n",
      "Collecting certifi>=2017.4.17\n",
      "  Using cached certifi-2024.12.14-py3-none-any.whl (164 kB)\n",
      "Collecting idna<4,>=2.5\n",
      "  Using cached idna-3.10-py3-none-any.whl (70 kB)\n",
      "Collecting charset-normalizer<4,>=2\n",
      "  Using cached charset_normalizer-3.4.1-cp310-cp310-win_amd64.whl (102 kB)\n",
      "Requirement already satisfied: threadpoolctl>=3.1.0 in d:\\01_programming\\100_hugobank\\mine\\works-need-it-python\\venv_thrd\\lib\\site-packages (from scikit-learn>=0.22.0->tsfresh) (3.5.0)\n",
      "Requirement already satisfied: joblib>=1.2.0 in d:\\01_programming\\100_hugobank\\mine\\works-need-it-python\\venv_thrd\\lib\\site-packages (from scikit-learn>=0.22.0->tsfresh) (1.4.2)\n",
      "Requirement already satisfied: packaging>=21.3 in d:\\01_programming\\100_hugobank\\mine\\works-need-it-python\\venv_thrd\\lib\\site-packages (from statsmodels>=0.13->tsfresh) (24.2)\n",
      "Collecting numba>=0.57.1\n",
      "  Using cached numba-0.60.0-cp310-cp310-win_amd64.whl (2.7 MB)\n",
      "Requirement already satisfied: colorama in d:\\01_programming\\100_hugobank\\mine\\works-need-it-python\\venv_thrd\\lib\\site-packages (from tqdm>=4.10.0->tsfresh) (0.4.6)\n",
      "Collecting llvmlite<0.44,>=0.43.0dev0\n",
      "  Using cached llvmlite-0.43.0-cp310-cp310-win_amd64.whl (28.1 MB)\n",
      "Collecting numpy>=1.15.1\n",
      "  Using cached numpy-2.0.2-cp310-cp310-win_amd64.whl (15.9 MB)\n",
      "Requirement already satisfied: six>=1.5 in d:\\01_programming\\100_hugobank\\mine\\works-need-it-python\\venv_thrd\\lib\\site-packages (from python-dateutil>=2.8.2->pandas>=0.25.0->tsfresh) (1.17.0)\n",
      "Installing collected packages: urllib3, tqdm, numpy, llvmlite, idna, cloudpickle, charset-normalizer, certifi, requests, patsy, numba, stumpy, statsmodels, tsfresh\n",
      "  Attempting uninstall: numpy\n",
      "    Found existing installation: numpy 2.1.3\n",
      "    Uninstalling numpy-2.1.3:\n",
      "      Successfully uninstalled numpy-2.1.3\n"
     ]
    },
    {
     "name": "stderr",
     "output_type": "stream",
     "text": [
      "ERROR: Could not install packages due to an OSError: [WinError 5] 액세스가 거부되었습니다: 'D:\\\\01_Programming\\\\100_HugoBank\\\\Mine\\\\works-need-it-python\\\\venv_thrd\\\\Lib\\\\site-packages\\\\~umpy.libs\\\\libscipy_openblas64_-c16e4918366c6bc1f1cd71e28ca36fc0.dll'\n",
      "Check the permissions.\n",
      "\n",
      "\n",
      "[notice] A new release of pip available: 22.3.1 -> 24.3.1\n",
      "[notice] To update, run: python.exe -m pip install --upgrade pip\n"
     ]
    }
   ],
   "source": [
    "# 설치\n",
    "!pip install tsfresh"
   ]
  },
  {
   "cell_type": "code",
   "execution_count": 17,
   "metadata": {},
   "outputs": [
    {
     "ename": "ModuleNotFoundError",
     "evalue": "No module named 'tsfresh'",
     "output_type": "error",
     "traceback": [
      "\u001b[1;31m---------------------------------------------------------------------------\u001b[0m",
      "\u001b[1;31mModuleNotFoundError\u001b[0m                       Traceback (most recent call last)",
      "Cell \u001b[1;32mIn[17], line 1\u001b[0m\n\u001b[1;32m----> 1\u001b[0m \u001b[38;5;28;01mfrom\u001b[39;00m \u001b[38;5;21;01mtsfresh\u001b[39;00m \u001b[38;5;28;01mimport\u001b[39;00m extract_features, select_features\n\u001b[0;32m      2\u001b[0m \u001b[38;5;28;01mfrom\u001b[39;00m \u001b[38;5;21;01mtsfresh\u001b[39;00m\u001b[38;5;21;01m.\u001b[39;00m\u001b[38;5;21;01mutilities\u001b[39;00m\u001b[38;5;21;01m.\u001b[39;00m\u001b[38;5;21;01mdataframe_functions\u001b[39;00m \u001b[38;5;28;01mimport\u001b[39;00m impute\n",
      "\u001b[1;31mModuleNotFoundError\u001b[0m: No module named 'tsfresh'"
     ]
    }
   ],
   "source": [
    "from tsfresh import extract_features, select_features\n",
    "from tsfresh.utilities.dataframe_functions import impute"
   ]
  },
  {
   "cell_type": "markdown",
   "metadata": {},
   "source": [
    "- Pass!"
   ]
  }
 ],
 "metadata": {
  "kernelspec": {
   "display_name": "venv_thrd",
   "language": "python",
   "name": "python3"
  },
  "language_info": {
   "codemirror_mode": {
    "name": "ipython",
    "version": 3
   },
   "file_extension": ".py",
   "mimetype": "text/x-python",
   "name": "python",
   "nbconvert_exporter": "python",
   "pygments_lexer": "ipython3",
   "version": "3.10.10"
  }
 },
 "nbformat": 4,
 "nbformat_minor": 2
}
