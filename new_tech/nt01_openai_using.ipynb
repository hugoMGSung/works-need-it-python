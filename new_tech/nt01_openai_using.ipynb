{
 "cells": [
  {
   "attachments": {},
   "cell_type": "markdown",
   "metadata": {},
   "source": [
    "## OpenAI 모듈 설치"
   ]
  },
  {
   "cell_type": "code",
   "execution_count": 1,
   "metadata": {},
   "outputs": [
    {
     "name": "stdout",
     "output_type": "stream",
     "text": [
      "Collecting openai\n",
      "  Downloading openai-0.27.0-py3-none-any.whl (70 kB)\n",
      "     ---------------------------------------- 0.0/70.1 kB ? eta -:--:--\n",
      "     ----- ---------------------------------- 10.2/70.1 kB ? eta -:--:--\n",
      "     ---------------- --------------------- 30.7/70.1 kB 640.0 kB/s eta 0:00:01\n",
      "     ---------------- --------------------- 30.7/70.1 kB 640.0 kB/s eta 0:00:01\n",
      "     --------------------------------- ---- 61.4/70.1 kB 363.1 kB/s eta 0:00:01\n",
      "     -------------------------------------- 70.1/70.1 kB 347.8 kB/s eta 0:00:00\n",
      "Collecting requests>=2.20\n",
      "  Downloading requests-2.28.2-py3-none-any.whl (62 kB)\n",
      "     ---------------------------------------- 0.0/62.8 kB ? eta -:--:--\n",
      "     ---------------------------------------- 62.8/62.8 kB 1.7 MB/s eta 0:00:00\n",
      "Collecting tqdm\n",
      "  Downloading tqdm-4.65.0-py3-none-any.whl (77 kB)\n",
      "     ---------------------------------------- 0.0/77.1 kB ? eta -:--:--\n",
      "     ------------------------------------- -- 71.7/77.1 kB 1.3 MB/s eta 0:00:01\n",
      "     ---------------------------------------- 77.1/77.1 kB 1.4 MB/s eta 0:00:00\n",
      "Collecting aiohttp\n",
      "  Downloading aiohttp-3.8.4-cp311-cp311-win_amd64.whl (317 kB)\n",
      "     ---------------------------------------- 0.0/317.2 kB ? eta -:--:--\n",
      "     ------------- ------------------------ 112.6/317.2 kB 3.3 MB/s eta 0:00:01\n",
      "     ------------- ------------------------ 112.6/317.2 kB 3.3 MB/s eta 0:00:01\n",
      "     ------------- ------------------------ 112.6/317.2 kB 3.3 MB/s eta 0:00:01\n",
      "     ---------------- ------------------- 143.4/317.2 kB 774.0 kB/s eta 0:00:01\n",
      "     ---------------------- ------------- 194.6/317.2 kB 908.0 kB/s eta 0:00:01\n",
      "     --------------------------- -------- 245.8/317.2 kB 888.8 kB/s eta 0:00:01\n",
      "     -------------------------------- --- 286.7/317.2 kB 930.9 kB/s eta 0:00:01\n",
      "     ------------------------------------ 317.2/317.2 kB 895.0 kB/s eta 0:00:00\n",
      "Collecting charset-normalizer<4,>=2\n",
      "  Downloading charset_normalizer-3.0.1-cp311-cp311-win_amd64.whl (96 kB)\n",
      "     ---------------------------------------- 0.0/96.0 kB ? eta -:--:--\n",
      "     ------------------------- -------------- 61.4/96.0 kB 1.6 MB/s eta 0:00:01\n",
      "     ---------------------------------------- 96.0/96.0 kB 1.1 MB/s eta 0:00:00\n",
      "Collecting idna<4,>=2.5\n",
      "  Downloading idna-3.4-py3-none-any.whl (61 kB)\n",
      "     ---------------------------------------- 0.0/61.5 kB ? eta -:--:--\n",
      "     ---------------------------------------- 61.5/61.5 kB 1.7 MB/s eta 0:00:00\n",
      "Collecting urllib3<1.27,>=1.21.1\n",
      "  Downloading urllib3-1.26.14-py2.py3-none-any.whl (140 kB)\n",
      "     ---------------------------------------- 0.0/140.6 kB ? eta -:--:--\n",
      "     ------------------------- ------------- 92.2/140.6 kB 2.6 MB/s eta 0:00:01\n",
      "     -------------------------------------- 140.6/140.6 kB 1.7 MB/s eta 0:00:00\n",
      "Collecting certifi>=2017.4.17\n",
      "  Downloading certifi-2022.12.7-py3-none-any.whl (155 kB)\n",
      "     ---------------------------------------- 0.0/155.3 kB ? eta -:--:--\n",
      "     ----------------------- --------------- 92.2/155.3 kB 2.6 MB/s eta 0:00:01\n",
      "     -------------------------------------- 155.3/155.3 kB 1.9 MB/s eta 0:00:00\n",
      "Collecting attrs>=17.3.0\n",
      "  Downloading attrs-22.2.0-py3-none-any.whl (60 kB)\n",
      "     ---------------------------------------- 0.0/60.0 kB ? eta -:--:--\n",
      "     ---------------------------------------- 60.0/60.0 kB 3.1 MB/s eta 0:00:00\n",
      "Collecting multidict<7.0,>=4.5\n",
      "  Downloading multidict-6.0.4-cp311-cp311-win_amd64.whl (28 kB)\n",
      "Collecting async-timeout<5.0,>=4.0.0a3\n",
      "  Downloading async_timeout-4.0.2-py3-none-any.whl (5.8 kB)\n",
      "Collecting yarl<2.0,>=1.0\n",
      "  Downloading yarl-1.8.2-cp311-cp311-win_amd64.whl (55 kB)\n",
      "     ---------------------------------------- 0.0/55.3 kB ? eta -:--:--\n",
      "     ---------------------------------------- 55.3/55.3 kB 1.5 MB/s eta 0:00:00\n",
      "Collecting frozenlist>=1.1.1\n",
      "  Downloading frozenlist-1.3.3-cp311-cp311-win_amd64.whl (32 kB)\n",
      "Collecting aiosignal>=1.1.2\n",
      "  Downloading aiosignal-1.3.1-py3-none-any.whl (7.6 kB)\n",
      "Requirement already satisfied: colorama in c:\\users\\perso\\appdata\\roaming\\python\\python311\\site-packages (from tqdm->openai) (0.4.6)\n",
      "Installing collected packages: charset-normalizer, urllib3, tqdm, multidict, idna, frozenlist, certifi, attrs, async-timeout, yarl, requests, aiosignal, aiohttp, openai\n",
      "Successfully installed aiohttp-3.8.4 aiosignal-1.3.1 async-timeout-4.0.2 attrs-22.2.0 certifi-2022.12.7 charset-normalizer-3.0.1 frozenlist-1.3.3 idna-3.4 multidict-6.0.4 openai-0.27.0 requests-2.28.2 tqdm-4.65.0 urllib3-1.26.14 yarl-1.8.2\n"
     ]
    }
   ],
   "source": [
    "!pip install --upgrade openai"
   ]
  },
  {
   "cell_type": "code",
   "execution_count": 5,
   "metadata": {},
   "outputs": [],
   "source": [
    "import openai\n",
    "\n",
    "openai.api_key = 'myKey'\n",
    "\n",
    "def query_gpt_35_turbo(query):  \n",
    "  response = openai.ChatCompletion.create(  \n",
    "    model=\"gpt-3.5-turbo\",\n",
    "    messages=[{\"role\": \"system\", \"content\":\"You are a helpful assistant that helps users generate ...\"},  \n",
    "    {\"role\":\"user\", \"content\": query}]  \n",
    "  )  \n",
    "  return response.choices[0].message.content "
   ]
  },
  {
   "cell_type": "code",
   "execution_count": 6,
   "metadata": {},
   "outputs": [
    {
     "data": {
      "text/plain": [
       "'안녕하세요! 도움이 필요하시면 언제든지 말씀해주세요.'"
      ]
     },
     "execution_count": 6,
     "metadata": {},
     "output_type": "execute_result"
    }
   ],
   "source": [
    "query_gpt_35_turbo('안녕')"
   ]
  },
  {
   "cell_type": "code",
   "execution_count": 7,
   "metadata": {},
   "outputs": [
    {
     "data": {
      "text/plain": [
       "'『어린왕자』는 생각을 추구하는 어린왕자와 그를 만나게 되는 여행자와의 대화를 통해 사람의 본성, 유머, 인생의 의미 등에 대한 저자 생각을 담은 소설입니다. \\n\\n어느날 여행자는 사막에서 비행기 고장으로 어린왕자를 만납니다. 어린왕자는 홀로 하나의 작은 행성에서 살고 있으며, 아름다운 꽃을 기르고 작은 별과 함께 삶을 즐기고 있습니다. 이전에 방문한 행성에서 남겨진 기억들과 함께 대화를 나누면서, 여행자는 어린왕자의 이야기를 듣고 그의 마음을 이해해가며 그리로 향합니다. \\n\\n여행자와 어린왕자는 우리 세상에서 살면서 마주치는 문제들에 대해 이야기를 나누면서, 인간의 도덕적인 가치, 사회 문제, 그리고 가족과 친구 사이의 관계에 대한 생각을 나누고 있습니다. 끝에서는 어린왕자가 우리 세상으로 향하지만, 여행자는 그가 남긴 교훈과 애정이 자신의 삶에 큰 의미를 갖는다는 것을 깨닫게 됩니다.'"
      ]
     },
     "execution_count": 7,
     "metadata": {},
     "output_type": "execute_result"
    }
   ],
   "source": [
    "query_gpt_35_turbo('쌩떽쥐페리의 어린왕자의 줄거리를 얘기해줘')"
   ]
  }
 ],
 "metadata": {
  "kernelspec": {
   "display_name": "Python 3",
   "language": "python",
   "name": "python3"
  },
  "language_info": {
   "codemirror_mode": {
    "name": "ipython",
    "version": 3
   },
   "file_extension": ".py",
   "mimetype": "text/x-python",
   "name": "python",
   "nbconvert_exporter": "python",
   "pygments_lexer": "ipython3",
   "version": "3.11.2"
  },
  "orig_nbformat": 4,
  "vscode": {
   "interpreter": {
    "hash": "d933a66532e3e169431ebd423a37e0f81562a84623bf4f96949263056da7a90f"
   }
  }
 },
 "nbformat": 4,
 "nbformat_minor": 2
}
