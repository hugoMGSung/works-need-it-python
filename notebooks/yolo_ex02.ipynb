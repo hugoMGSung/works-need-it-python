{
    "cells": [
        {
            "cell_type": "code",
            "execution_count": 1,
            "source": [
                "import cv2\r\n",
                "import numpy as np"
            ],
            "outputs": [],
            "metadata": {}
        },
        {
            "cell_type": "code",
            "execution_count": 4,
            "source": [
                "# Load YOLO network\r\n",
                "net = cv2.dnn.readNet('./data/yolov3.weights', './data/yolov3.cfg')\r\n",
                "classes = [] \r\n",
                "with open('./data/coco.names', 'r') as f: \r\n",
                "    classes = [line.strip() for line in f.readlines()] \r\n",
                "layer_names = net.getLayerNames() \r\n",
                "output_layers = [layer_names[i[0] - 1] for i in net.getUnconnectedOutLayers()] \r\n",
                "colors = np.random.uniform(0, 255, size=(len(classes), 3))\r\n"
            ],
            "outputs": [],
            "metadata": {}
        },
        {
            "cell_type": "code",
            "execution_count": 23,
            "source": [
                "from IPython.display import Image\r\n",
                "\r\n",
                "# Loading image \r\n",
                "img = cv2.imread('./image/kitty.jpg') \r\n",
                "#img = cv2.resize(img, None, fx=0.4, fy=0.4) \r\n",
                "height, width, channels = img.shape\r\n",
                "\r\n",
                "Image('./image/kitty.jpg')"
            ],
            "outputs": [
                {
                    "output_type": "execute_result",
                    "data": {
                        "text/plain": [
                            "<IPython.core.display.Image object>"
                        ],
                        "image/jpeg": "[encoded data removed]"
                    },
                    "metadata": {},
                    "execution_count": 23
                }
            ],
            "metadata": {}
        },
        {
            "cell_type": "code",
            "execution_count": 25,
            "source": [
                "# Detecting objects \r\n",
                "blob = cv2.dnn.blobFromImage(img, 0.00392, (416, 416), (0, 0, 0), True, crop=False) \r\n",
                "net.setInput(blob) \r\n",
                "outs = net.forward(output_layers)"
            ],
            "outputs": [],
            "metadata": {}
        },
        {
            "cell_type": "code",
            "execution_count": 26,
            "source": [
                "# Showing informations on the screen \r\n",
                "class_ids = [] \r\n",
                "confidences = [] \r\n",
                "boxes = [] \r\n",
                "\r\n",
                "for out in outs: \r\n",
                "    for detection in out: \r\n",
                "        scores = detection[5:] \r\n",
                "        class_id = np.argmax(scores) \r\n",
                "        confidence = scores[class_id] \r\n",
                "        if confidence > 0.5: \r\n",
                "            # Object detected \r\n",
                "            center_x = int(detection[0] * width) \r\n",
                "            center_y = int(detection[1] * height) \r\n",
                "            w = int(detection[2] * width) \r\n",
                "            h = int(detection[3] * height) \r\n",
                "            # Rectangle coordinates \r\n",
                "            x = int(center_x - w / 2) \r\n",
                "            y = int(center_y - h / 2) \r\n",
                "            boxes.append([x, y, w, h]) \r\n",
                "            confidences.append(float(confidence)) \r\n",
                "            class_ids.append(class_id)\r\n"
            ],
            "outputs": [],
            "metadata": {}
        },
        {
            "cell_type": "code",
            "execution_count": 27,
            "source": [
                "indexes = cv2.dnn.NMSBoxes(boxes, confidences, 0.5, 0.4)"
            ],
            "outputs": [],
            "metadata": {}
        },
        {
            "cell_type": "code",
            "execution_count": 35,
            "source": [
                "import matplotlib.pyplot as plt\r\n",
                "\r\n",
                "font = cv2.FONT_HERSHEY_PLAIN \r\n",
                "for i in range(len(boxes)): \r\n",
                "    if i in indexes: \r\n",
                "        x, y, w, h = boxes[i] \r\n",
                "        label = str(classes[class_ids[i]]) \r\n",
                "        color = colors[i] \r\n",
                "        cv2.rectangle(img, (x, y), (x + w, y + h), color, 2) \r\n",
                "        cv2.putText(img, label, (x, y + 30), font, 3, color, 3) \r\n",
                "\r\n",
                "\r\n",
                "# plt.imshow(img)\r\n",
                "# plt.show()\r\n",
                "cv2.imshow(\"Image\", img) \r\n",
                "cv2.waitKey(0) \r\n",
                "cv2.destroyAllWindows()"
            ],
            "outputs": [
                {
                    "output_type": "execute_result",
                    "data": {
                        "text/plain": [
                            "array([[[136, 125, 111],\n",
                            "        [133, 122, 108],\n",
                            "        [130, 119, 105],\n",
                            "        ...,\n",
                            "        [154, 142, 136],\n",
                            "        [154, 142, 136],\n",
                            "        [154, 142, 136]],\n",
                            "\n",
                            "       [[136, 125, 111],\n",
                            "        [133, 122, 108],\n",
                            "        [130, 119, 105],\n",
                            "        ...,\n",
                            "        [155, 143, 137],\n",
                            "        [154, 142, 136],\n",
                            "        [154, 142, 136]],\n",
                            "\n",
                            "       [[137, 126, 112],\n",
                            "        [134, 123, 109],\n",
                            "        [130, 119, 105],\n",
                            "        ...,\n",
                            "        [155, 143, 137],\n",
                            "        [155, 143, 137],\n",
                            "        [154, 142, 136]],\n",
                            "\n",
                            "       ...,\n",
                            "\n",
                            "       [[ 53,  69,  76],\n",
                            "        [ 53,  69,  76],\n",
                            "        [ 53,  69,  76],\n",
                            "        ...,\n",
                            "        [ 87, 100, 122],\n",
                            "        [ 87, 100, 122],\n",
                            "        [ 87, 100, 122]],\n",
                            "\n",
                            "       [[ 52,  68,  75],\n",
                            "        [ 52,  68,  75],\n",
                            "        [ 52,  68,  75],\n",
                            "        ...,\n",
                            "        [ 86,  99, 121],\n",
                            "        [ 86,  99, 121],\n",
                            "        [ 86,  99, 121]],\n",
                            "\n",
                            "       [[ 52,  68,  75],\n",
                            "        [ 52,  68,  75],\n",
                            "        [ 52,  68,  75],\n",
                            "        ...,\n",
                            "        [ 86,  99, 121],\n",
                            "        [ 86,  99, 121],\n",
                            "        [ 86,  99, 121]]], dtype=uint8)"
                        ]
                    },
                    "metadata": {},
                    "execution_count": 35
                }
            ],
            "metadata": {}
        }
    ],
    "metadata": {
        "orig_nbformat": 4,
        "language_info": {
            "name": "python"
        }
    },
    "nbformat": 4,
    "nbformat_minor": 2
}