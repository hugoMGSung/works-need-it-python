{
 "cells": [
  {
   "cell_type": "markdown",
   "metadata": {},
   "source": [
    "# 판다스 사용법 따라가기\n",
    "\n",
    "### 기본 사용법 - 패키지 사용 추가"
   ]
  },
  {
   "cell_type": "code",
   "execution_count": 1,
   "metadata": {},
   "outputs": [
    {
     "data": {
      "text/plain": [
       "'1.3.5'"
      ]
     },
     "execution_count": 1,
     "metadata": {},
     "output_type": "execute_result"
    }
   ],
   "source": [
    "# 판다스 패키지 추가\n",
    "import pandas as pd\n",
    "\n",
    "pd.__version__"
   ]
  },
  {
   "cell_type": "markdown",
   "metadata": {},
   "source": [
    "### 시리즈 타입"
   ]
  },
  {
   "cell_type": "code",
   "execution_count": 7,
   "metadata": {},
   "outputs": [
    {
     "name": "stdout",
     "output_type": "stream",
     "text": [
      "series1 =>\n",
      "0    101\n",
      "1    102\n",
      "2    103\n",
      "3    104\n",
      "4    105\n",
      "dtype: int64\n",
      "series2 =>\n",
      "0    101\n",
      "1    102\n",
      "2    103\n",
      "3    104\n",
      "4    105\n",
      "dtype: int32\n",
      "series3 =>\n",
      "0    101\n",
      "1    102\n",
      "2    103\n",
      "3    104\n",
      "4    105\n",
      "dtype: int32\n"
     ]
    }
   ],
   "source": [
    "import pandas as pd\n",
    "import numpy as np\n",
    "\n",
    "data = list(range(101, 106))\n",
    "series1 = pd.Series(data)\n",
    "print(f'series1 =>\\n{series1}')\n",
    "\n",
    "arr1 = np.array(data)\n",
    "series2 = pd.Series(arr1)\n",
    "print(f'series2 =>\\n{series2}')\n",
    "\n",
    "arr2 = np.arange(101, 106)\n",
    "series3 = pd.Series(arr2)\n",
    "print(f'series3 =>\\n{series3}')"
   ]
  },
  {
   "cell_type": "markdown",
   "metadata": {},
   "source": [
    "### 시리즈 다시"
   ]
  },
  {
   "cell_type": "code",
   "execution_count": 8,
   "metadata": {},
   "outputs": [
    {
     "name": "stdout",
     "output_type": "stream",
     "text": [
      "시리즈4 출력 \n",
      "--------------------\n",
      "피자    32000\n",
      "치킨    20000\n",
      "콜라     2000\n",
      "맥주     4500\n",
      "dtype: int64\n"
     ]
    }
   ],
   "source": [
    "series4 = pd.Series([32000, 20000, 2000, 4500], index=['피자', '치킨', '콜라', '맥주'])\n",
    "print('시리즈4 출력 ')\n",
    "print('-'*20)\n",
    "print(series4)"
   ]
  },
  {
   "cell_type": "code",
   "execution_count": 11,
   "metadata": {},
   "outputs": [
    {
     "name": "stdout",
     "output_type": "stream",
     "text": [
      "시리즈4 값 : [32000 20000  2000  4500]\n",
      "시리즈4 인덱스 : Index(['피자', '치킨', '콜라', '맥주'], dtype='object')\n",
      "20000\n"
     ]
    }
   ],
   "source": [
    "print(f'시리즈4 값 : {series4.values}')\n",
    "print(f'시리즈4 인덱스 : {series4.index}')\n",
    "print(series4[1])"
   ]
  },
  {
   "cell_type": "markdown",
   "metadata": {},
   "source": [
    "### 데이터프레임"
   ]
  },
  {
   "cell_type": "code",
   "execution_count": 12,
   "metadata": {},
   "outputs": [
    {
     "name": "stdout",
     "output_type": "stream",
     "text": [
      "데이터프레임 출력 \n",
      "--------------------\n",
      "       A  B  C\n",
      "one    1  2  3\n",
      "two    4  5  6\n",
      "three  7  8  9\n"
     ]
    }
   ],
   "source": [
    "values = [[1,2,3], [4,5,6], [7,8,9]]\n",
    "index = ['one', 'two', 'three']\n",
    "columns = ['A', 'B', 'C']\n",
    "\n",
    "df = pd.DataFrame(values, index=index, columns=columns)\n",
    "\n",
    "print('데이터프레임 출력 ')\n",
    "print('-'*20)\n",
    "print(df)"
   ]
  },
  {
   "cell_type": "code",
   "execution_count": 13,
   "metadata": {},
   "outputs": [
    {
     "name": "stdout",
     "output_type": "stream",
     "text": [
      "데이터프레임 인덱스 : Index(['one', 'two', 'three'], dtype='object')\n",
      "데이터프레임 열이름: Index(['A', 'B', 'C'], dtype='object')\n",
      "데이터프레임 값 \n",
      "--------------------\n",
      "[[1 2 3]\n",
      " [4 5 6]\n",
      " [7 8 9]]\n"
     ]
    }
   ],
   "source": [
    "print('데이터프레임 인덱스 : {}'.format(df.index))\n",
    "print('데이터프레임 열이름: {}'.format(df.columns))\n",
    "print('데이터프레임 값 ')\n",
    "print('-'*20)\n",
    "print(df.values)"
   ]
  },
  {
   "cell_type": "markdown",
   "metadata": {},
   "source": [
    "### 데이터프레임 생성"
   ]
  },
  {
   "cell_type": "code",
   "execution_count": 19,
   "metadata": {},
   "outputs": [
    {
     "name": "stdout",
     "output_type": "stream",
     "text": [
      "학점 \n",
      "--------------------\n",
      "      0    1       2\n",
      "0  1001  홍길동   97.72\n",
      "1  1002  성영곤  100.00\n",
      "2  1003  홍길순   64.20\n",
      "3  1004  장필순   82.30\n",
      "4  1005  구덕임   78.09\n"
     ]
    }
   ],
   "source": [
    "# 리스트로부터 생성\n",
    "data = [\n",
    "    ['1001', '홍길동', 97.72],\n",
    "    ['1002', '성영곤', 100.00],\n",
    "    ['1003', '홍길순', 64.20],\n",
    "    ['1004', '장필순', 82.30],\n",
    "    ['1005', '구덕임', 78.09]\n",
    "]\n",
    "\n",
    "df = pd.DataFrame(data)\n",
    "print('학점 ')\n",
    "print('-'*20)\n",
    "print(df)"
   ]
  },
  {
   "cell_type": "code",
   "execution_count": 20,
   "metadata": {},
   "outputs": [
    {
     "name": "stdout",
     "output_type": "stream",
     "text": [
      "     학번   이름      점수\n",
      "0  1001  홍길동   97.72\n",
      "1  1002  성영곤  100.00\n",
      "2  1003  홍길순   64.20\n",
      "3  1004  장필순   82.30\n",
      "4  1005  구덕임   78.09\n"
     ]
    }
   ],
   "source": [
    "df = pd.DataFrame(data, columns=['학번', '이름', '점수'])\n",
    "print(df)"
   ]
  },
  {
   "cell_type": "code",
   "execution_count": 21,
   "metadata": {},
   "outputs": [
    {
     "name": "stdout",
     "output_type": "stream",
     "text": [
      "     학번   이름      점수\n",
      "0  1001  홍길동   97.72\n",
      "1  1002  성영곤  100.00\n",
      "2  1003  홍길순   64.20\n",
      "3  1004  장필순   82.30\n",
      "4  1005  구덕임   78.09\n"
     ]
    }
   ],
   "source": [
    "# 딕셔너리\n",
    "data2 = {\n",
    "    '학번': ['1001','1002','1003','1004','1005'],\n",
    "    '이름': ['홍길동','성영곤','홍길순','장필순','구덕임'],\n",
    "    '점수':[97.72, 100.00, 64.20, 82.30, 78.09]\n",
    "}\n",
    "\n",
    "df2 = pd.DataFrame(data2)\n",
    "print(df2)"
   ]
  },
  {
   "cell_type": "markdown",
   "metadata": {},
   "source": [
    "### 데이터프레임 조회"
   ]
  },
  {
   "cell_type": "code",
   "execution_count": 24,
   "metadata": {},
   "outputs": [
    {
     "name": "stdout",
     "output_type": "stream",
     "text": [
      "     학번   이름      점수\n",
      "0  1001  홍길동   97.72\n",
      "1  1002  성영곤  100.00\n",
      "     학번   이름     점수\n",
      "2  1003  홍길순  64.20\n",
      "3  1004  장필순  82.30\n",
      "4  1005  구덕임  78.09\n",
      "0    1001\n",
      "1    1002\n",
      "2    1003\n",
      "3    1004\n",
      "4    1005\n",
      "Name: 학번, dtype: object\n"
     ]
    }
   ],
   "source": [
    "# 앞부분 2개만 조회\n",
    "print(df.head(2))\n",
    "# 뒷부분 3개만 조회\n",
    "print(df.tail(3))\n",
    "# 학번에 대한 열만 보기\n",
    "print(df['학번'])"
   ]
  },
  {
   "cell_type": "markdown",
   "metadata": {},
   "source": [
    "#### 외부데이터 읽어오기"
   ]
  },
  {
   "cell_type": "code",
   "execution_count": 26,
   "metadata": {},
   "outputs": [
    {
     "name": "stdout",
     "output_type": "stream",
     "text": [
      "     학번   이름     점수\n",
      "0  1001  홍길동  97.62\n",
      "1  1002  성영곤  99.99\n",
      "2  1003  홍길순  63.20\n",
      "3  1004  장필순  81.10\n",
      "RangeIndex(start=0, stop=4, step=1)\n"
     ]
    }
   ],
   "source": [
    "df = pd.read_csv('sample.csv')\n",
    "print(df)\n",
    "print(df.index)"
   ]
  }
 ],
 "metadata": {
  "interpreter": {
   "hash": "f96a9a07a116f6f1ffed9cd3a9ab21c3a5ddd23e72a9eab081c16d79846f9680"
  },
  "kernelspec": {
   "display_name": "Python 3.9.7 64-bit ('venv': venv)",
   "language": "python",
   "name": "python3"
  },
  "language_info": {
   "codemirror_mode": {
    "name": "ipython",
    "version": 3
   },
   "file_extension": ".py",
   "mimetype": "text/x-python",
   "name": "python",
   "nbconvert_exporter": "python",
   "pygments_lexer": "ipython3",
   "version": "3.9.7"
  },
  "orig_nbformat": 4
 },
 "nbformat": 4,
 "nbformat_minor": 2
}
