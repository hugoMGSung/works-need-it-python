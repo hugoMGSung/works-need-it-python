{
 "cells": [
  {
   "cell_type": "code",
   "execution_count": 1,
   "metadata": {},
   "outputs": [],
   "source": [
    "import pandas as pd"
   ]
  },
  {
   "cell_type": "code",
   "execution_count": 6,
   "metadata": {},
   "outputs": [
    {
     "name": "stderr",
     "output_type": "stream",
     "text": [
      "c:\\DEV\\LANGS\\Python\\Python311\\Lib\\site-packages\\openpyxl\\styles\\stylesheet.py:226: UserWarning: Workbook contains no default style, apply openpyxl's default\n",
      "  warn(\"Workbook contains no default style, apply openpyxl's default\")\n"
     ]
    }
   ],
   "source": [
    "dfSeoulWorkers = pd.read_excel('./data/사업체현황+종사자수.xlsx', header=2, usecols='B:E')\n",
    "dfSeoulWorkers.columns = ['구별', '사업체수', '총종사자수', '여성종사자수']"
   ]
  },
  {
   "cell_type": "code",
   "execution_count": 8,
   "metadata": {},
   "outputs": [],
   "source": [
    "dfSeoulWorkers['남성종사자수'] = dfSeoulWorkers['총종사자수'] - dfSeoulWorkers['여성종사자수']"
   ]
  },
  {
   "cell_type": "code",
   "execution_count": 10,
   "metadata": {},
   "outputs": [
    {
     "data": {
      "text/html": [
       "<div>\n",
       "<style scoped>\n",
       "    .dataframe tbody tr th:only-of-type {\n",
       "        vertical-align: middle;\n",
       "    }\n",
       "\n",
       "    .dataframe tbody tr th {\n",
       "        vertical-align: top;\n",
       "    }\n",
       "\n",
       "    .dataframe thead th {\n",
       "        text-align: right;\n",
       "    }\n",
       "</style>\n",
       "<table border=\"1\" class=\"dataframe\">\n",
       "  <thead>\n",
       "    <tr style=\"text-align: right;\">\n",
       "      <th></th>\n",
       "      <th>구별</th>\n",
       "      <th>사업체수</th>\n",
       "      <th>총종사자수</th>\n",
       "      <th>여성종사자수</th>\n",
       "      <th>남성종사자수</th>\n",
       "    </tr>\n",
       "  </thead>\n",
       "  <tbody>\n",
       "    <tr>\n",
       "      <th>20</th>\n",
       "      <td>관악구</td>\n",
       "      <td>37915</td>\n",
       "      <td>128417</td>\n",
       "      <td>60025</td>\n",
       "      <td>68392</td>\n",
       "    </tr>\n",
       "    <tr>\n",
       "      <th>21</th>\n",
       "      <td>서초구</td>\n",
       "      <td>71958</td>\n",
       "      <td>487976</td>\n",
       "      <td>197892</td>\n",
       "      <td>290084</td>\n",
       "    </tr>\n",
       "    <tr>\n",
       "      <th>22</th>\n",
       "      <td>강남구</td>\n",
       "      <td>110007</td>\n",
       "      <td>801419</td>\n",
       "      <td>353610</td>\n",
       "      <td>447809</td>\n",
       "    </tr>\n",
       "    <tr>\n",
       "      <th>23</th>\n",
       "      <td>송파구</td>\n",
       "      <td>74531</td>\n",
       "      <td>400781</td>\n",
       "      <td>156193</td>\n",
       "      <td>244588</td>\n",
       "    </tr>\n",
       "    <tr>\n",
       "      <th>24</th>\n",
       "      <td>강동구</td>\n",
       "      <td>41660</td>\n",
       "      <td>157465</td>\n",
       "      <td>74050</td>\n",
       "      <td>83415</td>\n",
       "    </tr>\n",
       "  </tbody>\n",
       "</table>\n",
       "</div>"
      ],
      "text/plain": [
       "     구별    사업체수   총종사자수  여성종사자수  남성종사자수\n",
       "20  관악구   37915  128417   60025   68392\n",
       "21  서초구   71958  487976  197892  290084\n",
       "22  강남구  110007  801419  353610  447809\n",
       "23  송파구   74531  400781  156193  244588\n",
       "24  강동구   41660  157465   74050   83415"
      ]
     },
     "execution_count": 10,
     "metadata": {},
     "output_type": "execute_result"
    }
   ],
   "source": [
    "dfSeoulWorkers.tail()"
   ]
  }
 ],
 "metadata": {
  "kernelspec": {
   "display_name": "Python 3",
   "language": "python",
   "name": "python3"
  },
  "language_info": {
   "codemirror_mode": {
    "name": "ipython",
    "version": 3
   },
   "file_extension": ".py",
   "mimetype": "text/x-python",
   "name": "python",
   "nbconvert_exporter": "python",
   "pygments_lexer": "ipython3",
   "version": "3.11.8"
  }
 },
 "nbformat": 4,
 "nbformat_minor": 2
}
