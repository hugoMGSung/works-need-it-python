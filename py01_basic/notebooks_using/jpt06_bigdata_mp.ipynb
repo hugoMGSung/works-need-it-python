{
 "cells": [
  {
   "cell_type": "markdown",
   "metadata": {},
   "source": [
    "# 데이터 분석 멀티 프로세싱\n",
    "\n",
    "대규모 데이터 세트로 작업할 때 일반적으로 처리 속도가 느려지는 문제 발생. 코드 실행 시간을 최적화하고 프로세스 속도를 높이려면 결국 병렬화를 방법 중 하나로 고려해야 함."
   ]
  },
  {
   "cell_type": "code",
   "execution_count": 1,
   "metadata": {},
   "outputs": [],
   "source": [
    "# 데이터분석 필요 라이브러리 등록\n",
    "import pandas as pd\n",
    "import numpy as np\n",
    "import tqdm"
   ]
  },
  {
   "cell_type": "code",
   "execution_count": 2,
   "metadata": {},
   "outputs": [],
   "source": [
    "# 멀티프로세싱 필요 라이브러리 등록\n",
    "import multiprocessing as mp\n",
    "\n",
    "from itertools import repeat\n",
    "from multiprocessing import Process, Manager\n",
    "from multiprocessing import Pool"
   ]
  },
  {
   "cell_type": "code",
   "execution_count": 3,
   "metadata": {},
   "outputs": [
    {
     "data": {
      "text/plain": [
       "'Number of CPU : 16'"
      ]
     },
     "execution_count": 3,
     "metadata": {},
     "output_type": "execute_result"
    }
   ],
   "source": [
    "## 프로세스 개수 확인\n",
    "num_processes = mp.cpu_count()\n",
    "f'Number of CPU : {num_processes}'"
   ]
  },
  {
   "cell_type": "markdown",
   "metadata": {},
   "source": [
    "### 기본 빅데이터 처리"
   ]
  },
  {
   "cell_type": "code",
   "execution_count": 4,
   "metadata": {},
   "outputs": [],
   "source": [
    "# 파일 읽기\n",
    "dfEmployee = pd.read_csv('./data/employee.csv', low_memory=False)"
   ]
  },
  {
   "cell_type": "code",
   "execution_count": 5,
   "metadata": {},
   "outputs": [
    {
     "data": {
      "text/html": [
       "<div>\n",
       "<style scoped>\n",
       "    .dataframe tbody tr th:only-of-type {\n",
       "        vertical-align: middle;\n",
       "    }\n",
       "\n",
       "    .dataframe tbody tr th {\n",
       "        vertical-align: top;\n",
       "    }\n",
       "\n",
       "    .dataframe thead th {\n",
       "        text-align: right;\n",
       "    }\n",
       "</style>\n",
       "<table border=\"1\" class=\"dataframe\">\n",
       "  <thead>\n",
       "    <tr style=\"text-align: right;\">\n",
       "      <th></th>\n",
       "      <th>ecode</th>\n",
       "      <th>ename</th>\n",
       "    </tr>\n",
       "  </thead>\n",
       "  <tbody>\n",
       "    <tr>\n",
       "      <th>93</th>\n",
       "      <td>7638</td>\n",
       "      <td>AMALA</td>\n",
       "    </tr>\n",
       "    <tr>\n",
       "      <th>94</th>\n",
       "      <td>7614</td>\n",
       "      <td>RAKSHITHA</td>\n",
       "    </tr>\n",
       "    <tr>\n",
       "      <th>95</th>\n",
       "      <td>7621</td>\n",
       "      <td>HANUMAKKA</td>\n",
       "    </tr>\n",
       "    <tr>\n",
       "      <th>96</th>\n",
       "      <td>7628</td>\n",
       "      <td>NIRMALA</td>\n",
       "    </tr>\n",
       "    <tr>\n",
       "      <th>97</th>\n",
       "      <td>101</td>\n",
       "      <td>BEERAIAH</td>\n",
       "    </tr>\n",
       "  </tbody>\n",
       "</table>\n",
       "</div>"
      ],
      "text/plain": [
       "   ecode      ename\n",
       "93  7638      AMALA\n",
       "94  7614  RAKSHITHA\n",
       "95  7621  HANUMAKKA\n",
       "96  7628    NIRMALA\n",
       "97   101   BEERAIAH"
      ]
     },
     "execution_count": 5,
     "metadata": {},
     "output_type": "execute_result"
    }
   ],
   "source": [
    "dfEmployee.tail()"
   ]
  },
  {
   "cell_type": "code",
   "execution_count": 6,
   "metadata": {},
   "outputs": [
    {
     "name": "stdout",
     "output_type": "stream",
     "text": [
      "<class 'pandas.core.frame.DataFrame'>\n",
      "RangeIndex: 98 entries, 0 to 97\n",
      "Data columns (total 2 columns):\n",
      " #   Column  Non-Null Count  Dtype \n",
      "---  ------  --------------  ----- \n",
      " 0   ecode   98 non-null     object\n",
      " 1   ename   98 non-null     object\n",
      "dtypes: object(2)\n",
      "memory usage: 1.7+ KB\n"
     ]
    }
   ],
   "source": [
    "dfEmployee.info()"
   ]
  },
  {
   "cell_type": "code",
   "execution_count": 7,
   "metadata": {},
   "outputs": [],
   "source": [
    "# 큰 데이터 불러오기, 71851개\n",
    "dfData = pd.read_csv('./data/data.csv', low_memory=False)"
   ]
  },
  {
   "cell_type": "code",
   "execution_count": 9,
   "metadata": {},
   "outputs": [
    {
     "data": {
      "text/html": [
       "<div>\n",
       "<style scoped>\n",
       "    .dataframe tbody tr th:only-of-type {\n",
       "        vertical-align: middle;\n",
       "    }\n",
       "\n",
       "    .dataframe tbody tr th {\n",
       "        vertical-align: top;\n",
       "    }\n",
       "\n",
       "    .dataframe thead th {\n",
       "        text-align: right;\n",
       "    }\n",
       "</style>\n",
       "<table border=\"1\" class=\"dataframe\">\n",
       "  <thead>\n",
       "    <tr style=\"text-align: right;\">\n",
       "      <th></th>\n",
       "      <th>date</th>\n",
       "      <th>employee_code</th>\n",
       "      <th>efficiency</th>\n",
       "    </tr>\n",
       "  </thead>\n",
       "  <tbody>\n",
       "    <tr>\n",
       "      <th>71846</th>\n",
       "      <td>31-12-2018</td>\n",
       "      <td>162</td>\n",
       "      <td>97.094803</td>\n",
       "    </tr>\n",
       "    <tr>\n",
       "      <th>71847</th>\n",
       "      <td>31-12-2018</td>\n",
       "      <td>145</td>\n",
       "      <td>104.790630</td>\n",
       "    </tr>\n",
       "    <tr>\n",
       "      <th>71848</th>\n",
       "      <td>31-12-2018</td>\n",
       "      <td>104</td>\n",
       "      <td>85.029753</td>\n",
       "    </tr>\n",
       "    <tr>\n",
       "      <th>71849</th>\n",
       "      <td>31-12-2018</td>\n",
       "      <td>162</td>\n",
       "      <td>97.691327</td>\n",
       "    </tr>\n",
       "    <tr>\n",
       "      <th>71850</th>\n",
       "      <td>31-12-2018</td>\n",
       "      <td>1083</td>\n",
       "      <td>96.823055</td>\n",
       "    </tr>\n",
       "  </tbody>\n",
       "</table>\n",
       "</div>"
      ],
      "text/plain": [
       "             date  employee_code  efficiency\n",
       "71846  31-12-2018            162   97.094803\n",
       "71847  31-12-2018            145  104.790630\n",
       "71848  31-12-2018            104   85.029753\n",
       "71849  31-12-2018            162   97.691327\n",
       "71850  31-12-2018           1083   96.823055"
      ]
     },
     "execution_count": 9,
     "metadata": {},
     "output_type": "execute_result"
    }
   ],
   "source": [
    "dfData.tail()"
   ]
  },
  {
   "cell_type": "code",
   "execution_count": 10,
   "metadata": {},
   "outputs": [
    {
     "name": "stdout",
     "output_type": "stream",
     "text": [
      "<class 'pandas.core.frame.DataFrame'>\n",
      "RangeIndex: 71851 entries, 0 to 71850\n",
      "Data columns (total 3 columns):\n",
      " #   Column         Non-Null Count  Dtype  \n",
      "---  ------         --------------  -----  \n",
      " 0   date           71851 non-null  object \n",
      " 1   employee_code  71851 non-null  int64  \n",
      " 2   efficiency     71851 non-null  float64\n",
      "dtypes: float64(1), int64(1), object(1)\n",
      "memory usage: 1.6+ MB\n"
     ]
    }
   ],
   "source": [
    "dfData.info()"
   ]
  },
  {
   "cell_type": "code",
   "execution_count": 12,
   "metadata": {},
   "outputs": [],
   "source": [
    "# dfData에서 employee_code로 데이터 가져오기\n",
    "employee_codes = []\n",
    "employee_codes.extend(list(dfData['employee_code'].unique()))"
   ]
  },
  {
   "cell_type": "code",
   "execution_count": 13,
   "metadata": {},
   "outputs": [
    {
     "data": {
      "text/plain": [
       "27"
      ]
     },
     "execution_count": 13,
     "metadata": {},
     "output_type": "execute_result"
    }
   ],
   "source": [
    "len(employee_codes)"
   ]
  },
  {
   "cell_type": "code",
   "execution_count": 14,
   "metadata": {},
   "outputs": [],
   "source": [
    "# dfEmployee에서 위의 empCode와 매핑되는 사용자 명 가져오기\n",
    "dictEnames = {}\n",
    "\n",
    "for i, row in dfEmployee.iterrows():\n",
    "    dictEnames[row['ecode']] = row['ename']"
   ]
  },
  {
   "cell_type": "code",
   "execution_count": 15,
   "metadata": {},
   "outputs": [
    {
     "data": {
      "text/plain": [
       "{'165': 'Harry Crouch',\n",
       " '183': 'SIVANNA',\n",
       " '190': 'JAYARAMAPPA',\n",
       " '191': 'Sadiyah Mays',\n",
       " '193': 'Macie Mccartney',\n",
       " '194': 'Adelaide Brook',\n",
       " '195': 'Shanon Mendez',\n",
       " '196': 'Isaak Burnett',\n",
       " '197': 'Susie Ramsey',\n",
       " '207': 'Sara Donnelly',\n",
       " '200': 'Emmanuel Waller',\n",
       " '103': 'Elif Noble',\n",
       " '122': 'DANEEL',\n",
       " '201': 'RAMACHANDRAREDDY',\n",
       " '203': 'Farah Caldwell',\n",
       " '210': 'Ashraf Rawlings',\n",
       " '211': 'Youssef Quintana',\n",
       " '238': 'RAMANJINAPPA',\n",
       " '215': 'Benn Kearney',\n",
       " '218': 'Mekhi Douglas',\n",
       " '220': 'Irene Jeffery',\n",
       " '250': 'Nathaniel Barron',\n",
       " '143': 'Kobi Hogan',\n",
       " '145': 'Sidney Ho',\n",
       " '1071': 'Wiktoria Wilkerson',\n",
       " '161': 'NARASHIMAHAMULU',\n",
       " '182': 'Teodor Greene',\n",
       " '249': 'Guto Bowden',\n",
       " '244': 'Ivy-Rose Chang',\n",
       " '68': 'Sneha Carr',\n",
       " '1054': 'Laurel Steele',\n",
       " '202': 'Bianca Naylor',\n",
       " '230': 'Nakita Miranda',\n",
       " '228': 'GUPTA',\n",
       " '1083': 'Arwel Eastwood',\n",
       " '86': 'Shiv Odling',\n",
       " '82': 'Patricia Ali',\n",
       " '233': 'Mehmet Mccaffrey',\n",
       " '206': 'Safiyah Salt',\n",
       " '189': 'Carlton Gunn',\n",
       " '184': 'Macey Rowland',\n",
       " '1062': 'Bianca Porter',\n",
       " '162': 'Riccardo Burks',\n",
       " '104': 'Carlos Merritt',\n",
       " '105': 'Harry Gonzalez',\n",
       " '199': 'Guto Blackwell',\n",
       " '240': 'Brenna Begum',\n",
       " '1066': 'Jonah Cooper',\n",
       " '226': 'JAKIR HUSEN',\n",
       " '67': 'Faisal Mccartney',\n",
       " '1101': 'Henry Ford',\n",
       " '1084': 'Nida Potter',\n",
       " '1081': 'Kiaan Nicholls',\n",
       " '1078': 'GANGADHAR',\n",
       " '1065': 'Dahlia Graham',\n",
       " '1055': 'Atlanta Croft',\n",
       " '1061': 'Stewart Briggs',\n",
       " '1060': 'SANKAR REDDY',\n",
       " '247': 'CHANDRAPPA',\n",
       " '245': 'ABDUL HAFIZAN',\n",
       " '241': 'Ebonie Clarkson',\n",
       " '239': 'LAKSHINARAYANAREDDY',\n",
       " '236': 'Riaz Owen',\n",
       " '234': 'VENKATARAMIREDDY.M',\n",
       " '71': 'HANUMANTAHPPA.M',\n",
       " '87': 'Ayla Elliott',\n",
       " '121': 'THIMMA REDDY',\n",
       " '141': 'RAMMURTHY',\n",
       " '146': 'BAGHAVAN',\n",
       " 'X01': 'Vijay',\n",
       " '111': 'ram',\n",
       " '477': 'GREY',\n",
       " '555': 'ANIL',\n",
       " '222': 'karthic',\n",
       " '333': 'naveen',\n",
       " '431': 'Vishnu Vardhanreddy',\n",
       " '430': 'Adhi Narayanreddy',\n",
       " '429': 'Srikanth Reddy',\n",
       " '428': 'Eva-Rose Shah',\n",
       " '434': 'Manjunath',\n",
       " '435': 'Subramanyam',\n",
       " '418': 'Rama chandra',\n",
       " '4118': 'NAGAPPA',\n",
       " '868': 'NARASIMHAMURTHY',\n",
       " '1906': 'KRISTAPPA',\n",
       " '246': 'RAMAKRISHNAREDDY',\n",
       " '8210': 'NARAYANAPPA',\n",
       " '7356': 'PUSPALATHA',\n",
       " '1556': 'Clare Christie',\n",
       " '1580': 'Saffron York',\n",
       " '8113': 'RAJESH',\n",
       " '7638': 'AMALA',\n",
       " '7614': 'RAKSHITHA',\n",
       " '7621': 'HANUMAKKA',\n",
       " '7628': 'NIRMALA',\n",
       " '101': 'BEERAIAH'}"
      ]
     },
     "execution_count": 15,
     "metadata": {},
     "output_type": "execute_result"
    }
   ],
   "source": [
    "dictEnames"
   ]
  },
  {
   "cell_type": "code",
   "execution_count": 16,
   "metadata": {},
   "outputs": [],
   "source": [
    "# workers.py 작성. 또는 여기에 함수만 정의\n",
    "def process_rows(data):\n",
    "    d = data[0]\n",
    "    df = data[1]\n",
    "    for index,row in df.iterrows():\n",
    "        e_c = int(row['pt_ecode1'])\n",
    "        month = int(row['pt_date'].month)\n",
    "        prod_eff = int(row['prod_eff'])\n",
    "        if (e_c,month) in list(d.keys()):\n",
    "            d[e_c,month] = (prod_eff+d[e_c,month])/2\n",
    "        else:\n",
    "            d[e_c,month] = prod_eff\n"
   ]
  },
  {
   "cell_type": "markdown",
   "metadata": {},
   "source": [
    "##### 동작 여부 모름!"
   ]
  },
  {
   "cell_type": "code",
   "execution_count": 17,
   "metadata": {},
   "outputs": [
    {
     "name": "stderr",
     "output_type": "stream",
     "text": [
      "c:\\Users\\perso\\.pyenv\\pyenv-win\\versions\\3.11.7\\Lib\\site-packages\\numpy\\core\\fromnumeric.py:59: FutureWarning: 'DataFrame.swapaxes' is deprecated and will be removed in a future version. Please use 'DataFrame.transpose' instead.\n",
      "  return bound(*args, **kwds)\n"
     ]
    }
   ],
   "source": [
    "# 멀티프로세스 실행\n",
    "num_partitions = num_processes\n",
    "manager = Manager()  # 멀티프로세싱 매니저 \n",
    "d = manager.dict()\n",
    "dfSplit = np.array_split(dfData, num_partitions) # 프로세스 갯수만큼 나눈다\n",
    "pool = Pool(num_processes)\n",
    "shared_arg = repeat(d, num_partitions)\n",
    "\n",
    "for _ in tqdm.tqdm(pool.map(process_rows, zip(shared_arg, dfSplit)), total=num_partitions):\n",
    "    pass\n",
    "\n",
    "pool.close()\n",
    "pool.join()"
   ]
  }
 ],
 "metadata": {
  "kernelspec": {
   "display_name": "Python 3",
   "language": "python",
   "name": "python3"
  },
  "language_info": {
   "codemirror_mode": {
    "name": "ipython",
    "version": 3
   },
   "file_extension": ".py",
   "mimetype": "text/x-python",
   "name": "python",
   "nbconvert_exporter": "python",
   "pygments_lexer": "ipython3",
   "version": "3.11.7"
  }
 },
 "nbformat": 4,
 "nbformat_minor": 2
}
