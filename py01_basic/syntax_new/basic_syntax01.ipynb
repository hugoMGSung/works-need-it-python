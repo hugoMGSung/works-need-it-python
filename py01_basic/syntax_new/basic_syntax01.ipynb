{
 "cells": [
  {
   "cell_type": "markdown",
   "metadata": {},
   "source": [
    "## 기초 자료형\n",
    "\n",
    "### 숫자타입\n",
    "\n",
    "- 숫자 형태로 이루어진 자료형\n",
    "\n",
    "|`항목`|`사용예`|\n",
    "|:--|:--|\n",
    "|정수|234, -345, 0|\n",
    "|실수|3.141592, -10.8, 3.5e10|\n",
    "|복소수|3+4J|\n",
    "|2진수|0b101010|\n",
    "|8진수|0o52|\n",
    "|16진수|0x2a|"
   ]
  },
  {
   "cell_type": "code",
   "execution_count": null,
   "metadata": {},
   "outputs": [],
   "source": []
  }
 ],
 "metadata": {
  "language_info": {
   "name": "python"
  }
 },
 "nbformat": 4,
 "nbformat_minor": 2
}
