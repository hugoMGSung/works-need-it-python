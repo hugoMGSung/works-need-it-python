{
 "cells": [
  {
   "cell_type": "code",
   "execution_count": 46,
   "metadata": {},
   "outputs": [
    {
     "data": {
      "text/plain": [
       "[0, 0, 0, 0, 0, 0]"
      ]
     },
     "execution_count": 46,
     "metadata": {},
     "output_type": "execute_result"
    }
   ],
   "source": [
    "N = 5\n",
    "indegree = [0 for _ in range(N+1)] # [0] * (N + 1) \n",
    "indegree"
   ]
  },
  {
   "cell_type": "code",
   "execution_count": 2,
   "metadata": {},
   "outputs": [
    {
     "name": "stdout",
     "output_type": "stream",
     "text": [
      "['1', '고병학', '1']\n",
      "['2', '김근아', '0']\n",
      "['3', '김동주', '2']\n",
      "['4', '김소민', '1']\n",
      "['5', '김인제', '2']\n",
      "['6', '김재린', '2']\n",
      "['7', '김현지', '0']\n",
      "['8', '노수진', '0']\n",
      "['9', '명수진', '0']\n",
      "['10', '박나연', '0']\n",
      "['11', '박성빈', '2']\n",
      "['12', '손진용', '2']\n",
      "['13', '오혜진', '0']\n",
      "['14', '이성희', '2']\n",
      "['15', '유왕권', '0']\n",
      "['16', '유창우', '0']\n",
      "['17', '이경민', '1']\n",
      "['18', '이용석', '0']\n",
      "['19', '이은수', '0']\n",
      "['20', '이정환', '1']\n",
      "['21', '이주원', '1']\n",
      "['22', '이주희', '2']\n",
      "['23', '이찬규', '2']\n",
      "['24', '허용민', '2']\n",
      "['25', '홍승욱', '1']\n",
      "['26', '황정우', '2']\n",
      "['27', '황지환', '2']\n"
     ]
    }
   ],
   "source": [
    "import csv\n",
    "\n",
    "original = []\n",
    "\n",
    "f = open('./학생리스트.csv', mode='r', encoding='utf-8')\n",
    "reader = csv.reader(f, delimiter=',', )\n",
    "i = 0\n",
    "for line in reader:\n",
    "    if i == 0:\n",
    "        i += 1; continue\n",
    "\n",
    "    print(line)\n",
    "    original.append([line[0], line[1], line[2]])\n",
    "    i += 1\n",
    "f.close()"
   ]
  },
  {
   "cell_type": "code",
   "execution_count": 123,
   "metadata": {},
   "outputs": [],
   "source": [
    "leader_list = []\n",
    "leader_list.append([None,None,None])\n",
    "student_list = []\n",
    "student_list.append([None,None,None])\n",
    "\n",
    "for item in original:\n",
    "    if item[2] in ['1']: # 전공자만\n",
    "        leader_list.append(item)\n",
    "    else:\n",
    "        student_list.append(item)"
   ]
  },
  {
   "cell_type": "code",
   "execution_count": 124,
   "metadata": {},
   "outputs": [
    {
     "data": {
      "text/plain": [
       "[[None, None, None],\n",
       " ['1', '고병학', '1'],\n",
       " ['4', '김소민', '1'],\n",
       " ['17', '이경민', '1'],\n",
       " ['20', '이정환', '1'],\n",
       " ['21', '이주원', '1'],\n",
       " ['25', '홍승욱', '1']]"
      ]
     },
     "execution_count": 124,
     "metadata": {},
     "output_type": "execute_result"
    }
   ],
   "source": [
    "leader_list"
   ]
  },
  {
   "cell_type": "code",
   "execution_count": 125,
   "metadata": {},
   "outputs": [
    {
     "name": "stdout",
     "output_type": "stream",
     "text": [
      "3조 ['17', '이경민', '1']\n",
      "1조 ['1', '고병학', '1']\n",
      "4조 ['20', '이정환', '1']\n",
      "5조 ['21', '이주원', '1']\n",
      "2조 ['4', '김소민', '1']\n"
     ]
    }
   ],
   "source": [
    "import random as rnd\n",
    "\n",
    "test = [i for i in range(1, 6)]\n",
    "team_leaders = []\n",
    "\n",
    "rnd.shuffle(test)\n",
    "rnd.shuffle(test)\n",
    "\n",
    "for i in range(5):\n",
    "    print(f'{test[i]}조', leader_list[test[i]])\n",
    "    team_leaders.append(leader_list[test[i]])\n"
   ]
  },
  {
   "cell_type": "code",
   "execution_count": 126,
   "metadata": {},
   "outputs": [
    {
     "data": {
      "text/plain": [
       "[['17', '이경민', '1'],\n",
       " ['1', '고병학', '1'],\n",
       " ['20', '이정환', '1'],\n",
       " ['21', '이주원', '1'],\n",
       " ['4', '김소민', '1']]"
      ]
     },
     "execution_count": 126,
     "metadata": {},
     "output_type": "execute_result"
    }
   ],
   "source": [
    "team_leaders"
   ]
  },
  {
   "cell_type": "code",
   "execution_count": 127,
   "metadata": {},
   "outputs": [],
   "source": [
    "for item in leader_list:\n",
    "\tfor sub in team_leaders:\n",
    "\t\tif leader_list.count(sub) == 1:\n",
    "\t\t\tleader_list.remove(sub)"
   ]
  },
  {
   "cell_type": "code",
   "execution_count": 130,
   "metadata": {},
   "outputs": [],
   "source": [
    "leader_list.remove([None, None, None])"
   ]
  },
  {
   "cell_type": "code",
   "execution_count": 131,
   "metadata": {},
   "outputs": [
    {
     "data": {
      "text/plain": [
       "[['25', '홍승욱', '1']]"
      ]
     },
     "execution_count": 131,
     "metadata": {},
     "output_type": "execute_result"
    }
   ],
   "source": [
    "leader_list"
   ]
  },
  {
   "cell_type": "code",
   "execution_count": 132,
   "metadata": {},
   "outputs": [],
   "source": [
    "## leader_list에 있는 사람중 리더가 안된 사람은 다시 student_list로 이동...\n",
    "for item in leader_list:\n",
    "\tstudent_list.append(item)"
   ]
  },
  {
   "cell_type": "code",
   "execution_count": 133,
   "metadata": {},
   "outputs": [
    {
     "data": {
      "text/plain": [
       "23"
      ]
     },
     "execution_count": 133,
     "metadata": {},
     "output_type": "execute_result"
    }
   ],
   "source": [
    "len(student_list)"
   ]
  },
  {
   "cell_type": "code",
   "execution_count": 154,
   "metadata": {},
   "outputs": [],
   "source": [
    "max_num = 22\n",
    "templist = [i for i in range(1, max_num+1)]\n",
    "team_members = []\n",
    "\n",
    "rnd.shuffle(templist)\n",
    "\n",
    "index = 0\n",
    "for i in range(5):\n",
    "    rnum = rnd.randint(4, 5)\n",
    "    if i != 4: max_num = max_num - rnum\n",
    "    if i == 4: rnum = max_num\n",
    "\n",
    "    team_members.append(templist[index: index+rnum])\n",
    "    index += rnum"
   ]
  },
  {
   "cell_type": "code",
   "execution_count": 155,
   "metadata": {},
   "outputs": [
    {
     "name": "stdout",
     "output_type": "stream",
     "text": [
      "[14, 22, 2, 21]\n",
      "[20, 8, 1, 18, 9]\n",
      "[4, 7, 15, 6, 12]\n",
      "[16, 13, 19, 10]\n",
      "[17, 5, 3, 11]\n"
     ]
    }
   ],
   "source": [
    "for item in team_members:\n",
    "    print(item)"
   ]
  },
  {
   "cell_type": "code",
   "execution_count": 158,
   "metadata": {},
   "outputs": [
    {
     "data": {
      "text/plain": [
       "[[14, 22, 2, 21],\n",
       " [20, 8, 1, 18, 9],\n",
       " [4, 7, 15, 6, 12],\n",
       " [16, 13, 19, 10],\n",
       " [17, 5, 3, 11]]"
      ]
     },
     "execution_count": 158,
     "metadata": {},
     "output_type": "execute_result"
    }
   ],
   "source": [
    "team_members"
   ]
  },
  {
   "cell_type": "code",
   "execution_count": 160,
   "metadata": {},
   "outputs": [
    {
     "name": "stdout",
     "output_type": "stream",
     "text": [
      "1조 ['16', '유창우', '0'] ['25', '홍승욱', '1'] ['3', '김동주', '2'] ['27', '황지환', '2']\n",
      "2조 ['26', '황정우', '2'] ['10', '박나연', '0'] ['2', '김근아', '0'] ['23', '이찬규', '2'] ['11', '박성빈', '2']\n",
      "3조 ['6', '김재린', '2'] ['9', '명수진', '0'] ['18', '이용석', '0'] ['8', '노수진', '0'] ['14', '이성희', '2']\n",
      "4조 ['19', '이은수', '0'] ['15', '유왕권', '0'] ['24', '허용민', '2'] ['12', '손진용', '2']\n",
      "5조 ['22', '이주희', '2'] ['7', '김현지', '0'] ['5', '김인제', '2'] ['13', '오혜진', '0']\n"
     ]
    }
   ],
   "source": [
    "for i, item in enumerate(team_members):\n",
    "    if (len(item) == 3):\n",
    "        print(f'{i+1}조',  student_list[item[0]], student_list[item[1]], student_list[item[2]])\n",
    "    elif (len(item) == 4):\n",
    "        print(f'{i+1}조',  student_list[item[0]], student_list[item[1]], student_list[item[2]], \n",
    "                            student_list[item[3]])    \n",
    "    else:\n",
    "        print(f'{i+1}조',  student_list[item[0]], student_list[item[1]], student_list[item[2]], \n",
    "                            student_list[item[3]], student_list[item[4]])"
   ]
  }
 ],
 "metadata": {
  "kernelspec": {
   "display_name": "Python 3",
   "language": "python",
   "name": "python3"
  },
  "language_info": {
   "codemirror_mode": {
    "name": "ipython",
    "version": 3
   },
   "file_extension": ".py",
   "mimetype": "text/x-python",
   "name": "python",
   "nbconvert_exporter": "python",
   "pygments_lexer": "ipython3",
   "version": "3.12.1"
  },
  "orig_nbformat": 4,
  "vscode": {
   "interpreter": {
    "hash": "a3d8f53f1429d27b792a3789224562ddd32c1395c9a9cfbb17b3c19c3b9a493d"
   }
  }
 },
 "nbformat": 4,
 "nbformat_minor": 2
}
