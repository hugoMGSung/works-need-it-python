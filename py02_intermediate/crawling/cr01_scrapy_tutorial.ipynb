{
 "cells": [
  {
   "cell_type": "markdown",
   "id": "d8834997",
   "metadata": {},
   "source": [
    "## Scrapy사용 웹 크롤링\n",
    "\n",
    "### Scrapy 설치"
   ]
  },
  {
   "cell_type": "code",
   "execution_count": null,
   "id": "efb27b01",
   "metadata": {},
   "outputs": [],
   "source": [
    "!pip install scrapy"
   ]
  }
 ],
 "metadata": {
  "language_info": {
   "name": "python"
  }
 },
 "nbformat": 4,
 "nbformat_minor": 5
}
