{
 "cells": [
  {
   "cell_type": "markdown",
   "metadata": {},
   "source": [
    "## datetime: 날짜와 시간을 다루는 표준 라이브러리"
   ]
  },
  {
   "cell_type": "code",
   "execution_count": 1,
   "metadata": {},
   "outputs": [],
   "source": [
    "import datetime"
   ]
  },
  {
   "cell_type": "code",
   "execution_count": 29,
   "metadata": {},
   "outputs": [
    {
     "name": "stdout",
     "output_type": "stream",
     "text": [
      "Current date and time: 2024-12-31 21:38:15.135254\n",
      "Specific date: 2001-09-11\n",
      "After ten days from now: 2025-01-10 21:38:15.135254\n",
      "Formatted date and time: 2024-12-31 21:38:15\n",
      "Parsed date from string: 2024-12-25 00:00:00\n"
     ]
    }
   ],
   "source": [
    "# 현재 날짜와 시간\n",
    "now = datetime.datetime.now()\n",
    "print(f'Current date and time: {now}')\n",
    "\n",
    "# 특정 날짜 생성\n",
    "specific_date = datetime.date(2001, 9, 11)\n",
    "print(f'Specific date: {specific_date}')\n",
    "\n",
    "# 날짜와 시간 간격 계산 (timedelta)\n",
    "ten_days_later = now + datetime.timedelta(days=10)\n",
    "print(f'After ten days from now: {ten_days_later}')\n",
    "\n",
    "# 날짜 포맷팅\n",
    "formatted_date = now.strftime(f'%Y-%m-%d %H:%M:%S')\n",
    "print(f'Formatted date and time: {formatted_date}')\n",
    "\n",
    "# 문자열로부터 날짜 파싱\n",
    "date_from_string = datetime.datetime.strptime('2024-12-25', f'%Y-%m-%d')\n",
    "print(f'Parsed date from string: {date_from_string}')"
   ]
  },
  {
   "cell_type": "markdown",
   "metadata": {},
   "source": [
    "### Arrow: 날짜와 시간을 다루는 라이브러리\n",
    "- https://arrow.readthedocs.io/en/latest/index.html\n",
    "- datetime 모듈의 기능을 보완, 사용자 친화적인 API를 제공"
   ]
  },
  {
   "cell_type": "code",
   "execution_count": 30,
   "metadata": {},
   "outputs": [
    {
     "name": "stdout",
     "output_type": "stream",
     "text": [
      "Collecting arrow\n",
      "  Using cached arrow-1.3.0-py3-none-any.whl.metadata (7.5 kB)\n",
      "Requirement already satisfied: python-dateutil>=2.7.0 in d:\\01_programming\\100_hugobank\\mine\\works-need-it-python\\venv\\lib\\site-packages (from arrow) (2.9.0.post0)\n",
      "Collecting types-python-dateutil>=2.8.10 (from arrow)\n",
      "  Downloading types_python_dateutil-2.9.0.20241206-py3-none-any.whl.metadata (2.1 kB)\n",
      "Requirement already satisfied: six>=1.5 in d:\\01_programming\\100_hugobank\\mine\\works-need-it-python\\venv\\lib\\site-packages (from python-dateutil>=2.7.0->arrow) (1.17.0)\n",
      "Using cached arrow-1.3.0-py3-none-any.whl (66 kB)\n",
      "Downloading types_python_dateutil-2.9.0.20241206-py3-none-any.whl (14 kB)\n",
      "Installing collected packages: types-python-dateutil, arrow\n",
      "Successfully installed arrow-1.3.0 types-python-dateutil-2.9.0.20241206\n"
     ]
    }
   ],
   "source": [
    "# 설치\n",
    "!pip install arrow"
   ]
  },
  {
   "cell_type": "code",
   "execution_count": 31,
   "metadata": {},
   "outputs": [],
   "source": [
    "import arrow"
   ]
  },
  {
   "cell_type": "code",
   "execution_count": 33,
   "metadata": {},
   "outputs": [
    {
     "name": "stdout",
     "output_type": "stream",
     "text": [
      "현재 시간: 2024-12-31T21:40:04.864447+09:00\n",
      "도쿄의 현재 시간: 2024-12-31T21:40:04.864447+09:00\n",
      "파싱된 날짜: 2024-12-25T00:00:00+00:00\n",
      "포맷된 날짜: 2024-12-31 21:40:04\n",
      "내일: 2025-01-01T21:40:04.864447+09:00\n",
      "한국어로 포맷된 날짜: 2024년 12월 31일\n"
     ]
    }
   ],
   "source": [
    "# 현재 시간 가져오기\n",
    "now = arrow.now()\n",
    "print(\"현재 시간:\", now)\n",
    "\n",
    "# 특정 시간대의 현재 시간 가져오기\n",
    "now_in_tokyo = arrow.now('Asia/Tokyo')\n",
    "print(\"도쿄의 현재 시간:\", now_in_tokyo)\n",
    "\n",
    "# 날짜 파싱\n",
    "date = arrow.get('2024-12-25', 'YYYY-MM-DD')\n",
    "print(\"파싱된 날짜:\", date)\n",
    "\n",
    "# 날짜 포맷팅\n",
    "formatted_date = now.format('YYYY-MM-DD HH:mm:ss')\n",
    "print(\"포맷된 날짜:\", formatted_date)\n",
    "\n",
    "# 날짜 조작\n",
    "tomorrow = now.shift(days=+1)\n",
    "print(\"내일:\", tomorrow)\n",
    "\n",
    "# 특정 언어로 날짜 포맷팅\n",
    "formatted_date_kr = now.format('YYYY년 MM월 DD일', locale='ko')\n",
    "print(\"한국어로 포맷된 날짜:\", formatted_date_kr)"
   ]
  },
  {
   "cell_type": "markdown",
   "metadata": {},
   "source": [
    "### pendulum: 날짜와 시간을 다루는 강력한 라이브러리\n",
    "- https://pendulum.eustace.io/"
   ]
  },
  {
   "cell_type": "code",
   "execution_count": 34,
   "metadata": {},
   "outputs": [
    {
     "name": "stdout",
     "output_type": "stream",
     "text": [
      "Collecting pendulum\n",
      "  Downloading pendulum-3.0.0-cp310-none-win_amd64.whl.metadata (7.0 kB)\n",
      "Requirement already satisfied: python-dateutil>=2.6 in d:\\01_programming\\100_hugobank\\mine\\works-need-it-python\\venv\\lib\\site-packages (from pendulum) (2.9.0.post0)\n",
      "Collecting tzdata>=2020.1 (from pendulum)\n",
      "  Using cached tzdata-2024.2-py2.py3-none-any.whl.metadata (1.4 kB)\n",
      "Collecting time-machine>=2.6.0 (from pendulum)\n",
      "  Downloading time_machine-2.16.0-cp310-cp310-win_amd64.whl.metadata (21 kB)\n",
      "Requirement already satisfied: six>=1.5 in d:\\01_programming\\100_hugobank\\mine\\works-need-it-python\\venv\\lib\\site-packages (from python-dateutil>=2.6->pendulum) (1.17.0)\n",
      "Downloading pendulum-3.0.0-cp310-none-win_amd64.whl (293 kB)\n",
      "Downloading time_machine-2.16.0-cp310-cp310-win_amd64.whl (19 kB)\n",
      "Using cached tzdata-2024.2-py2.py3-none-any.whl (346 kB)\n",
      "Installing collected packages: tzdata, time-machine, pendulum\n",
      "Successfully installed pendulum-3.0.0 time-machine-2.16.0 tzdata-2024.2\n"
     ]
    }
   ],
   "source": [
    "# 설치\n",
    "!pip install pendulum"
   ]
  },
  {
   "cell_type": "code",
   "execution_count": 35,
   "metadata": {},
   "outputs": [],
   "source": [
    "import pendulum"
   ]
  },
  {
   "cell_type": "code",
   "execution_count": 36,
   "metadata": {},
   "outputs": [
    {
     "name": "stdout",
     "output_type": "stream",
     "text": [
      "2024-12-31 12:41:41\n",
      "2024-12-31 21:41:41\n",
      "Tue, Dec 31, 2024 9:41 PM\n"
     ]
    }
   ],
   "source": [
    "now = pendulum.now('UTC')\n",
    "print(now.to_datetime_string())\n",
    "\n",
    "# 특정 시간대로 변환\n",
    "seoul = now.in_timezone('Asia/Seoul')\n",
    "print(seoul.to_datetime_string())\n",
    "\n",
    "# 사람 친화적인 형식으로 출력\n",
    "print(seoul.to_day_datetime_string())"
   ]
  },
  {
   "cell_type": "markdown",
   "metadata": {},
   "source": [
    "### pytz: Olson/IANA 시간대 처리 라이브러리\n",
    "- 전 세계의 모든 시간대를 지원하며, 표준 시간대와 일광 절약 시간제를 다루는 데 유용"
   ]
  },
  {
   "cell_type": "code",
   "execution_count": 39,
   "metadata": {},
   "outputs": [
    {
     "name": "stdout",
     "output_type": "stream",
     "text": [
      "Collecting pytz\n",
      "  Using cached pytz-2024.2-py2.py3-none-any.whl.metadata (22 kB)\n",
      "Using cached pytz-2024.2-py2.py3-none-any.whl (508 kB)\n",
      "Installing collected packages: pytz\n",
      "Successfully installed pytz-2024.2\n"
     ]
    }
   ],
   "source": [
    "# 설치\n",
    "!pip install pytz"
   ]
  },
  {
   "cell_type": "code",
   "execution_count": 43,
   "metadata": {},
   "outputs": [],
   "source": [
    "import pytz\n",
    "from datetime import datetime, timezone"
   ]
  },
  {
   "cell_type": "code",
   "execution_count": 44,
   "metadata": {},
   "outputs": [
    {
     "name": "stdout",
     "output_type": "stream",
     "text": [
      "현재 UTC 시간: 2024-12-31 12:48:23.946491+00:00\n",
      "뉴욕 시간: 2024-12-31 07:48:23.946491-05:00\n",
      "서울 시간: 2024-12-31 21:48:23.946491+09:00\n"
     ]
    }
   ],
   "source": [
    "# 현재 시간 가져오기 (UTC 기준)\n",
    "utc_now = datetime.now(timezone.utc)\n",
    "print(f\"현재 UTC 시간: {utc_now}\")\n",
    "\n",
    "# 뉴욕 시간대로 변환\n",
    "new_york_tz = pytz.timezone('America/New_York')\n",
    "new_york_time = utc_now.replace(tzinfo=pytz.utc).astimezone(new_york_tz)\n",
    "print(f\"뉴욕 시간: {new_york_time}\")\n",
    "\n",
    "# 서울 시간대로 변환\n",
    "seoul_tz = pytz.timezone('Asia/Seoul')\n",
    "seoul_time = utc_now.replace(tzinfo=pytz.utc).astimezone(seoul_tz)\n",
    "print(f\"서울 시간: {seoul_time}\")"
   ]
  },
  {
   "cell_type": "markdown",
   "metadata": {},
   "source": [
    "### time: 시간 액세스와 변환\n",
    "- 날짜와 시간을 다루는 기능을 제공"
   ]
  },
  {
   "cell_type": "code",
   "execution_count": 1,
   "metadata": {},
   "outputs": [],
   "source": [
    "import time"
   ]
  },
  {
   "cell_type": "code",
   "execution_count": 2,
   "metadata": {},
   "outputs": [
    {
     "name": "stdout",
     "output_type": "stream",
     "text": [
      "Current time: 1735727500.7047312\n"
     ]
    }
   ],
   "source": [
    "# 현재 시간을 초 단위로 얻기\n",
    "current_time = time.time()\n",
    "print(\"Current time:\", current_time)"
   ]
  },
  {
   "cell_type": "code",
   "execution_count": 3,
   "metadata": {},
   "outputs": [],
   "source": [
    "# 프로그램을 3초간 일시 정지\n",
    "time.sleep(3)"
   ]
  },
  {
   "cell_type": "code",
   "execution_count": 6,
   "metadata": {},
   "outputs": [
    {
     "name": "stdout",
     "output_type": "stream",
     "text": [
      "Local time: Wed Jan  1 19:32:42 2025\n"
     ]
    }
   ],
   "source": [
    "# 현재 시간을 구조화된 형태(localtime)로 변환\n",
    "local_time = time.localtime()\n",
    "print(f'Local time: {time.asctime(local_time)}')"
   ]
  },
  {
   "cell_type": "code",
   "execution_count": 7,
   "metadata": {},
   "outputs": [
    {
     "name": "stdout",
     "output_type": "stream",
     "text": [
      "Formatted time: 2025-01-01 19:32:42\n"
     ]
    }
   ],
   "source": [
    "# strftime을 사용하여 날짜와 시간 포맷 지정\n",
    "formatted_time = time.strftime(f'%Y-%m-%d %H:%M:%S', local_time)\n",
    "print(f'Formatted time: {formatted_time}')"
   ]
  }
 ],
 "metadata": {
  "kernelspec": {
   "display_name": "venv",
   "language": "python",
   "name": "python3"
  },
  "language_info": {
   "codemirror_mode": {
    "name": "ipython",
    "version": 3
   },
   "file_extension": ".py",
   "mimetype": "text/x-python",
   "name": "python",
   "nbconvert_exporter": "python",
   "pygments_lexer": "ipython3",
   "version": "3.10.10"
  }
 },
 "nbformat": 4,
 "nbformat_minor": 2
}
