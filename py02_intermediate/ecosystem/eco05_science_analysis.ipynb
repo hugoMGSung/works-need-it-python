{
 "cells": [
  {
   "cell_type": "markdown",
   "metadata": {},
   "source": [
    "## 데이터 과학 및 분석\n",
    "\n",
    "### PySpark: Apache Spark의 Python API\n",
    "- Apache Spark의 Python API로, 대규모 데이터 처리를 위한 클러스터 컴퓨팅 시스템\n",
    "- 빅 데이터 분석, 데이터 마이닝, 기계 학습 등 다양한 분야에서 활용"
   ]
  },
  {
   "cell_type": "code",
   "execution_count": 1,
   "metadata": {},
   "outputs": [
    {
     "name": "stdout",
     "output_type": "stream",
     "text": [
      "Collecting pyspark\n",
      "  Downloading pyspark-3.5.4.tar.gz (317.3 MB)\n",
      "     ---------------------------------------- 0.0/317.3 MB ? eta -:--:--\n",
      "     --------------------------------------- 3.7/317.3 MB 19.8 MB/s eta 0:00:16\n",
      "     - ------------------------------------ 11.0/317.3 MB 28.7 MB/s eta 0:00:11\n",
      "     -- ----------------------------------- 21.5/317.3 MB 35.7 MB/s eta 0:00:09\n",
      "     --- ---------------------------------- 30.4/317.3 MB 37.1 MB/s eta 0:00:08\n",
      "     ---- --------------------------------- 40.6/317.3 MB 39.8 MB/s eta 0:00:07\n",
      "     ------ ------------------------------- 50.9/317.3 MB 41.0 MB/s eta 0:00:07\n",
      "     ------- ------------------------------ 62.4/317.3 MB 43.2 MB/s eta 0:00:06\n",
      "     -------- ----------------------------- 73.7/317.3 MB 44.3 MB/s eta 0:00:06\n",
      "     ---------- --------------------------- 83.9/317.3 MB 45.0 MB/s eta 0:00:06\n",
      "     ---------- --------------------------- 88.1/317.3 MB 42.3 MB/s eta 0:00:06\n",
      "     ----------- -------------------------- 99.1/317.3 MB 43.3 MB/s eta 0:00:06\n",
      "     ------------ ------------------------ 110.9/317.3 MB 44.2 MB/s eta 0:00:05\n",
      "     -------------- ---------------------- 122.4/317.3 MB 44.9 MB/s eta 0:00:05\n",
      "     --------------- --------------------- 134.2/317.3 MB 45.8 MB/s eta 0:00:04\n",
      "     ----------------- ------------------- 146.5/317.3 MB 46.6 MB/s eta 0:00:04\n",
      "     ------------------ ------------------ 157.5/317.3 MB 46.8 MB/s eta 0:00:04\n",
      "     ------------------- ----------------- 168.6/317.3 MB 47.2 MB/s eta 0:00:04\n",
      "     -------------------- ---------------- 173.5/317.3 MB 46.0 MB/s eta 0:00:04\n",
      "     --------------------- --------------- 184.0/317.3 MB 46.1 MB/s eta 0:00:03\n",
      "     ---------------------- -------------- 195.0/317.3 MB 46.3 MB/s eta 0:00:03\n",
      "     ----------------------- ------------- 197.7/317.3 MB 45.0 MB/s eta 0:00:03\n",
      "     ------------------------ ------------ 206.8/317.3 MB 44.8 MB/s eta 0:00:03\n",
      "     ------------------------- ----------- 218.1/317.3 MB 45.1 MB/s eta 0:00:03\n",
      "     -------------------------- ---------- 228.6/317.3 MB 45.4 MB/s eta 0:00:02\n",
      "     --------------------------- --------- 239.6/317.3 MB 45.6 MB/s eta 0:00:02\n",
      "     ----------------------------- ------- 250.6/317.3 MB 45.8 MB/s eta 0:00:02\n",
      "     ------------------------------ ------ 261.6/317.3 MB 46.0 MB/s eta 0:00:02\n",
      "     ------------------------------- ----- 272.9/317.3 MB 47.5 MB/s eta 0:00:01\n",
      "     --------------------------------- --- 283.4/317.3 MB 47.6 MB/s eta 0:00:01\n",
      "     ---------------------------------- -- 294.6/317.3 MB 47.9 MB/s eta 0:00:01\n",
      "     ----------------------------------- - 306.2/317.3 MB 48.3 MB/s eta 0:00:01\n",
      "     ------------------------------------  317.2/317.3 MB 48.3 MB/s eta 0:00:01\n",
      "     ------------------------------------  317.2/317.3 MB 48.3 MB/s eta 0:00:01\n",
      "     ------------------------------------- 317.3/317.3 MB 45.0 MB/s eta 0:00:00\n",
      "  Installing build dependencies: started\n",
      "  Installing build dependencies: finished with status 'done'\n",
      "  Getting requirements to build wheel: started\n",
      "  Getting requirements to build wheel: finished with status 'done'\n",
      "  Preparing metadata (pyproject.toml): started\n",
      "  Preparing metadata (pyproject.toml): finished with status 'done'\n",
      "Collecting py4j==0.10.9.7 (from pyspark)\n",
      "  Downloading py4j-0.10.9.7-py2.py3-none-any.whl.metadata (1.5 kB)\n",
      "Downloading py4j-0.10.9.7-py2.py3-none-any.whl (200 kB)\n",
      "Building wheels for collected packages: pyspark\n",
      "  Building wheel for pyspark (pyproject.toml): started\n",
      "  Building wheel for pyspark (pyproject.toml): finished with status 'done'\n",
      "  Created wheel for pyspark: filename=pyspark-3.5.4-py2.py3-none-any.whl size=317849809 sha256=42c90249f4c7f3c4f97c858bb77892ebe6d12af4ec8bb43f1fcb1c0f6003c6fd\n",
      "  Stored in directory: c:\\users\\perso\\appdata\\local\\pip\\cache\\wheels\\d9\\1c\\98\\31e395a42d1735d18d42124971ecbbade844b50bb9845b6f4a\n",
      "Successfully built pyspark\n",
      "Installing collected packages: py4j, pyspark\n",
      "Successfully installed py4j-0.10.9.7 pyspark-3.5.4\n"
     ]
    }
   ],
   "source": [
    "# 설치\n",
    "!pip install pyspark"
   ]
  },
  {
   "cell_type": "code",
   "execution_count": 2,
   "metadata": {},
   "outputs": [],
   "source": [
    "from pyspark.sql import SparkSession"
   ]
  },
  {
   "cell_type": "code",
   "execution_count": 4,
   "metadata": {},
   "outputs": [],
   "source": [
    "# Spark 세션 시작\n",
    "spark = SparkSession.builder.appName('PySparkExample').getOrCreate()"
   ]
  },
  {
   "cell_type": "code",
   "execution_count": 5,
   "metadata": {},
   "outputs": [],
   "source": [
    "# 데이터 프레임 생성\n",
    "data = [(\"James\", \"Smith\", \"USA\", 30),\n",
    "        (\"Michael\", \"Rose\", \"USA\", 45),\n",
    "        (\"Robert\", \"Williams\", \"USA\", 15),\n",
    "        (\"Maria\", \"Jones\", \"USA\", 25)]\n",
    "\n",
    "columns = [\"Firstname\", \"Lastname\", \"Country\", \"Age\"]\n",
    "df = spark.createDataFrame(data, schema = columns)"
   ]
  },
  {
   "cell_type": "code",
   "execution_count": 7,
   "metadata": {},
   "outputs": [
    {
     "ename": "Py4JJavaError",
     "evalue": "An error occurred while calling o44.showString.\n: org.apache.spark.SparkException: Job aborted due to stage failure: Task 0 in stage 0.0 failed 1 times, most recent failure: Lost task 0.0 in stage 0.0 (TID 0) (host.docker.internal executor driver): org.apache.spark.SparkException: Python worker failed to connect back.\r\n\tat org.apache.spark.api.python.PythonWorkerFactory.createSimpleWorker(PythonWorkerFactory.scala:203)\r\n\tat org.apache.spark.api.python.PythonWorkerFactory.create(PythonWorkerFactory.scala:109)\r\n\tat org.apache.spark.SparkEnv.createPythonWorker(SparkEnv.scala:124)\r\n\tat org.apache.spark.api.python.BasePythonRunner.compute(PythonRunner.scala:174)\r\n\tat org.apache.spark.api.python.PythonRDD.compute(PythonRDD.scala:67)\r\n\tat org.apache.spark.rdd.RDD.computeOrReadCheckpoint(RDD.scala:367)\r\n\tat org.apache.spark.rdd.RDD.iterator(RDD.scala:331)\r\n\tat org.apache.spark.rdd.MapPartitionsRDD.compute(MapPartitionsRDD.scala:52)\r\n\tat org.apache.spark.rdd.RDD.computeOrReadCheckpoint(RDD.scala:367)\r\n\tat org.apache.spark.rdd.RDD.iterator(RDD.scala:331)\r\n\tat org.apache.spark.rdd.MapPartitionsRDD.compute(MapPartitionsRDD.scala:52)\r\n\tat org.apache.spark.rdd.RDD.computeOrReadCheckpoint(RDD.scala:367)\r\n\tat org.apache.spark.rdd.RDD.iterator(RDD.scala:331)\r\n\tat org.apache.spark.rdd.MapPartitionsRDD.compute(MapPartitionsRDD.scala:52)\r\n\tat org.apache.spark.rdd.RDD.computeOrReadCheckpoint(RDD.scala:367)\r\n\tat org.apache.spark.rdd.RDD.iterator(RDD.scala:331)\r\n\tat org.apache.spark.rdd.MapPartitionsRDD.compute(MapPartitionsRDD.scala:52)\r\n\tat org.apache.spark.rdd.RDD.computeOrReadCheckpoint(RDD.scala:367)\r\n\tat org.apache.spark.rdd.RDD.iterator(RDD.scala:331)\r\n\tat org.apache.spark.rdd.MapPartitionsRDD.compute(MapPartitionsRDD.scala:52)\r\n\tat org.apache.spark.rdd.RDD.computeOrReadCheckpoint(RDD.scala:367)\r\n\tat org.apache.spark.rdd.RDD.iterator(RDD.scala:331)\r\n\tat org.apache.spark.scheduler.ResultTask.runTask(ResultTask.scala:93)\r\n\tat org.apache.spark.TaskContext.runTaskWithListeners(TaskContext.scala:166)\r\n\tat org.apache.spark.scheduler.Task.run(Task.scala:141)\r\n\tat org.apache.spark.executor.Executor$TaskRunner.$anonfun$run$4(Executor.scala:620)\r\n\tat org.apache.spark.util.SparkErrorUtils.tryWithSafeFinally(SparkErrorUtils.scala:64)\r\n\tat org.apache.spark.util.SparkErrorUtils.tryWithSafeFinally$(SparkErrorUtils.scala:61)\r\n\tat org.apache.spark.util.Utils$.tryWithSafeFinally(Utils.scala:94)\r\n\tat org.apache.spark.executor.Executor$TaskRunner.run(Executor.scala:623)\r\n\tat java.base/java.util.concurrent.ThreadPoolExecutor.runWorker(ThreadPoolExecutor.java:1144)\r\n\tat java.base/java.util.concurrent.ThreadPoolExecutor$Worker.run(ThreadPoolExecutor.java:642)\r\n\tat java.base/java.lang.Thread.run(Thread.java:1583)\r\nCaused by: java.net.SocketTimeoutException: Accept timed out\r\n\tat java.base/sun.nio.ch.NioSocketImpl.timedAccept(NioSocketImpl.java:701)\r\n\tat java.base/sun.nio.ch.NioSocketImpl.accept(NioSocketImpl.java:745)\r\n\tat java.base/java.net.ServerSocket.implAccept(ServerSocket.java:698)\r\n\tat java.base/java.net.ServerSocket.platformImplAccept(ServerSocket.java:663)\r\n\tat java.base/java.net.ServerSocket.implAccept(ServerSocket.java:639)\r\n\tat java.base/java.net.ServerSocket.implAccept(ServerSocket.java:585)\r\n\tat java.base/java.net.ServerSocket.accept(ServerSocket.java:543)\r\n\tat org.apache.spark.api.python.PythonWorkerFactory.createSimpleWorker(PythonWorkerFactory.scala:190)\r\n\t... 32 more\r\n\nDriver stacktrace:\r\n\tat org.apache.spark.scheduler.DAGScheduler.failJobAndIndependentStages(DAGScheduler.scala:2856)\r\n\tat org.apache.spark.scheduler.DAGScheduler.$anonfun$abortStage$2(DAGScheduler.scala:2792)\r\n\tat org.apache.spark.scheduler.DAGScheduler.$anonfun$abortStage$2$adapted(DAGScheduler.scala:2791)\r\n\tat scala.collection.mutable.ResizableArray.foreach(ResizableArray.scala:62)\r\n\tat scala.collection.mutable.ResizableArray.foreach$(ResizableArray.scala:55)\r\n\tat scala.collection.mutable.ArrayBuffer.foreach(ArrayBuffer.scala:49)\r\n\tat org.apache.spark.scheduler.DAGScheduler.abortStage(DAGScheduler.scala:2791)\r\n\tat org.apache.spark.scheduler.DAGScheduler.$anonfun$handleTaskSetFailed$1(DAGScheduler.scala:1247)\r\n\tat org.apache.spark.scheduler.DAGScheduler.$anonfun$handleTaskSetFailed$1$adapted(DAGScheduler.scala:1247)\r\n\tat scala.Option.foreach(Option.scala:407)\r\n\tat org.apache.spark.scheduler.DAGScheduler.handleTaskSetFailed(DAGScheduler.scala:1247)\r\n\tat org.apache.spark.scheduler.DAGSchedulerEventProcessLoop.doOnReceive(DAGScheduler.scala:3060)\r\n\tat org.apache.spark.scheduler.DAGSchedulerEventProcessLoop.onReceive(DAGScheduler.scala:2994)\r\n\tat org.apache.spark.scheduler.DAGSchedulerEventProcessLoop.onReceive(DAGScheduler.scala:2983)\r\n\tat org.apache.spark.util.EventLoop$$anon$1.run(EventLoop.scala:49)\r\n\tat org.apache.spark.scheduler.DAGScheduler.runJob(DAGScheduler.scala:989)\r\n\tat org.apache.spark.SparkContext.runJob(SparkContext.scala:2393)\r\n\tat org.apache.spark.SparkContext.runJob(SparkContext.scala:2414)\r\n\tat org.apache.spark.SparkContext.runJob(SparkContext.scala:2433)\r\n\tat org.apache.spark.sql.execution.SparkPlan.executeTake(SparkPlan.scala:530)\r\n\tat org.apache.spark.sql.execution.SparkPlan.executeTake(SparkPlan.scala:483)\r\n\tat org.apache.spark.sql.execution.CollectLimitExec.executeCollect(limit.scala:61)\r\n\tat org.apache.spark.sql.Dataset.collectFromPlan(Dataset.scala:4333)\r\n\tat org.apache.spark.sql.Dataset.$anonfun$head$1(Dataset.scala:3316)\r\n\tat org.apache.spark.sql.Dataset.$anonfun$withAction$2(Dataset.scala:4323)\r\n\tat org.apache.spark.sql.execution.QueryExecution$.withInternalError(QueryExecution.scala:546)\r\n\tat org.apache.spark.sql.Dataset.$anonfun$withAction$1(Dataset.scala:4321)\r\n\tat org.apache.spark.sql.execution.SQLExecution$.$anonfun$withNewExecutionId$6(SQLExecution.scala:125)\r\n\tat org.apache.spark.sql.execution.SQLExecution$.withSQLConfPropagated(SQLExecution.scala:201)\r\n\tat org.apache.spark.sql.execution.SQLExecution$.$anonfun$withNewExecutionId$1(SQLExecution.scala:108)\r\n\tat org.apache.spark.sql.SparkSession.withActive(SparkSession.scala:900)\r\n\tat org.apache.spark.sql.execution.SQLExecution$.withNewExecutionId(SQLExecution.scala:66)\r\n\tat org.apache.spark.sql.Dataset.withAction(Dataset.scala:4321)\r\n\tat org.apache.spark.sql.Dataset.head(Dataset.scala:3316)\r\n\tat org.apache.spark.sql.Dataset.take(Dataset.scala:3539)\r\n\tat org.apache.spark.sql.Dataset.getRows(Dataset.scala:280)\r\n\tat org.apache.spark.sql.Dataset.showString(Dataset.scala:315)\r\n\tat java.base/jdk.internal.reflect.NativeMethodAccessorImpl.invoke0(Native Method)\r\n\tat java.base/jdk.internal.reflect.NativeMethodAccessorImpl.invoke(NativeMethodAccessorImpl.java:75)\r\n\tat java.base/jdk.internal.reflect.DelegatingMethodAccessorImpl.invoke(DelegatingMethodAccessorImpl.java:52)\r\n\tat java.base/java.lang.reflect.Method.invoke(Method.java:580)\r\n\tat py4j.reflection.MethodInvoker.invoke(MethodInvoker.java:244)\r\n\tat py4j.reflection.ReflectionEngine.invoke(ReflectionEngine.java:374)\r\n\tat py4j.Gateway.invoke(Gateway.java:282)\r\n\tat py4j.commands.AbstractCommand.invokeMethod(AbstractCommand.java:132)\r\n\tat py4j.commands.CallCommand.execute(CallCommand.java:79)\r\n\tat py4j.ClientServerConnection.waitForCommands(ClientServerConnection.java:182)\r\n\tat py4j.ClientServerConnection.run(ClientServerConnection.java:106)\r\n\tat java.base/java.lang.Thread.run(Thread.java:1583)\r\nCaused by: org.apache.spark.SparkException: Python worker failed to connect back.\r\n\tat org.apache.spark.api.python.PythonWorkerFactory.createSimpleWorker(PythonWorkerFactory.scala:203)\r\n\tat org.apache.spark.api.python.PythonWorkerFactory.create(PythonWorkerFactory.scala:109)\r\n\tat org.apache.spark.SparkEnv.createPythonWorker(SparkEnv.scala:124)\r\n\tat org.apache.spark.api.python.BasePythonRunner.compute(PythonRunner.scala:174)\r\n\tat org.apache.spark.api.python.PythonRDD.compute(PythonRDD.scala:67)\r\n\tat org.apache.spark.rdd.RDD.computeOrReadCheckpoint(RDD.scala:367)\r\n\tat org.apache.spark.rdd.RDD.iterator(RDD.scala:331)\r\n\tat org.apache.spark.rdd.MapPartitionsRDD.compute(MapPartitionsRDD.scala:52)\r\n\tat org.apache.spark.rdd.RDD.computeOrReadCheckpoint(RDD.scala:367)\r\n\tat org.apache.spark.rdd.RDD.iterator(RDD.scala:331)\r\n\tat org.apache.spark.rdd.MapPartitionsRDD.compute(MapPartitionsRDD.scala:52)\r\n\tat org.apache.spark.rdd.RDD.computeOrReadCheckpoint(RDD.scala:367)\r\n\tat org.apache.spark.rdd.RDD.iterator(RDD.scala:331)\r\n\tat org.apache.spark.rdd.MapPartitionsRDD.compute(MapPartitionsRDD.scala:52)\r\n\tat org.apache.spark.rdd.RDD.computeOrReadCheckpoint(RDD.scala:367)\r\n\tat org.apache.spark.rdd.RDD.iterator(RDD.scala:331)\r\n\tat org.apache.spark.rdd.MapPartitionsRDD.compute(MapPartitionsRDD.scala:52)\r\n\tat org.apache.spark.rdd.RDD.computeOrReadCheckpoint(RDD.scala:367)\r\n\tat org.apache.spark.rdd.RDD.iterator(RDD.scala:331)\r\n\tat org.apache.spark.rdd.MapPartitionsRDD.compute(MapPartitionsRDD.scala:52)\r\n\tat org.apache.spark.rdd.RDD.computeOrReadCheckpoint(RDD.scala:367)\r\n\tat org.apache.spark.rdd.RDD.iterator(RDD.scala:331)\r\n\tat org.apache.spark.scheduler.ResultTask.runTask(ResultTask.scala:93)\r\n\tat org.apache.spark.TaskContext.runTaskWithListeners(TaskContext.scala:166)\r\n\tat org.apache.spark.scheduler.Task.run(Task.scala:141)\r\n\tat org.apache.spark.executor.Executor$TaskRunner.$anonfun$run$4(Executor.scala:620)\r\n\tat org.apache.spark.util.SparkErrorUtils.tryWithSafeFinally(SparkErrorUtils.scala:64)\r\n\tat org.apache.spark.util.SparkErrorUtils.tryWithSafeFinally$(SparkErrorUtils.scala:61)\r\n\tat org.apache.spark.util.Utils$.tryWithSafeFinally(Utils.scala:94)\r\n\tat org.apache.spark.executor.Executor$TaskRunner.run(Executor.scala:623)\r\n\tat java.base/java.util.concurrent.ThreadPoolExecutor.runWorker(ThreadPoolExecutor.java:1144)\r\n\tat java.base/java.util.concurrent.ThreadPoolExecutor$Worker.run(ThreadPoolExecutor.java:642)\r\n\t... 1 more\r\nCaused by: java.net.SocketTimeoutException: Accept timed out\r\n\tat java.base/sun.nio.ch.NioSocketImpl.timedAccept(NioSocketImpl.java:701)\r\n\tat java.base/sun.nio.ch.NioSocketImpl.accept(NioSocketImpl.java:745)\r\n\tat java.base/java.net.ServerSocket.implAccept(ServerSocket.java:698)\r\n\tat java.base/java.net.ServerSocket.platformImplAccept(ServerSocket.java:663)\r\n\tat java.base/java.net.ServerSocket.implAccept(ServerSocket.java:639)\r\n\tat java.base/java.net.ServerSocket.implAccept(ServerSocket.java:585)\r\n\tat java.base/java.net.ServerSocket.accept(ServerSocket.java:543)\r\n\tat org.apache.spark.api.python.PythonWorkerFactory.createSimpleWorker(PythonWorkerFactory.scala:190)\r\n\t... 32 more\r\n",
     "output_type": "error",
     "traceback": [
      "\u001b[1;31m---------------------------------------------------------------------------\u001b[0m",
      "\u001b[1;31mPy4JJavaError\u001b[0m                             Traceback (most recent call last)",
      "Cell \u001b[1;32mIn[7], line 2\u001b[0m\n\u001b[0;32m      1\u001b[0m \u001b[38;5;66;03m# 데이터 프레임 출력\u001b[39;00m\n\u001b[1;32m----> 2\u001b[0m \u001b[43mdf\u001b[49m\u001b[38;5;241;43m.\u001b[39;49m\u001b[43mshow\u001b[49m\u001b[43m(\u001b[49m\u001b[43m)\u001b[49m\n",
      "File \u001b[1;32md:\\01_Programming\\100_HugoBank\\Mine\\works-need-it-python\\venv\\lib\\site-packages\\pyspark\\sql\\dataframe.py:947\u001b[0m, in \u001b[0;36mDataFrame.show\u001b[1;34m(self, n, truncate, vertical)\u001b[0m\n\u001b[0;32m    887\u001b[0m \u001b[38;5;28;01mdef\u001b[39;00m \u001b[38;5;21mshow\u001b[39m(\u001b[38;5;28mself\u001b[39m, n: \u001b[38;5;28mint\u001b[39m \u001b[38;5;241m=\u001b[39m \u001b[38;5;241m20\u001b[39m, truncate: Union[\u001b[38;5;28mbool\u001b[39m, \u001b[38;5;28mint\u001b[39m] \u001b[38;5;241m=\u001b[39m \u001b[38;5;28;01mTrue\u001b[39;00m, vertical: \u001b[38;5;28mbool\u001b[39m \u001b[38;5;241m=\u001b[39m \u001b[38;5;28;01mFalse\u001b[39;00m) \u001b[38;5;241m-\u001b[39m\u001b[38;5;241m>\u001b[39m \u001b[38;5;28;01mNone\u001b[39;00m:\n\u001b[0;32m    888\u001b[0m \u001b[38;5;250m    \u001b[39m\u001b[38;5;124;03m\"\"\"Prints the first ``n`` rows to the console.\u001b[39;00m\n\u001b[0;32m    889\u001b[0m \n\u001b[0;32m    890\u001b[0m \u001b[38;5;124;03m    .. versionadded:: 1.3.0\u001b[39;00m\n\u001b[1;32m   (...)\u001b[0m\n\u001b[0;32m    945\u001b[0m \u001b[38;5;124;03m    name | Bob\u001b[39;00m\n\u001b[0;32m    946\u001b[0m \u001b[38;5;124;03m    \"\"\"\u001b[39;00m\n\u001b[1;32m--> 947\u001b[0m     \u001b[38;5;28mprint\u001b[39m(\u001b[38;5;28;43mself\u001b[39;49m\u001b[38;5;241;43m.\u001b[39;49m\u001b[43m_show_string\u001b[49m\u001b[43m(\u001b[49m\u001b[43mn\u001b[49m\u001b[43m,\u001b[49m\u001b[43m \u001b[49m\u001b[43mtruncate\u001b[49m\u001b[43m,\u001b[49m\u001b[43m \u001b[49m\u001b[43mvertical\u001b[49m\u001b[43m)\u001b[49m)\n",
      "File \u001b[1;32md:\\01_Programming\\100_HugoBank\\Mine\\works-need-it-python\\venv\\lib\\site-packages\\pyspark\\sql\\dataframe.py:965\u001b[0m, in \u001b[0;36mDataFrame._show_string\u001b[1;34m(self, n, truncate, vertical)\u001b[0m\n\u001b[0;32m    959\u001b[0m     \u001b[38;5;28;01mraise\u001b[39;00m PySparkTypeError(\n\u001b[0;32m    960\u001b[0m         error_class\u001b[38;5;241m=\u001b[39m\u001b[38;5;124m\"\u001b[39m\u001b[38;5;124mNOT_BOOL\u001b[39m\u001b[38;5;124m\"\u001b[39m,\n\u001b[0;32m    961\u001b[0m         message_parameters\u001b[38;5;241m=\u001b[39m{\u001b[38;5;124m\"\u001b[39m\u001b[38;5;124marg_name\u001b[39m\u001b[38;5;124m\"\u001b[39m: \u001b[38;5;124m\"\u001b[39m\u001b[38;5;124mvertical\u001b[39m\u001b[38;5;124m\"\u001b[39m, \u001b[38;5;124m\"\u001b[39m\u001b[38;5;124marg_type\u001b[39m\u001b[38;5;124m\"\u001b[39m: \u001b[38;5;28mtype\u001b[39m(vertical)\u001b[38;5;241m.\u001b[39m\u001b[38;5;18m__name__\u001b[39m},\n\u001b[0;32m    962\u001b[0m     )\n\u001b[0;32m    964\u001b[0m \u001b[38;5;28;01mif\u001b[39;00m \u001b[38;5;28misinstance\u001b[39m(truncate, \u001b[38;5;28mbool\u001b[39m) \u001b[38;5;129;01mand\u001b[39;00m truncate:\n\u001b[1;32m--> 965\u001b[0m     \u001b[38;5;28;01mreturn\u001b[39;00m \u001b[38;5;28;43mself\u001b[39;49m\u001b[38;5;241;43m.\u001b[39;49m\u001b[43m_jdf\u001b[49m\u001b[38;5;241;43m.\u001b[39;49m\u001b[43mshowString\u001b[49m\u001b[43m(\u001b[49m\u001b[43mn\u001b[49m\u001b[43m,\u001b[49m\u001b[43m \u001b[49m\u001b[38;5;241;43m20\u001b[39;49m\u001b[43m,\u001b[49m\u001b[43m \u001b[49m\u001b[43mvertical\u001b[49m\u001b[43m)\u001b[49m\n\u001b[0;32m    966\u001b[0m \u001b[38;5;28;01melse\u001b[39;00m:\n\u001b[0;32m    967\u001b[0m     \u001b[38;5;28;01mtry\u001b[39;00m:\n",
      "File \u001b[1;32md:\\01_Programming\\100_HugoBank\\Mine\\works-need-it-python\\venv\\lib\\site-packages\\py4j\\java_gateway.py:1322\u001b[0m, in \u001b[0;36mJavaMember.__call__\u001b[1;34m(self, *args)\u001b[0m\n\u001b[0;32m   1316\u001b[0m command \u001b[38;5;241m=\u001b[39m proto\u001b[38;5;241m.\u001b[39mCALL_COMMAND_NAME \u001b[38;5;241m+\u001b[39m\\\n\u001b[0;32m   1317\u001b[0m     \u001b[38;5;28mself\u001b[39m\u001b[38;5;241m.\u001b[39mcommand_header \u001b[38;5;241m+\u001b[39m\\\n\u001b[0;32m   1318\u001b[0m     args_command \u001b[38;5;241m+\u001b[39m\\\n\u001b[0;32m   1319\u001b[0m     proto\u001b[38;5;241m.\u001b[39mEND_COMMAND_PART\n\u001b[0;32m   1321\u001b[0m answer \u001b[38;5;241m=\u001b[39m \u001b[38;5;28mself\u001b[39m\u001b[38;5;241m.\u001b[39mgateway_client\u001b[38;5;241m.\u001b[39msend_command(command)\n\u001b[1;32m-> 1322\u001b[0m return_value \u001b[38;5;241m=\u001b[39m \u001b[43mget_return_value\u001b[49m\u001b[43m(\u001b[49m\n\u001b[0;32m   1323\u001b[0m \u001b[43m    \u001b[49m\u001b[43manswer\u001b[49m\u001b[43m,\u001b[49m\u001b[43m \u001b[49m\u001b[38;5;28;43mself\u001b[39;49m\u001b[38;5;241;43m.\u001b[39;49m\u001b[43mgateway_client\u001b[49m\u001b[43m,\u001b[49m\u001b[43m \u001b[49m\u001b[38;5;28;43mself\u001b[39;49m\u001b[38;5;241;43m.\u001b[39;49m\u001b[43mtarget_id\u001b[49m\u001b[43m,\u001b[49m\u001b[43m \u001b[49m\u001b[38;5;28;43mself\u001b[39;49m\u001b[38;5;241;43m.\u001b[39;49m\u001b[43mname\u001b[49m\u001b[43m)\u001b[49m\n\u001b[0;32m   1325\u001b[0m \u001b[38;5;28;01mfor\u001b[39;00m temp_arg \u001b[38;5;129;01min\u001b[39;00m temp_args:\n\u001b[0;32m   1326\u001b[0m     \u001b[38;5;28;01mif\u001b[39;00m \u001b[38;5;28mhasattr\u001b[39m(temp_arg, \u001b[38;5;124m\"\u001b[39m\u001b[38;5;124m_detach\u001b[39m\u001b[38;5;124m\"\u001b[39m):\n",
      "File \u001b[1;32md:\\01_Programming\\100_HugoBank\\Mine\\works-need-it-python\\venv\\lib\\site-packages\\pyspark\\errors\\exceptions\\captured.py:179\u001b[0m, in \u001b[0;36mcapture_sql_exception.<locals>.deco\u001b[1;34m(*a, **kw)\u001b[0m\n\u001b[0;32m    177\u001b[0m \u001b[38;5;28;01mdef\u001b[39;00m \u001b[38;5;21mdeco\u001b[39m(\u001b[38;5;241m*\u001b[39ma: Any, \u001b[38;5;241m*\u001b[39m\u001b[38;5;241m*\u001b[39mkw: Any) \u001b[38;5;241m-\u001b[39m\u001b[38;5;241m>\u001b[39m Any:\n\u001b[0;32m    178\u001b[0m     \u001b[38;5;28;01mtry\u001b[39;00m:\n\u001b[1;32m--> 179\u001b[0m         \u001b[38;5;28;01mreturn\u001b[39;00m f(\u001b[38;5;241m*\u001b[39ma, \u001b[38;5;241m*\u001b[39m\u001b[38;5;241m*\u001b[39mkw)\n\u001b[0;32m    180\u001b[0m     \u001b[38;5;28;01mexcept\u001b[39;00m Py4JJavaError \u001b[38;5;28;01mas\u001b[39;00m e:\n\u001b[0;32m    181\u001b[0m         converted \u001b[38;5;241m=\u001b[39m convert_exception(e\u001b[38;5;241m.\u001b[39mjava_exception)\n",
      "File \u001b[1;32md:\\01_Programming\\100_HugoBank\\Mine\\works-need-it-python\\venv\\lib\\site-packages\\py4j\\protocol.py:326\u001b[0m, in \u001b[0;36mget_return_value\u001b[1;34m(answer, gateway_client, target_id, name)\u001b[0m\n\u001b[0;32m    324\u001b[0m value \u001b[38;5;241m=\u001b[39m OUTPUT_CONVERTER[\u001b[38;5;28mtype\u001b[39m](answer[\u001b[38;5;241m2\u001b[39m:], gateway_client)\n\u001b[0;32m    325\u001b[0m \u001b[38;5;28;01mif\u001b[39;00m answer[\u001b[38;5;241m1\u001b[39m] \u001b[38;5;241m==\u001b[39m REFERENCE_TYPE:\n\u001b[1;32m--> 326\u001b[0m     \u001b[38;5;28;01mraise\u001b[39;00m Py4JJavaError(\n\u001b[0;32m    327\u001b[0m         \u001b[38;5;124m\"\u001b[39m\u001b[38;5;124mAn error occurred while calling \u001b[39m\u001b[38;5;132;01m{0}\u001b[39;00m\u001b[38;5;132;01m{1}\u001b[39;00m\u001b[38;5;132;01m{2}\u001b[39;00m\u001b[38;5;124m.\u001b[39m\u001b[38;5;130;01m\\n\u001b[39;00m\u001b[38;5;124m\"\u001b[39m\u001b[38;5;241m.\u001b[39m\n\u001b[0;32m    328\u001b[0m         \u001b[38;5;28mformat\u001b[39m(target_id, \u001b[38;5;124m\"\u001b[39m\u001b[38;5;124m.\u001b[39m\u001b[38;5;124m\"\u001b[39m, name), value)\n\u001b[0;32m    329\u001b[0m \u001b[38;5;28;01melse\u001b[39;00m:\n\u001b[0;32m    330\u001b[0m     \u001b[38;5;28;01mraise\u001b[39;00m Py4JError(\n\u001b[0;32m    331\u001b[0m         \u001b[38;5;124m\"\u001b[39m\u001b[38;5;124mAn error occurred while calling \u001b[39m\u001b[38;5;132;01m{0}\u001b[39;00m\u001b[38;5;132;01m{1}\u001b[39;00m\u001b[38;5;132;01m{2}\u001b[39;00m\u001b[38;5;124m. Trace:\u001b[39m\u001b[38;5;130;01m\\n\u001b[39;00m\u001b[38;5;132;01m{3}\u001b[39;00m\u001b[38;5;130;01m\\n\u001b[39;00m\u001b[38;5;124m\"\u001b[39m\u001b[38;5;241m.\u001b[39m\n\u001b[0;32m    332\u001b[0m         \u001b[38;5;28mformat\u001b[39m(target_id, \u001b[38;5;124m\"\u001b[39m\u001b[38;5;124m.\u001b[39m\u001b[38;5;124m\"\u001b[39m, name, value))\n",
      "\u001b[1;31mPy4JJavaError\u001b[0m: An error occurred while calling o44.showString.\n: org.apache.spark.SparkException: Job aborted due to stage failure: Task 0 in stage 0.0 failed 1 times, most recent failure: Lost task 0.0 in stage 0.0 (TID 0) (host.docker.internal executor driver): org.apache.spark.SparkException: Python worker failed to connect back.\r\n\tat org.apache.spark.api.python.PythonWorkerFactory.createSimpleWorker(PythonWorkerFactory.scala:203)\r\n\tat org.apache.spark.api.python.PythonWorkerFactory.create(PythonWorkerFactory.scala:109)\r\n\tat org.apache.spark.SparkEnv.createPythonWorker(SparkEnv.scala:124)\r\n\tat org.apache.spark.api.python.BasePythonRunner.compute(PythonRunner.scala:174)\r\n\tat org.apache.spark.api.python.PythonRDD.compute(PythonRDD.scala:67)\r\n\tat org.apache.spark.rdd.RDD.computeOrReadCheckpoint(RDD.scala:367)\r\n\tat org.apache.spark.rdd.RDD.iterator(RDD.scala:331)\r\n\tat org.apache.spark.rdd.MapPartitionsRDD.compute(MapPartitionsRDD.scala:52)\r\n\tat org.apache.spark.rdd.RDD.computeOrReadCheckpoint(RDD.scala:367)\r\n\tat org.apache.spark.rdd.RDD.iterator(RDD.scala:331)\r\n\tat org.apache.spark.rdd.MapPartitionsRDD.compute(MapPartitionsRDD.scala:52)\r\n\tat org.apache.spark.rdd.RDD.computeOrReadCheckpoint(RDD.scala:367)\r\n\tat org.apache.spark.rdd.RDD.iterator(RDD.scala:331)\r\n\tat org.apache.spark.rdd.MapPartitionsRDD.compute(MapPartitionsRDD.scala:52)\r\n\tat org.apache.spark.rdd.RDD.computeOrReadCheckpoint(RDD.scala:367)\r\n\tat org.apache.spark.rdd.RDD.iterator(RDD.scala:331)\r\n\tat org.apache.spark.rdd.MapPartitionsRDD.compute(MapPartitionsRDD.scala:52)\r\n\tat org.apache.spark.rdd.RDD.computeOrReadCheckpoint(RDD.scala:367)\r\n\tat org.apache.spark.rdd.RDD.iterator(RDD.scala:331)\r\n\tat org.apache.spark.rdd.MapPartitionsRDD.compute(MapPartitionsRDD.scala:52)\r\n\tat org.apache.spark.rdd.RDD.computeOrReadCheckpoint(RDD.scala:367)\r\n\tat org.apache.spark.rdd.RDD.iterator(RDD.scala:331)\r\n\tat org.apache.spark.scheduler.ResultTask.runTask(ResultTask.scala:93)\r\n\tat org.apache.spark.TaskContext.runTaskWithListeners(TaskContext.scala:166)\r\n\tat org.apache.spark.scheduler.Task.run(Task.scala:141)\r\n\tat org.apache.spark.executor.Executor$TaskRunner.$anonfun$run$4(Executor.scala:620)\r\n\tat org.apache.spark.util.SparkErrorUtils.tryWithSafeFinally(SparkErrorUtils.scala:64)\r\n\tat org.apache.spark.util.SparkErrorUtils.tryWithSafeFinally$(SparkErrorUtils.scala:61)\r\n\tat org.apache.spark.util.Utils$.tryWithSafeFinally(Utils.scala:94)\r\n\tat org.apache.spark.executor.Executor$TaskRunner.run(Executor.scala:623)\r\n\tat java.base/java.util.concurrent.ThreadPoolExecutor.runWorker(ThreadPoolExecutor.java:1144)\r\n\tat java.base/java.util.concurrent.ThreadPoolExecutor$Worker.run(ThreadPoolExecutor.java:642)\r\n\tat java.base/java.lang.Thread.run(Thread.java:1583)\r\nCaused by: java.net.SocketTimeoutException: Accept timed out\r\n\tat java.base/sun.nio.ch.NioSocketImpl.timedAccept(NioSocketImpl.java:701)\r\n\tat java.base/sun.nio.ch.NioSocketImpl.accept(NioSocketImpl.java:745)\r\n\tat java.base/java.net.ServerSocket.implAccept(ServerSocket.java:698)\r\n\tat java.base/java.net.ServerSocket.platformImplAccept(ServerSocket.java:663)\r\n\tat java.base/java.net.ServerSocket.implAccept(ServerSocket.java:639)\r\n\tat java.base/java.net.ServerSocket.implAccept(ServerSocket.java:585)\r\n\tat java.base/java.net.ServerSocket.accept(ServerSocket.java:543)\r\n\tat org.apache.spark.api.python.PythonWorkerFactory.createSimpleWorker(PythonWorkerFactory.scala:190)\r\n\t... 32 more\r\n\nDriver stacktrace:\r\n\tat org.apache.spark.scheduler.DAGScheduler.failJobAndIndependentStages(DAGScheduler.scala:2856)\r\n\tat org.apache.spark.scheduler.DAGScheduler.$anonfun$abortStage$2(DAGScheduler.scala:2792)\r\n\tat org.apache.spark.scheduler.DAGScheduler.$anonfun$abortStage$2$adapted(DAGScheduler.scala:2791)\r\n\tat scala.collection.mutable.ResizableArray.foreach(ResizableArray.scala:62)\r\n\tat scala.collection.mutable.ResizableArray.foreach$(ResizableArray.scala:55)\r\n\tat scala.collection.mutable.ArrayBuffer.foreach(ArrayBuffer.scala:49)\r\n\tat org.apache.spark.scheduler.DAGScheduler.abortStage(DAGScheduler.scala:2791)\r\n\tat org.apache.spark.scheduler.DAGScheduler.$anonfun$handleTaskSetFailed$1(DAGScheduler.scala:1247)\r\n\tat org.apache.spark.scheduler.DAGScheduler.$anonfun$handleTaskSetFailed$1$adapted(DAGScheduler.scala:1247)\r\n\tat scala.Option.foreach(Option.scala:407)\r\n\tat org.apache.spark.scheduler.DAGScheduler.handleTaskSetFailed(DAGScheduler.scala:1247)\r\n\tat org.apache.spark.scheduler.DAGSchedulerEventProcessLoop.doOnReceive(DAGScheduler.scala:3060)\r\n\tat org.apache.spark.scheduler.DAGSchedulerEventProcessLoop.onReceive(DAGScheduler.scala:2994)\r\n\tat org.apache.spark.scheduler.DAGSchedulerEventProcessLoop.onReceive(DAGScheduler.scala:2983)\r\n\tat org.apache.spark.util.EventLoop$$anon$1.run(EventLoop.scala:49)\r\n\tat org.apache.spark.scheduler.DAGScheduler.runJob(DAGScheduler.scala:989)\r\n\tat org.apache.spark.SparkContext.runJob(SparkContext.scala:2393)\r\n\tat org.apache.spark.SparkContext.runJob(SparkContext.scala:2414)\r\n\tat org.apache.spark.SparkContext.runJob(SparkContext.scala:2433)\r\n\tat org.apache.spark.sql.execution.SparkPlan.executeTake(SparkPlan.scala:530)\r\n\tat org.apache.spark.sql.execution.SparkPlan.executeTake(SparkPlan.scala:483)\r\n\tat org.apache.spark.sql.execution.CollectLimitExec.executeCollect(limit.scala:61)\r\n\tat org.apache.spark.sql.Dataset.collectFromPlan(Dataset.scala:4333)\r\n\tat org.apache.spark.sql.Dataset.$anonfun$head$1(Dataset.scala:3316)\r\n\tat org.apache.spark.sql.Dataset.$anonfun$withAction$2(Dataset.scala:4323)\r\n\tat org.apache.spark.sql.execution.QueryExecution$.withInternalError(QueryExecution.scala:546)\r\n\tat org.apache.spark.sql.Dataset.$anonfun$withAction$1(Dataset.scala:4321)\r\n\tat org.apache.spark.sql.execution.SQLExecution$.$anonfun$withNewExecutionId$6(SQLExecution.scala:125)\r\n\tat org.apache.spark.sql.execution.SQLExecution$.withSQLConfPropagated(SQLExecution.scala:201)\r\n\tat org.apache.spark.sql.execution.SQLExecution$.$anonfun$withNewExecutionId$1(SQLExecution.scala:108)\r\n\tat org.apache.spark.sql.SparkSession.withActive(SparkSession.scala:900)\r\n\tat org.apache.spark.sql.execution.SQLExecution$.withNewExecutionId(SQLExecution.scala:66)\r\n\tat org.apache.spark.sql.Dataset.withAction(Dataset.scala:4321)\r\n\tat org.apache.spark.sql.Dataset.head(Dataset.scala:3316)\r\n\tat org.apache.spark.sql.Dataset.take(Dataset.scala:3539)\r\n\tat org.apache.spark.sql.Dataset.getRows(Dataset.scala:280)\r\n\tat org.apache.spark.sql.Dataset.showString(Dataset.scala:315)\r\n\tat java.base/jdk.internal.reflect.NativeMethodAccessorImpl.invoke0(Native Method)\r\n\tat java.base/jdk.internal.reflect.NativeMethodAccessorImpl.invoke(NativeMethodAccessorImpl.java:75)\r\n\tat java.base/jdk.internal.reflect.DelegatingMethodAccessorImpl.invoke(DelegatingMethodAccessorImpl.java:52)\r\n\tat java.base/java.lang.reflect.Method.invoke(Method.java:580)\r\n\tat py4j.reflection.MethodInvoker.invoke(MethodInvoker.java:244)\r\n\tat py4j.reflection.ReflectionEngine.invoke(ReflectionEngine.java:374)\r\n\tat py4j.Gateway.invoke(Gateway.java:282)\r\n\tat py4j.commands.AbstractCommand.invokeMethod(AbstractCommand.java:132)\r\n\tat py4j.commands.CallCommand.execute(CallCommand.java:79)\r\n\tat py4j.ClientServerConnection.waitForCommands(ClientServerConnection.java:182)\r\n\tat py4j.ClientServerConnection.run(ClientServerConnection.java:106)\r\n\tat java.base/java.lang.Thread.run(Thread.java:1583)\r\nCaused by: org.apache.spark.SparkException: Python worker failed to connect back.\r\n\tat org.apache.spark.api.python.PythonWorkerFactory.createSimpleWorker(PythonWorkerFactory.scala:203)\r\n\tat org.apache.spark.api.python.PythonWorkerFactory.create(PythonWorkerFactory.scala:109)\r\n\tat org.apache.spark.SparkEnv.createPythonWorker(SparkEnv.scala:124)\r\n\tat org.apache.spark.api.python.BasePythonRunner.compute(PythonRunner.scala:174)\r\n\tat org.apache.spark.api.python.PythonRDD.compute(PythonRDD.scala:67)\r\n\tat org.apache.spark.rdd.RDD.computeOrReadCheckpoint(RDD.scala:367)\r\n\tat org.apache.spark.rdd.RDD.iterator(RDD.scala:331)\r\n\tat org.apache.spark.rdd.MapPartitionsRDD.compute(MapPartitionsRDD.scala:52)\r\n\tat org.apache.spark.rdd.RDD.computeOrReadCheckpoint(RDD.scala:367)\r\n\tat org.apache.spark.rdd.RDD.iterator(RDD.scala:331)\r\n\tat org.apache.spark.rdd.MapPartitionsRDD.compute(MapPartitionsRDD.scala:52)\r\n\tat org.apache.spark.rdd.RDD.computeOrReadCheckpoint(RDD.scala:367)\r\n\tat org.apache.spark.rdd.RDD.iterator(RDD.scala:331)\r\n\tat org.apache.spark.rdd.MapPartitionsRDD.compute(MapPartitionsRDD.scala:52)\r\n\tat org.apache.spark.rdd.RDD.computeOrReadCheckpoint(RDD.scala:367)\r\n\tat org.apache.spark.rdd.RDD.iterator(RDD.scala:331)\r\n\tat org.apache.spark.rdd.MapPartitionsRDD.compute(MapPartitionsRDD.scala:52)\r\n\tat org.apache.spark.rdd.RDD.computeOrReadCheckpoint(RDD.scala:367)\r\n\tat org.apache.spark.rdd.RDD.iterator(RDD.scala:331)\r\n\tat org.apache.spark.rdd.MapPartitionsRDD.compute(MapPartitionsRDD.scala:52)\r\n\tat org.apache.spark.rdd.RDD.computeOrReadCheckpoint(RDD.scala:367)\r\n\tat org.apache.spark.rdd.RDD.iterator(RDD.scala:331)\r\n\tat org.apache.spark.scheduler.ResultTask.runTask(ResultTask.scala:93)\r\n\tat org.apache.spark.TaskContext.runTaskWithListeners(TaskContext.scala:166)\r\n\tat org.apache.spark.scheduler.Task.run(Task.scala:141)\r\n\tat org.apache.spark.executor.Executor$TaskRunner.$anonfun$run$4(Executor.scala:620)\r\n\tat org.apache.spark.util.SparkErrorUtils.tryWithSafeFinally(SparkErrorUtils.scala:64)\r\n\tat org.apache.spark.util.SparkErrorUtils.tryWithSafeFinally$(SparkErrorUtils.scala:61)\r\n\tat org.apache.spark.util.Utils$.tryWithSafeFinally(Utils.scala:94)\r\n\tat org.apache.spark.executor.Executor$TaskRunner.run(Executor.scala:623)\r\n\tat java.base/java.util.concurrent.ThreadPoolExecutor.runWorker(ThreadPoolExecutor.java:1144)\r\n\tat java.base/java.util.concurrent.ThreadPoolExecutor$Worker.run(ThreadPoolExecutor.java:642)\r\n\t... 1 more\r\nCaused by: java.net.SocketTimeoutException: Accept timed out\r\n\tat java.base/sun.nio.ch.NioSocketImpl.timedAccept(NioSocketImpl.java:701)\r\n\tat java.base/sun.nio.ch.NioSocketImpl.accept(NioSocketImpl.java:745)\r\n\tat java.base/java.net.ServerSocket.implAccept(ServerSocket.java:698)\r\n\tat java.base/java.net.ServerSocket.platformImplAccept(ServerSocket.java:663)\r\n\tat java.base/java.net.ServerSocket.implAccept(ServerSocket.java:639)\r\n\tat java.base/java.net.ServerSocket.implAccept(ServerSocket.java:585)\r\n\tat java.base/java.net.ServerSocket.accept(ServerSocket.java:543)\r\n\tat org.apache.spark.api.python.PythonWorkerFactory.createSimpleWorker(PythonWorkerFactory.scala:190)\r\n\t... 32 more\r\n"
     ]
    }
   ],
   "source": [
    "# 데이터 프레임 출력\n",
    "df.show()"
   ]
  },
  {
   "cell_type": "code",
   "execution_count": 8,
   "metadata": {},
   "outputs": [],
   "source": [
    "# Spark 세션 종료\n",
    "spark.stop()"
   ]
  },
  {
   "cell_type": "markdown",
   "metadata": {},
   "source": [
    "### Shapely: 공간 데이터 조작 및 분석\n",
    "- https://github.com/shapely/shapely\n",
    "- 공간 데이터를 조작하고 분석하는 데 사용되는 라이브러리\n",
    "- GIS(지리 정보 시스템) 응용 프로그램에서 주로 사용"
   ]
  },
  {
   "cell_type": "code",
   "execution_count": 9,
   "metadata": {},
   "outputs": [
    {
     "name": "stdout",
     "output_type": "stream",
     "text": [
      "Requirement already satisfied: shapely in d:\\01_programming\\100_hugobank\\mine\\works-need-it-python\\venv\\lib\\site-packages (2.0.6)\n",
      "Requirement already satisfied: numpy<3,>=1.14 in d:\\01_programming\\100_hugobank\\mine\\works-need-it-python\\venv\\lib\\site-packages (from shapely) (2.1.3)\n"
     ]
    }
   ],
   "source": [
    "# 설치\n",
    "!pip install shapely"
   ]
  },
  {
   "cell_type": "code",
   "execution_count": 10,
   "metadata": {},
   "outputs": [],
   "source": [
    "from shapely.geometry import Polygon"
   ]
  },
  {
   "cell_type": "code",
   "execution_count": 11,
   "metadata": {},
   "outputs": [
    {
     "name": "stdout",
     "output_type": "stream",
     "text": [
      "Polygon area: 1.0\n",
      "Polygon boundary: LINESTRING (0 0, 1 0, 1 1, 0 1, 0 0)\n"
     ]
    }
   ],
   "source": [
    "# 사각형 폴리곤 생성\n",
    "polygon = Polygon([(0, 0), (1, 0), (1, 1), (0, 1)])\n",
    "print(\"Polygon area:\", polygon.area)  # 면적 출력\n",
    "\n",
    "# 폴리곤의 경계선 출력\n",
    "print(\"Polygon boundary:\", polygon.boundary)"
   ]
  },
  {
   "cell_type": "markdown",
   "metadata": {},
   "source": [
    "### Taichi: 고성능 프로그래밍 언어 및 컴퓨터 프레임워크\n",
    "- https://github.com/taichi-dev/taichi\n",
    "- 컴퓨터 그래픽스와 과학 계산을 위한 고성능 프로그래밍 언어 및 컴퓨팅 프레임워크\n"
   ]
  },
  {
   "cell_type": "code",
   "execution_count": 12,
   "metadata": {},
   "outputs": [
    {
     "name": "stdout",
     "output_type": "stream",
     "text": [
      "Collecting taichi\n",
      "  Downloading taichi-1.7.3-cp310-cp310-win_amd64.whl.metadata (12 kB)\n",
      "Requirement already satisfied: numpy in d:\\01_programming\\100_hugobank\\mine\\works-need-it-python\\venv\\lib\\site-packages (from taichi) (2.1.3)\n",
      "Requirement already satisfied: colorama in d:\\01_programming\\100_hugobank\\mine\\works-need-it-python\\venv\\lib\\site-packages (from taichi) (0.4.6)\n",
      "Collecting dill (from taichi)\n",
      "  Downloading dill-0.3.9-py3-none-any.whl.metadata (10 kB)\n",
      "Collecting rich (from taichi)\n",
      "  Using cached rich-13.9.4-py3-none-any.whl.metadata (18 kB)\n",
      "Collecting markdown-it-py>=2.2.0 (from rich->taichi)\n",
      "  Using cached markdown_it_py-3.0.0-py3-none-any.whl.metadata (6.9 kB)\n",
      "Requirement already satisfied: pygments<3.0.0,>=2.13.0 in d:\\01_programming\\100_hugobank\\mine\\works-need-it-python\\venv\\lib\\site-packages (from rich->taichi) (2.18.0)\n",
      "Requirement already satisfied: typing-extensions<5.0,>=4.0.0 in d:\\01_programming\\100_hugobank\\mine\\works-need-it-python\\venv\\lib\\site-packages (from rich->taichi) (4.12.2)\n",
      "Collecting mdurl~=0.1 (from markdown-it-py>=2.2.0->rich->taichi)\n",
      "  Using cached mdurl-0.1.2-py3-none-any.whl.metadata (1.6 kB)\n",
      "Downloading taichi-1.7.3-cp310-cp310-win_amd64.whl (83.1 MB)\n",
      "   ---------------------------------------- 0.0/83.1 MB ? eta -:--:--\n",
      "   ---- ----------------------------------- 10.0/83.1 MB 56.4 MB/s eta 0:00:02\n",
      "   ---------- ----------------------------- 21.2/83.1 MB 53.8 MB/s eta 0:00:02\n",
      "   -------------- ------------------------- 29.9/83.1 MB 50.0 MB/s eta 0:00:02\n",
      "   ------------------- -------------------- 39.8/83.1 MB 48.7 MB/s eta 0:00:01\n",
      "   ------------------------ --------------- 50.3/83.1 MB 49.3 MB/s eta 0:00:01\n",
      "   ----------------------------- ---------- 60.3/83.1 MB 48.6 MB/s eta 0:00:01\n",
      "   ---------------------------------- ----- 70.8/83.1 MB 49.1 MB/s eta 0:00:01\n",
      "   ---------------------------------- ----- 72.1/83.1 MB 43.8 MB/s eta 0:00:01\n",
      "   ---------------------------------------  82.3/83.1 MB 43.8 MB/s eta 0:00:01\n",
      "   ---------------------------------------- 83.1/83.1 MB 41.4 MB/s eta 0:00:00\n",
      "Downloading dill-0.3.9-py3-none-any.whl (119 kB)\n",
      "Using cached rich-13.9.4-py3-none-any.whl (242 kB)\n",
      "Using cached markdown_it_py-3.0.0-py3-none-any.whl (87 kB)\n",
      "Using cached mdurl-0.1.2-py3-none-any.whl (10.0 kB)\n",
      "Installing collected packages: mdurl, dill, markdown-it-py, rich, taichi\n",
      "Successfully installed dill-0.3.9 markdown-it-py-3.0.0 mdurl-0.1.2 rich-13.9.4 taichi-1.7.3\n"
     ]
    }
   ],
   "source": [
    "# 설치\n",
    "!pip install taichi"
   ]
  },
  {
   "cell_type": "code",
   "execution_count": 13,
   "metadata": {},
   "outputs": [
    {
     "name": "stdout",
     "output_type": "stream",
     "text": [
      "[Taichi] version 1.7.3, llvm 15.0.1, commit 5ec301be, win, python 3.10.10\n"
     ]
    }
   ],
   "source": [
    "import taichi as ti"
   ]
  },
  {
   "cell_type": "code",
   "execution_count": 14,
   "metadata": {},
   "outputs": [
    {
     "name": "stdout",
     "output_type": "stream",
     "text": [
      "[Taichi] Starting on arch=cuda\n"
     ]
    }
   ],
   "source": [
    "ti.init(arch=ti.gpu)\n",
    "\n",
    "n = 320\n",
    "pixels = ti.field(dtype=float, shape=(n * 2, n))\n",
    "\n",
    "@ti.func\n",
    "def complex_sqr(z):\n",
    "    return ti.Vector([z[0]**2 - z[1]**2, z[1] * z[0] * 2])\n",
    "\n",
    "@ti.kernel\n",
    "def paint(t: float):\n",
    "    for i, j in pixels:  # Parallelized over all pixels\n",
    "        c = ti.Vector([-0.8, ti.cos(t) * 0.2])\n",
    "        z = ti.Vector([i / n - 1, j / n - 0.5]) * 2\n",
    "        iterations = 0\n",
    "        while z.norm() < 20 and iterations < 50:\n",
    "            z = complex_sqr(z) + c\n",
    "            iterations += 1\n",
    "        pixels[i, j] = 1 - iterations * 0.02\n",
    "\n",
    "gui = ti.GUI(\"Julia Set\", res=(n * 2, n))"
   ]
  },
  {
   "cell_type": "code",
   "execution_count": 15,
   "metadata": {},
   "outputs": [
    {
     "ename": "RuntimeError",
     "evalue": "Window close button clicked, exiting... (use `while gui.running` to exit gracefully)",
     "output_type": "error",
     "traceback": [
      "\u001b[1;31m---------------------------------------------------------------------------\u001b[0m",
      "\u001b[1;31mRuntimeError\u001b[0m                              Traceback (most recent call last)",
      "Cell \u001b[1;32mIn[15], line 4\u001b[0m\n\u001b[0;32m      2\u001b[0m paint(i \u001b[38;5;241m*\u001b[39m \u001b[38;5;241m0.03\u001b[39m)\n\u001b[0;32m      3\u001b[0m gui\u001b[38;5;241m.\u001b[39mset_image(pixels)\n\u001b[1;32m----> 4\u001b[0m \u001b[43mgui\u001b[49m\u001b[38;5;241;43m.\u001b[39;49m\u001b[43mshow\u001b[49m\u001b[43m(\u001b[49m\u001b[43m)\u001b[49m\n",
      "File \u001b[1;32md:\\01_Programming\\100_HugoBank\\Mine\\works-need-it-python\\venv\\lib\\site-packages\\taichi\\ui\\gui.py:751\u001b[0m, in \u001b[0;36mGUI.show\u001b[1;34m(self, file)\u001b[0m\n\u001b[0;32m    742\u001b[0m \u001b[38;5;28;01mdef\u001b[39;00m \u001b[38;5;21mshow\u001b[39m(\u001b[38;5;28mself\u001b[39m, file\u001b[38;5;241m=\u001b[39m\u001b[38;5;28;01mNone\u001b[39;00m):\n\u001b[0;32m    743\u001b[0m \u001b[38;5;250m    \u001b[39m\u001b[38;5;124;03m\"\"\"Shows the frame content in the gui window, or save the content to an\u001b[39;00m\n\u001b[0;32m    744\u001b[0m \u001b[38;5;124;03m    image file.\u001b[39;00m\n\u001b[0;32m    745\u001b[0m \n\u001b[1;32m   (...)\u001b[0m\n\u001b[0;32m    749\u001b[0m \u001b[38;5;124;03m            image filename the frame will be saved as the specified image.\u001b[39;00m\n\u001b[0;32m    750\u001b[0m \u001b[38;5;124;03m    \"\"\"\u001b[39;00m\n\u001b[1;32m--> 751\u001b[0m     \u001b[38;5;28;43mself\u001b[39;49m\u001b[38;5;241;43m.\u001b[39;49m\u001b[43mcore\u001b[49m\u001b[38;5;241;43m.\u001b[39;49m\u001b[43mupdate\u001b[49m\u001b[43m(\u001b[49m\u001b[43m)\u001b[49m\n\u001b[0;32m    752\u001b[0m     \u001b[38;5;28;01mif\u001b[39;00m file:\n\u001b[0;32m    753\u001b[0m         \u001b[38;5;28mself\u001b[39m\u001b[38;5;241m.\u001b[39mcore\u001b[38;5;241m.\u001b[39mscreenshot(file)\n",
      "\u001b[1;31mRuntimeError\u001b[0m: Window close button clicked, exiting... (use `while gui.running` to exit gracefully)"
     ]
    }
   ],
   "source": [
    "for i in range(1000000):\n",
    "    paint(i * 0.03)\n",
    "    gui.set_image(pixels)\n",
    "    gui.show()"
   ]
  },
  {
   "cell_type": "markdown",
   "metadata": {},
   "source": [
    "### autograd: 자동 미분 라이브러리\n",
    "- 자동 미분(automatic differentiation)을 제공하는 라이브러리"
   ]
  },
  {
   "cell_type": "code",
   "execution_count": 16,
   "metadata": {},
   "outputs": [
    {
     "name": "stdout",
     "output_type": "stream",
     "text": [
      "Collecting autograd\n",
      "  Downloading autograd-1.7.0-py3-none-any.whl.metadata (7.5 kB)\n",
      "Requirement already satisfied: numpy in d:\\01_programming\\100_hugobank\\mine\\works-need-it-python\\venv\\lib\\site-packages (from autograd) (2.1.3)\n",
      "Downloading autograd-1.7.0-py3-none-any.whl (52 kB)\n",
      "Installing collected packages: autograd\n",
      "Successfully installed autograd-1.7.0\n"
     ]
    }
   ],
   "source": [
    "# 설치\n",
    "!pip install autograd"
   ]
  },
  {
   "cell_type": "code",
   "execution_count": 17,
   "metadata": {},
   "outputs": [],
   "source": [
    "import autograd.numpy as np\n",
    "from autograd import grad"
   ]
  },
  {
   "cell_type": "code",
   "execution_count": 18,
   "metadata": {},
   "outputs": [
    {
     "name": "stdout",
     "output_type": "stream",
     "text": [
      "x = 5.0에서의 기울기: 13.0\n"
     ]
    }
   ],
   "source": [
    "# 목적 함수 정의\n",
    "def my_function(x):\n",
    "    return x**2 + 3*x + 2\n",
    "\n",
    "# 목적 함수의 기울기 계산 함수 생성\n",
    "gradient_function = grad(my_function)\n",
    "\n",
    "# x = 5에서의 기울기 계산\n",
    "x_value = 5.0\n",
    "gradient_at_x = gradient_function(x_value)\n",
    "\n",
    "print(f\"x = {x_value}에서의 기울기: {gradient_at_x}\")"
   ]
  },
  {
   "cell_type": "markdown",
   "metadata": {},
   "source": [
    "### Astropy: 천문학 데이터 분석 및 시각화 라이브러리\n",
    "- https://www.astropy.org/\n",
    "- 천문학자들을 위해 만들어진 Python 라이브러리"
   ]
  },
  {
   "cell_type": "code",
   "execution_count": 1,
   "metadata": {},
   "outputs": [
    {
     "name": "stdout",
     "output_type": "stream",
     "text": [
      "Requirement already satisfied: astropy in d:\\01_programming\\100_hugobank\\mine\\works-need-it-python\\venv\\lib\\site-packages (6.1.7)\n",
      "Requirement already satisfied: numpy>=1.23 in d:\\01_programming\\100_hugobank\\mine\\works-need-it-python\\venv\\lib\\site-packages (from astropy) (2.0.2)\n",
      "Requirement already satisfied: pyerfa>=2.0.1.1 in d:\\01_programming\\100_hugobank\\mine\\works-need-it-python\\venv\\lib\\site-packages (from astropy) (2.0.1.5)\n",
      "Requirement already satisfied: astropy-iers-data>=0.2024.10.28.0.34.7 in d:\\01_programming\\100_hugobank\\mine\\works-need-it-python\\venv\\lib\\site-packages (from astropy) (0.2024.12.30.0.33.36)\n",
      "Requirement already satisfied: PyYAML>=3.13 in d:\\01_programming\\100_hugobank\\mine\\works-need-it-python\\venv\\lib\\site-packages (from astropy) (6.0.2)\n",
      "Requirement already satisfied: packaging>=19.0 in d:\\01_programming\\100_hugobank\\mine\\works-need-it-python\\venv\\lib\\site-packages (from astropy) (24.2)\n"
     ]
    }
   ],
   "source": [
    "# 설치\n",
    "!pip install astropy"
   ]
  },
  {
   "cell_type": "code",
   "execution_count": 2,
   "metadata": {},
   "outputs": [],
   "source": [
    "from astropy.coordinates import SkyCoord\n",
    "import astropy.units as u"
   ]
  },
  {
   "cell_type": "code",
   "execution_count": 3,
   "metadata": {},
   "outputs": [],
   "source": [
    "# 좌표 객체 생성 (RA = 10.68458도, Dec = 41.26917도, FK5 좌표계)\n",
    "coord = SkyCoord(ra=10.68458*u.degree, dec=41.26917*u.degree, frame='fk5')"
   ]
  },
  {
   "cell_type": "code",
   "execution_count": 4,
   "metadata": {},
   "outputs": [
    {
     "data": {
      "text/plain": [
       "<SkyCoord (Galactic): (l, b) in deg\n",
       "    (121.17423243, -21.57288672)>"
      ]
     },
     "execution_count": 4,
     "metadata": {},
     "output_type": "execute_result"
    }
   ],
   "source": [
    "# 좌표를 갈라틱 좌표계로 변환\n",
    "galactic_coord = coord.galactic\n",
    "\n",
    "galactic_coord"
   ]
  },
  {
   "cell_type": "markdown",
   "metadata": {},
   "source": [
    "### Biopython: 생물 정보학을 위한 파이썬 라이브러리\n",
    "- https://biopython.org/\n",
    "- 생물 정보학(bioinformatics)을 위한 Python 라이브러리\n",
    "- DNA, RNA, 단백질 시퀀스와 같은 생물학적 데이터를 다루는 연구자들에게 유용한 도구"
   ]
  },
  {
   "cell_type": "code",
   "execution_count": 5,
   "metadata": {},
   "outputs": [
    {
     "name": "stdout",
     "output_type": "stream",
     "text": [
      "Collecting biopython\n",
      "  Downloading biopython-1.84-cp310-cp310-win_amd64.whl.metadata (13 kB)\n",
      "Requirement already satisfied: numpy in d:\\01_programming\\100_hugobank\\mine\\works-need-it-python\\venv\\lib\\site-packages (from biopython) (2.0.2)\n",
      "Downloading biopython-1.84-cp310-cp310-win_amd64.whl (2.8 MB)\n",
      "   ---------------------------------------- 0.0/2.8 MB ? eta -:--:--\n",
      "   ---------------------------------------- 2.8/2.8 MB 32.4 MB/s eta 0:00:00\n",
      "Installing collected packages: biopython\n",
      "Successfully installed biopython-1.84\n"
     ]
    }
   ],
   "source": [
    "# 설치\n",
    "!pip install biopython"
   ]
  },
  {
   "cell_type": "code",
   "execution_count": 7,
   "metadata": {},
   "outputs": [],
   "source": [
    "from Bio.Seq import Seq\n",
    "from Bio.SeqUtils import GC123 as GC"
   ]
  },
  {
   "cell_type": "code",
   "execution_count": 8,
   "metadata": {},
   "outputs": [],
   "source": [
    "# DNA 시퀀스 생성\n",
    "my_seq = Seq(\"AGTACACTGGT\")"
   ]
  },
  {
   "cell_type": "code",
   "execution_count": 9,
   "metadata": {},
   "outputs": [],
   "source": [
    "# GC 함량 계산\n",
    "gc_content = GC(my_seq)"
   ]
  },
  {
   "cell_type": "code",
   "execution_count": 10,
   "metadata": {},
   "outputs": [
    {
     "name": "stdout",
     "output_type": "stream",
     "text": [
      "GC Content: (45.45454545454545, 50.0, 50.0, 33.333333333333336)%\n"
     ]
    }
   ],
   "source": [
    "print(f'GC Content: {gc_content}%')"
   ]
  },
  {
   "cell_type": "markdown",
   "metadata": {},
   "source": [
    "### KLayout: 집적 회로(IC) 설계를 위한 EDA 도구\n",
    "- https://www.klayout.de/\n",
    "- 집적 회로(IC) 설계를 위한 강력한 전자 디자인 자동화(EDA) 도구\n",
    "- 마스크 레이아웃 편집 및 검사에 사용\n",
    "- 설치 방법 아님"
   ]
  },
  {
   "cell_type": "markdown",
   "metadata": {},
   "source": [
    "### ObsPy: 지진학 데이터 분석 라이브러리\n",
    "- https://github.com/obspy/obspy/wiki/\n",
    "- 지진학 데이터의 처리와 분석을 위해 특별히 설계된 Python 라이브러리"
   ]
  },
  {
   "cell_type": "markdown",
   "metadata": {},
   "source": [
    "### PyKrige: 지리학적 데이터의 Kriging 기법을 위한 라이브러리\n",
    "- https://geostat-framework.readthedocs.io/projects/pykrige/en/stable/\n",
    "- pip install pykrige"
   ]
  },
  {
   "cell_type": "markdown",
   "metadata": {},
   "source": [
    "### PySpice: 전자 회로 시뮬레이션 라이브러리\n",
    "- https://pyspice.fabrice-salvaire.fr/\n",
    "- 전자 회로 시뮬레이션을 위해 사용되는 라이브러리\n",
    "-  SPICE(Simulation Program with Integrated Circuit Emphasis) 시뮬레이터를 기반"
   ]
  },
  {
   "cell_type": "markdown",
   "metadata": {},
   "source": [
    "### RDKit: 화학 정보학 및 분자 모델링 도구\n",
    "- https://www.rdkit.org/\n",
    "- 화학 정보학(cheminformatics) 및 분자 모델링을 위한 오픈 소스 Python 라이브러리"
   ]
  },
  {
   "cell_type": "markdown",
   "metadata": {},
   "source": [
    "### SimPy: Discrete event 시뮬레이션 프레임워크\n",
    "- https://simpy.readthedocs.io/en/latest/\n",
    "- 복잡한 시뮬레이션을 위한 프로세스 기반의 이산 사건(discrete-event) 시뮬레이션 프레임워크"
   ]
  },
  {
   "cell_type": "code",
   "execution_count": 11,
   "metadata": {},
   "outputs": [
    {
     "name": "stdout",
     "output_type": "stream",
     "text": [
      "Collecting simpy\n",
      "  Downloading simpy-4.1.1-py3-none-any.whl.metadata (6.1 kB)\n",
      "Downloading simpy-4.1.1-py3-none-any.whl (27 kB)\n",
      "Installing collected packages: simpy\n",
      "Successfully installed simpy-4.1.1\n"
     ]
    }
   ],
   "source": [
    "# 설치\n",
    "!pip install simpy"
   ]
  },
  {
   "cell_type": "code",
   "execution_count": 12,
   "metadata": {},
   "outputs": [],
   "source": [
    "import simpy"
   ]
  },
  {
   "cell_type": "code",
   "execution_count": 13,
   "metadata": {},
   "outputs": [
    {
     "name": "stdout",
     "output_type": "stream",
     "text": [
      "Customer 0 arrives at the bank at 0\n",
      "Customer 1 arrives at the bank at 0\n",
      "Customer 2 arrives at the bank at 0\n",
      "Customer 3 arrives at the bank at 0\n",
      "Customer 4 arrives at the bank at 0\n",
      "Customer 0 is served at 0\n",
      "Customer 1 is served at 0\n",
      "Customer 0 leaves the bank at 2\n",
      "Customer 1 leaves the bank at 2\n",
      "Customer 2 is served at 2\n",
      "Customer 3 is served at 2\n",
      "Customer 2 leaves the bank at 4\n",
      "Customer 3 leaves the bank at 4\n",
      "Customer 4 is served at 4\n",
      "Customer 4 leaves the bank at 6\n"
     ]
    }
   ],
   "source": [
    "def customer(env, name, counter):\n",
    "    \"\"\"고객 프로세스를 정의합니다.\"\"\"\n",
    "    print(f'{name} arrives at the bank at {env.now}')\n",
    "    with counter.request() as req:\n",
    "        yield req\n",
    "        print(f'{name} is served at {env.now}')\n",
    "        yield env.timeout(2)\n",
    "        print(f'{name} leaves the bank at {env.now}')\n",
    "\n",
    "env = simpy.Environment()\n",
    "counter = simpy.Resource(env, capacity=2)\n",
    "\n",
    "# 여러 고객 프로세스를 생성하고, 환경에 추가합니다.\n",
    "for i in range(5):\n",
    "    env.process(customer(env, f'Customer {i}', counter))\n",
    "\n",
    "env.run()"
   ]
  },
  {
   "cell_type": "markdown",
   "metadata": {},
   "source": [
    "### SimpleITK: 의료 이미지 처리와 분석 도구\n",
    "- https://simpleitk.org/\n",
    "- 의료 이미지 처리와 분석을 위한 오픈 소스 프레임워크"
   ]
  },
  {
   "cell_type": "markdown",
   "metadata": {},
   "source": [
    "### SymPy: 심볼릭 계산 라이브러리\n",
    "- https://www.sympy.org/en/index.html\n",
    "- 심볼릭 계산 라이브러리. 수학적 식을 기호로 다루며, 정확한 산술 연산을 제공"
   ]
  },
  {
   "cell_type": "code",
   "execution_count": 14,
   "metadata": {},
   "outputs": [
    {
     "name": "stdout",
     "output_type": "stream",
     "text": [
      "Requirement already satisfied: sympy in d:\\01_programming\\100_hugobank\\mine\\works-need-it-python\\venv\\lib\\site-packages (1.13.3)\n",
      "Requirement already satisfied: mpmath<1.4,>=1.1.0 in d:\\01_programming\\100_hugobank\\mine\\works-need-it-python\\venv\\lib\\site-packages (from sympy) (1.3.0)\n"
     ]
    }
   ],
   "source": [
    "# 설치\n",
    "!pip install sympy"
   ]
  },
  {
   "cell_type": "code",
   "execution_count": 15,
   "metadata": {},
   "outputs": [
    {
     "name": "stdout",
     "output_type": "stream",
     "text": [
      "[3 - 3*y/2]\n"
     ]
    }
   ],
   "source": [
    "from sympy import symbols, Eq, solve\n",
    "\n",
    "x, y = symbols('x y')\n",
    "equation = Eq(2*x + 3*y, 6)\n",
    "solution = solve(equation, x)\n",
    "print(solution)"
   ]
  },
  {
   "cell_type": "markdown",
   "metadata": {},
   "source": [
    "#### Latexify: 파이썬 함수를 LaTeX 문법으로 변환\n",
    "- LaTeX 문법으로 변환해주는 경량화된 라이브러리\n",
    "- 수학 함수나 수식을 직관적으로 표현"
   ]
  },
  {
   "cell_type": "code",
   "execution_count": 16,
   "metadata": {},
   "outputs": [
    {
     "name": "stdout",
     "output_type": "stream",
     "text": [
      "Collecting latexify-py\n",
      "  Downloading latexify_py-0.4.4-py3-none-any.whl.metadata (4.2 kB)\n",
      "Requirement already satisfied: dill>=0.3.2 in d:\\01_programming\\100_hugobank\\mine\\works-need-it-python\\venv\\lib\\site-packages (from latexify-py) (0.3.9)\n",
      "Downloading latexify_py-0.4.4-py3-none-any.whl (38 kB)\n",
      "Installing collected packages: latexify-py\n",
      "Successfully installed latexify-py-0.4.4\n"
     ]
    }
   ],
   "source": [
    "# 설치\n",
    "!pip install latexify-py"
   ]
  },
  {
   "cell_type": "markdown",
   "metadata": {},
   "source": [
    "##### 함수 LaTeX 변환"
   ]
  },
  {
   "cell_type": "code",
   "execution_count": 17,
   "metadata": {},
   "outputs": [],
   "source": [
    "import latexify\n",
    "import sympy as sp"
   ]
  },
  {
   "cell_type": "code",
   "execution_count": 18,
   "metadata": {},
   "outputs": [
    {
     "ename": "TypeError",
     "evalue": "complex_function() missing 3 required positional arguments: 'x', 'a', and 'b'",
     "output_type": "error",
     "traceback": [
      "\u001b[1;31m---------------------------------------------------------------------------\u001b[0m",
      "\u001b[1;31mTypeError\u001b[0m                                 Traceback (most recent call last)",
      "Cell \u001b[1;32mIn[18], line 5\u001b[0m\n\u001b[0;32m      1\u001b[0m \u001b[38;5;129m@latexify\u001b[39m\u001b[38;5;241m.\u001b[39mfunction\n\u001b[0;32m      2\u001b[0m \u001b[38;5;28;01mdef\u001b[39;00m \u001b[38;5;21mcomplex_function\u001b[39m(x, a, b):\n\u001b[0;32m      3\u001b[0m     \u001b[38;5;28;01mreturn\u001b[39;00m a \u001b[38;5;241m*\u001b[39m x\u001b[38;5;241m*\u001b[39m\u001b[38;5;241m*\u001b[39m\u001b[38;5;241m3\u001b[39m \u001b[38;5;241m+\u001b[39m b \u001b[38;5;241m/\u001b[39m (x \u001b[38;5;241m+\u001b[39m \u001b[38;5;241m1\u001b[39m)\n\u001b[1;32m----> 5\u001b[0m \u001b[38;5;28mprint\u001b[39m(\u001b[43mcomplex_function\u001b[49m\u001b[43m(\u001b[49m\u001b[43m)\u001b[49m)\n",
      "File \u001b[1;32md:\\01_Programming\\100_HugoBank\\Mine\\works-need-it-python\\venv\\lib\\site-packages\\latexify\\ipython_wrappers.py:38\u001b[0m, in \u001b[0;36mLatexifiedRepr.__call__\u001b[1;34m(self, *args)\u001b[0m\n\u001b[0;32m     37\u001b[0m \u001b[38;5;28;01mdef\u001b[39;00m \u001b[38;5;21m__call__\u001b[39m(\u001b[38;5;28mself\u001b[39m, \u001b[38;5;241m*\u001b[39margs) \u001b[38;5;241m-\u001b[39m\u001b[38;5;241m>\u001b[39m Any:\n\u001b[1;32m---> 38\u001b[0m     \u001b[38;5;28;01mreturn\u001b[39;00m \u001b[38;5;28;43mself\u001b[39;49m\u001b[38;5;241;43m.\u001b[39;49m\u001b[43m_fn\u001b[49m\u001b[43m(\u001b[49m\u001b[38;5;241;43m*\u001b[39;49m\u001b[43margs\u001b[49m\u001b[43m)\u001b[49m\n",
      "\u001b[1;31mTypeError\u001b[0m: complex_function() missing 3 required positional arguments: 'x', 'a', and 'b'"
     ]
    }
   ],
   "source": [
    "@latexify.function\n",
    "def complex_function(x, a, b):\n",
    "    return a * x**3 + b / (x + 1)\n",
    "\n",
    "print(complex_function())"
   ]
  },
  {
   "cell_type": "markdown",
   "metadata": {},
   "source": [
    "##### Jupyter Notebook에서 LaTeX 렌더링"
   ]
  },
  {
   "cell_type": "code",
   "execution_count": 19,
   "metadata": {},
   "outputs": [
    {
     "data": {
      "text/latex": [
       "$$ \\displaystyle \\mathrm{my\\_func}(x) = \\sin x + \\cos x $$"
      ],
      "text/plain": [
       "<latexify.ipython_wrappers.LatexifiedFunction at 0x1842e7a4340>"
      ]
     },
     "execution_count": 19,
     "metadata": {},
     "output_type": "execute_result"
    }
   ],
   "source": [
    "import latexify\n",
    "import sympy as sp\n",
    "\n",
    "# 함수에 데코레이터 추가\n",
    "@latexify.function\n",
    "def my_func(x):\n",
    "    return sp.sin(x) + sp.cos(x)\n",
    "\n",
    "# Jupyter Notebook에서 함수 호출\n",
    "my_func"
   ]
  },
  {
   "cell_type": "markdown",
   "metadata": {},
   "source": [
    "### yt: 천체물리학 및 우주론 시뮬레이션\n",
    "- https://yt-project.org/\n",
    "- 다차원 데이터를 분석하고 시각화하기 위한 Python 라이브러리\n",
    "- 천체물리학 및 우주론 시뮬레이션 데이터에 사용"
   ]
  },
  {
   "cell_type": "code",
   "execution_count": 20,
   "metadata": {},
   "outputs": [
    {
     "name": "stdout",
     "output_type": "stream",
     "text": [
      "Collecting yt\n",
      "  Downloading yt-4.4.0-cp310-cp310-win_amd64.whl.metadata (15 kB)\n",
      "Collecting cmyt>=1.1.2 (from yt)\n",
      "  Downloading cmyt-2.0.1-py3-none-any.whl.metadata (4.2 kB)\n",
      "Collecting ewah-bool-utils>=1.2.0 (from yt)\n",
      "  Downloading ewah_bool_utils-1.2.2-cp310-cp310-win_amd64.whl.metadata (1.5 kB)\n",
      "Requirement already satisfied: matplotlib>=3.5 in d:\\01_programming\\100_hugobank\\mine\\works-need-it-python\\venv\\lib\\site-packages (from yt) (3.10.0)\n",
      "Collecting more-itertools>=8.4 (from yt)\n",
      "  Downloading more_itertools-10.5.0-py3-none-any.whl.metadata (36 kB)\n",
      "Requirement already satisfied: numpy<3,>=1.21.3 in d:\\01_programming\\100_hugobank\\mine\\works-need-it-python\\venv\\lib\\site-packages (from yt) (2.0.2)\n",
      "Requirement already satisfied: packaging>=20.9 in d:\\01_programming\\100_hugobank\\mine\\works-need-it-python\\venv\\lib\\site-packages (from yt) (24.2)\n",
      "Requirement already satisfied: pillow>=8.3.2 in d:\\01_programming\\100_hugobank\\mine\\works-need-it-python\\venv\\lib\\site-packages (from yt) (10.4.0)\n",
      "Collecting tomli-w>=0.4.0 (from yt)\n",
      "  Downloading tomli_w-1.1.0-py3-none-any.whl.metadata (5.7 kB)\n",
      "Requirement already satisfied: tqdm>=3.4.0 in d:\\01_programming\\100_hugobank\\mine\\works-need-it-python\\venv\\lib\\site-packages (from yt) (4.67.1)\n",
      "Collecting unyt>=2.9.2 (from yt)\n",
      "  Downloading unyt-3.0.3-py3-none-any.whl.metadata (4.7 kB)\n",
      "Collecting tomli>=1.2.3 (from yt)\n",
      "  Downloading tomli-2.2.1-py3-none-any.whl.metadata (10 kB)\n",
      "Requirement already satisfied: typing-extensions>=4.4.0 in d:\\01_programming\\100_hugobank\\mine\\works-need-it-python\\venv\\lib\\site-packages (from yt) (4.12.2)\n",
      "Requirement already satisfied: contourpy>=1.0.1 in d:\\01_programming\\100_hugobank\\mine\\works-need-it-python\\venv\\lib\\site-packages (from matplotlib>=3.5->yt) (1.3.1)\n",
      "Requirement already satisfied: cycler>=0.10 in d:\\01_programming\\100_hugobank\\mine\\works-need-it-python\\venv\\lib\\site-packages (from matplotlib>=3.5->yt) (0.12.1)\n",
      "Requirement already satisfied: fonttools>=4.22.0 in d:\\01_programming\\100_hugobank\\mine\\works-need-it-python\\venv\\lib\\site-packages (from matplotlib>=3.5->yt) (4.55.3)\n",
      "Requirement already satisfied: kiwisolver>=1.3.1 in d:\\01_programming\\100_hugobank\\mine\\works-need-it-python\\venv\\lib\\site-packages (from matplotlib>=3.5->yt) (1.4.8)\n",
      "Requirement already satisfied: pyparsing>=2.3.1 in d:\\01_programming\\100_hugobank\\mine\\works-need-it-python\\venv\\lib\\site-packages (from matplotlib>=3.5->yt) (3.2.1)\n",
      "Requirement already satisfied: python-dateutil>=2.7 in d:\\01_programming\\100_hugobank\\mine\\works-need-it-python\\venv\\lib\\site-packages (from matplotlib>=3.5->yt) (2.9.0.post0)\n",
      "Requirement already satisfied: colorama in d:\\01_programming\\100_hugobank\\mine\\works-need-it-python\\venv\\lib\\site-packages (from tqdm>=3.4.0->yt) (0.4.6)\n",
      "Requirement already satisfied: sympy>=1.7 in d:\\01_programming\\100_hugobank\\mine\\works-need-it-python\\venv\\lib\\site-packages (from unyt>=2.9.2->yt) (1.13.3)\n",
      "Requirement already satisfied: six>=1.5 in d:\\01_programming\\100_hugobank\\mine\\works-need-it-python\\venv\\lib\\site-packages (from python-dateutil>=2.7->matplotlib>=3.5->yt) (1.17.0)\n",
      "Requirement already satisfied: mpmath<1.4,>=1.1.0 in d:\\01_programming\\100_hugobank\\mine\\works-need-it-python\\venv\\lib\\site-packages (from sympy>=1.7->unyt>=2.9.2->yt) (1.3.0)\n",
      "Downloading yt-4.4.0-cp310-cp310-win_amd64.whl (16.1 MB)\n",
      "   ---------------------------------------- 0.0/16.1 MB ? eta -:--:--\n",
      "   -- ------------------------------------- 1.0/16.1 MB 25.4 MB/s eta 0:00:01\n",
      "   ----- ---------------------------------- 2.1/16.1 MB 7.8 MB/s eta 0:00:02\n",
      "   --------- ------------------------------ 3.9/16.1 MB 6.0 MB/s eta 0:00:03\n",
      "   ------------- -------------------------- 5.2/16.1 MB 6.0 MB/s eta 0:00:02\n",
      "   --------------- ------------------------ 6.3/16.1 MB 5.8 MB/s eta 0:00:02\n",
      "   ------------------ --------------------- 7.3/16.1 MB 5.7 MB/s eta 0:00:02\n",
      "   -------------------- ------------------- 8.4/16.1 MB 5.5 MB/s eta 0:00:02\n",
      "   ----------------------- ---------------- 9.4/16.1 MB 5.5 MB/s eta 0:00:02\n",
      "   -------------------------- ------------- 10.5/16.1 MB 5.5 MB/s eta 0:00:02\n",
      "   ---------------------------- ----------- 11.5/16.1 MB 5.5 MB/s eta 0:00:01\n",
      "   ------------------------------- -------- 12.6/16.1 MB 5.4 MB/s eta 0:00:01\n",
      "   --------------------------------- ------ 13.6/16.1 MB 5.4 MB/s eta 0:00:01\n",
      "   ------------------------------------ --- 14.7/16.1 MB 5.4 MB/s eta 0:00:01\n",
      "   ---------------------------------------  15.7/16.1 MB 5.3 MB/s eta 0:00:01\n",
      "   ---------------------------------------  15.7/16.1 MB 5.3 MB/s eta 0:00:01\n",
      "   ---------------------------------------- 16.1/16.1 MB 4.7 MB/s eta 0:00:00\n",
      "Downloading cmyt-2.0.1-py3-none-any.whl (30 kB)\n",
      "Downloading ewah_bool_utils-1.2.2-cp310-cp310-win_amd64.whl (999 kB)\n",
      "   ---------------------------------------- 0.0/999.9 kB ? eta -:--:--\n",
      "   --------------------------------------- 999.9/999.9 kB 23.1 MB/s eta 0:00:00\n",
      "Downloading more_itertools-10.5.0-py3-none-any.whl (60 kB)\n",
      "Downloading tomli-2.2.1-py3-none-any.whl (14 kB)\n",
      "Downloading tomli_w-1.1.0-py3-none-any.whl (6.4 kB)\n",
      "Downloading unyt-3.0.3-py3-none-any.whl (126 kB)\n",
      "Installing collected packages: tomli-w, tomli, more-itertools, ewah-bool-utils, unyt, cmyt, yt\n",
      "Successfully installed cmyt-2.0.1 ewah-bool-utils-1.2.2 more-itertools-10.5.0 tomli-2.2.1 tomli-w-1.1.0 unyt-3.0.3 yt-4.4.0\n"
     ]
    }
   ],
   "source": [
    "# 설치\n",
    "!pip install yt"
   ]
  },
  {
   "cell_type": "code",
   "execution_count": 21,
   "metadata": {},
   "outputs": [],
   "source": [
    "import yt"
   ]
  },
  {
   "cell_type": "code",
   "execution_count": 22,
   "metadata": {},
   "outputs": [
    {
     "name": "stderr",
     "output_type": "stream",
     "text": [
      "d:\\01_Programming\\100_HugoBank\\Mine\\works-need-it-python\\venv\\lib\\site-packages\\yt\\sample_data\\api.py:150: UserWarning: Storage directory from yt config doesn't exist (currently set to '\\does\\not\\exist'). Current working directory will be used instead.\n",
      "  warn(\n"
     ]
    },
    {
     "ename": "FileNotFoundError",
     "evalue": "No such file or directory: 'IsolatedGalaxy/galaxy0030/galaxy0030'.",
     "output_type": "error",
     "traceback": [
      "\u001b[1;31m---------------------------------------------------------------------------\u001b[0m",
      "\u001b[1;31mFileNotFoundError\u001b[0m                         Traceback (most recent call last)",
      "Cell \u001b[1;32mIn[22], line 2\u001b[0m\n\u001b[0;32m      1\u001b[0m \u001b[38;5;66;03m# 시뮬레이션 데이터 로드\u001b[39;00m\n\u001b[1;32m----> 2\u001b[0m ds \u001b[38;5;241m=\u001b[39m \u001b[43myt\u001b[49m\u001b[38;5;241;43m.\u001b[39;49m\u001b[43mload\u001b[49m\u001b[43m(\u001b[49m\u001b[38;5;124;43m\"\u001b[39;49m\u001b[38;5;124;43mIsolatedGalaxy/galaxy0030/galaxy0030\u001b[39;49m\u001b[38;5;124;43m\"\u001b[39;49m\u001b[43m)\u001b[49m\n\u001b[0;32m      4\u001b[0m \u001b[38;5;66;03m# 데이터의 2D 슬라이스 플롯 생성\u001b[39;00m\n\u001b[0;32m      5\u001b[0m p \u001b[38;5;241m=\u001b[39m yt\u001b[38;5;241m.\u001b[39mSlicePlot(ds, \u001b[38;5;124m'\u001b[39m\u001b[38;5;124mz\u001b[39m\u001b[38;5;124m'\u001b[39m, \u001b[38;5;124m'\u001b[39m\u001b[38;5;124mdensity\u001b[39m\u001b[38;5;124m'\u001b[39m)\n",
      "File \u001b[1;32md:\\01_Programming\\100_HugoBank\\Mine\\works-need-it-python\\venv\\lib\\site-packages\\yt\\_maintenance\\deprecation.py:68\u001b[0m, in \u001b[0;36mfuture_positional_only.<locals>.outer.<locals>.inner\u001b[1;34m(*args, **kwargs)\u001b[0m\n\u001b[0;32m     59\u001b[0m     value \u001b[38;5;241m=\u001b[39m kwargs[name]\n\u001b[0;32m     60\u001b[0m     issue_deprecation_warning(\n\u001b[0;32m     61\u001b[0m         \u001b[38;5;124mf\u001b[39m\u001b[38;5;124m\"\u001b[39m\u001b[38;5;124mUsing the \u001b[39m\u001b[38;5;132;01m{\u001b[39;00mname\u001b[38;5;132;01m!r}\u001b[39;00m\u001b[38;5;124m argument as keyword (on position \u001b[39m\u001b[38;5;132;01m{\u001b[39;00mno\u001b[38;5;132;01m}\u001b[39;00m\u001b[38;5;124m) \u001b[39m\u001b[38;5;124m\"\u001b[39m\n\u001b[0;32m     62\u001b[0m         \u001b[38;5;124m\"\u001b[39m\u001b[38;5;124mis deprecated. \u001b[39m\u001b[38;5;124m\"\u001b[39m\n\u001b[1;32m   (...)\u001b[0m\n\u001b[0;32m     66\u001b[0m         \u001b[38;5;241m*\u001b[39m\u001b[38;5;241m*\u001b[39mdepr_kwargs,\n\u001b[0;32m     67\u001b[0m     )\n\u001b[1;32m---> 68\u001b[0m \u001b[38;5;28;01mreturn\u001b[39;00m func(\u001b[38;5;241m*\u001b[39margs, \u001b[38;5;241m*\u001b[39m\u001b[38;5;241m*\u001b[39mkwargs)\n",
      "File \u001b[1;32md:\\01_Programming\\100_HugoBank\\Mine\\works-need-it-python\\venv\\lib\\site-packages\\yt\\loaders.py:111\u001b[0m, in \u001b[0;36mload\u001b[1;34m(fn, hint, *args, **kwargs)\u001b[0m\n\u001b[0;32m    108\u001b[0m \u001b[38;5;66;03m# This will raise FileNotFoundError if the path isn't matched\u001b[39;00m\n\u001b[0;32m    109\u001b[0m \u001b[38;5;66;03m# either in the current dir or yt.config.ytcfg['data_dir_directory']\u001b[39;00m\n\u001b[0;32m    110\u001b[0m \u001b[38;5;28;01mif\u001b[39;00m \u001b[38;5;129;01mnot\u001b[39;00m fn\u001b[38;5;241m.\u001b[39mstartswith(\u001b[38;5;124m\"\u001b[39m\u001b[38;5;124mhttp\u001b[39m\u001b[38;5;124m\"\u001b[39m):\n\u001b[1;32m--> 111\u001b[0m     fn \u001b[38;5;241m=\u001b[39m \u001b[38;5;28mstr\u001b[39m(\u001b[43mlookup_on_disk_data\u001b[49m\u001b[43m(\u001b[49m\u001b[43mfn\u001b[49m\u001b[43m)\u001b[49m)\n\u001b[0;32m    113\u001b[0m external_frontends \u001b[38;5;241m=\u001b[39m entry_points(group\u001b[38;5;241m=\u001b[39m\u001b[38;5;124m\"\u001b[39m\u001b[38;5;124myt.frontends\u001b[39m\u001b[38;5;124m\"\u001b[39m)\n\u001b[0;32m    115\u001b[0m \u001b[38;5;66;03m# Ensure that external frontends are loaded\u001b[39;00m\n",
      "File \u001b[1;32md:\\01_Programming\\100_HugoBank\\Mine\\works-need-it-python\\venv\\lib\\site-packages\\yt\\sample_data\\api.py:187\u001b[0m, in \u001b[0;36mlookup_on_disk_data\u001b[1;34m(fn)\u001b[0m\n\u001b[0;32m    185\u001b[0m         \u001b[38;5;28;01mreturn\u001b[39;00m alt_path\n\u001b[0;32m    186\u001b[0m     err_msg \u001b[38;5;241m+\u001b[39m\u001b[38;5;241m=\u001b[39m \u001b[38;5;124mf\u001b[39m\u001b[38;5;124m\"\u001b[39m\u001b[38;5;130;01m\\n\u001b[39;00m\u001b[38;5;124m(Also tried \u001b[39m\u001b[38;5;124m'\u001b[39m\u001b[38;5;132;01m{\u001b[39;00malt_path\u001b[38;5;132;01m}\u001b[39;00m\u001b[38;5;124m'\u001b[39m\u001b[38;5;124m).\u001b[39m\u001b[38;5;124m\"\u001b[39m\n\u001b[1;32m--> 187\u001b[0m \u001b[38;5;28;01mraise\u001b[39;00m \u001b[38;5;167;01mFileNotFoundError\u001b[39;00m(err_msg)\n",
      "\u001b[1;31mFileNotFoundError\u001b[0m: No such file or directory: 'IsolatedGalaxy/galaxy0030/galaxy0030'."
     ]
    }
   ],
   "source": [
    "# 시뮬레이션 데이터 로드\n",
    "ds = yt.load(\"IsolatedGalaxy/galaxy0030/galaxy0030\")\n",
    "\n",
    "# 데이터의 2D 슬라이스 플롯 생성\n",
    "p = yt.SlicePlot(ds, 'z', 'density')\n",
    "\n",
    "# 플롯 표시\n",
    "p.show()"
   ]
  }
 ],
 "metadata": {
  "kernelspec": {
   "display_name": "venv",
   "language": "python",
   "name": "python3"
  },
  "language_info": {
   "codemirror_mode": {
    "name": "ipython",
    "version": 3
   },
   "file_extension": ".py",
   "mimetype": "text/x-python",
   "name": "python",
   "nbconvert_exporter": "python",
   "pygments_lexer": "ipython3",
   "version": "3.10.10"
  }
 },
 "nbformat": 4,
 "nbformat_minor": 2
}
