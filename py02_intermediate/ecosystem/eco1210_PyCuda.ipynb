{
 "cells": [
  {
   "cell_type": "markdown",
   "id": "131b0b80",
   "metadata": {},
   "source": [
    "## 장치관리\n",
    "\n",
    "### [PyCUDA]() : CUDA 바인딩 라이브러리\n",
    "- Python을 위한 CUDA(Compute Unified Device Architecture) 바인딩 라이브러리\n",
    "- PyCUDA를 사용하면 Python 코드 내에서 직접 CUDA 함수를 호출하고, 고성능 GPU 연산을 수행 가능\n",
    "\n",
    "- 설치\n",
    "\n",
    "    ```shell\n",
    "    > pip install pycuda\n",
    "    ```"
   ]
  },
  {
   "cell_type": "markdown",
   "id": "17043b95",
   "metadata": {},
   "source": [
    "#### 주요기능\n",
    "- 직접적인 CUDA 프로그래밍: Python 내에서 CUDA C 코드를 작성하고 실행\n",
    "- GPU 메모리 관리: GPU 메모리 할당 및 해제, 데이터 전송 관리\n",
    "- 커스텀 커널 작성: 사용자 정의 CUDA 커널 작성 및 실행 지원\n",
    "- 자동 메모리 관리: Python 객체의 수명에 따른 자동 GPU 메모리 관리"
   ]
  },
  {
   "cell_type": "code",
   "execution_count": null,
   "id": "1e1a9f28",
   "metadata": {},
   "outputs": [
    {
     "name": "stdout",
     "output_type": "stream",
     "text": [
      "Collecting pycuda\n",
      "  Downloading pycuda-2025.1.tar.gz (1.7 MB)\n",
      "     ---------------------------------------- 0.0/1.7 MB ? eta -:--:--\n",
      "     ---------------------------------------- 1.7/1.7 MB 30.4 MB/s eta 0:00:00\n",
      "  Installing build dependencies: started\n",
      "  Installing build dependencies: finished with status 'done'\n",
      "  Getting requirements to build wheel: started\n",
      "  Getting requirements to build wheel: finished with status 'done'\n",
      "  Preparing metadata (pyproject.toml): started\n",
      "  Preparing metadata (pyproject.toml): finished with status 'done'\n",
      "Collecting pytools>=2011.2 (from pycuda)\n",
      "  Downloading pytools-2025.1.2-py3-none-any.whl.metadata (3.0 kB)\n",
      "Requirement already satisfied: platformdirs>=2.2.0 in d:\\01_programming\\100_hugobank\\mine\\works-need-it-python\\venv_thrd\\lib\\site-packages (from pycuda) (4.3.6)\n",
      "Requirement already satisfied: mako in d:\\01_programming\\100_hugobank\\mine\\works-need-it-python\\venv_thrd\\lib\\site-packages (from pycuda) (1.3.8)\n",
      "Requirement already satisfied: typing-extensions>=4.5 in d:\\01_programming\\100_hugobank\\mine\\works-need-it-python\\venv_thrd\\lib\\site-packages (from pytools>=2011.2->pycuda) (4.12.2)\n",
      "Requirement already satisfied: MarkupSafe>=0.9.2 in d:\\01_programming\\100_hugobank\\mine\\works-need-it-python\\venv_thrd\\lib\\site-packages (from mako->pycuda) (3.0.2)\n",
      "Downloading pytools-2025.1.2-py3-none-any.whl (92 kB)\n",
      "Building wheels for collected packages: pycuda\n",
      "  Building wheel for pycuda (pyproject.toml): started\n",
      "  Building wheel for pycuda (pyproject.toml): still running...\n",
      "  Building wheel for pycuda (pyproject.toml): still running...\n",
      "  Building wheel for pycuda (pyproject.toml): finished with status 'done'\n",
      "  Created wheel for pycuda: filename=pycuda-2025.1-cp310-cp310-win_amd64.whl size=373676 sha256=80a900b494af51cce3b8dfff189d660a0188fc123229e5aa13a8514e0db68757\n",
      "  Stored in directory: c:\\users\\perso\\appdata\\local\\pip\\cache\\wheels\\65\\53\\5f\\f5f184c26b7cc503acb77f3456531a6e1fac0ce30c774b9d82\n",
      "Successfully built pycuda\n",
      "Installing collected packages: pytools, pycuda\n",
      "Successfully installed pycuda-2025.1 pytools-2025.1.2\n"
     ]
    },
    {
     "name": "stderr",
     "output_type": "stream",
     "text": [
      "\n",
      "[notice] A new release of pip is available: 24.3.1 -> 25.0.1\n",
      "[notice] To update, run: python.exe -m pip install --upgrade pip\n"
     ]
    },
    {
     "ename": "",
     "evalue": "",
     "output_type": "error",
     "traceback": [
      "\u001b[1;31m현재 셀 또는 이전 셀에서 코드를 실행하는 동안 Kernel이 충돌했습니다. \n",
      "\u001b[1;31m셀의 코드를 검토하여 가능한 오류 원인을 식별하세요. \n",
      "\u001b[1;31m자세한 내용을 보려면 <a href='https://aka.ms/vscodeJupyterKernelCrash'>여기</a>를 클릭하세요. \n",
      "\u001b[1;31m자세한 내용은 Jupyter <a href='command:jupyter.viewOutput'>로그</a>를 참조하세요."
     ]
    }
   ],
   "source": [
    "!pip install pycuda"
   ]
  },
  {
   "cell_type": "markdown",
   "id": "ba6b380a",
   "metadata": {},
   "source": [
    "#### 사용예"
   ]
  },
  {
   "cell_type": "code",
   "execution_count": 2,
   "id": "4b95721e",
   "metadata": {},
   "outputs": [],
   "source": [
    "import pycuda.autoinit\n",
    "import pycuda.driver as cuda\n",
    "import numpy\n",
    "\n",
    "# NumPy 배열 초기화\n",
    "a = numpy.random.randn(4,4)\n",
    "\n",
    "# 배열을 단일 정밀도로 변환\n",
    "a = a.astype(numpy.float32)\n",
    "\n",
    "# GPU에 메모리 할당 및 데이터 전송\n",
    "a_gpu = cuda.mem_alloc(a.nbytes)\n",
    "cuda.memcpy_htod(a_gpu, a)"
   ]
  },
  {
   "cell_type": "code",
   "execution_count": 3,
   "id": "0d7c5ca9",
   "metadata": {},
   "outputs": [
    {
     "data": {
      "text/plain": [
       "<pycuda._driver.DeviceAllocation at 0x1b6f4027700>"
      ]
     },
     "execution_count": 3,
     "metadata": {},
     "output_type": "execute_result"
    }
   ],
   "source": [
    "a_gpu"
   ]
  }
 ],
 "metadata": {
  "kernelspec": {
   "display_name": "venv_thrd",
   "language": "python",
   "name": "python3"
  },
  "language_info": {
   "codemirror_mode": {
    "name": "ipython",
    "version": 3
   },
   "file_extension": ".py",
   "mimetype": "text/x-python",
   "name": "python",
   "nbconvert_exporter": "python",
   "pygments_lexer": "ipython3",
   "version": "3.10.10"
  }
 },
 "nbformat": 4,
 "nbformat_minor": 5
}
