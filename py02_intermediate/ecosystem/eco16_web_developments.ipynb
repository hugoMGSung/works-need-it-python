{
 "cells": [
  {
   "cell_type": "markdown",
   "metadata": {},
   "source": [
    "## 웹 개발발\n",
    "\n",
    "### BeautifulSoup: 웹 데이터 추출을 위한 도구\n",
    "\n",
    "- https://www.crummy.com/software/BeautifulSoup/\n",
    "\n",
    "Python으로 HTML 및 XML 파일을 파싱하기 위한 라이브러리 "
   ]
  },
  {
   "cell_type": "code",
   "execution_count": 1,
   "metadata": {},
   "outputs": [
    {
     "name": "stdout",
     "output_type": "stream",
     "text": [
      "Collecting beautifulsoup4\n",
      "  Using cached beautifulsoup4-4.12.3-py3-none-any.whl.metadata (3.8 kB)\n",
      "Collecting soupsieve>1.2 (from beautifulsoup4)\n",
      "  Using cached soupsieve-2.6-py3-none-any.whl.metadata (4.6 kB)\n",
      "Using cached beautifulsoup4-4.12.3-py3-none-any.whl (147 kB)\n",
      "Using cached soupsieve-2.6-py3-none-any.whl (36 kB)\n",
      "Installing collected packages: soupsieve, beautifulsoup4\n",
      "Successfully installed beautifulsoup4-4.12.3 soupsieve-2.6\n"
     ]
    }
   ],
   "source": [
    "!pip install beautifulsoup4"
   ]
  },
  {
   "cell_type": "code",
   "execution_count": 2,
   "metadata": {},
   "outputs": [
    {
     "name": "stdout",
     "output_type": "stream",
     "text": [
      "Page Title: Example Domain\n",
      "Hyperlink: https://www.iana.org/domains/example\n"
     ]
    }
   ],
   "source": [
    "from bs4 import BeautifulSoup\n",
    "import requests\n",
    "\n",
    "# 웹 페이지 가져오기\n",
    "response = requests.get(\"https://example.com\")\n",
    "data = response.text\n",
    "\n",
    "# BeautifulSoup 객체 생성\n",
    "soup = BeautifulSoup(data, 'html.parser')\n",
    "\n",
    "# 타이틀 태그 찾기\n",
    "title = soup.find('title')\n",
    "print(\"Page Title:\", title.text)\n",
    "\n",
    "# 모든 하이퍼링크 찾기\n",
    "for link in soup.find_all('a'):\n",
    "    print(\"Hyperlink:\", link.get('href'))"
   ]
  },
  {
   "cell_type": "markdown",
   "metadata": {},
   "source": [
    "### HTTPX: 최신 비동기 HTTP 클라이언트\n",
    "\n",
    "- https://www.python-httpx.org/\n",
    "\n",
    "최신 비동기 HTTP 클라이언트 라이브러리. requests 라이브러리의 사용 편의성을 유지하면서 비동기 기능을 제공하고, HTTP/1.1, HTTP/2, 및 자동 콘텐츠 디코딩 등의 현대적 기능을 지원"
   ]
  },
  {
   "cell_type": "code",
   "execution_count": 4,
   "metadata": {},
   "outputs": [
    {
     "name": "stdout",
     "output_type": "stream",
     "text": [
      "Collecting httpx\n",
      "  Using cached httpx-0.28.1-py3-none-any.whl.metadata (7.1 kB)\n",
      "Requirement already satisfied: anyio in d:\\01_programming\\100_hugobank\\mine\\works-need-it-python\\snd_env\\lib\\site-packages (from httpx) (4.7.0)\n",
      "Requirement already satisfied: certifi in d:\\01_programming\\100_hugobank\\mine\\works-need-it-python\\snd_env\\lib\\site-packages (from httpx) (2024.12.14)\n",
      "Collecting httpcore==1.* (from httpx)\n",
      "  Using cached httpcore-1.0.7-py3-none-any.whl.metadata (21 kB)\n",
      "Requirement already satisfied: idna in d:\\01_programming\\100_hugobank\\mine\\works-need-it-python\\snd_env\\lib\\site-packages (from httpx) (3.10)\n",
      "Requirement already satisfied: h11<0.15,>=0.13 in d:\\01_programming\\100_hugobank\\mine\\works-need-it-python\\snd_env\\lib\\site-packages (from httpcore==1.*->httpx) (0.14.0)\n",
      "Requirement already satisfied: exceptiongroup>=1.0.2 in d:\\01_programming\\100_hugobank\\mine\\works-need-it-python\\snd_env\\lib\\site-packages (from anyio->httpx) (1.2.2)\n",
      "Requirement already satisfied: sniffio>=1.1 in d:\\01_programming\\100_hugobank\\mine\\works-need-it-python\\snd_env\\lib\\site-packages (from anyio->httpx) (1.3.1)\n",
      "Requirement already satisfied: typing_extensions>=4.5 in d:\\01_programming\\100_hugobank\\mine\\works-need-it-python\\snd_env\\lib\\site-packages (from anyio->httpx) (4.12.2)\n",
      "Using cached httpx-0.28.1-py3-none-any.whl (73 kB)\n",
      "Using cached httpcore-1.0.7-py3-none-any.whl (78 kB)\n",
      "Installing collected packages: httpcore, httpx\n",
      "Successfully installed httpcore-1.0.7 httpx-0.28.1\n"
     ]
    }
   ],
   "source": [
    "!pip install httpx"
   ]
  },
  {
   "cell_type": "code",
   "execution_count": 5,
   "metadata": {},
   "outputs": [
    {
     "name": "stdout",
     "output_type": "stream",
     "text": [
      "200\n",
      "<!doctype html>\n",
      "<html>\n",
      "<head>\n",
      "    <title>Example Domain</title>\n",
      "\n",
      "    <meta charset=\"utf-8\" />\n",
      "    <meta http-equiv=\"Content-type\" content=\"text/html; charset=utf-8\" />\n",
      "    <meta name=\"viewport\" content=\"width=device-width, initial-scale=1\" />\n",
      "    <style type=\"text/css\">\n",
      "    body {\n",
      "        background-color: #f0f0f2;\n",
      "        margin: 0;\n",
      "        padding: 0;\n",
      "        font-family: -apple-system, system-ui, BlinkMacSystemFont, \"Segoe UI\", \"Open Sans\", \"Helvetica Neue\", Helvetica, Arial, sans-serif;\n",
      "        \n",
      "    }\n",
      "    div {\n",
      "        width: 600px;\n",
      "        margin: 5em auto;\n",
      "        padding: 2em;\n",
      "        background-color: #fdfdff;\n",
      "        border-radius: 0.5em;\n",
      "        box-shadow: 2px 3px 7px 2px rgba(0,0,0,0.02);\n",
      "    }\n",
      "    a:link, a:visited {\n",
      "        color: #38488f;\n",
      "        text-decoration: none;\n",
      "    }\n",
      "    @media (max-width: 700px) {\n",
      "        div {\n",
      "            margin: 0 auto;\n",
      "            width: auto;\n",
      "        }\n",
      "    }\n",
      "    </style>    \n",
      "</head>\n",
      "\n",
      "<body>\n",
      "<div>\n",
      "    <h1>Example Domain</h1>\n",
      "    <p>This domain is for use in illustrative examples in documents. You may use this\n",
      "    domain in literature without prior coordination or asking for permission.</p>\n",
      "    <p><a href=\"https://www.iana.org/domains/example\">More information...</a></p>\n",
      "</div>\n",
      "</body>\n",
      "</html>\n",
      "\n"
     ]
    }
   ],
   "source": [
    "# 동기코드\n",
    "import httpx\n",
    "\n",
    "response = httpx.get('https://www.example.com/')\n",
    "print(response.status_code)\n",
    "print(response.text)"
   ]
  },
  {
   "cell_type": "code",
   "execution_count": null,
   "metadata": {},
   "outputs": [],
   "source": [
    "# 비동기 코드 / .py 에서 실행\n",
    "import httpx\n",
    "import asyncio\n",
    "\n",
    "async def main():\n",
    "    async with httpx.AsyncClient() as client:\n",
    "        response = await client.get('https://www.example.com/')\n",
    "        print(response.status_code)\n",
    "        print(response.text)\n",
    "\n",
    "asyncio.run(main())"
   ]
  },
  {
   "cell_type": "markdown",
   "metadata": {},
   "source": [
    "### MechanicalSoup: 자동화 + 웹 스크레이핑 라이브러리\n",
    "\n",
    "- http://mechanicalsoup.readthedocs.io/\n",
    "\n",
    "파이썬으로 웹 스크레이핑을 수행할 수 있게 해주는 라이브러리. 웹 페이지의 HTML을 파싱하고, 폼을 채우고, 버튼을 클릭하는 등의 동작을 자동화"
   ]
  },
  {
   "cell_type": "code",
   "execution_count": 7,
   "metadata": {},
   "outputs": [
    {
     "name": "stdout",
     "output_type": "stream",
     "text": [
      "Collecting MechanicalSoup\n",
      "  Downloading MechanicalSoup-1.3.0-py3-none-any.whl.metadata (6.0 kB)\n",
      "Requirement already satisfied: requests>=2.22.0 in d:\\01_programming\\100_hugobank\\mine\\works-need-it-python\\snd_env\\lib\\site-packages (from MechanicalSoup) (2.32.3)\n",
      "Requirement already satisfied: beautifulsoup4>=4.7 in d:\\01_programming\\100_hugobank\\mine\\works-need-it-python\\snd_env\\lib\\site-packages (from MechanicalSoup) (4.12.3)\n",
      "Collecting lxml (from MechanicalSoup)\n",
      "  Using cached lxml-5.3.0-cp310-cp310-win_amd64.whl.metadata (3.9 kB)\n",
      "Requirement already satisfied: soupsieve>1.2 in d:\\01_programming\\100_hugobank\\mine\\works-need-it-python\\snd_env\\lib\\site-packages (from beautifulsoup4>=4.7->MechanicalSoup) (2.6)\n",
      "Requirement already satisfied: charset-normalizer<4,>=2 in d:\\01_programming\\100_hugobank\\mine\\works-need-it-python\\snd_env\\lib\\site-packages (from requests>=2.22.0->MechanicalSoup) (3.4.1)\n",
      "Requirement already satisfied: idna<4,>=2.5 in d:\\01_programming\\100_hugobank\\mine\\works-need-it-python\\snd_env\\lib\\site-packages (from requests>=2.22.0->MechanicalSoup) (3.10)\n",
      "Requirement already satisfied: urllib3<3,>=1.21.1 in d:\\01_programming\\100_hugobank\\mine\\works-need-it-python\\snd_env\\lib\\site-packages (from requests>=2.22.0->MechanicalSoup) (2.3.0)\n",
      "Requirement already satisfied: certifi>=2017.4.17 in d:\\01_programming\\100_hugobank\\mine\\works-need-it-python\\snd_env\\lib\\site-packages (from requests>=2.22.0->MechanicalSoup) (2024.12.14)\n",
      "Downloading MechanicalSoup-1.3.0-py3-none-any.whl (19 kB)\n",
      "Using cached lxml-5.3.0-cp310-cp310-win_amd64.whl (3.8 MB)\n",
      "Installing collected packages: lxml, MechanicalSoup\n",
      "Successfully installed MechanicalSoup-1.3.0 lxml-5.3.0\n"
     ]
    }
   ],
   "source": [
    "!pip install MechanicalSoup"
   ]
  },
  {
   "cell_type": "code",
   "execution_count": 10,
   "metadata": {},
   "outputs": [
    {
     "name": "stdout",
     "output_type": "stream",
     "text": [
      "Requirement already satisfied: lxml in d:\\01_programming\\100_hugobank\\mine\\works-need-it-python\\snd_env\\lib\\site-packages (5.3.0)\n"
     ]
    }
   ],
   "source": [
    "!pip install lxml"
   ]
  },
  {
   "cell_type": "code",
   "execution_count": 11,
   "metadata": {},
   "outputs": [
    {
     "ename": "FeatureNotFound",
     "evalue": "Couldn't find a tree builder with the features you requested: lxml. Do you need to install a parser library?",
     "output_type": "error",
     "traceback": [
      "\u001b[1;31m---------------------------------------------------------------------------\u001b[0m",
      "\u001b[1;31mFeatureNotFound\u001b[0m                           Traceback (most recent call last)",
      "Cell \u001b[1;32mIn[11], line 7\u001b[0m\n\u001b[0;32m      4\u001b[0m browser \u001b[38;5;241m=\u001b[39m mechanicalsoup\u001b[38;5;241m.\u001b[39mStatefulBrowser()\n\u001b[0;32m      6\u001b[0m \u001b[38;5;66;03m# 웹 페이지 열기\u001b[39;00m\n\u001b[1;32m----> 7\u001b[0m \u001b[43mbrowser\u001b[49m\u001b[38;5;241;43m.\u001b[39;49m\u001b[43mopen\u001b[49m\u001b[43m(\u001b[49m\u001b[38;5;124;43m\"\u001b[39;49m\u001b[38;5;124;43mhttps://example.com/\u001b[39;49m\u001b[38;5;124;43m\"\u001b[39;49m\u001b[43m)\u001b[49m\n\u001b[0;32m      9\u001b[0m \u001b[38;5;66;03m# 현재 페이지의 HTML 출력\u001b[39;00m\n\u001b[0;32m     10\u001b[0m \u001b[38;5;28mprint\u001b[39m(browser\u001b[38;5;241m.\u001b[39mpage)\n",
      "File \u001b[1;32md:\\01_Programming\\100_HugoBank\\Mine\\works-need-it-python\\snd_env\\lib\\site-packages\\mechanicalsoup\\stateful_browser.py:148\u001b[0m, in \u001b[0;36mStatefulBrowser.open\u001b[1;34m(self, url, *args, **kwargs)\u001b[0m\n\u001b[0;32m    145\u001b[0m \u001b[38;5;28;01melif\u001b[39;00m \u001b[38;5;28mself\u001b[39m\u001b[38;5;241m.\u001b[39m__verbose \u001b[38;5;241m>\u001b[39m\u001b[38;5;241m=\u001b[39m \u001b[38;5;241m2\u001b[39m:\n\u001b[0;32m    146\u001b[0m     \u001b[38;5;28mprint\u001b[39m(url)\n\u001b[1;32m--> 148\u001b[0m resp \u001b[38;5;241m=\u001b[39m \u001b[38;5;28mself\u001b[39m\u001b[38;5;241m.\u001b[39mget(url, \u001b[38;5;241m*\u001b[39margs, \u001b[38;5;241m*\u001b[39m\u001b[38;5;241m*\u001b[39mkwargs)\n\u001b[0;32m    149\u001b[0m \u001b[38;5;28mself\u001b[39m\u001b[38;5;241m.\u001b[39m__state \u001b[38;5;241m=\u001b[39m _BrowserState(page\u001b[38;5;241m=\u001b[39mresp\u001b[38;5;241m.\u001b[39msoup, url\u001b[38;5;241m=\u001b[39mresp\u001b[38;5;241m.\u001b[39murl,\n\u001b[0;32m    150\u001b[0m                              request\u001b[38;5;241m=\u001b[39mresp\u001b[38;5;241m.\u001b[39mrequest)\n\u001b[0;32m    151\u001b[0m \u001b[38;5;28;01mreturn\u001b[39;00m resp\n",
      "File \u001b[1;32md:\\01_Programming\\100_HugoBank\\Mine\\works-need-it-python\\snd_env\\lib\\site-packages\\mechanicalsoup\\browser.py:152\u001b[0m, in \u001b[0;36mBrowser.get\u001b[1;34m(self, *args, **kwargs)\u001b[0m\n\u001b[0;32m    150\u001b[0m \u001b[38;5;28;01mif\u001b[39;00m \u001b[38;5;28mself\u001b[39m\u001b[38;5;241m.\u001b[39mraise_on_404 \u001b[38;5;129;01mand\u001b[39;00m response\u001b[38;5;241m.\u001b[39mstatus_code \u001b[38;5;241m==\u001b[39m \u001b[38;5;241m404\u001b[39m:\n\u001b[0;32m    151\u001b[0m     \u001b[38;5;28;01mraise\u001b[39;00m LinkNotFoundError()\n\u001b[1;32m--> 152\u001b[0m \u001b[43mBrowser\u001b[49m\u001b[38;5;241;43m.\u001b[39;49m\u001b[43madd_soup\u001b[49m\u001b[43m(\u001b[49m\u001b[43mresponse\u001b[49m\u001b[43m,\u001b[49m\u001b[43m \u001b[49m\u001b[38;5;28;43mself\u001b[39;49m\u001b[38;5;241;43m.\u001b[39;49m\u001b[43msoup_config\u001b[49m\u001b[43m)\u001b[49m\n\u001b[0;32m    153\u001b[0m \u001b[38;5;28;01mreturn\u001b[39;00m response\n",
      "File \u001b[1;32md:\\01_Programming\\100_HugoBank\\Mine\\works-need-it-python\\snd_env\\lib\\site-packages\\mechanicalsoup\\browser.py:91\u001b[0m, in \u001b[0;36mBrowser.add_soup\u001b[1;34m(response, soup_config)\u001b[0m\n\u001b[0;32m     87\u001b[0m     \u001b[38;5;66;03m# See https://www.w3.org/International/questions/qa-html-encoding-declarations.en#httphead  # noqa: E501\u001b[39;00m\n\u001b[0;32m     88\u001b[0m     \u001b[38;5;66;03m# > The HTTP header has a higher precedence than the in-document\u001b[39;00m\n\u001b[0;32m     89\u001b[0m     \u001b[38;5;66;03m# > meta declarations.\u001b[39;00m\n\u001b[0;32m     90\u001b[0m     encoding \u001b[38;5;241m=\u001b[39m http_encoding \u001b[38;5;28;01mif\u001b[39;00m http_encoding \u001b[38;5;28;01melse\u001b[39;00m html_encoding\n\u001b[1;32m---> 91\u001b[0m     response\u001b[38;5;241m.\u001b[39msoup \u001b[38;5;241m=\u001b[39m bs4\u001b[38;5;241m.\u001b[39mBeautifulSoup(\n\u001b[0;32m     92\u001b[0m         response\u001b[38;5;241m.\u001b[39mcontent,\n\u001b[0;32m     93\u001b[0m         from_encoding\u001b[38;5;241m=\u001b[39mencoding,\n\u001b[0;32m     94\u001b[0m         \u001b[38;5;241m*\u001b[39m\u001b[38;5;241m*\u001b[39msoup_config\n\u001b[0;32m     95\u001b[0m     )\n\u001b[0;32m     96\u001b[0m \u001b[38;5;28;01melse\u001b[39;00m:\n\u001b[0;32m     97\u001b[0m     response\u001b[38;5;241m.\u001b[39msoup \u001b[38;5;241m=\u001b[39m \u001b[38;5;28;01mNone\u001b[39;00m\n",
      "File \u001b[1;32md:\\01_Programming\\100_HugoBank\\Mine\\works-need-it-python\\snd_env\\lib\\site-packages\\bs4\\__init__.py:250\u001b[0m, in \u001b[0;36mBeautifulSoup.__init__\u001b[1;34m(self, markup, features, builder, parse_only, from_encoding, exclude_encodings, element_classes, **kwargs)\u001b[0m\n\u001b[0;32m    248\u001b[0m     builder_class \u001b[38;5;241m=\u001b[39m builder_registry\u001b[38;5;241m.\u001b[39mlookup(\u001b[38;5;241m*\u001b[39mfeatures)\n\u001b[0;32m    249\u001b[0m     \u001b[38;5;28;01mif\u001b[39;00m builder_class \u001b[38;5;129;01mis\u001b[39;00m \u001b[38;5;28;01mNone\u001b[39;00m:\n\u001b[1;32m--> 250\u001b[0m         \u001b[38;5;28;01mraise\u001b[39;00m FeatureNotFound(\n\u001b[0;32m    251\u001b[0m             \u001b[38;5;124m\"\u001b[39m\u001b[38;5;124mCouldn\u001b[39m\u001b[38;5;124m'\u001b[39m\u001b[38;5;124mt find a tree builder with the features you \u001b[39m\u001b[38;5;124m\"\u001b[39m\n\u001b[0;32m    252\u001b[0m             \u001b[38;5;124m\"\u001b[39m\u001b[38;5;124mrequested: \u001b[39m\u001b[38;5;132;01m%s\u001b[39;00m\u001b[38;5;124m. Do you need to install a parser library?\u001b[39m\u001b[38;5;124m\"\u001b[39m\n\u001b[0;32m    253\u001b[0m             \u001b[38;5;241m%\u001b[39m \u001b[38;5;124m\"\u001b[39m\u001b[38;5;124m,\u001b[39m\u001b[38;5;124m\"\u001b[39m\u001b[38;5;241m.\u001b[39mjoin(features))\n\u001b[0;32m    255\u001b[0m \u001b[38;5;66;03m# At this point either we have a TreeBuilder instance in\u001b[39;00m\n\u001b[0;32m    256\u001b[0m \u001b[38;5;66;03m# builder, or we have a builder_class that we can instantiate\u001b[39;00m\n\u001b[0;32m    257\u001b[0m \u001b[38;5;66;03m# with the remaining **kwargs.\u001b[39;00m\n\u001b[0;32m    258\u001b[0m \u001b[38;5;28;01mif\u001b[39;00m builder \u001b[38;5;129;01mis\u001b[39;00m \u001b[38;5;28;01mNone\u001b[39;00m:\n",
      "\u001b[1;31mFeatureNotFound\u001b[0m: Couldn't find a tree builder with the features you requested: lxml. Do you need to install a parser library?"
     ]
    }
   ],
   "source": [
    "import mechanicalsoup\n",
    "\n",
    "# 브라우저 객체 생성\n",
    "browser = mechanicalsoup.StatefulBrowser()\n",
    "\n",
    "# 웹 페이지 열기\n",
    "browser.open(\"https://example.com/\")\n",
    "\n",
    "# 현재 페이지의 HTML 출력\n",
    "print(browser.page)\n",
    "\n",
    "# 폼을 찾고 데이터 입력\n",
    "browser.select_form('form[name=\"example\"]')\n",
    "browser[\"some_field\"] = \"some value\"\n",
    "\n",
    "# 폼 제출\n",
    "response = browser.submit_selected()\n",
    "\n",
    "# 제출 후의 페이지 HTML 출력\n",
    "print(response.text)"
   ]
  },
  {
   "cell_type": "markdown",
   "metadata": {},
   "source": [
    "### PyQuery: HTML 문서 파싱 및 조작 라이브러리\n",
    "\n",
    "- http://pyquery.rtfd.org/\n",
    "\n",
    " jQuery의 문법을 사용하여 Python에서 HTML 문서를 파싱하고 조작하기 위한 라이브러리"
   ]
  },
  {
   "cell_type": "code",
   "execution_count": 12,
   "metadata": {},
   "outputs": [
    {
     "name": "stdout",
     "output_type": "stream",
     "text": [
      "Collecting pyquery\n",
      "  Downloading pyquery-2.0.1-py3-none-any.whl.metadata (9.0 kB)\n",
      "Requirement already satisfied: lxml>=2.1 in d:\\01_programming\\100_hugobank\\mine\\works-need-it-python\\snd_env\\lib\\site-packages (from pyquery) (5.3.0)\n",
      "Collecting cssselect>=1.2.0 (from pyquery)\n",
      "  Downloading cssselect-1.2.0-py2.py3-none-any.whl.metadata (2.2 kB)\n",
      "Downloading pyquery-2.0.1-py3-none-any.whl (22 kB)\n",
      "Downloading cssselect-1.2.0-py2.py3-none-any.whl (18 kB)\n",
      "Installing collected packages: cssselect, pyquery\n",
      "Successfully installed cssselect-1.2.0 pyquery-2.0.1\n"
     ]
    }
   ],
   "source": [
    "!pip install pyquery"
   ]
  },
  {
   "cell_type": "code",
   "execution_count": 13,
   "metadata": {},
   "outputs": [
    {
     "name": "stdout",
     "output_type": "stream",
     "text": [
      "h1 태그의 텍스트: 안녕하세요, PyQuery!\n",
      "변경된 p 태그의 텍스트: 이제 내용을 변경했습니다!\n"
     ]
    }
   ],
   "source": [
    "from pyquery import PyQuery as pq\n",
    "\n",
    "# HTML 문서 정의\n",
    "html = \"\"\"\n",
    "<html>\n",
    "    <head>\n",
    "        <title>PyQuery 예제</title>\n",
    "    </head>\n",
    "    <body>\n",
    "        <h1>안녕하세요, PyQuery!</h1>\n",
    "        <p>PyQuery를 사용해서 HTML을 쉽게 다룰 수 있습니다.</p>\n",
    "    </body>\n",
    "</html>\n",
    "\"\"\"\n",
    "\n",
    "# PyQuery 객체 생성\n",
    "doc = pq(html)\n",
    "\n",
    "# h1 태그의 텍스트 가져오기\n",
    "h1_text = doc('h1').text()\n",
    "print(f'h1 태그의 텍스트: {h1_text}')\n",
    "\n",
    "# p 태그의 텍스트 변경하기\n",
    "doc('p').text('이제 내용을 변경했습니다!')\n",
    "print(f'변경된 p 태그의 텍스트: {doc(\"p\").text()}')\n"
   ]
  },
  {
   "cell_type": "markdown",
   "metadata": {},
   "source": [
    "### PyZMQ: ZeroMQ 라이브러리의 Python 바인딩\n",
    "\n",
    "- https://zguide.zeromq.org/\n",
    "\n",
    " ZeroMQ 메시징 라이브러리의 Python 바인딩으로, 분산 시스템을 위한 고성능 비동기 메시징 라이브러리"
   ]
  },
  {
   "cell_type": "code",
   "execution_count": 14,
   "metadata": {},
   "outputs": [
    {
     "name": "stdout",
     "output_type": "stream",
     "text": [
      "Requirement already satisfied: pyzmq in d:\\01_programming\\100_hugobank\\mine\\works-need-it-python\\snd_env\\lib\\site-packages (26.2.0)\n"
     ]
    }
   ],
   "source": [
    "!pip install pyzmq"
   ]
  },
  {
   "cell_type": "code",
   "execution_count": null,
   "metadata": {},
   "outputs": [],
   "source": [
    "# 서버 코드\n",
    "import zmq\n",
    "\n",
    "context = zmq.Context()\n",
    "socket = context.socket(zmq.REP)\n",
    "socket.bind(\"tcp://*:5555\")\n",
    "\n",
    "while True:\n",
    "    # 클라이언트로부터 메시지를 받고, 응답을 보냄\n",
    "    message = socket.recv()\n",
    "    print(f\"Received request: {message}\")\n",
    "    socket.send(b\"World\")"
   ]
  },
  {
   "cell_type": "code",
   "execution_count": null,
   "metadata": {},
   "outputs": [],
   "source": [
    "# 클라이언트 코드\n",
    "import zmq\n",
    "\n",
    "context = zmq.Context()\n",
    "socket = context.socket(zmq.REQ)\n",
    "socket.connect(\"tcp://localhost:5555\")\n",
    "\n",
    "for request in range(10):\n",
    "    socket.send(b\"Hello\")\n",
    "    message = socket.recv()\n",
    "    print(f\"Received reply {request} [ {message} ]\")"
   ]
  },
  {
   "cell_type": "markdown",
   "metadata": {},
   "source": [
    "### Requests: 간결한 HTTP 라이브러리\n",
    "\n",
    "- https://requests.readthedocs.io/en/latest/\n",
    "\n",
    "HTTP 요청을 보내는 작업을 간단하게 만드는 인기 있는 라이브러리"
   ]
  },
  {
   "cell_type": "code",
   "execution_count": 1,
   "metadata": {},
   "outputs": [
    {
     "name": "stdout",
     "output_type": "stream",
     "text": [
      "{\"current_user_url\":\"https://api.github.com/user\",\"current_user_authorizations_html_url\":\"https://github.com/settings/connections/applications{/client_id}\",\"authorizations_url\":\"https://api.github.com/authorizations\",\"code_search_url\":\"https://api.github.com/search/code?q={query}{&page,per_page,sort,order}\",\"commit_search_url\":\"https://api.github.com/search/commits?q={query}{&page,per_page,sort,order}\",\"emails_url\":\"https://api.github.com/user/emails\",\"emojis_url\":\"https://api.github.com/emojis\",\"events_url\":\"https://api.github.com/events\",\"feeds_url\":\"https://api.github.com/feeds\",\"followers_url\":\"https://api.github.com/user/followers\",\"following_url\":\"https://api.github.com/user/following{/target}\",\"gists_url\":\"https://api.github.com/gists{/gist_id}\",\"hub_url\":\"https://api.github.com/hub\",\"issue_search_url\":\"https://api.github.com/search/issues?q={query}{&page,per_page,sort,order}\",\"issues_url\":\"https://api.github.com/issues\",\"keys_url\":\"https://api.github.com/user/keys\",\"label_search_url\":\"https://api.github.com/search/labels?q={query}&repository_id={repository_id}{&page,per_page}\",\"notifications_url\":\"https://api.github.com/notifications\",\"organization_url\":\"https://api.github.com/orgs/{org}\",\"organization_repositories_url\":\"https://api.github.com/orgs/{org}/repos{?type,page,per_page,sort}\",\"organization_teams_url\":\"https://api.github.com/orgs/{org}/teams\",\"public_gists_url\":\"https://api.github.com/gists/public\",\"rate_limit_url\":\"https://api.github.com/rate_limit\",\"repository_url\":\"https://api.github.com/repos/{owner}/{repo}\",\"repository_search_url\":\"https://api.github.com/search/repositories?q={query}{&page,per_page,sort,order}\",\"current_user_repositories_url\":\"https://api.github.com/user/repos{?type,page,per_page,sort}\",\"starred_url\":\"https://api.github.com/user/starred{/owner}{/repo}\",\"starred_gists_url\":\"https://api.github.com/gists/starred\",\"topic_search_url\":\"https://api.github.com/search/topics?q={query}{&page,per_page}\",\"user_url\":\"https://api.github.com/users/{user}\",\"user_organizations_url\":\"https://api.github.com/user/orgs\",\"user_repositories_url\":\"https://api.github.com/users/{user}/repos{?type,page,per_page,sort}\",\"user_search_url\":\"https://api.github.com/search/users?q={query}{&page,per_page,sort,order}\"}\n",
      "{'current_user_url': 'https://api.github.com/user', 'current_user_authorizations_html_url': 'https://github.com/settings/connections/applications{/client_id}', 'authorizations_url': 'https://api.github.com/authorizations', 'code_search_url': 'https://api.github.com/search/code?q={query}{&page,per_page,sort,order}', 'commit_search_url': 'https://api.github.com/search/commits?q={query}{&page,per_page,sort,order}', 'emails_url': 'https://api.github.com/user/emails', 'emojis_url': 'https://api.github.com/emojis', 'events_url': 'https://api.github.com/events', 'feeds_url': 'https://api.github.com/feeds', 'followers_url': 'https://api.github.com/user/followers', 'following_url': 'https://api.github.com/user/following{/target}', 'gists_url': 'https://api.github.com/gists{/gist_id}', 'hub_url': 'https://api.github.com/hub', 'issue_search_url': 'https://api.github.com/search/issues?q={query}{&page,per_page,sort,order}', 'issues_url': 'https://api.github.com/issues', 'keys_url': 'https://api.github.com/user/keys', 'label_search_url': 'https://api.github.com/search/labels?q={query}&repository_id={repository_id}{&page,per_page}', 'notifications_url': 'https://api.github.com/notifications', 'organization_url': 'https://api.github.com/orgs/{org}', 'organization_repositories_url': 'https://api.github.com/orgs/{org}/repos{?type,page,per_page,sort}', 'organization_teams_url': 'https://api.github.com/orgs/{org}/teams', 'public_gists_url': 'https://api.github.com/gists/public', 'rate_limit_url': 'https://api.github.com/rate_limit', 'repository_url': 'https://api.github.com/repos/{owner}/{repo}', 'repository_search_url': 'https://api.github.com/search/repositories?q={query}{&page,per_page,sort,order}', 'current_user_repositories_url': 'https://api.github.com/user/repos{?type,page,per_page,sort}', 'starred_url': 'https://api.github.com/user/starred{/owner}{/repo}', 'starred_gists_url': 'https://api.github.com/gists/starred', 'topic_search_url': 'https://api.github.com/search/topics?q={query}{&page,per_page}', 'user_url': 'https://api.github.com/users/{user}', 'user_organizations_url': 'https://api.github.com/user/orgs', 'user_repositories_url': 'https://api.github.com/users/{user}/repos{?type,page,per_page,sort}', 'user_search_url': 'https://api.github.com/search/users?q={query}{&page,per_page,sort,order}'}\n",
      "{'args': {}, 'data': '', 'files': {}, 'form': {'key': 'value'}, 'headers': {'Accept': '*/*', 'Accept-Encoding': 'gzip, deflate', 'Content-Length': '9', 'Content-Type': 'application/x-www-form-urlencoded', 'Host': 'httpbin.org', 'User-Agent': 'python-requests/2.32.3', 'X-Amzn-Trace-Id': 'Root=1-67838f6b-76c8f8f3725d70a8734228fd'}, 'json': None, 'origin': '118.222.235.115', 'url': 'https://httpbin.org/post'}\n"
     ]
    }
   ],
   "source": [
    "import requests\n",
    "\n",
    "# 간단한 GET 요청\n",
    "response = requests.get('https://api.github.com')\n",
    "\n",
    "# 응답 내용 출력\n",
    "print(response.text)\n",
    "\n",
    "# JSON 응답 처리\n",
    "data = response.json()\n",
    "print(data)\n",
    "\n",
    "# POST 요청\n",
    "post_response = requests.post('https://httpbin.org/post', data={'key': 'value'})\n",
    "print(post_response.json())"
   ]
  },
  {
   "cell_type": "markdown",
   "metadata": {},
   "source": [
    "### Scapy: 대화형 패킷 조작 프로그램\n",
    "\n",
    "- https://scapy.net/\n",
    "- https://github.com/secdev/scapy\n",
    "\n",
    "강력한 대화형 패킷 조작 프로그램. 네트워크 테스트, 패킷 분석, 보안 테스트 등에 사용되며 사용자가 네트워크 패킷을 송수신하고 분석"
   ]
  },
  {
   "cell_type": "code",
   "execution_count": 3,
   "metadata": {},
   "outputs": [
    {
     "name": "stdout",
     "output_type": "stream",
     "text": [
      "Collecting scapy\n",
      "  Downloading scapy-2.6.1-py3-none-any.whl.metadata (5.6 kB)\n",
      "Downloading scapy-2.6.1-py3-none-any.whl (2.4 MB)\n",
      "   ---------------------------------------- 0.0/2.4 MB ? eta -:--:--\n",
      "   ------------------------- -------------- 1.6/2.4 MB 12.0 MB/s eta 0:00:01\n",
      "   ------------------------- -------------- 1.6/2.4 MB 12.0 MB/s eta 0:00:01\n",
      "   ------------------------------ --------- 1.8/2.4 MB 2.7 MB/s eta 0:00:01\n",
      "   ---------------------------------------- 2.4/2.4 MB 3.2 MB/s eta 0:00:00\n",
      "Installing collected packages: scapy\n",
      "Successfully installed scapy-2.6.1\n"
     ]
    }
   ],
   "source": [
    "!pip install scapy"
   ]
  },
  {
   "cell_type": "code",
   "execution_count": 4,
   "metadata": {},
   "outputs": [
    {
     "name": "stderr",
     "output_type": "stream",
     "text": [
      "WARNING: No libpcap provider available ! pcap won't be used\n",
      "WARNING: Dropping unsupported option: filter\n",
      "WARNING: Dropping unsupported option: nofilter\n"
     ]
    },
    {
     "ename": "OSError",
     "evalue": "Windows native L3 Raw sockets are only usable as administrator ! Please install Npcap to workaround !",
     "output_type": "error",
     "traceback": [
      "\u001b[1;31m---------------------------------------------------------------------------\u001b[0m",
      "\u001b[1;31mPermissionError\u001b[0m                           Traceback (most recent call last)",
      "File \u001b[1;32md:\\01_Programming\\100_HugoBank\\Mine\\works-need-it-python\\snd_env\\lib\\site-packages\\scapy\\arch\\windows\\native.py:100\u001b[0m, in \u001b[0;36mL3WinSocket.__init__\u001b[1;34m(self, iface, ttl, ipv6, promisc, **kwargs)\u001b[0m\n\u001b[0;32m     98\u001b[0m \u001b[38;5;28;01mtry\u001b[39;00m:\n\u001b[0;32m     99\u001b[0m     \u001b[38;5;66;03m# Listening on AF_INET6 IPPROTO_IPV6 is broken. Use IPPROTO_IP\u001b[39;00m\n\u001b[1;32m--> 100\u001b[0m     \u001b[38;5;28mself\u001b[39m\u001b[38;5;241m.\u001b[39mouts \u001b[38;5;241m=\u001b[39m \u001b[38;5;28mself\u001b[39m\u001b[38;5;241m.\u001b[39mins \u001b[38;5;241m=\u001b[39m \u001b[43msocket\u001b[49m\u001b[38;5;241;43m.\u001b[39;49m\u001b[43msocket\u001b[49m\u001b[43m(\u001b[49m\n\u001b[0;32m    101\u001b[0m \u001b[43m        \u001b[49m\u001b[43maf\u001b[49m\u001b[43m,\u001b[49m\n\u001b[0;32m    102\u001b[0m \u001b[43m        \u001b[49m\u001b[43msocket\u001b[49m\u001b[38;5;241;43m.\u001b[39;49m\u001b[43mSOCK_RAW\u001b[49m\u001b[43m,\u001b[49m\n\u001b[0;32m    103\u001b[0m \u001b[43m        \u001b[49m\u001b[43msocket\u001b[49m\u001b[38;5;241;43m.\u001b[39;49m\u001b[43mIPPROTO_IP\u001b[49m\u001b[43m,\u001b[49m\n\u001b[0;32m    104\u001b[0m \u001b[43m    \u001b[49m\u001b[43m)\u001b[49m\n\u001b[0;32m    105\u001b[0m \u001b[38;5;28;01mexcept\u001b[39;00m \u001b[38;5;167;01mOSError\u001b[39;00m \u001b[38;5;28;01mas\u001b[39;00m e:\n",
      "File \u001b[1;32m~\\.pyenv\\pyenv-win\\versions\\3.10.10\\lib\\socket.py:232\u001b[0m, in \u001b[0;36msocket.__init__\u001b[1;34m(self, family, type, proto, fileno)\u001b[0m\n\u001b[0;32m    231\u001b[0m         proto \u001b[38;5;241m=\u001b[39m \u001b[38;5;241m0\u001b[39m\n\u001b[1;32m--> 232\u001b[0m \u001b[43m_socket\u001b[49m\u001b[38;5;241;43m.\u001b[39;49m\u001b[43msocket\u001b[49m\u001b[38;5;241;43m.\u001b[39;49m\u001b[38;5;21;43m__init__\u001b[39;49m\u001b[43m(\u001b[49m\u001b[38;5;28;43mself\u001b[39;49m\u001b[43m,\u001b[49m\u001b[43m \u001b[49m\u001b[43mfamily\u001b[49m\u001b[43m,\u001b[49m\u001b[43m \u001b[49m\u001b[38;5;28;43mtype\u001b[39;49m\u001b[43m,\u001b[49m\u001b[43m \u001b[49m\u001b[43mproto\u001b[49m\u001b[43m,\u001b[49m\u001b[43m \u001b[49m\u001b[43mfileno\u001b[49m\u001b[43m)\u001b[49m\n\u001b[0;32m    233\u001b[0m \u001b[38;5;28mself\u001b[39m\u001b[38;5;241m.\u001b[39m_io_refs \u001b[38;5;241m=\u001b[39m \u001b[38;5;241m0\u001b[39m\n",
      "\u001b[1;31mPermissionError\u001b[0m: [WinError 10013] 액세스 권한에 의해 숨겨진 소켓에 액세스를 시도했습니다",
      "\nDuring handling of the above exception, another exception occurred:\n",
      "\u001b[1;31mOSError\u001b[0m                                   Traceback (most recent call last)",
      "Cell \u001b[1;32mIn[4], line 8\u001b[0m\n\u001b[0;32m      6\u001b[0m packet \u001b[38;5;241m=\u001b[39m IP(dst\u001b[38;5;241m=\u001b[39mtarget_ip)\u001b[38;5;241m/\u001b[39mICMP()\n\u001b[0;32m      7\u001b[0m \u001b[38;5;66;03m# 패킷 전송 및 응답 수신\u001b[39;00m\n\u001b[1;32m----> 8\u001b[0m response \u001b[38;5;241m=\u001b[39m \u001b[43msr1\u001b[49m\u001b[43m(\u001b[49m\u001b[43mpacket\u001b[49m\u001b[43m)\u001b[49m\n\u001b[0;32m      9\u001b[0m \u001b[38;5;66;03m# 응답 출력\u001b[39;00m\n\u001b[0;32m     10\u001b[0m response\u001b[38;5;241m.\u001b[39mshow()\n",
      "File \u001b[1;32md:\\01_Programming\\100_HugoBank\\Mine\\works-need-it-python\\snd_env\\lib\\site-packages\\scapy\\sendrecv.py:732\u001b[0m, in \u001b[0;36msr1\u001b[1;34m(*args, **kargs)\u001b[0m\n\u001b[0;32m    726\u001b[0m     warnings\u001b[38;5;241m.\u001b[39mwarn(\n\u001b[0;32m    727\u001b[0m         \u001b[38;5;124m\"\u001b[39m\u001b[38;5;124m'\u001b[39m\u001b[38;5;124miface\u001b[39m\u001b[38;5;124m'\u001b[39m\u001b[38;5;124m has no effect on L3 I/O sr1(). For multicast/link-local \u001b[39m\u001b[38;5;124m\"\u001b[39m\n\u001b[0;32m    728\u001b[0m         \u001b[38;5;124m\"\u001b[39m\u001b[38;5;124msee https://scapy.readthedocs.io/en/latest/usage.html#multicast\u001b[39m\u001b[38;5;124m\"\u001b[39m,\n\u001b[0;32m    729\u001b[0m         \u001b[38;5;167;01mSyntaxWarning\u001b[39;00m,\n\u001b[0;32m    730\u001b[0m     )\n\u001b[0;32m    731\u001b[0m     \u001b[38;5;28;01mdel\u001b[39;00m kargs[\u001b[38;5;124m\"\u001b[39m\u001b[38;5;124miface\u001b[39m\u001b[38;5;124m\"\u001b[39m]\n\u001b[1;32m--> 732\u001b[0m ans, _ \u001b[38;5;241m=\u001b[39m sr(\u001b[38;5;241m*\u001b[39margs, \u001b[38;5;241m*\u001b[39m\u001b[38;5;241m*\u001b[39mkargs)\n\u001b[0;32m    733\u001b[0m \u001b[38;5;28;01mif\u001b[39;00m ans:\n\u001b[0;32m    734\u001b[0m     \u001b[38;5;28;01mreturn\u001b[39;00m cast(Packet, ans[\u001b[38;5;241m0\u001b[39m][\u001b[38;5;241m1\u001b[39m])\n",
      "File \u001b[1;32md:\\01_Programming\\100_HugoBank\\Mine\\works-need-it-python\\snd_env\\lib\\site-packages\\scapy\\sendrecv.py:706\u001b[0m, in \u001b[0;36msr\u001b[1;34m(x, promisc, filter, nofilter, *args, **kargs)\u001b[0m\n\u001b[0;32m    704\u001b[0m     \u001b[38;5;28;01mdel\u001b[39;00m kargs[\u001b[38;5;124m\"\u001b[39m\u001b[38;5;124miface\u001b[39m\u001b[38;5;124m\"\u001b[39m]\n\u001b[0;32m    705\u001b[0m iface, ipv6 \u001b[38;5;241m=\u001b[39m _interface_selection(x)\n\u001b[1;32m--> 706\u001b[0m s \u001b[38;5;241m=\u001b[39m \u001b[43miface\u001b[49m\u001b[38;5;241;43m.\u001b[39;49m\u001b[43ml3socket\u001b[49m\u001b[43m(\u001b[49m\u001b[43mipv6\u001b[49m\u001b[43m)\u001b[49m\u001b[43m(\u001b[49m\n\u001b[0;32m    707\u001b[0m \u001b[43m    \u001b[49m\u001b[43mpromisc\u001b[49m\u001b[38;5;241;43m=\u001b[39;49m\u001b[43mpromisc\u001b[49m\u001b[43m,\u001b[49m\u001b[43m \u001b[49m\u001b[38;5;28;43mfilter\u001b[39;49m\u001b[38;5;241;43m=\u001b[39;49m\u001b[38;5;28;43mfilter\u001b[39;49m\u001b[43m,\u001b[49m\n\u001b[0;32m    708\u001b[0m \u001b[43m    \u001b[49m\u001b[43miface\u001b[49m\u001b[38;5;241;43m=\u001b[39;49m\u001b[43miface\u001b[49m\u001b[43m,\u001b[49m\u001b[43m \u001b[49m\u001b[43mnofilter\u001b[49m\u001b[38;5;241;43m=\u001b[39;49m\u001b[43mnofilter\u001b[49m\u001b[43m,\u001b[49m\n\u001b[0;32m    709\u001b[0m \u001b[43m\u001b[49m\u001b[43m)\u001b[49m\n\u001b[0;32m    710\u001b[0m result \u001b[38;5;241m=\u001b[39m sndrcv(s, x, \u001b[38;5;241m*\u001b[39margs, \u001b[38;5;241m*\u001b[39m\u001b[38;5;241m*\u001b[39mkargs)\n\u001b[0;32m    711\u001b[0m s\u001b[38;5;241m.\u001b[39mclose()\n",
      "File \u001b[1;32md:\\01_Programming\\100_HugoBank\\Mine\\works-need-it-python\\snd_env\\lib\\site-packages\\scapy\\arch\\windows\\native.py:107\u001b[0m, in \u001b[0;36mL3WinSocket.__init__\u001b[1;34m(self, iface, ttl, ipv6, promisc, **kwargs)\u001b[0m\n\u001b[0;32m    105\u001b[0m \u001b[38;5;28;01mexcept\u001b[39;00m \u001b[38;5;167;01mOSError\u001b[39;00m \u001b[38;5;28;01mas\u001b[39;00m e:\n\u001b[0;32m    106\u001b[0m     \u001b[38;5;28;01mif\u001b[39;00m e\u001b[38;5;241m.\u001b[39merrno \u001b[38;5;241m==\u001b[39m \u001b[38;5;241m13\u001b[39m:\n\u001b[1;32m--> 107\u001b[0m         \u001b[38;5;28;01mraise\u001b[39;00m \u001b[38;5;167;01mOSError\u001b[39;00m(\u001b[38;5;124m\"\u001b[39m\u001b[38;5;124mWindows native L3 Raw sockets are only \u001b[39m\u001b[38;5;124m\"\u001b[39m\n\u001b[0;32m    108\u001b[0m                       \u001b[38;5;124m\"\u001b[39m\u001b[38;5;124musable as administrator ! \u001b[39m\u001b[38;5;124m\"\u001b[39m\n\u001b[0;32m    109\u001b[0m                       \u001b[38;5;124m\"\u001b[39m\u001b[38;5;124mPlease install Npcap to workaround !\u001b[39m\u001b[38;5;124m\"\u001b[39m)\n\u001b[0;32m    110\u001b[0m     \u001b[38;5;28;01mraise\u001b[39;00m\n\u001b[0;32m    111\u001b[0m \u001b[38;5;28mself\u001b[39m\u001b[38;5;241m.\u001b[39mins\u001b[38;5;241m.\u001b[39msetsockopt(socket\u001b[38;5;241m.\u001b[39mSOL_SOCKET, socket\u001b[38;5;241m.\u001b[39mSO_REUSEADDR, \u001b[38;5;241m1\u001b[39m)\n",
      "\u001b[1;31mOSError\u001b[0m: Windows native L3 Raw sockets are only usable as administrator ! Please install Npcap to workaround !"
     ]
    }
   ],
   "source": [
    "from scapy.all import *\n",
    "\n",
    "# 대상 IP 주소 설정\n",
    "target_ip = \"8.8.8.8\"\n",
    "# ICMP Echo 요청 생성\n",
    "packet = IP(dst=target_ip)/ICMP()\n",
    "# 패킷 전송 및 응답 수신\n",
    "response = sr1(packet)\n",
    "# 응답 출력\n",
    "response.show()"
   ]
  }
 ],
 "metadata": {
  "kernelspec": {
   "display_name": "snd_env",
   "language": "python",
   "name": "python3"
  },
  "language_info": {
   "codemirror_mode": {
    "name": "ipython",
    "version": 3
   },
   "file_extension": ".py",
   "mimetype": "text/x-python",
   "name": "python",
   "nbconvert_exporter": "python",
   "pygments_lexer": "ipython3",
   "version": "3.10.10"
  }
 },
 "nbformat": 4,
 "nbformat_minor": 2
}
