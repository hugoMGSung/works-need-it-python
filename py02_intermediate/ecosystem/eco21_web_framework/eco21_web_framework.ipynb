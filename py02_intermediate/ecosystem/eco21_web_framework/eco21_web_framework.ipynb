{
 "cells": [
  {
   "cell_type": "markdown",
   "metadata": {},
   "source": [
    "## 웹 프레임워크 \n",
    "\n",
    "### Bottle: 간단한 마이크로 웹 프레임워크\n",
    "\n",
    "- http://bottlepy.org/\n",
    "\n",
    "간단하면서도 강력한 마이크로 웹 프레임워크"
   ]
  },
  {
   "cell_type": "code",
   "execution_count": null,
   "metadata": {},
   "outputs": [],
   "source": [
    "!pip install bottle"
   ]
  },
  {
   "cell_type": "code",
   "execution_count": null,
   "metadata": {},
   "outputs": [],
   "source": [
    "from bottle import route, run\n",
    "\n",
    "@route('/')\n",
    "def hello():\n",
    "    return \"Hello World!\"\n",
    "\n",
    "run(host='localhost', port=8080)"
   ]
  },
  {
   "cell_type": "markdown",
   "metadata": {},
   "source": [
    "### Django: 강력한 기능의 웹 프레임워크\n",
    "\n",
    "- https://www.djangoproject.com/\n",
    "\n",
    "Python으로 작성된 고수준의 웹 프레임워크로, 빠르게 동적 웹 사이트를 개발할 수 있게 설계됨. "
   ]
  },
  {
   "cell_type": "code",
   "execution_count": null,
   "metadata": {},
   "outputs": [],
   "source": [
    "!pip install django"
   ]
  },
  {
   "cell_type": "markdown",
   "metadata": {},
   "source": [
    "#### 프로젝트 생성\n",
    "\n",
    "```shell\n",
    "> django-admin startproject 프로젝트명\n",
    "```\n",
    "\n",
    "#### 서버 실행\n",
    "\n",
    "```shell\n",
    "> python manage.py runserver\n",
    "```"
   ]
  },
  {
   "cell_type": "markdown",
   "metadata": {},
   "source": [
    "<img src=\"../../../images/wnip0015.png\" width=\"600\">\n",
    "\n",
    "\n",
    "\n",
    "<img src=\"../../../images/wnip0016.png\" width=\"700\">"
   ]
  },
  {
   "cell_type": "markdown",
   "metadata": {},
   "source": [
    "### Falcon: 고성능 마이크로서비스 웹 프레임워크\n",
    "\n",
    "- https://falcon.readthedocs.io/\n",
    "\n",
    "고성능을 목표로 하는 파이썬 웹 프레임워크"
   ]
  },
  {
   "cell_type": "code",
   "execution_count": 1,
   "metadata": {},
   "outputs": [
    {
     "name": "stdout",
     "output_type": "stream",
     "text": [
      "Collecting falcon\n",
      "  Downloading falcon-4.0.2-cp310-cp310-win_amd64.whl.metadata (38 kB)\n",
      "Downloading falcon-4.0.2-cp310-cp310-win_amd64.whl (2.1 MB)\n",
      "   ---------------------------------------- 0.0/2.1 MB ? eta -:--:--\n",
      "   ---------------------------------------- 2.1/2.1 MB 29.9 MB/s eta 0:00:00\n",
      "Installing collected packages: falcon\n",
      "Successfully installed falcon-4.0.2\n"
     ]
    }
   ],
   "source": [
    "!pip install falcon"
   ]
  },
  {
   "cell_type": "code",
   "execution_count": 2,
   "metadata": {},
   "outputs": [],
   "source": [
    "import falcon\n",
    "\n",
    "class HelloResource(object):\n",
    "    def on_get(self, req, resp):\n",
    "        resp.media = {'message': 'Hello, World!'}\n",
    "\n",
    "app = falcon.App()\n",
    "hello_resource = HelloResource()\n",
    "\n",
    "app.add_route('/hello', hello_resource)"
   ]
  },
  {
   "cell_type": "markdown",
   "metadata": {},
   "source": [
    "### FastAPI: 빠르고 현대적인 API 개발\n",
    "\n",
    "- https://fastapi.tiangolo.com/\n",
    "\n",
    "웹 API 개발에 초점을 맞춘 현대적인, 빠르고 간결한 웹 프레임워크\n"
   ]
  },
  {
   "cell_type": "code",
   "execution_count": 3,
   "metadata": {},
   "outputs": [
    {
     "name": "stdout",
     "output_type": "stream",
     "text": [
      "Requirement already satisfied: fastapi in d:\\01_programming\\100_hugobank\\mine\\works-need-it-python\\snd_env\\lib\\site-packages (0.115.6)\n",
      "Requirement already satisfied: starlette<0.42.0,>=0.40.0 in d:\\01_programming\\100_hugobank\\mine\\works-need-it-python\\snd_env\\lib\\site-packages (from fastapi) (0.41.3)\n",
      "Requirement already satisfied: pydantic!=1.8,!=1.8.1,!=2.0.0,!=2.0.1,!=2.1.0,<3.0.0,>=1.7.4 in d:\\01_programming\\100_hugobank\\mine\\works-need-it-python\\snd_env\\lib\\site-packages (from fastapi) (2.10.4)\n",
      "Requirement already satisfied: typing-extensions>=4.8.0 in d:\\01_programming\\100_hugobank\\mine\\works-need-it-python\\snd_env\\lib\\site-packages (from fastapi) (4.12.2)\n",
      "Requirement already satisfied: annotated-types>=0.6.0 in d:\\01_programming\\100_hugobank\\mine\\works-need-it-python\\snd_env\\lib\\site-packages (from pydantic!=1.8,!=1.8.1,!=2.0.0,!=2.0.1,!=2.1.0,<3.0.0,>=1.7.4->fastapi) (0.7.0)\n",
      "Requirement already satisfied: pydantic-core==2.27.2 in d:\\01_programming\\100_hugobank\\mine\\works-need-it-python\\snd_env\\lib\\site-packages (from pydantic!=1.8,!=1.8.1,!=2.0.0,!=2.0.1,!=2.1.0,<3.0.0,>=1.7.4->fastapi) (2.27.2)\n",
      "Requirement already satisfied: anyio<5,>=3.4.0 in d:\\01_programming\\100_hugobank\\mine\\works-need-it-python\\snd_env\\lib\\site-packages (from starlette<0.42.0,>=0.40.0->fastapi) (4.7.0)\n",
      "Requirement already satisfied: exceptiongroup>=1.0.2 in d:\\01_programming\\100_hugobank\\mine\\works-need-it-python\\snd_env\\lib\\site-packages (from anyio<5,>=3.4.0->starlette<0.42.0,>=0.40.0->fastapi) (1.2.2)\n",
      "Requirement already satisfied: idna>=2.8 in d:\\01_programming\\100_hugobank\\mine\\works-need-it-python\\snd_env\\lib\\site-packages (from anyio<5,>=3.4.0->starlette<0.42.0,>=0.40.0->fastapi) (3.10)\n",
      "Requirement already satisfied: sniffio>=1.1 in d:\\01_programming\\100_hugobank\\mine\\works-need-it-python\\snd_env\\lib\\site-packages (from anyio<5,>=3.4.0->starlette<0.42.0,>=0.40.0->fastapi) (1.3.1)\n"
     ]
    }
   ],
   "source": [
    "!pip install fastapi"
   ]
  },
  {
   "cell_type": "markdown",
   "metadata": {},
   "source": [
    "```shell\n",
    "> pip install \"fastapi[standard]\"\n",
    "```"
   ]
  },
  {
   "cell_type": "code",
   "execution_count": 4,
   "metadata": {},
   "outputs": [],
   "source": [
    "from fastapi import FastAPI\n",
    "from pydantic import BaseModel\n",
    "\n",
    "app = FastAPI()\n",
    "\n",
    "class Item(BaseModel):\n",
    "    name: str\n",
    "    description: str = None\n",
    "\n",
    "@app.post(\"/items/\")\n",
    "async def create_item(item: Item):\n",
    "    return item\n",
    "\n",
    "@app.get(\"/\")\n",
    "async def read_root():\n",
    "    return {\"Hello\": \"World\"}\n"
   ]
  },
  {
   "cell_type": "markdown",
   "metadata": {},
   "source": [
    "```shell\n",
    "> fastapi dev .\\wf04_fastapi_app.py\n",
    "```\n",
    "\n",
    "<img src=\"../../../images/wnip0017.png\" width=\"700\">"
   ]
  },
  {
   "cell_type": "markdown",
   "metadata": {},
   "source": [
    "<img src=\"../../../images/wnip0018.png\" width=\"700\">"
   ]
  },
  {
   "cell_type": "markdown",
   "metadata": {},
   "source": [
    "### Flask: 경량화된 유연한 마이크로 웹 프레임워크\n",
    "\n",
    "- https://flask.palletsprojects.com/en/stable/\n",
    "\n",
    "Python에서 가장 인기 있는 마이크로 웹 프레임워크 중 하나. Werkzeug WSGI 도구 키트와 Jinja2 템플릿 엔진을 기반"
   ]
  },
  {
   "cell_type": "code",
   "execution_count": 5,
   "metadata": {},
   "outputs": [
    {
     "name": "stdout",
     "output_type": "stream",
     "text": [
      "Collecting flask\n",
      "  Using cached flask-3.1.0-py3-none-any.whl.metadata (2.7 kB)\n",
      "Requirement already satisfied: Werkzeug>=3.1 in d:\\01_programming\\100_hugobank\\mine\\works-need-it-python\\snd_env\\lib\\site-packages (from flask) (3.1.3)\n",
      "Requirement already satisfied: Jinja2>=3.1.2 in d:\\01_programming\\100_hugobank\\mine\\works-need-it-python\\snd_env\\lib\\site-packages (from flask) (3.1.5)\n",
      "Collecting itsdangerous>=2.2 (from flask)\n",
      "  Using cached itsdangerous-2.2.0-py3-none-any.whl.metadata (1.9 kB)\n",
      "Requirement already satisfied: click>=8.1.3 in d:\\01_programming\\100_hugobank\\mine\\works-need-it-python\\snd_env\\lib\\site-packages (from flask) (8.1.8)\n",
      "Collecting blinker>=1.9 (from flask)\n",
      "  Using cached blinker-1.9.0-py3-none-any.whl.metadata (1.6 kB)\n",
      "Requirement already satisfied: colorama in d:\\01_programming\\100_hugobank\\mine\\works-need-it-python\\snd_env\\lib\\site-packages (from click>=8.1.3->flask) (0.4.6)\n",
      "Requirement already satisfied: MarkupSafe>=2.0 in d:\\01_programming\\100_hugobank\\mine\\works-need-it-python\\snd_env\\lib\\site-packages (from Jinja2>=3.1.2->flask) (3.0.2)\n",
      "Using cached flask-3.1.0-py3-none-any.whl (102 kB)\n",
      "Using cached blinker-1.9.0-py3-none-any.whl (8.5 kB)\n",
      "Using cached itsdangerous-2.2.0-py3-none-any.whl (16 kB)\n",
      "Installing collected packages: itsdangerous, blinker, flask\n",
      "Successfully installed blinker-1.9.0 flask-3.1.0 itsdangerous-2.2.0\n"
     ]
    }
   ],
   "source": [
    "!pip install flask"
   ]
  },
  {
   "cell_type": "code",
   "execution_count": null,
   "metadata": {},
   "outputs": [],
   "source": [
    "# py에서 실행\n",
    "from flask import Flask\n",
    "\n",
    "app = Flask(__name__)\n",
    "\n",
    "@app.route('/')\n",
    "def hello_world():\n",
    "    return 'Hello, World!'\n",
    "\n",
    "if __name__ == '__main__':\n",
    "    app.run(debug=True)"
   ]
  },
  {
   "cell_type": "markdown",
   "metadata": {},
   "source": [
    "##### VS Code에서 실행\n",
    "\n",
    "<img src=\"../../../images/wnip0019.png\" width=\"700\">"
   ]
  },
  {
   "cell_type": "markdown",
   "metadata": {},
   "source": [
    "#### Flask-RESTful: Flask 기반 RESTful API 구축 도구\n",
    "\n",
    "- http://flask-restful.readthedocs.io/\n",
    "\n",
    "Flask 프레임워크를 기반으로 RESTful 웹 서비스를 빠르게 개발할 수 있도록 도와주는 경량화된 확장 라이브러리"
   ]
  },
  {
   "cell_type": "code",
   "execution_count": 7,
   "metadata": {},
   "outputs": [
    {
     "name": "stdout",
     "output_type": "stream",
     "text": [
      "Collecting flask-restful\n",
      "  Downloading Flask_RESTful-0.3.10-py2.py3-none-any.whl.metadata (1.0 kB)\n",
      "Collecting aniso8601>=0.82 (from flask-restful)\n",
      "  Downloading aniso8601-10.0.0-py2.py3-none-any.whl.metadata (23 kB)\n",
      "Requirement already satisfied: Flask>=0.8 in d:\\01_programming\\100_hugobank\\mine\\works-need-it-python\\snd_env\\lib\\site-packages (from flask-restful) (3.1.0)\n",
      "Requirement already satisfied: six>=1.3.0 in d:\\01_programming\\100_hugobank\\mine\\works-need-it-python\\snd_env\\lib\\site-packages (from flask-restful) (1.17.0)\n",
      "Requirement already satisfied: pytz in d:\\01_programming\\100_hugobank\\mine\\works-need-it-python\\snd_env\\lib\\site-packages (from flask-restful) (2024.2)\n",
      "Requirement already satisfied: Werkzeug>=3.1 in d:\\01_programming\\100_hugobank\\mine\\works-need-it-python\\snd_env\\lib\\site-packages (from Flask>=0.8->flask-restful) (3.1.3)\n",
      "Requirement already satisfied: Jinja2>=3.1.2 in d:\\01_programming\\100_hugobank\\mine\\works-need-it-python\\snd_env\\lib\\site-packages (from Flask>=0.8->flask-restful) (3.1.5)\n",
      "Requirement already satisfied: itsdangerous>=2.2 in d:\\01_programming\\100_hugobank\\mine\\works-need-it-python\\snd_env\\lib\\site-packages (from Flask>=0.8->flask-restful) (2.2.0)\n",
      "Requirement already satisfied: click>=8.1.3 in d:\\01_programming\\100_hugobank\\mine\\works-need-it-python\\snd_env\\lib\\site-packages (from Flask>=0.8->flask-restful) (8.1.8)\n",
      "Requirement already satisfied: blinker>=1.9 in d:\\01_programming\\100_hugobank\\mine\\works-need-it-python\\snd_env\\lib\\site-packages (from Flask>=0.8->flask-restful) (1.9.0)\n",
      "Requirement already satisfied: colorama in d:\\01_programming\\100_hugobank\\mine\\works-need-it-python\\snd_env\\lib\\site-packages (from click>=8.1.3->Flask>=0.8->flask-restful) (0.4.6)\n",
      "Requirement already satisfied: MarkupSafe>=2.0 in d:\\01_programming\\100_hugobank\\mine\\works-need-it-python\\snd_env\\lib\\site-packages (from Jinja2>=3.1.2->Flask>=0.8->flask-restful) (3.0.2)\n",
      "Downloading Flask_RESTful-0.3.10-py2.py3-none-any.whl (26 kB)\n",
      "Downloading aniso8601-10.0.0-py2.py3-none-any.whl (52 kB)\n",
      "Installing collected packages: aniso8601, flask-restful\n",
      "Successfully installed aniso8601-10.0.0 flask-restful-0.3.10\n"
     ]
    }
   ],
   "source": [
    "!pip install flask-restful"
   ]
  },
  {
   "cell_type": "code",
   "execution_count": null,
   "metadata": {},
   "outputs": [],
   "source": [
    "from flask import Flask\n",
    "from flask_restful import Resource, Api\n",
    "\n",
    "app = Flask(__name__)\n",
    "api = Api(app)\n",
    "\n",
    "class HelloWorld(Resource):\n",
    "    def get(self):\n",
    "        return {'hello': 'world'}\n",
    "\n",
    "api.add_resource(HelloWorld, '/')\n",
    "\n",
    "if __name__ == '__main__':\n",
    "    app.run(debug=True)\n"
   ]
  },
  {
   "cell_type": "markdown",
   "metadata": {},
   "source": [
    "##### py에서 실행\n",
    "\n",
    "<img src=\"../../../images/wnip0020.png\" width=\"700\">"
   ]
  }
 ],
 "metadata": {
  "kernelspec": {
   "display_name": "snd_env",
   "language": "python",
   "name": "python3"
  },
  "language_info": {
   "codemirror_mode": {
    "name": "ipython",
    "version": 3
   },
   "file_extension": ".py",
   "mimetype": "text/x-python",
   "name": "python",
   "nbconvert_exporter": "python",
   "pygments_lexer": "ipython3",
   "version": "3.10.10"
  }
 },
 "nbformat": 4,
 "nbformat_minor": 2
}
