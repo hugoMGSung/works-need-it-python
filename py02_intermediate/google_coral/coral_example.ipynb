{
 "cells": [
  {
   "cell_type": "code",
   "execution_count": 1,
   "id": "b6d9ef80",
   "metadata": {},
   "outputs": [
    {
     "name": "stdout",
     "output_type": "stream",
     "text": [
      "Looking in indexes: https://pypi.org/simple, https://pypi.ngc.nvidia.com\n"
     ]
    },
    {
     "name": "stderr",
     "output_type": "stream",
     "text": [
      "ERROR: Could not find a version that satisfies the requirement tflite-runtime (from versions: none)\n",
      "ERROR: No matching distribution found for tflite-runtime\n",
      "\n",
      "[notice] A new release of pip is available: 24.0 -> 25.1.1\n",
      "[notice] To update, run: python.exe -m pip install --upgrade pip\n"
     ]
    }
   ],
   "source": [
    "!pip install tflite-runtime"
   ]
  },
  {
   "cell_type": "code",
   "execution_count": 2,
   "id": "1217a8f5",
   "metadata": {},
   "outputs": [
    {
     "name": "stdout",
     "output_type": "stream",
     "text": [
      "Looking in indexes: https://pypi.org/simple, https://pypi.ngc.nvidia.com\n",
      "Collecting pycoral\n",
      "  Downloading pycoral-0.2.0-py3-none-any.whl.metadata (9.0 kB)\n",
      "Collecting requests>=2.23.1 (from pycoral)\n",
      "  Downloading requests-2.32.4-py3-none-any.whl.metadata (4.9 kB)\n",
      "Collecting progressbar2>=3.53.1 (from pycoral)\n",
      "  Downloading progressbar2-4.5.0-py3-none-any.whl.metadata (16 kB)\n",
      "Collecting area>=1.1.1 (from pycoral)\n",
      "  Downloading area-1.1.1.tar.gz (4.1 kB)\n",
      "  Installing build dependencies: started\n",
      "  Installing build dependencies: finished with status 'done'\n",
      "  Getting requirements to build wheel: started\n",
      "  Getting requirements to build wheel: finished with status 'done'\n",
      "  Preparing metadata (pyproject.toml): started\n",
      "  Preparing metadata (pyproject.toml): finished with status 'done'\n",
      "Collecting tenacity>=8.0.1 (from pycoral)\n",
      "  Downloading tenacity-9.1.2-py3-none-any.whl.metadata (1.2 kB)\n",
      "Collecting pandas>=2.1.1 (from pycoral)\n",
      "  Downloading pandas-2.3.0-cp311-cp311-win_amd64.whl.metadata (19 kB)\n",
      "Collecting numpy>=1.23.2 (from pandas>=2.1.1->pycoral)\n",
      "  Downloading numpy-2.3.1-cp311-cp311-win_amd64.whl.metadata (60 kB)\n",
      "     ---------------------------------------- 0.0/60.9 kB ? eta -:--:--\n",
      "     ---------------------------------------- 60.9/60.9 kB 3.2 MB/s eta 0:00:00\n",
      "Requirement already satisfied: python-dateutil>=2.8.2 in d:\\01_programming\\100_hugobank\\mine\\works-need-it-python\\env-gpu\\lib\\site-packages (from pandas>=2.1.1->pycoral) (2.9.0.post0)\n",
      "Collecting pytz>=2020.1 (from pandas>=2.1.1->pycoral)\n",
      "  Downloading pytz-2025.2-py2.py3-none-any.whl.metadata (22 kB)\n",
      "Collecting tzdata>=2022.7 (from pandas>=2.1.1->pycoral)\n",
      "  Downloading tzdata-2025.2-py2.py3-none-any.whl.metadata (1.4 kB)\n",
      "Collecting python-utils>=3.8.1 (from progressbar2>=3.53.1->pycoral)\n",
      "  Downloading python_utils-3.9.1-py2.py3-none-any.whl.metadata (9.8 kB)\n",
      "Collecting charset_normalizer<4,>=2 (from requests>=2.23.1->pycoral)\n",
      "  Downloading charset_normalizer-3.4.2-cp311-cp311-win_amd64.whl.metadata (36 kB)\n",
      "Collecting idna<4,>=2.5 (from requests>=2.23.1->pycoral)\n",
      "  Downloading idna-3.10-py3-none-any.whl.metadata (10 kB)\n",
      "Collecting urllib3<3,>=1.21.1 (from requests>=2.23.1->pycoral)\n",
      "  Downloading urllib3-2.5.0-py3-none-any.whl.metadata (6.5 kB)\n",
      "Collecting certifi>=2017.4.17 (from requests>=2.23.1->pycoral)\n",
      "  Downloading certifi-2025.6.15-py3-none-any.whl.metadata (2.4 kB)\n",
      "Requirement already satisfied: six>=1.5 in d:\\01_programming\\100_hugobank\\mine\\works-need-it-python\\env-gpu\\lib\\site-packages (from python-dateutil>=2.8.2->pandas>=2.1.1->pycoral) (1.17.0)\n",
      "Requirement already satisfied: typing_extensions>3.10.0.2 in d:\\01_programming\\100_hugobank\\mine\\works-need-it-python\\env-gpu\\lib\\site-packages (from python-utils>=3.8.1->progressbar2>=3.53.1->pycoral) (4.13.2)\n",
      "Downloading pycoral-0.2.0-py3-none-any.whl (13 kB)\n",
      "Downloading pandas-2.3.0-cp311-cp311-win_amd64.whl (11.1 MB)\n",
      "   ---------------------------------------- 0.0/11.1 MB ? eta -:--:--\n",
      "   --- ------------------------------------ 0.9/11.1 MB 27.5 MB/s eta 0:00:01\n",
      "   -------- ------------------------------- 2.4/11.1 MB 30.6 MB/s eta 0:00:01\n",
      "   --------------- ------------------------ 4.2/11.1 MB 33.3 MB/s eta 0:00:01\n",
      "   --------------------- ------------------ 5.9/11.1 MB 34.1 MB/s eta 0:00:01\n",
      "   -------------------------- ------------- 7.3/11.1 MB 35.9 MB/s eta 0:00:01\n",
      "   ------------------------------ --------- 8.4/11.1 MB 31.6 MB/s eta 0:00:01\n",
      "   ------------------------------------- -- 10.4/11.1 MB 32.7 MB/s eta 0:00:01\n",
      "   ---------------------------------------- 11.1/11.1 MB 34.4 MB/s eta 0:00:00\n",
      "Downloading progressbar2-4.5.0-py3-none-any.whl (57 kB)\n",
      "   ---------------------------------------- 0.0/57.1 kB ? eta -:--:--\n",
      "   ---------------------------------------- 57.1/57.1 kB 2.9 MB/s eta 0:00:00\n",
      "Downloading requests-2.32.4-py3-none-any.whl (64 kB)\n",
      "   ---------------------------------------- 0.0/64.8 kB ? eta -:--:--\n",
      "   ---------------------------------------- 64.8/64.8 kB ? eta 0:00:00\n",
      "Downloading tenacity-9.1.2-py3-none-any.whl (28 kB)\n",
      "Downloading certifi-2025.6.15-py3-none-any.whl (157 kB)\n",
      "   ---------------------------------------- 0.0/157.7 kB ? eta -:--:--\n",
      "   ---------------------------------------- 157.7/157.7 kB ? eta 0:00:00\n",
      "Downloading charset_normalizer-3.4.2-cp311-cp311-win_amd64.whl (105 kB)\n",
      "   ---------------------------------------- 0.0/105.4 kB ? eta -:--:--\n",
      "   ---------------------------------------- 105.4/105.4 kB ? eta 0:00:00\n",
      "Downloading idna-3.10-py3-none-any.whl (70 kB)\n",
      "   ---------------------------------------- 0.0/70.4 kB ? eta -:--:--\n",
      "   ---------------------------------------- 70.4/70.4 kB ? eta 0:00:00\n",
      "Downloading numpy-2.3.1-cp311-cp311-win_amd64.whl (13.0 MB)\n",
      "   ---------------------------------------- 0.0/13.0 MB ? eta -:--:--\n",
      "   ---- ----------------------------------- 1.6/13.0 MB 51.9 MB/s eta 0:00:01\n",
      "   ------------ --------------------------- 3.9/13.0 MB 50.0 MB/s eta 0:00:01\n",
      "   ------------ --------------------------- 4.0/13.0 MB 43.1 MB/s eta 0:00:01\n",
      "   ------------ --------------------------- 4.1/13.0 MB 23.7 MB/s eta 0:00:01\n",
      "   ------------ --------------------------- 4.2/13.0 MB 19.3 MB/s eta 0:00:01\n",
      "   ------------- -------------------------- 4.4/13.0 MB 16.7 MB/s eta 0:00:01\n",
      "   -------------- ------------------------- 4.7/13.0 MB 14.9 MB/s eta 0:00:01\n",
      "   --------------- ------------------------ 5.1/13.0 MB 13.5 MB/s eta 0:00:01\n",
      "   ---------------- ----------------------- 5.4/13.0 MB 12.9 MB/s eta 0:00:01\n",
      "   ------------------ --------------------- 6.1/13.0 MB 13.1 MB/s eta 0:00:01\n",
      "   ------------------------ --------------- 7.8/13.0 MB 15.2 MB/s eta 0:00:01\n",
      "   ----------------------------- ---------- 9.7/13.0 MB 17.2 MB/s eta 0:00:01\n",
      "   ---------------------------------- ----- 11.3/13.0 MB 17.2 MB/s eta 0:00:01\n",
      "   ---------------------------------------- 13.0/13.0 MB 17.7 MB/s eta 0:00:00\n",
      "Downloading python_utils-3.9.1-py2.py3-none-any.whl (32 kB)\n",
      "Downloading pytz-2025.2-py2.py3-none-any.whl (509 kB)\n",
      "   ---------------------------------------- 0.0/509.2 kB ? eta -:--:--\n",
      "   ---------------------------------------- 509.2/509.2 kB ? eta 0:00:00\n",
      "Downloading tzdata-2025.2-py2.py3-none-any.whl (347 kB)\n",
      "   ---------------------------------------- 0.0/347.8 kB ? eta -:--:--\n",
      "   --------------------------------------- 347.8/347.8 kB 21.1 MB/s eta 0:00:00\n",
      "Downloading urllib3-2.5.0-py3-none-any.whl (129 kB)\n",
      "   ---------------------------------------- 0.0/129.8 kB ? eta -:--:--\n",
      "   ---------------------------------------- 129.8/129.8 kB ? eta 0:00:00\n",
      "Building wheels for collected packages: area\n",
      "  Building wheel for area (pyproject.toml): started\n",
      "  Building wheel for area (pyproject.toml): finished with status 'done'\n",
      "  Created wheel for area: filename=area-1.1.1-py3-none-any.whl size=3705 sha256=f13c579a3cb8e70fa094d504ebe110bbeda70e42c33d8546cc86bb2e4f78385b\n",
      "  Stored in directory: C:\\Users\\perso\\AppData\\Local\\Temp\\pip-ephem-wheel-cache-9pa71biz\\wheels\\15\\5b\\3e\\1f8475267c63bab636b42205e490569a75762f0803b8613670\n",
      "Successfully built area\n",
      "Installing collected packages: pytz, area, urllib3, tzdata, tenacity, python-utils, numpy, idna, charset_normalizer, certifi, requests, progressbar2, pandas, pycoral\n",
      "Successfully installed area-1.1.1 certifi-2025.6.15 charset_normalizer-3.4.2 idna-3.10 numpy-2.3.1 pandas-2.3.0 progressbar2-4.5.0 pycoral-0.2.0 python-utils-3.9.1 pytz-2025.2 requests-2.32.4 tenacity-9.1.2 tzdata-2025.2 urllib3-2.5.0\n"
     ]
    },
    {
     "name": "stderr",
     "output_type": "stream",
     "text": [
      "\n",
      "[notice] A new release of pip is available: 24.0 -> 25.1.1\n",
      "[notice] To update, run: python.exe -m pip install --upgrade pip\n"
     ]
    }
   ],
   "source": [
    "!pip install pycoral"
   ]
  },
  {
   "cell_type": "code",
   "execution_count": 4,
   "id": "d50064c8",
   "metadata": {},
   "outputs": [
    {
     "name": "stdout",
     "output_type": "stream",
     "text": [
      "Looking in indexes: https://pypi.org/simple, https://pypi.ngc.nvidia.com\n",
      "Collecting pillow\n",
      "  Downloading pillow-11.2.1-cp311-cp311-win_amd64.whl.metadata (9.1 kB)\n",
      "Downloading pillow-11.2.1-cp311-cp311-win_amd64.whl (2.7 MB)\n",
      "   ---------------------------------------- 0.0/2.7 MB ? eta -:--:--\n",
      "   ---------------------------------------- 0.0/2.7 MB ? eta -:--:--\n",
      "   ---------------------------------------- 0.0/2.7 MB ? eta -:--:--\n",
      "   ---------------------------------------- 0.0/2.7 MB 325.1 kB/s eta 0:00:09\n",
      "   - -------------------------------------- 0.1/2.7 MB 901.1 kB/s eta 0:00:03\n",
      "   --------- ------------------------------ 0.6/2.7 MB 4.1 MB/s eta 0:00:01\n",
      "   ------------------------ --------------- 1.6/2.7 MB 7.3 MB/s eta 0:00:01\n",
      "   ---------------------------------------  2.6/2.7 MB 10.5 MB/s eta 0:00:01\n",
      "   ---------------------------------------- 2.7/2.7 MB 10.0 MB/s eta 0:00:00\n",
      "Installing collected packages: pillow\n",
      "Successfully installed pillow-11.2.1\n"
     ]
    },
    {
     "name": "stderr",
     "output_type": "stream",
     "text": [
      "\n",
      "[notice] A new release of pip is available: 24.0 -> 25.1.1\n",
      "[notice] To update, run: python.exe -m pip install --upgrade pip\n"
     ]
    }
   ],
   "source": [
    "!pip install pillow"
   ]
  },
  {
   "cell_type": "code",
   "execution_count": 5,
   "id": "f5166fda",
   "metadata": {},
   "outputs": [
    {
     "ename": "ModuleNotFoundError",
     "evalue": "No module named 'pycoral.utils'",
     "output_type": "error",
     "traceback": [
      "\u001b[31m---------------------------------------------------------------------------\u001b[39m",
      "\u001b[31mModuleNotFoundError\u001b[39m                       Traceback (most recent call last)",
      "\u001b[36mCell\u001b[39m\u001b[36m \u001b[39m\u001b[32mIn[5]\u001b[39m\u001b[32m, line 1\u001b[39m\n\u001b[32m----> \u001b[39m\u001b[32m1\u001b[39m \u001b[38;5;28;01mfrom\u001b[39;00m\u001b[38;5;250m \u001b[39m\u001b[34;01mpycoral\u001b[39;00m\u001b[34;01m.\u001b[39;00m\u001b[34;01mutils\u001b[39;00m\u001b[34;01m.\u001b[39;00m\u001b[34;01medgetpu\u001b[39;00m\u001b[38;5;250m \u001b[39m\u001b[38;5;28;01mimport\u001b[39;00m make_interpreter\n\u001b[32m      2\u001b[39m \u001b[38;5;28;01mfrom\u001b[39;00m\u001b[38;5;250m \u001b[39m\u001b[34;01mpycoral\u001b[39;00m\u001b[34;01m.\u001b[39;00m\u001b[34;01madapters\u001b[39;00m\u001b[38;5;250m \u001b[39m\u001b[38;5;28;01mimport\u001b[39;00m common, classify\n\u001b[32m      3\u001b[39m \u001b[38;5;28;01mfrom\u001b[39;00m\u001b[38;5;250m \u001b[39m\u001b[34;01mPIL\u001b[39;00m\u001b[38;5;250m \u001b[39m\u001b[38;5;28;01mimport\u001b[39;00m Image\n",
      "\u001b[31mModuleNotFoundError\u001b[39m: No module named 'pycoral.utils'"
     ]
    }
   ],
   "source": [
    "from pycoral.utils.edgetpu import make_interpreter\n",
    "from pycoral.adapters import common, classify\n",
    "from PIL import Image\n",
    "\n",
    "# 1️⃣ 모델 로드\n",
    "model_path = 'mobilenet_v2_edgetpu.tflite'\n",
    "interpreter = make_interpreter(model_path)\n",
    "interpreter.allocate_tensors()\n",
    "\n",
    "# 2️⃣ 이미지 로드\n",
    "img = Image.open('cat.png').convert('RGB')\n",
    "_, scale = common.set_resized_input(interpreter, img.size, lambda size: img.resize(size))\n",
    "common.set_input(interpreter, img)\n",
    "\n",
    "# 3️⃣ 추론 실행\n",
    "interpreter.invoke()\n",
    "\n",
    "# 4️⃣ 결과 출력\n",
    "results = classify.get_classes(interpreter, top_k=3)\n",
    "for result in results:\n",
    "    print(f'ID:{result.id}, Score:{result.score:.3f}')\n"
   ]
  }
 ],
 "metadata": {
  "kernelspec": {
   "display_name": "Python 3",
   "language": "python",
   "name": "python3"
  },
  "language_info": {
   "codemirror_mode": {
    "name": "ipython",
    "version": 3
   },
   "file_extension": ".py",
   "mimetype": "text/x-python",
   "name": "python",
   "nbconvert_exporter": "python",
   "pygments_lexer": "ipython3",
   "version": "3.9.2"
  }
 },
 "nbformat": 4,
 "nbformat_minor": 5
}
