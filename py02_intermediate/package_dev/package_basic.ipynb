{
 "cells": [
  {
   "cell_type": "markdown",
   "metadata": {},
   "source": [
    "### 패키지\n",
    "\n",
    "- 디렉토리(폴더)로 관리하는 구성된 하위 폴더와 모듈을 뜻함\n",
    "- 프로젝트를 수행할 때 패키지 단위로 진행\n",
    "- 패키지를 잘 만들었을 겨우 공동작업, 유지보수에 유리함"
   ]
  },
  {
   "cell_type": "markdown",
   "metadata": {},
   "source": [
    "#### 패키지 만들기\n",
    "- 패키지 이름 지정\n",
    "    - 원하는 폴더 생성, 원하는 패키지 이름(machinePackage)에 넣기\n",
    "- 기능별로 폴더 구성\n",
    "    - 하위 폴더는 기능별로 구성\n",
    "    - 폴더명은 기능별 설계 중요!\n",
    "\n",
    "- 각 폴더 __init__.py 파일 구성(Python 3.3 이상 생략 가능하나!)\n",
    "    - 패키지 폴더 및 하위 폴더 모두 __init__.py 생성\n",
    "    - 이 파일은 해당 폴더가 패키지의 일부임을 알려주는 역할로 init 파일이 없으면 패키지로 인식되지 않음\n",
    "\n",
    "    <img src=\"../../images/wnip0011.png\" width=\"500\">"
   ]
  },
  {
   "cell_type": "markdown",
   "metadata": {},
   "source": [
    "#### 파이썬 환경변수 추가\n",
    "\n",
    "- 시스템 속성에서 PYTHONPATH 만듬\n",
    "- 현재 사용할 파이썬 버전도 시스템 속성에 등록\n",
    "    - pyenv를 사용해서 여러 버전을 사용하고 있으면, 대표 파이썬 하나는 설치 필요\n",
    "\n",
    "    <img src=\"../../images/wnip0012.png\" width=\"500\">"
   ]
  },
  {
   "cell_type": "markdown",
   "metadata": {},
   "source": [
    "#### 패키지 내 모듈 함수 정의\n",
    "\n",
    "- 간단히 print() 기능만 가지는 함수 정의"
   ]
  },
  {
   "cell_type": "code",
   "execution_count": null,
   "metadata": {},
   "outputs": [],
   "source": [
    "# machinePackage.control.confirm.py\n",
    "def confirmControl():\n",
    "    print('기기 컨트롤 확인!')"
   ]
  },
  {
   "cell_type": "code",
   "execution_count": null,
   "metadata": {},
   "outputs": [],
   "source": [
    "# machinePackage.monitor.design.py\n",
    "def designMonitor():\n",
    "    print('모니터 디자인!!')"
   ]
  },
  {
   "cell_type": "markdown",
   "metadata": {},
   "source": [
    "#### __all__ 사전정의\n",
    "\n",
    "- from machinePackage.data import * 과 같은 import를 할 경우 __all__ 이 없으면 오류 발생\n",
    "\n",
    "- control 아래 __init__.py에 다음과 같이 정의\n",
    "\n",
    "    ```python\n",
    "    __all__ = ['clear', 'confirm']\n",
    "    ```"
   ]
  },
  {
   "cell_type": "markdown",
   "metadata": {},
   "source": [
    "- 실행결과\n",
    "\n",
    "    <img src=\"../../images/wnip0013.png\" width=\"800\">"
   ]
  },
  {
   "cell_type": "markdown",
   "metadata": {},
   "source": [
    "#### __main__.py 추가\n",
    "\n",
    "main 파일을 생성하여 패키지를 실행하는 방법"
   ]
  },
  {
   "cell_type": "markdown",
   "metadata": {},
   "source": [
    "#### 다른 모듈로도 확장하면 됨\n",
    "\n",
    "- PyPi 패키지 등록은 추후....\n"
   ]
  }
 ],
 "metadata": {
  "language_info": {
   "name": "python"
  }
 },
 "nbformat": 4,
 "nbformat_minor": 2
}
