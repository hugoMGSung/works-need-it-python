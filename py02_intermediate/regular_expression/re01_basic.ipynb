{
 "cells": [
  {
   "cell_type": "markdown",
   "metadata": {},
   "source": [
    "## 정규표현식\n",
    "\n",
    "- https://regexr.com/ 에서 확인하면서 볼것\n",
    "\n",
    "### 기본\n",
    "- 월요일~일요일까지\n",
    "- 핸드폰 번호\n",
    "- 이메일주소\n",
    "- URL \n",
    "등..."
   ]
  },
  {
   "cell_type": "markdown",
   "metadata": {},
   "source": [
    "#### 기본\n",
    "\n",
    "```regex\n",
    "/hello/gm\n",
    "/Hello/gm\n",
    "/hello world/gm\n",
    "\n",
    "/^hello/gm          # hello로 시작하는 문자열\n",
    "/hello$/gm          # hello로 끝나는 문자열\n",
    "\n",
    "/h[ea]llo/gm        # hello, hallo 모두 매칭\n",
    "/h[ea]l../gm        # helxx, halxx 등 총 5개의 문자열\n",
    "\n",
    "/h[a-f]llo/gm       # hallo, hbllo, hcllo, hdllo, hello, hfllo\n",
    "/[a-zA-z0-9]/gm     # 모든 알파벳과 숫자를 찾음\n",
    "/[^a-zA-z0-9]/gm    # 알파벳 외 나머지 문자열을 찾음\n",
    "```"
   ]
  },
  {
   "cell_type": "markdown",
   "metadata": {},
   "source": [
    "#### 기타\n",
    "\n",
    "```regex\n",
    "/(on|off)/gm            # 그룹으로 on과 off 중 매칭되는 패턴 찾음\n",
    "/hello (?|world)/gm     # hello 뒤에 world가 오지 않는 것\n",
    "/hello (?=world)/gm     # hello 뒤에 world가 오는 것\n",
    "\n",
    "_*                      # 앞에 있는 문자가 0~N개\n",
    "_+                      # 앞에 있는 무자가 1~N개\n",
    "_?                      # 앞에 있는 문자가 0~1개\n",
    "\n",
    "{3}                 # 3개\n",
    "{3,}                # 3개 이상\n",
    "{1,3}               # 1~3개\n",
    "\n",
    "/\\w/gm              # 워드\n",
    "/\\w{5} /gm          # 5개의 글자와 스페이스 하나\n",
    "/\\W/gm              # not 워드\n",
    "/\\d/gm              # 숫자\n",
    "/\\D/gm              # not 숫자\n",
    "/\\s/gm              # 스페이스\n",
    "/\\S/gm              # not 스페이스\n",
    "\n",
    "/\\[.*]/gm           # 대괄호([]) 안에 감싸진 문자열\n",
    "/\\(.*\\)/gm          # 소괄호 안에 감싸진 문자열\n",
    "...\n",
    "```"
   ]
  },
  {
   "cell_type": "markdown",
   "metadata": {},
   "source": [
    "### 라이브러리\n",
    "\n"
   ]
  },
  {
   "cell_type": "code",
   "execution_count": 16,
   "metadata": {},
   "outputs": [],
   "source": [
    "import re"
   ]
  },
  {
   "cell_type": "markdown",
   "metadata": {},
   "source": [
    "#### 기본 검색"
   ]
  },
  {
   "cell_type": "code",
   "execution_count": 17,
   "metadata": {},
   "outputs": [],
   "source": [
    "rex = r'([a-zA-Z+]) : (\\d+)'\n",
    "sentence = 'name : hugoSung, age : 40, email : hugo76@gmailcom '\n",
    "result = re.search(rex, sentence)"
   ]
  },
  {
   "cell_type": "code",
   "execution_count": 18,
   "metadata": {},
   "outputs": [
    {
     "data": {
      "text/plain": [
       "<re.Match object; span=(19, 25), match='e : 40'>"
      ]
     },
     "execution_count": 18,
     "metadata": {},
     "output_type": "execute_result"
    }
   ],
   "source": [
    "result"
   ]
  },
  {
   "cell_type": "code",
   "execution_count": 19,
   "metadata": {},
   "outputs": [
    {
     "data": {
      "text/plain": [
       "19"
      ]
     },
     "execution_count": 19,
     "metadata": {},
     "output_type": "execute_result"
    }
   ],
   "source": [
    "result.start()"
   ]
  },
  {
   "cell_type": "code",
   "execution_count": 8,
   "metadata": {},
   "outputs": [
    {
     "data": {
      "text/plain": [
       "25"
      ]
     },
     "execution_count": 8,
     "metadata": {},
     "output_type": "execute_result"
    }
   ],
   "source": [
    "result.end()"
   ]
  },
  {
   "cell_type": "code",
   "execution_count": 20,
   "metadata": {},
   "outputs": [
    {
     "data": {
      "text/plain": [
       "'e : 40'"
      ]
     },
     "execution_count": 20,
     "metadata": {},
     "output_type": "execute_result"
    }
   ],
   "source": [
    "result.group(0)"
   ]
  },
  {
   "cell_type": "code",
   "execution_count": 11,
   "metadata": {},
   "outputs": [
    {
     "data": {
      "text/plain": [
       "'e'"
      ]
     },
     "execution_count": 11,
     "metadata": {},
     "output_type": "execute_result"
    }
   ],
   "source": [
    "result.group(1)"
   ]
  },
  {
   "cell_type": "code",
   "execution_count": 12,
   "metadata": {},
   "outputs": [
    {
     "data": {
      "text/plain": [
       "'40'"
      ]
     },
     "execution_count": 12,
     "metadata": {},
     "output_type": "execute_result"
    }
   ],
   "source": [
    "result.group(2)"
   ]
  },
  {
   "cell_type": "markdown",
   "metadata": {},
   "source": [
    "#### 찾아내기"
   ]
  },
  {
   "cell_type": "code",
   "execution_count": 21,
   "metadata": {},
   "outputs": [],
   "source": [
    "result = re.findall(rex, sentence)"
   ]
  },
  {
   "cell_type": "code",
   "execution_count": 22,
   "metadata": {},
   "outputs": [
    {
     "data": {
      "text/plain": [
       "[('e', '40')]"
      ]
     },
     "execution_count": 22,
     "metadata": {},
     "output_type": "execute_result"
    }
   ],
   "source": [
    "result"
   ]
  },
  {
   "cell_type": "markdown",
   "metadata": {},
   "source": [
    "#### 계좌번호 이름\n",
    "\n",
    "866-12-338815 농협 을 정규식으로 필터링"
   ]
  },
  {
   "cell_type": "code",
   "execution_count": 5,
   "metadata": {},
   "outputs": [],
   "source": [
    "import re\n",
    "\n",
    "rex = r'(?P<one>\\d+)-(?P<two>\\d+)-(?P<three>\\d+) (?P<four>\\w+)'\n",
    "bankAccount1 = '866-12-338815 농협'\n",
    "bankAccount2 = '866-12-3388-4444 농협'\n",
    "result1 = re.match(rex, bankAccount1)"
   ]
  },
  {
   "cell_type": "code",
   "execution_count": 6,
   "metadata": {},
   "outputs": [
    {
     "data": {
      "text/plain": [
       "<re.Match object; span=(0, 16), match='866-12-338815 농협'>"
      ]
     },
     "execution_count": 6,
     "metadata": {},
     "output_type": "execute_result"
    }
   ],
   "source": [
    "result1"
   ]
  },
  {
   "cell_type": "code",
   "execution_count": 8,
   "metadata": {},
   "outputs": [],
   "source": [
    "result2 = re.match(rex, bankAccount2)"
   ]
  },
  {
   "cell_type": "code",
   "execution_count": 9,
   "metadata": {},
   "outputs": [],
   "source": [
    "result2"
   ]
  },
  {
   "cell_type": "code",
   "execution_count": 10,
   "metadata": {},
   "outputs": [
    {
     "data": {
      "text/plain": [
       "'농협 : 866 * 12 * 338815'"
      ]
     },
     "execution_count": 10,
     "metadata": {},
     "output_type": "execute_result"
    }
   ],
   "source": [
    "result1.expand('\\g<four> : \\g<one> * \\g<two> * \\g<three>')"
   ]
  },
  {
   "cell_type": "code",
   "execution_count": 12,
   "metadata": {},
   "outputs": [
    {
     "data": {
      "text/plain": [
       "('866', '12', '338815', '농협')"
      ]
     },
     "execution_count": 12,
     "metadata": {},
     "output_type": "execute_result"
    }
   ],
   "source": [
    "result1.groups()"
   ]
  },
  {
   "cell_type": "code",
   "execution_count": 14,
   "metadata": {},
   "outputs": [
    {
     "data": {
      "text/plain": [
       "4"
      ]
     },
     "execution_count": 14,
     "metadata": {},
     "output_type": "execute_result"
    }
   ],
   "source": [
    "len(result1.groups())"
   ]
  },
  {
   "cell_type": "code",
   "execution_count": 15,
   "metadata": {},
   "outputs": [
    {
     "data": {
      "text/plain": [
       "{'one': '866', 'two': '12', 'three': '338815', 'four': '농협'}"
      ]
     },
     "execution_count": 15,
     "metadata": {},
     "output_type": "execute_result"
    }
   ],
   "source": [
    "result1.groupdict()"
   ]
  },
  {
   "cell_type": "markdown",
   "metadata": {},
   "source": [
    "#### 연습문제\n",
    "\n",
    "1. 전화번호 정규표현식\n",
    "2. 이메일 정규표현식\n",
    "3. URL 찾는 정규표현식"
   ]
  }
 ],
 "metadata": {
  "kernelspec": {
   "display_name": "venv_thrd",
   "language": "python",
   "name": "python3"
  },
  "language_info": {
   "codemirror_mode": {
    "name": "ipython",
    "version": 3
   },
   "file_extension": ".py",
   "mimetype": "text/x-python",
   "name": "python",
   "nbconvert_exporter": "python",
   "pygments_lexer": "ipython3",
   "version": "3.10.10"
  }
 },
 "nbformat": 4,
 "nbformat_minor": 2
}
