{
 "cells": [
  {
   "cell_type": "markdown",
   "id": "cc9cd11f",
   "metadata": {},
   "source": [
    "## OpenCV 컴퓨터 비전\n"
   ]
  },
  {
   "cell_type": "code",
   "execution_count": 1,
   "id": "d2f4c023",
   "metadata": {},
   "outputs": [],
   "source": [
    "import cv2\n",
    "import sys\n",
    "import numpy as np"
   ]
  },
  {
   "cell_type": "markdown",
   "id": "d9665d36",
   "metadata": {},
   "source": [
    "### 이미지 읽기"
   ]
  },
  {
   "cell_type": "code",
   "execution_count": 2,
   "id": "40f787dd",
   "metadata": {},
   "outputs": [],
   "source": [
    "img = cv2.imread('./data/soccer.jpg')\n",
    "\n",
    "if img is None:\n",
    "    sys.exit('파일을 찾을 수 없습니다.')"
   ]
  },
  {
   "cell_type": "code",
   "execution_count": 10,
   "id": "02715d7c",
   "metadata": {},
   "outputs": [
    {
     "data": {
      "text/plain": [
       "numpy.ndarray"
      ]
     },
     "execution_count": 10,
     "metadata": {},
     "output_type": "execute_result"
    }
   ],
   "source": [
    "type(img)"
   ]
  },
  {
   "cell_type": "code",
   "execution_count": 11,
   "id": "718e6c5f",
   "metadata": {},
   "outputs": [
    {
     "data": {
      "text/plain": [
       "(427, 640, 3)"
      ]
     },
     "execution_count": 11,
     "metadata": {},
     "output_type": "execute_result"
    }
   ],
   "source": [
    "img.shape"
   ]
  },
  {
   "cell_type": "code",
   "execution_count": 12,
   "id": "b72d9475",
   "metadata": {},
   "outputs": [
    {
     "name": "stdout",
     "output_type": "stream",
     "text": [
      "11 9 8\n"
     ]
    }
   ],
   "source": [
    "print(img[0,0,0], img[0,0,1], img[0,0,2])"
   ]
  },
  {
   "cell_type": "code",
   "execution_count": 15,
   "id": "07ded9f8",
   "metadata": {},
   "outputs": [
    {
     "name": "stdout",
     "output_type": "stream",
     "text": [
      "39 109 102\n"
     ]
    }
   ],
   "source": [
    "print(img[426,639,0], img[426,639,1], img[426,639,2])"
   ]
  },
  {
   "cell_type": "code",
   "execution_count": 3,
   "id": "f381bff7",
   "metadata": {},
   "outputs": [],
   "source": [
    "# 일반 표현\n",
    "cv2.imshow('Img Display', img)\n",
    "\n",
    "cv2.waitKey()\n",
    "cv2.destroyAllWindows()"
   ]
  },
  {
   "cell_type": "code",
   "execution_count": 4,
   "id": "5f6222a8",
   "metadata": {},
   "outputs": [],
   "source": [
    "# 그레이스케일, 반으로 축소하기\n",
    "gray = cv2.cvtColor(img, cv2.COLOR_BGR2GRAY)\n",
    "gray_half = cv2.resize(gray, dsize=(0,0), fx=0.5, fy=0.5)\n",
    "\n",
    "cv2.imshow('Original Display', img)\n",
    "cv2.imshow('Grayscale Display', gray)\n",
    "cv2.imshow('half Display', gray_half)\n",
    "\n",
    "cv2.waitKey()\n",
    "cv2.destroyAllWindows()"
   ]
  },
  {
   "cell_type": "markdown",
   "id": "e20839f4",
   "metadata": {},
   "source": [
    "### 영상읽기"
   ]
  },
  {
   "cell_type": "code",
   "execution_count": 11,
   "id": "feda772f",
   "metadata": {},
   "outputs": [],
   "source": [
    "cap = cv2.VideoCapture(0, cv2.CAP_DSHOW)\n",
    "\n",
    "if not cap.isOpened():\n",
    "    sys.exit('카메라 연결 실패!')"
   ]
  },
  {
   "cell_type": "code",
   "execution_count": 7,
   "id": "b178b639",
   "metadata": {},
   "outputs": [],
   "source": [
    "while True:\n",
    "    ret, frame = cap.read()\n",
    "\n",
    "    if not ret:\n",
    "        print('프레임 획득 실패')\n",
    "        break\n",
    "\n",
    "    cv2.imshow('Web CAM', frame)\n",
    "\n",
    "    key = cv2.waitKey(1)\n",
    "    if key == ord('q'):\n",
    "        break\n",
    "\n",
    "cap.release()\n",
    "cv2.destroyAllWindows()"
   ]
  },
  {
   "cell_type": "markdown",
   "id": "fcfd230e",
   "metadata": {},
   "source": [
    "#### 비디오 수집영상 이어붙이기?"
   ]
  },
  {
   "cell_type": "code",
   "execution_count": 12,
   "id": "18c93ebc",
   "metadata": {},
   "outputs": [],
   "source": [
    "frames = []\n",
    "\n",
    "while True:\n",
    "    ret, frame = cap.read()\n",
    "\n",
    "    if not ret:\n",
    "        print('프레임 획득 실패')\n",
    "        break\n",
    "\n",
    "    cv2.imshow('Web CAM', frame)\n",
    "\n",
    "    key = cv2.waitKey(1)\n",
    "    if key == ord('c'):\n",
    "        frames.append(frame)\n",
    "    elif key == ord('q'):\n",
    "        break\n",
    "\n",
    "cap.release()\n",
    "cv2.destroyAllWindows()\n",
    "\n",
    "if len(frames) > 0:\n",
    "    imgs = frames[0]\n",
    "    for i in range(1, min(3, len(frames))):  # 최대 3개만 이어붙임\n",
    "        imgs = np.hstack((imgs, frames[i]))\n",
    "\n",
    "    cv2.imshow('collected imags', imgs)\n",
    "\n",
    "    cv2.waitKey()\n",
    "    cv2.destroyAllWindows()"
   ]
  },
  {
   "cell_type": "markdown",
   "id": "0c04edda",
   "metadata": {},
   "source": [
    "#### 영상에 도형 그리기, 글자 쓰기"
   ]
  },
  {
   "cell_type": "code",
   "execution_count": 20,
   "id": "908ff8e8",
   "metadata": {},
   "outputs": [],
   "source": [
    "img = cv2.imread('./data/girl_laughing.jpg')\n",
    "\n",
    "if img is None:\n",
    "    sys.exit('파일을 찾을 수 없습니다.')\n",
    "\n",
    "cv2.rectangle(img, pt1=(167,84), pt2=(442,380), color=(0, 0, 255), thickness=5)\n",
    "cv2.putText(img, 'laughing', (167,70), cv2.FONT_HERSHEY_SIMPLEX, 1, (255,0,0), 2)\n",
    "\n",
    "# 일반 표현\n",
    "cv2.imshow('Draw Display', img)\n",
    "\n",
    "cv2.waitKey()\n",
    "cv2.destroyAllWindows()"
   ]
  },
  {
   "cell_type": "markdown",
   "id": "8d26bc42",
   "metadata": {},
   "source": [
    "#### 마우스 클릭한 곳에 사각형 그리기"
   ]
  },
  {
   "cell_type": "code",
   "execution_count": 25,
   "id": "cd4694dc",
   "metadata": {},
   "outputs": [],
   "source": [
    "winName = 'Drawing'\n",
    "\n",
    "img = cv2.imread('./data/girl_laughing.jpg')\n",
    "\n",
    "if img is None:\n",
    "    sys.exit('파일을 찾을 수 없습니다.')\n",
    "\n",
    "def drawRect(event, x, y, flags, param):\n",
    "    if event == cv2.EVENT_LBUTTONDOWN:  # 마우스 왼쪽\n",
    "        cv2.rectangle(img, (x,y), (x+200,y+200), (0,0,255), 2)\n",
    "    elif event == cv2.EVENT_RBUTTONDOWN:  # 마우스 오른쪽\n",
    "        cv2.rectangle(img, (x,y), (x+100,y+100), (255,0,0), 2)\n",
    "\n",
    "    cv2.imshow(winName, img)\n",
    "\n",
    "cv2.namedWindow(winName)\n",
    "cv2.imshow(winName, img)\n",
    "\n",
    "cv2.setMouseCallback(winName, drawRect)  # Drawing 윈도우에 drawRect 콜백함수 지정\n",
    "\n",
    "while (True):\n",
    "    if cv2.waitKey(1) == ord('q'):\n",
    "        cv2.destroyAllWindows()\n",
    "        break"
   ]
  },
  {
   "cell_type": "markdown",
   "id": "857bdec4",
   "metadata": {},
   "source": [
    "#### 마우스 드래그로 직사각형 그리기"
   ]
  },
  {
   "cell_type": "code",
   "execution_count": 24,
   "id": "523bcd76",
   "metadata": {},
   "outputs": [],
   "source": [
    "winName = 'Drawing'\n",
    "\n",
    "img = cv2.imread('./data/girl_laughing.jpg')\n",
    "\n",
    "if img is None:\n",
    "    sys.exit('파일을 찾을 수 없습니다.')\n",
    "\n",
    "def drawRect(event, x, y, flags, param):\n",
    "    global ix, iy\n",
    "\n",
    "    if event == cv2.EVENT_LBUTTONDOWN:  # 마우스 왼쪽다운\n",
    "        ix, iy = x, y\n",
    "    elif event == cv2.EVENT_LBUTTONUP:  # 마우스 왼쪽업\n",
    "        cv2.rectangle(img, (ix,iy), (x,y), (0,0,255), 3)\n",
    "\n",
    "    cv2.imshow(winName, img)\n",
    "\n",
    "cv2.namedWindow(winName)\n",
    "cv2.imshow(winName, img)\n",
    "\n",
    "cv2.setMouseCallback(winName, drawRect)  # Drawing 윈도우에 drawRect 콜백함수 지정\n",
    "\n",
    "while (True):\n",
    "    if cv2.waitKey(1) == ord('q'):\n",
    "        cv2.destroyAllWindows()\n",
    "        break"
   ]
  },
  {
   "cell_type": "markdown",
   "id": "739e55b0",
   "metadata": {},
   "source": [
    "#### 페인팅 기능"
   ]
  },
  {
   "cell_type": "code",
   "execution_count": 3,
   "id": "56d734e4",
   "metadata": {},
   "outputs": [],
   "source": [
    "BrushSize=5   # 붓 크기\n",
    "LColor, RColor = (255,0,0),(0,0,255)   # 파란색, 빨간색"
   ]
  },
  {
   "cell_type": "code",
   "execution_count": 4,
   "id": "a4e9b2b6",
   "metadata": {},
   "outputs": [],
   "source": [
    "def painting(event,x,y,flags,param):\n",
    "    if event == cv2.EVENT_LBUTTONDOWN:\n",
    "        cv2.circle(img,(x,y), BrushSize,LColor, -1)\n",
    "    elif event == cv2.EVENT_RBUTTONDOWN:\n",
    "        cv2.circle(img,(x,y), BrushSize,RColor, -1)\n",
    "    elif event == cv2.EVENT_MOUSEMOVE and flags == cv2.EVENT_FLAG_LBUTTON: # 왼쪽 버튼클릭하고 이동하면\n",
    "        cv2.circle(img,(x,y), BrushSize,LColor, -1)\n",
    "    elif event == cv2.EVENT_MOUSEMOVE and flags == cv2.EVENT_FLAG_RBUTTON: # 오른쪽 버튼클릭하고 이동하면\n",
    "        cv2.circle(img,(x,y), BrushSize,RColor, -1)\n",
    "\n",
    "    cv2.imshow('Painting', img)"
   ]
  },
  {
   "cell_type": "code",
   "execution_count": 5,
   "id": "86952ed6",
   "metadata": {},
   "outputs": [],
   "source": [
    "cv2.namedWindow('Painting')\n",
    "cv2.imshow('Painting', img)\n",
    "\n",
    "cv2.setMouseCallback('Painting', painting)\n",
    "\n",
    "while (True):\n",
    "    if cv2.waitKey(1) == ord('q'):\n",
    "        cv2.destroyAllWindows()\n",
    "        break"
   ]
  },
  {
   "cell_type": "markdown",
   "id": "4b1ebf03",
   "metadata": {},
   "source": [
    "<img src=\"./image/ov0001.png\" width=\"600\">"
   ]
  }
 ],
 "metadata": {
  "kernelspec": {
   "display_name": "env-cpu",
   "language": "python",
   "name": "python3"
  },
  "language_info": {
   "codemirror_mode": {
    "name": "ipython",
    "version": 3
   },
   "file_extension": ".py",
   "mimetype": "text/x-python",
   "name": "python",
   "nbconvert_exporter": "python",
   "pygments_lexer": "ipython3",
   "version": "3.11.9"
  }
 },
 "nbformat": 4,
 "nbformat_minor": 5
}
