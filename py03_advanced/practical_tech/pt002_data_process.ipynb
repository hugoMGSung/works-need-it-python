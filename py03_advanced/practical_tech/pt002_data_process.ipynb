{
 "cells": [
  {
   "cell_type": "markdown",
   "id": "e8d99f4e",
   "metadata": {},
   "source": [
    "## "
   ]
  },
  {
   "cell_type": "markdown",
   "id": "7245b4c7",
   "metadata": {},
   "source": [
    "## 대리점 데이터 가공\n",
    "\n",
    "### 대리점 상품\n",
    "- 대리점 상품 A~Z까지 26개 상품 취급\n",
    "\n",
    "#### 대리점\n",
    "- 매출이력"
   ]
  },
  {
   "cell_type": "markdown",
   "id": "47eecef8",
   "metadata": {},
   "source": [
    "#### 011. 데이터 로드"
   ]
  },
  {
   "cell_type": "code",
   "execution_count": 1,
   "id": "3015f00b",
   "metadata": {},
   "outputs": [],
   "source": [
    "import pandas as pd"
   ]
  }
 ],
 "metadata": {
  "kernelspec": {
   "display_name": "env-cpu",
   "language": "python",
   "name": "python3"
  },
  "language_info": {
   "codemirror_mode": {
    "name": "ipython",
    "version": 3
   },
   "file_extension": ".py",
   "mimetype": "text/x-python",
   "name": "python",
   "nbconvert_exporter": "python",
   "pygments_lexer": "ipython3",
   "version": "3.11.9"
  }
 },
 "nbformat": 4,
 "nbformat_minor": 5
}
