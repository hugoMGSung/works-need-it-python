{
 "cells": [
  {
   "cell_type": "markdown",
   "metadata": {},
   "source": [
    "### SOLID 원칙\n",
    "\n",
    "1. `S(Single Responsible Principle)` - 단일 책임 원칙. 한 클래스는 하나의 책임만 가져야 함\n",
    "2. `O(Open/Close Principle)` - 개방 폐쇄 원칙. 확장에는 열려있고, 수정에는 닫혀있어야 함\n",
    "3. `L(Liscov Substitution Principle)` - 리스코프 치환 원칙. 상위 클래스는 하위 클래스로 바꿀 수 있어야 함\n",
    "4. `I(Interface Segregation Principle)` - 인터페이스 분리 원칙. 인터페이 여러개가 범용 인터페이스 하나보다 낫다\n",
    "5. `D(Dependency Inversion Principle)` - 의존 역전 원칙. 추상화에 의존하여야 함\n",
    "\n",
    "- https://ko.wikipedia.org/wiki/SOLID_(%EA%B0%9D%EC%B2%B4_%EC%A7%80%ED%96%A5_%EC%84%A4%EA%B3%84)"
   ]
  },
  {
   "cell_type": "code",
   "execution_count": null,
   "metadata": {},
   "outputs": [],
   "source": []
  }
 ],
 "metadata": {
  "language_info": {
   "name": "python"
  }
 },
 "nbformat": 4,
 "nbformat_minor": 2
}
