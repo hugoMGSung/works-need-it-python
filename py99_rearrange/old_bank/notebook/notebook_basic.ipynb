{
 "cells": [
  {
   "cell_type": "markdown",
   "metadata": {},
   "source": [
    "# Jupyter Notebook\n",
    "\n",
    "## 이건 뭐야\n",
    "\n",
    "Jupyter에서 제작한 웹 기반 인터랙티브 컴퓨팅 플랫폼. 목성의 이름 Jupiter 에서 유래했으며 목성의 위성의 발견이 기록된 갈릴레오 갈릴레이의 공책에 대한 존경의 의미도 갖고 있다고 함.\n",
    "\n",
    "- 2001년 콜롬비아 출신 입자 물리학자 페르난도 페레즈가 미국 콜로다도 박사 과정 중에 IPython 프로젝트로 시작\n",
    "- 2014년 모든 환경을 웹으로 지원하는 jupyter 프로젝트로 발전\n",
    "- ipython notebook에서 출발했기 때문에 확장자 이름이 .ipynb 임\n",
    "- 웹 기반이라 웹 브라우저에서 편리하게 사용할 수 있음\n",
    "- 가장 기본적 화면으로 셀(cell)이라 불리는 작은 박스형 노드로 구성되어 있고, 이 노드에 코드를 작성하고 실행하면 해당 셀 밑에 실행 결과를 출력\n"
   ]
  },
  {
   "cell_type": "markdown",
   "metadata": {},
   "source": [
    "## 구성\n",
    "\n",
    "- 두 가지 셀로 구성\n",
    "    - 마크다운 셀 - 리포트와 같이 필요한 글을 써서 내용을 설명할 수 있는 셀. 마크다운 문법을 사용하여, Github의 Readme.md와 동일하게 사용할 수 있음(98% 동일)\n",
    "        - 현재 셀이 마크다운 셀\n",
    "    - 코드 셀 - 파이썬, R  등 많은 언어들을 실행하고 결과를 확인할 수 잇는 셀\n"
   ]
  },
  {
   "cell_type": "markdown",
   "metadata": {},
   "source": [
    "### 확장 기능 및 플러그인\n",
    "\n",
    "- VS Code에서는 불필요 - VS Code에서는 실행하지 말것\n",
    "- 주피터 랩등 다양한 확장 기능과 플러그인을 제공, 다양한 부가기능 활성화 가능"
   ]
  },
  {
   "cell_type": "code",
   "execution_count": 4,
   "metadata": {},
   "outputs": [
    {
     "name": "stdout",
     "output_type": "stream",
     "text": [
      "^C\n"
     ]
    },
    {
     "name": "stdout",
     "output_type": "stream",
     "text": [
      "Collecting jupyter_contrib_nbextensions\n",
      "  Using cached jupyter_contrib_nbextensions-0.7.0.tar.gz (23.5 MB)\n",
      "  Preparing metadata (setup.py): started\n",
      "  Preparing metadata (setup.py): finished with status 'done'\n",
      "Collecting ipython_genutils (from jupyter_contrib_nbextensions)\n",
      "  Using cached ipython_genutils-0.2.0-py2.py3-none-any.whl.metadata (755 bytes)\n",
      "Collecting jupyter_contrib_core>=0.3.3 (from jupyter_contrib_nbextensions)\n",
      "  Using cached jupyter_contrib_core-0.4.2.tar.gz (17 kB)\n",
      "  Preparing metadata (setup.py): started\n",
      "  Preparing metadata (setup.py): finished with status 'done'\n",
      "Requirement already satisfied: jupyter_core in d:\\01_programming\\100_hugobank\\mine\\works-need-it-python\\venv\\lib\\site-packages (from jupyter_contrib_nbextensions) (5.7.2)\n",
      "Collecting jupyter_highlight_selected_word>=0.1.1 (from jupyter_contrib_nbextensions)\n",
      "  Using cached jupyter_highlight_selected_word-0.2.0-py2.py3-none-any.whl.metadata (730 bytes)\n",
      "Collecting jupyter_nbextensions_configurator>=0.4.0 (from jupyter_contrib_nbextensions)\n",
      "  Using cached jupyter_nbextensions_configurator-0.6.4-py2.py3-none-any.whl.metadata (1.8 kB)\n",
      "Collecting nbconvert>=6.0 (from jupyter_contrib_nbextensions)\n",
      "  Using cached nbconvert-7.16.5-py3-none-any.whl.metadata (8.5 kB)\n",
      "Collecting notebook>=6.0 (from jupyter_contrib_nbextensions)\n",
      "  Using cached notebook-7.3.2-py3-none-any.whl.metadata (10 kB)\n",
      "Requirement already satisfied: tornado in d:\\01_programming\\100_hugobank\\mine\\works-need-it-python\\venv\\lib\\site-packages (from jupyter_contrib_nbextensions) (6.4.2)\n",
      "Requirement already satisfied: traitlets>=4.1 in d:\\01_programming\\100_hugobank\\mine\\works-need-it-python\\venv\\lib\\site-packages (from jupyter_contrib_nbextensions) (5.14.3)\n",
      "Collecting lxml (from jupyter_contrib_nbextensions)\n",
      "  Using cached lxml-5.3.0-cp310-cp310-win_amd64.whl.metadata (3.9 kB)\n",
      "Requirement already satisfied: setuptools in d:\\01_programming\\100_hugobank\\mine\\works-need-it-python\\venv\\lib\\site-packages (from jupyter_contrib_core>=0.3.3->jupyter_contrib_nbextensions) (65.5.0)\n",
      "Collecting jupyter-server (from jupyter_nbextensions_configurator>=0.4.0->jupyter_contrib_nbextensions)\n",
      "  Using cached jupyter_server-2.15.0-py3-none-any.whl.metadata (8.4 kB)\n",
      "Requirement already satisfied: pyyaml in d:\\01_programming\\100_hugobank\\mine\\works-need-it-python\\venv\\lib\\site-packages (from jupyter_nbextensions_configurator>=0.4.0->jupyter_contrib_nbextensions) (6.0.2)\n",
      "Collecting beautifulsoup4 (from nbconvert>=6.0->jupyter_contrib_nbextensions)\n",
      "  Using cached beautifulsoup4-4.12.3-py3-none-any.whl.metadata (3.8 kB)\n",
      "Collecting bleach!=5.0.0 (from bleach[css]!=5.0.0->nbconvert>=6.0->jupyter_contrib_nbextensions)\n",
      "  Using cached bleach-6.2.0-py3-none-any.whl.metadata (30 kB)\n",
      "Collecting defusedxml (from nbconvert>=6.0->jupyter_contrib_nbextensions)\n",
      "  Using cached defusedxml-0.7.1-py2.py3-none-any.whl.metadata (32 kB)\n",
      "Requirement already satisfied: jinja2>=3.0 in d:\\01_programming\\100_hugobank\\mine\\works-need-it-python\\venv\\lib\\site-packages (from nbconvert>=6.0->jupyter_contrib_nbextensions) (3.1.4)\n",
      "Collecting jupyterlab-pygments (from nbconvert>=6.0->jupyter_contrib_nbextensions)\n",
      "  Using cached jupyterlab_pygments-0.3.0-py3-none-any.whl.metadata (4.4 kB)\n",
      "Requirement already satisfied: markupsafe>=2.0 in d:\\01_programming\\100_hugobank\\mine\\works-need-it-python\\venv\\lib\\site-packages (from nbconvert>=6.0->jupyter_contrib_nbextensions) (3.0.2)\n",
      "Collecting mistune<4,>=2.0.3 (from nbconvert>=6.0->jupyter_contrib_nbextensions)\n",
      "  Using cached mistune-3.1.0-py3-none-any.whl.metadata (1.7 kB)\n",
      "Collecting nbclient>=0.5.0 (from nbconvert>=6.0->jupyter_contrib_nbextensions)\n",
      "  Using cached nbclient-0.10.2-py3-none-any.whl.metadata (8.3 kB)\n",
      "Collecting nbformat>=5.7 (from nbconvert>=6.0->jupyter_contrib_nbextensions)\n",
      "  Using cached nbformat-5.10.4-py3-none-any.whl.metadata (3.6 kB)\n",
      "Requirement already satisfied: packaging in d:\\01_programming\\100_hugobank\\mine\\works-need-it-python\\venv\\lib\\site-packages (from nbconvert>=6.0->jupyter_contrib_nbextensions) (24.2)\n",
      "Collecting pandocfilters>=1.4.1 (from nbconvert>=6.0->jupyter_contrib_nbextensions)\n",
      "  Using cached pandocfilters-1.5.1-py2.py3-none-any.whl.metadata (9.0 kB)\n",
      "Requirement already satisfied: pygments>=2.4.1 in d:\\01_programming\\100_hugobank\\mine\\works-need-it-python\\venv\\lib\\site-packages (from nbconvert>=6.0->jupyter_contrib_nbextensions) (2.18.0)\n",
      "Requirement already satisfied: platformdirs>=2.5 in d:\\01_programming\\100_hugobank\\mine\\works-need-it-python\\venv\\lib\\site-packages (from jupyter_core->jupyter_contrib_nbextensions) (4.3.6)\n",
      "Requirement already satisfied: pywin32>=300 in d:\\01_programming\\100_hugobank\\mine\\works-need-it-python\\venv\\lib\\site-packages (from jupyter_core->jupyter_contrib_nbextensions) (308)\n",
      "Collecting jupyterlab-server<3,>=2.27.1 (from notebook>=6.0->jupyter_contrib_nbextensions)\n",
      "  Using cached jupyterlab_server-2.27.3-py3-none-any.whl.metadata (5.9 kB)\n",
      "Collecting jupyterlab<4.4,>=4.3.4 (from notebook>=6.0->jupyter_contrib_nbextensions)\n",
      "  Using cached jupyterlab-4.3.4-py3-none-any.whl.metadata (16 kB)\n",
      "Collecting notebook-shim<0.3,>=0.2 (from notebook>=6.0->jupyter_contrib_nbextensions)\n",
      "  Using cached notebook_shim-0.2.4-py3-none-any.whl.metadata (4.0 kB)\n",
      "Collecting webencodings (from bleach!=5.0.0->bleach[css]!=5.0.0->nbconvert>=6.0->jupyter_contrib_nbextensions)\n",
      "  Using cached webencodings-0.5.1-py2.py3-none-any.whl.metadata (2.1 kB)\n",
      "Collecting tinycss2<1.5,>=1.1.0 (from bleach[css]!=5.0.0->nbconvert>=6.0->jupyter_contrib_nbextensions)\n",
      "  Using cached tinycss2-1.4.0-py3-none-any.whl.metadata (3.0 kB)\n",
      "Requirement already satisfied: anyio>=3.1.0 in d:\\01_programming\\100_hugobank\\mine\\works-need-it-python\\venv\\lib\\site-packages (from jupyter-server->jupyter_nbextensions_configurator>=0.4.0->jupyter_contrib_nbextensions) (4.7.0)\n",
      "Collecting argon2-cffi>=21.1 (from jupyter-server->jupyter_nbextensions_configurator>=0.4.0->jupyter_contrib_nbextensions)\n",
      "  Using cached argon2_cffi-23.1.0-py3-none-any.whl.metadata (5.2 kB)\n",
      "Requirement already satisfied: jupyter-client>=7.4.4 in d:\\01_programming\\100_hugobank\\mine\\works-need-it-python\\venv\\lib\\site-packages (from jupyter-server->jupyter_nbextensions_configurator>=0.4.0->jupyter_contrib_nbextensions) (8.6.3)\n",
      "Collecting jupyter-events>=0.11.0 (from jupyter-server->jupyter_nbextensions_configurator>=0.4.0->jupyter_contrib_nbextensions)\n",
      "  Using cached jupyter_events-0.11.0-py3-none-any.whl.metadata (5.8 kB)\n",
      "Collecting jupyter-server-terminals>=0.4.4 (from jupyter-server->jupyter_nbextensions_configurator>=0.4.0->jupyter_contrib_nbextensions)\n",
      "  Using cached jupyter_server_terminals-0.5.3-py3-none-any.whl.metadata (5.6 kB)\n",
      "Collecting overrides>=5.0 (from jupyter-server->jupyter_nbextensions_configurator>=0.4.0->jupyter_contrib_nbextensions)\n",
      "  Using cached overrides-7.7.0-py3-none-any.whl.metadata (5.8 kB)\n",
      "Collecting prometheus-client>=0.9 (from jupyter-server->jupyter_nbextensions_configurator>=0.4.0->jupyter_contrib_nbextensions)\n",
      "  Using cached prometheus_client-0.21.1-py3-none-any.whl.metadata (1.8 kB)\n",
      "Collecting pywinpty>=2.0.1 (from jupyter-server->jupyter_nbextensions_configurator>=0.4.0->jupyter_contrib_nbextensions)\n",
      "  Using cached pywinpty-2.0.14-cp310-none-win_amd64.whl.metadata (5.2 kB)\n",
      "Requirement already satisfied: pyzmq>=24 in d:\\01_programming\\100_hugobank\\mine\\works-need-it-python\\venv\\lib\\site-packages (from jupyter-server->jupyter_nbextensions_configurator>=0.4.0->jupyter_contrib_nbextensions) (26.2.0)\n",
      "Collecting send2trash>=1.8.2 (from jupyter-server->jupyter_nbextensions_configurator>=0.4.0->jupyter_contrib_nbextensions)\n",
      "  Using cached Send2Trash-1.8.3-py3-none-any.whl.metadata (4.0 kB)\n",
      "Collecting terminado>=0.8.3 (from jupyter-server->jupyter_nbextensions_configurator>=0.4.0->jupyter_contrib_nbextensions)\n",
      "  Using cached terminado-0.18.1-py3-none-any.whl.metadata (5.8 kB)\n",
      "Collecting websocket-client>=1.7 (from jupyter-server->jupyter_nbextensions_configurator>=0.4.0->jupyter_contrib_nbextensions)\n",
      "  Using cached websocket_client-1.8.0-py3-none-any.whl.metadata (8.0 kB)\n",
      "Collecting async-lru>=1.0.0 (from jupyterlab<4.4,>=4.3.4->notebook>=6.0->jupyter_contrib_nbextensions)\n",
      "  Using cached async_lru-2.0.4-py3-none-any.whl.metadata (4.5 kB)\n",
      "Requirement already satisfied: httpx>=0.25.0 in d:\\01_programming\\100_hugobank\\mine\\works-need-it-python\\venv\\lib\\site-packages (from jupyterlab<4.4,>=4.3.4->notebook>=6.0->jupyter_contrib_nbextensions) (0.28.1)\n",
      "Requirement already satisfied: ipykernel>=6.5.0 in d:\\01_programming\\100_hugobank\\mine\\works-need-it-python\\venv\\lib\\site-packages (from jupyterlab<4.4,>=4.3.4->notebook>=6.0->jupyter_contrib_nbextensions) (6.29.5)\n",
      "Collecting jupyter-lsp>=2.0.0 (from jupyterlab<4.4,>=4.3.4->notebook>=6.0->jupyter_contrib_nbextensions)\n",
      "  Using cached jupyter_lsp-2.2.5-py3-none-any.whl.metadata (1.8 kB)\n",
      "Requirement already satisfied: tomli>=1.2.2 in d:\\01_programming\\100_hugobank\\mine\\works-need-it-python\\venv\\lib\\site-packages (from jupyterlab<4.4,>=4.3.4->notebook>=6.0->jupyter_contrib_nbextensions) (2.2.1)\n",
      "Collecting babel>=2.10 (from jupyterlab-server<3,>=2.27.1->notebook>=6.0->jupyter_contrib_nbextensions)\n",
      "  Using cached babel-2.16.0-py3-none-any.whl.metadata (1.5 kB)\n",
      "Collecting json5>=0.9.0 (from jupyterlab-server<3,>=2.27.1->notebook>=6.0->jupyter_contrib_nbextensions)\n",
      "  Using cached json5-0.10.0-py3-none-any.whl.metadata (34 kB)\n",
      "Requirement already satisfied: jsonschema>=4.18.0 in d:\\01_programming\\100_hugobank\\mine\\works-need-it-python\\venv\\lib\\site-packages (from jupyterlab-server<3,>=2.27.1->notebook>=6.0->jupyter_contrib_nbextensions) (4.23.0)\n",
      "Requirement already satisfied: requests>=2.31 in d:\\01_programming\\100_hugobank\\mine\\works-need-it-python\\venv\\lib\\site-packages (from jupyterlab-server<3,>=2.27.1->notebook>=6.0->jupyter_contrib_nbextensions) (2.32.3)\n",
      "Requirement already satisfied: typing-extensions in d:\\01_programming\\100_hugobank\\mine\\works-need-it-python\\venv\\lib\\site-packages (from mistune<4,>=2.0.3->nbconvert>=6.0->jupyter_contrib_nbextensions) (4.12.2)\n",
      "Collecting fastjsonschema>=2.15 (from nbformat>=5.7->nbconvert>=6.0->jupyter_contrib_nbextensions)\n",
      "  Using cached fastjsonschema-2.21.1-py3-none-any.whl.metadata (2.2 kB)\n",
      "Collecting soupsieve>1.2 (from beautifulsoup4->nbconvert>=6.0->jupyter_contrib_nbextensions)\n",
      "  Using cached soupsieve-2.6-py3-none-any.whl.metadata (4.6 kB)\n",
      "Requirement already satisfied: exceptiongroup>=1.0.2 in d:\\01_programming\\100_hugobank\\mine\\works-need-it-python\\venv\\lib\\site-packages (from anyio>=3.1.0->jupyter-server->jupyter_nbextensions_configurator>=0.4.0->jupyter_contrib_nbextensions) (1.2.2)\n",
      "Requirement already satisfied: idna>=2.8 in d:\\01_programming\\100_hugobank\\mine\\works-need-it-python\\venv\\lib\\site-packages (from anyio>=3.1.0->jupyter-server->jupyter_nbextensions_configurator>=0.4.0->jupyter_contrib_nbextensions) (3.10)\n",
      "Requirement already satisfied: sniffio>=1.1 in d:\\01_programming\\100_hugobank\\mine\\works-need-it-python\\venv\\lib\\site-packages (from anyio>=3.1.0->jupyter-server->jupyter_nbextensions_configurator>=0.4.0->jupyter_contrib_nbextensions) (1.3.1)\n",
      "Collecting argon2-cffi-bindings (from argon2-cffi>=21.1->jupyter-server->jupyter_nbextensions_configurator>=0.4.0->jupyter_contrib_nbextensions)\n",
      "  Using cached argon2_cffi_bindings-21.2.0-cp36-abi3-win_amd64.whl.metadata (6.7 kB)\n",
      "Requirement already satisfied: certifi in d:\\01_programming\\100_hugobank\\mine\\works-need-it-python\\venv\\lib\\site-packages (from httpx>=0.25.0->jupyterlab<4.4,>=4.3.4->notebook>=6.0->jupyter_contrib_nbextensions) (2024.8.30)\n",
      "Requirement already satisfied: httpcore==1.* in d:\\01_programming\\100_hugobank\\mine\\works-need-it-python\\venv\\lib\\site-packages (from httpx>=0.25.0->jupyterlab<4.4,>=4.3.4->notebook>=6.0->jupyter_contrib_nbextensions) (1.0.7)\n",
      "Requirement already satisfied: h11<0.15,>=0.13 in d:\\01_programming\\100_hugobank\\mine\\works-need-it-python\\venv\\lib\\site-packages (from httpcore==1.*->httpx>=0.25.0->jupyterlab<4.4,>=4.3.4->notebook>=6.0->jupyter_contrib_nbextensions) (0.14.0)\n",
      "Requirement already satisfied: comm>=0.1.1 in d:\\01_programming\\100_hugobank\\mine\\works-need-it-python\\venv\\lib\\site-packages (from ipykernel>=6.5.0->jupyterlab<4.4,>=4.3.4->notebook>=6.0->jupyter_contrib_nbextensions) (0.2.2)\n",
      "Requirement already satisfied: debugpy>=1.6.5 in d:\\01_programming\\100_hugobank\\mine\\works-need-it-python\\venv\\lib\\site-packages (from ipykernel>=6.5.0->jupyterlab<4.4,>=4.3.4->notebook>=6.0->jupyter_contrib_nbextensions) (1.8.11)\n",
      "Requirement already satisfied: ipython>=7.23.1 in d:\\01_programming\\100_hugobank\\mine\\works-need-it-python\\venv\\lib\\site-packages (from ipykernel>=6.5.0->jupyterlab<4.4,>=4.3.4->notebook>=6.0->jupyter_contrib_nbextensions) (8.31.0)\n",
      "Requirement already satisfied: matplotlib-inline>=0.1 in d:\\01_programming\\100_hugobank\\mine\\works-need-it-python\\venv\\lib\\site-packages (from ipykernel>=6.5.0->jupyterlab<4.4,>=4.3.4->notebook>=6.0->jupyter_contrib_nbextensions) (0.1.7)\n",
      "Requirement already satisfied: nest-asyncio in d:\\01_programming\\100_hugobank\\mine\\works-need-it-python\\venv\\lib\\site-packages (from ipykernel>=6.5.0->jupyterlab<4.4,>=4.3.4->notebook>=6.0->jupyter_contrib_nbextensions) (1.6.0)\n",
      "Requirement already satisfied: psutil in d:\\01_programming\\100_hugobank\\mine\\works-need-it-python\\venv\\lib\\site-packages (from ipykernel>=6.5.0->jupyterlab<4.4,>=4.3.4->notebook>=6.0->jupyter_contrib_nbextensions) (6.1.1)\n",
      "Requirement already satisfied: attrs>=22.2.0 in d:\\01_programming\\100_hugobank\\mine\\works-need-it-python\\venv\\lib\\site-packages (from jsonschema>=4.18.0->jupyterlab-server<3,>=2.27.1->notebook>=6.0->jupyter_contrib_nbextensions) (24.3.0)\n",
      "Requirement already satisfied: jsonschema-specifications>=2023.03.6 in d:\\01_programming\\100_hugobank\\mine\\works-need-it-python\\venv\\lib\\site-packages (from jsonschema>=4.18.0->jupyterlab-server<3,>=2.27.1->notebook>=6.0->jupyter_contrib_nbextensions) (2024.10.1)\n",
      "Requirement already satisfied: referencing>=0.28.4 in d:\\01_programming\\100_hugobank\\mine\\works-need-it-python\\venv\\lib\\site-packages (from jsonschema>=4.18.0->jupyterlab-server<3,>=2.27.1->notebook>=6.0->jupyter_contrib_nbextensions) (0.35.1)\n",
      "Requirement already satisfied: rpds-py>=0.7.1 in d:\\01_programming\\100_hugobank\\mine\\works-need-it-python\\venv\\lib\\site-packages (from jsonschema>=4.18.0->jupyterlab-server<3,>=2.27.1->notebook>=6.0->jupyter_contrib_nbextensions) (0.22.3)\n",
      "Requirement already satisfied: python-dateutil>=2.8.2 in d:\\01_programming\\100_hugobank\\mine\\works-need-it-python\\venv\\lib\\site-packages (from jupyter-client>=7.4.4->jupyter-server->jupyter_nbextensions_configurator>=0.4.0->jupyter_contrib_nbextensions) (2.9.0.post0)\n",
      "Collecting python-json-logger>=2.0.4 (from jupyter-events>=0.11.0->jupyter-server->jupyter_nbextensions_configurator>=0.4.0->jupyter_contrib_nbextensions)\n",
      "  Using cached python_json_logger-3.2.1-py3-none-any.whl.metadata (4.1 kB)\n",
      "Collecting rfc3339-validator (from jupyter-events>=0.11.0->jupyter-server->jupyter_nbextensions_configurator>=0.4.0->jupyter_contrib_nbextensions)\n",
      "  Using cached rfc3339_validator-0.1.4-py2.py3-none-any.whl.metadata (1.5 kB)\n",
      "Collecting rfc3986-validator>=0.1.1 (from jupyter-events>=0.11.0->jupyter-server->jupyter_nbextensions_configurator>=0.4.0->jupyter_contrib_nbextensions)\n",
      "  Using cached rfc3986_validator-0.1.1-py2.py3-none-any.whl.metadata (1.7 kB)\n",
      "Requirement already satisfied: charset-normalizer<4,>=2 in d:\\01_programming\\100_hugobank\\mine\\works-need-it-python\\venv\\lib\\site-packages (from requests>=2.31->jupyterlab-server<3,>=2.27.1->notebook>=6.0->jupyter_contrib_nbextensions) (3.4.0)\n",
      "Requirement already satisfied: urllib3<3,>=1.21.1 in d:\\01_programming\\100_hugobank\\mine\\works-need-it-python\\venv\\lib\\site-packages (from requests>=2.31->jupyterlab-server<3,>=2.27.1->notebook>=6.0->jupyter_contrib_nbextensions) (2.2.3)\n",
      "Requirement already satisfied: colorama in d:\\01_programming\\100_hugobank\\mine\\works-need-it-python\\venv\\lib\\site-packages (from ipython>=7.23.1->ipykernel>=6.5.0->jupyterlab<4.4,>=4.3.4->notebook>=6.0->jupyter_contrib_nbextensions) (0.4.6)\n",
      "Requirement already satisfied: decorator in d:\\01_programming\\100_hugobank\\mine\\works-need-it-python\\venv\\lib\\site-packages (from ipython>=7.23.1->ipykernel>=6.5.0->jupyterlab<4.4,>=4.3.4->notebook>=6.0->jupyter_contrib_nbextensions) (5.1.1)\n",
      "Requirement already satisfied: jedi>=0.16 in d:\\01_programming\\100_hugobank\\mine\\works-need-it-python\\venv\\lib\\site-packages (from ipython>=7.23.1->ipykernel>=6.5.0->jupyterlab<4.4,>=4.3.4->notebook>=6.0->jupyter_contrib_nbextensions) (0.19.2)\n",
      "Requirement already satisfied: prompt_toolkit<3.1.0,>=3.0.41 in d:\\01_programming\\100_hugobank\\mine\\works-need-it-python\\venv\\lib\\site-packages (from ipython>=7.23.1->ipykernel>=6.5.0->jupyterlab<4.4,>=4.3.4->notebook>=6.0->jupyter_contrib_nbextensions) (3.0.48)\n",
      "Requirement already satisfied: stack_data in d:\\01_programming\\100_hugobank\\mine\\works-need-it-python\\venv\\lib\\site-packages (from ipython>=7.23.1->ipykernel>=6.5.0->jupyterlab<4.4,>=4.3.4->notebook>=6.0->jupyter_contrib_nbextensions) (0.6.3)\n",
      "Collecting fqdn (from jsonschema[format-nongpl]>=4.18.0->jupyter-events>=0.11.0->jupyter-server->jupyter_nbextensions_configurator>=0.4.0->jupyter_contrib_nbextensions)\n",
      "  Using cached fqdn-1.5.1-py3-none-any.whl.metadata (1.4 kB)\n",
      "Collecting isoduration (from jsonschema[format-nongpl]>=4.18.0->jupyter-events>=0.11.0->jupyter-server->jupyter_nbextensions_configurator>=0.4.0->jupyter_contrib_nbextensions)\n",
      "  Using cached isoduration-20.11.0-py3-none-any.whl.metadata (5.7 kB)\n",
      "Collecting jsonpointer>1.13 (from jsonschema[format-nongpl]>=4.18.0->jupyter-events>=0.11.0->jupyter-server->jupyter_nbextensions_configurator>=0.4.0->jupyter_contrib_nbextensions)\n",
      "  Using cached jsonpointer-3.0.0-py2.py3-none-any.whl.metadata (2.3 kB)\n",
      "Collecting uri-template (from jsonschema[format-nongpl]>=4.18.0->jupyter-events>=0.11.0->jupyter-server->jupyter_nbextensions_configurator>=0.4.0->jupyter_contrib_nbextensions)\n",
      "  Using cached uri_template-1.3.0-py3-none-any.whl.metadata (8.8 kB)\n",
      "Collecting webcolors>=24.6.0 (from jsonschema[format-nongpl]>=4.18.0->jupyter-events>=0.11.0->jupyter-server->jupyter_nbextensions_configurator>=0.4.0->jupyter_contrib_nbextensions)\n",
      "  Using cached webcolors-24.11.1-py3-none-any.whl.metadata (2.2 kB)\n",
      "Requirement already satisfied: six>=1.5 in d:\\01_programming\\100_hugobank\\mine\\works-need-it-python\\venv\\lib\\site-packages (from python-dateutil>=2.8.2->jupyter-client>=7.4.4->jupyter-server->jupyter_nbextensions_configurator>=0.4.0->jupyter_contrib_nbextensions) (1.17.0)\n",
      "Collecting cffi>=1.0.1 (from argon2-cffi-bindings->argon2-cffi>=21.1->jupyter-server->jupyter_nbextensions_configurator>=0.4.0->jupyter_contrib_nbextensions)\n",
      "  Using cached cffi-1.17.1-cp310-cp310-win_amd64.whl.metadata (1.6 kB)\n",
      "Collecting pycparser (from cffi>=1.0.1->argon2-cffi-bindings->argon2-cffi>=21.1->jupyter-server->jupyter_nbextensions_configurator>=0.4.0->jupyter_contrib_nbextensions)\n",
      "  Using cached pycparser-2.22-py3-none-any.whl.metadata (943 bytes)\n",
      "Requirement already satisfied: parso<0.9.0,>=0.8.4 in d:\\01_programming\\100_hugobank\\mine\\works-need-it-python\\venv\\lib\\site-packages (from jedi>=0.16->ipython>=7.23.1->ipykernel>=6.5.0->jupyterlab<4.4,>=4.3.4->notebook>=6.0->jupyter_contrib_nbextensions) (0.8.4)\n",
      "Requirement already satisfied: wcwidth in d:\\01_programming\\100_hugobank\\mine\\works-need-it-python\\venv\\lib\\site-packages (from prompt_toolkit<3.1.0,>=3.0.41->ipython>=7.23.1->ipykernel>=6.5.0->jupyterlab<4.4,>=4.3.4->notebook>=6.0->jupyter_contrib_nbextensions) (0.2.13)\n",
      "Requirement already satisfied: arrow>=0.15.0 in d:\\01_programming\\100_hugobank\\mine\\works-need-it-python\\venv\\lib\\site-packages (from isoduration->jsonschema[format-nongpl]>=4.18.0->jupyter-events>=0.11.0->jupyter-server->jupyter_nbextensions_configurator>=0.4.0->jupyter_contrib_nbextensions) (1.3.0)\n",
      "Requirement already satisfied: executing>=1.2.0 in d:\\01_programming\\100_hugobank\\mine\\works-need-it-python\\venv\\lib\\site-packages (from stack_data->ipython>=7.23.1->ipykernel>=6.5.0->jupyterlab<4.4,>=4.3.4->notebook>=6.0->jupyter_contrib_nbextensions) (2.1.0)\n",
      "Requirement already satisfied: asttokens>=2.1.0 in d:\\01_programming\\100_hugobank\\mine\\works-need-it-python\\venv\\lib\\site-packages (from stack_data->ipython>=7.23.1->ipykernel>=6.5.0->jupyterlab<4.4,>=4.3.4->notebook>=6.0->jupyter_contrib_nbextensions) (3.0.0)\n",
      "Requirement already satisfied: pure-eval in d:\\01_programming\\100_hugobank\\mine\\works-need-it-python\\venv\\lib\\site-packages (from stack_data->ipython>=7.23.1->ipykernel>=6.5.0->jupyterlab<4.4,>=4.3.4->notebook>=6.0->jupyter_contrib_nbextensions) (0.2.3)\n",
      "Requirement already satisfied: types-python-dateutil>=2.8.10 in d:\\01_programming\\100_hugobank\\mine\\works-need-it-python\\venv\\lib\\site-packages (from arrow>=0.15.0->isoduration->jsonschema[format-nongpl]>=4.18.0->jupyter-events>=0.11.0->jupyter-server->jupyter_nbextensions_configurator>=0.4.0->jupyter_contrib_nbextensions) (2.9.0.20241206)\n",
      "Using cached jupyter_highlight_selected_word-0.2.0-py2.py3-none-any.whl (11 kB)\n",
      "Using cached jupyter_nbextensions_configurator-0.6.4-py2.py3-none-any.whl (466 kB)\n",
      "Using cached nbconvert-7.16.5-py3-none-any.whl (258 kB)\n",
      "Using cached notebook-7.3.2-py3-none-any.whl (13.2 MB)\n",
      "Using cached ipython_genutils-0.2.0-py2.py3-none-any.whl (26 kB)\n",
      "Using cached lxml-5.3.0-cp310-cp310-win_amd64.whl (3.8 MB)\n",
      "Using cached bleach-6.2.0-py3-none-any.whl (163 kB)\n",
      "Using cached jupyter_server-2.15.0-py3-none-any.whl (385 kB)\n",
      "Using cached jupyterlab-4.3.4-py3-none-any.whl (11.7 MB)\n",
      "Using cached jupyterlab_server-2.27.3-py3-none-any.whl (59 kB)\n",
      "Using cached mistune-3.1.0-py3-none-any.whl (53 kB)\n",
      "Using cached nbclient-0.10.2-py3-none-any.whl (25 kB)\n",
      "Using cached nbformat-5.10.4-py3-none-any.whl (78 kB)\n",
      "Using cached notebook_shim-0.2.4-py3-none-any.whl (13 kB)\n",
      "Using cached pandocfilters-1.5.1-py2.py3-none-any.whl (8.7 kB)\n",
      "Using cached beautifulsoup4-4.12.3-py3-none-any.whl (147 kB)\n",
      "Using cached defusedxml-0.7.1-py2.py3-none-any.whl (25 kB)\n",
      "Using cached jupyterlab_pygments-0.3.0-py3-none-any.whl (15 kB)\n",
      "Using cached argon2_cffi-23.1.0-py3-none-any.whl (15 kB)\n",
      "Using cached async_lru-2.0.4-py3-none-any.whl (6.1 kB)\n",
      "Using cached babel-2.16.0-py3-none-any.whl (9.6 MB)\n",
      "Using cached fastjsonschema-2.21.1-py3-none-any.whl (23 kB)\n",
      "Using cached json5-0.10.0-py3-none-any.whl (34 kB)\n",
      "Using cached jupyter_events-0.11.0-py3-none-any.whl (19 kB)\n",
      "Using cached jupyter_lsp-2.2.5-py3-none-any.whl (69 kB)\n",
      "Using cached jupyter_server_terminals-0.5.3-py3-none-any.whl (13 kB)\n",
      "Using cached overrides-7.7.0-py3-none-any.whl (17 kB)\n",
      "Using cached prometheus_client-0.21.1-py3-none-any.whl (54 kB)\n",
      "Using cached pywinpty-2.0.14-cp310-none-win_amd64.whl (1.4 MB)\n",
      "Using cached Send2Trash-1.8.3-py3-none-any.whl (18 kB)\n",
      "Using cached soupsieve-2.6-py3-none-any.whl (36 kB)\n",
      "Using cached terminado-0.18.1-py3-none-any.whl (14 kB)\n",
      "Using cached tinycss2-1.4.0-py3-none-any.whl (26 kB)\n",
      "Using cached webencodings-0.5.1-py2.py3-none-any.whl (11 kB)\n",
      "Using cached websocket_client-1.8.0-py3-none-any.whl (58 kB)\n",
      "Using cached python_json_logger-3.2.1-py3-none-any.whl (14 kB)\n",
      "Using cached rfc3986_validator-0.1.1-py2.py3-none-any.whl (4.2 kB)\n",
      "Using cached argon2_cffi_bindings-21.2.0-cp36-abi3-win_amd64.whl (30 kB)\n",
      "Using cached rfc3339_validator-0.1.4-py2.py3-none-any.whl (3.5 kB)\n",
      "Using cached cffi-1.17.1-cp310-cp310-win_amd64.whl (181 kB)\n",
      "Using cached jsonpointer-3.0.0-py2.py3-none-any.whl (7.6 kB)\n",
      "Using cached webcolors-24.11.1-py3-none-any.whl (14 kB)\n",
      "Using cached fqdn-1.5.1-py3-none-any.whl (9.1 kB)\n",
      "Using cached isoduration-20.11.0-py3-none-any.whl (11 kB)\n",
      "Using cached uri_template-1.3.0-py3-none-any.whl (11 kB)\n",
      "Using cached pycparser-2.22-py3-none-any.whl (117 kB)\n",
      "Building wheels for collected packages: jupyter_contrib_nbextensions, jupyter_contrib_core\n",
      "  Building wheel for jupyter_contrib_nbextensions (setup.py): started\n",
      "  Building wheel for jupyter_contrib_nbextensions (setup.py): finished with status 'done'\n",
      "  Created wheel for jupyter_contrib_nbextensions: filename=jupyter_contrib_nbextensions-0.7.0-py2.py3-none-any.whl size=23428794 sha256=a8ef01a21895a1dacaa673109e2b5807f74f3ec94d3e965ed032f560e06e0012\n",
      "  Stored in directory: c:\\users\\perso\\appdata\\local\\pip\\cache\\wheels\\ea\\cc\\7d\\99ef154f984726b1201c0f72cfe9c9d7c5132c1a2ae4d8677f\n",
      "  Building wheel for jupyter_contrib_core (setup.py): started\n",
      "  Building wheel for jupyter_contrib_core (setup.py): finished with status 'done'\n",
      "  Created wheel for jupyter_contrib_core: filename=jupyter_contrib_core-0.4.2-py2.py3-none-any.whl size=17493 sha256=60ebf1956011263c6b0fadbb0b39da96c1c9b714910850d7c54b098e2813680b\n",
      "  Stored in directory: c:\\users\\perso\\appdata\\local\\pip\\cache\\wheels\\a9\\52\\88\\e0643cdfd68f0562087918c37dd583378648dbc3df68b907f7\n",
      "Successfully built jupyter_contrib_nbextensions jupyter_contrib_core\n",
      "Installing collected packages: webencodings, jupyter_highlight_selected_word, ipython_genutils, fastjsonschema, websocket-client, webcolors, uri-template, tinycss2, soupsieve, send2trash, rfc3986-validator, rfc3339-validator, pywinpty, python-json-logger, pycparser, prometheus-client, pandocfilters, overrides, mistune, lxml, jupyterlab-pygments, jsonpointer, json5, fqdn, defusedxml, bleach, babel, async-lru, terminado, cffi, beautifulsoup4, jupyter-server-terminals, isoduration, argon2-cffi-bindings, nbformat, argon2-cffi, nbclient, jupyter-events, nbconvert, jupyter-server, notebook-shim, jupyterlab-server, jupyter-lsp, jupyterlab, notebook, jupyter_contrib_core, jupyter_nbextensions_configurator, jupyter_contrib_nbextensions\n",
      "Successfully installed argon2-cffi-23.1.0 argon2-cffi-bindings-21.2.0 async-lru-2.0.4 babel-2.16.0 beautifulsoup4-4.12.3 bleach-6.2.0 cffi-1.17.1 defusedxml-0.7.1 fastjsonschema-2.21.1 fqdn-1.5.1 ipython_genutils-0.2.0 isoduration-20.11.0 json5-0.10.0 jsonpointer-3.0.0 jupyter-events-0.11.0 jupyter-lsp-2.2.5 jupyter-server-2.15.0 jupyter-server-terminals-0.5.3 jupyter_contrib_core-0.4.2 jupyter_contrib_nbextensions-0.7.0 jupyter_highlight_selected_word-0.2.0 jupyter_nbextensions_configurator-0.6.4 jupyterlab-4.3.4 jupyterlab-pygments-0.3.0 jupyterlab-server-2.27.3 lxml-5.3.0 mistune-3.1.0 nbclient-0.10.2 nbconvert-7.16.5 nbformat-5.10.4 notebook-7.3.2 notebook-shim-0.2.4 overrides-7.7.0 pandocfilters-1.5.1 prometheus-client-0.21.1 pycparser-2.22 python-json-logger-3.2.1 pywinpty-2.0.14 rfc3339-validator-0.1.4 rfc3986-validator-0.1.1 send2trash-1.8.3 soupsieve-2.6 terminado-0.18.1 tinycss2-1.4.0 uri-template-1.3.0 webcolors-24.11.1 webencodings-0.5.1 websocket-client-1.8.0\n"
     ]
    }
   ],
   "source": [
    "!pip install jupyter_contrib_nbextensions"
   ]
  },
  {
   "cell_type": "code",
   "execution_count": null,
   "metadata": {},
   "outputs": [],
   "source": [
    "!jupyter contrib nbextension install --user"
   ]
  },
  {
   "cell_type": "code",
   "execution_count": 2,
   "metadata": {},
   "outputs": [
    {
     "name": "stdout",
     "output_type": "stream",
     "text": [
      "Hello, Notebook\n"
     ]
    }
   ],
   "source": [
    "print('Hello, Notebook')"
   ]
  },
  {
   "cell_type": "code",
   "execution_count": 3,
   "metadata": {},
   "outputs": [
    {
     "data": {
      "text/plain": [
       "'Hello, Notebook'"
      ]
     },
     "execution_count": 3,
     "metadata": {},
     "output_type": "execute_result"
    }
   ],
   "source": [
    "'Hello, Notebook'"
   ]
  },
  {
   "cell_type": "markdown",
   "metadata": {},
   "source": [
    "### print 사용법\n",
    "- 하나의 코드셀에서 여러 출력을 하고 싶으면 print() 사용\n",
    "- 하나의 코드셀에서 하나만 출력하고 싶으면 print() 불필요. 단, 여러번 변수를 사용하면 맨 마지막 변수의 값만 출력됨"
   ]
  },
  {
   "cell_type": "code",
   "execution_count": 3,
   "metadata": {},
   "outputs": [
    {
     "data": {
      "text/plain": [
       "11"
      ]
     },
     "execution_count": 3,
     "metadata": {},
     "output_type": "execute_result"
    }
   ],
   "source": [
    "a = 10\n",
    "a\n",
    "b = 11\n",
    "b"
   ]
  },
  {
   "cell_type": "markdown",
   "metadata": {},
   "source": [
    "### 단축키(가장 많이 사용하는 종류만 나열열)\n",
    "- 셀 선택 모드\n",
    "    - b - 현재 셀 아래 새로운 셀 추가\n",
    "    - c - 셀 복사\n",
    "    - x - 셀 잘라내기\n",
    "    - v - 셀 붙여넣기\n",
    "    - dd - 셀 삭제\n",
    "    - m - 코드 셀을 마크다운 셀로 변경\n",
    "    - Enter - 선택 셀을 코드 편접모드로 들어가기\n",
    "\n",
    "- 코드 편집 모드\n",
    "    - Ctrl + Enter - 셀 실행\n",
    "    - Shift + Enter - 셀 실행 후, 아래 셀로 이동(없으면 새로운 셀 추가)\n",
    "    - Alt + Enter - 셀 실행 후, 아래 셀 추가\n",
    "    - Ctrl + a, z - 일반적 전체 선택, 취소와 동일\n",
    "    - Ctrl + / - 현재 위치 주석 처리\n",
    "    - Ctrl + Shift + -  커서 위치에서 셀을 둘로 분할  "
   ]
  },
  {
   "cell_type": "markdown",
   "metadata": {},
   "source": [
    "\n",
    "- 코드 편집 모드\n",
    "    - Ctrl + Enter - 셀 실행\n",
    "    - Shift + Enter - 셀 실행 후, 아래 셀로 이동(없으면 새로운 셀 추가)\n",
    "    - Alt + Enter - 셀 실행 후, 아래 셀 추가\n",
    "\n",
    "    "
   ]
  },
  {
   "cell_type": "markdown",
   "metadata": {},
   "source": [
    "### 디버깅 방법"
   ]
  },
  {
   "cell_type": "code",
   "execution_count": 4,
   "metadata": {},
   "outputs": [
    {
     "name": "stdout",
     "output_type": "stream",
     "text": [
      "--Return--\n",
      "None\n",
      "> \u001b[1;32mc:\\users\\perso\\appdata\\local\\temp\\ipykernel_4420\\3311903645.py\u001b[0m(3)\u001b[0;36m<module>\u001b[1;34m()\u001b[0m\n",
      "\n",
      "--Return--\n",
      "None\n",
      "> \u001b[1;32mc:\\users\\perso\\appdata\\local\\temp\\ipykernel_4420\\3311903645.py\u001b[0m(7)\u001b[0;36m<module>\u001b[1;34m()\u001b[0m\n",
      "\n",
      "1\n",
      "2\n",
      "2\n",
      "<class 'int'>\n",
      "<class 'int'>\n",
      "display x: 1\n",
      "display y: 2\n",
      "display x * y: 2\n"
     ]
    },
    {
     "data": {
      "text/plain": [
       "91"
      ]
     },
     "execution_count": 4,
     "metadata": {},
     "output_type": "execute_result"
    }
   ],
   "source": [
    "x, y = 1, 2\n",
    "\n",
    "import pdb;pdb.set_trace()\n",
    "\n",
    "x * y\n",
    "\n",
    "import pdb;pdb.set_trace()\n",
    "\n",
    "x + y - 1"
   ]
  }
 ],
 "metadata": {
  "kernelspec": {
   "display_name": "venv",
   "language": "python",
   "name": "python3"
  },
  "language_info": {
   "codemirror_mode": {
    "name": "ipython",
    "version": 3
   },
   "file_extension": ".py",
   "mimetype": "text/x-python",
   "name": "python",
   "nbconvert_exporter": "python",
   "pygments_lexer": "ipython3",
   "version": "3.10.10"
  },
  "orig_nbformat": 4
 },
 "nbformat": 4,
 "nbformat_minor": 2
}
