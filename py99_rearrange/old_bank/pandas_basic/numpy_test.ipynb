{
 "cells": [
  {
   "cell_type": "markdown",
   "metadata": {},
   "source": [
    "# 넘파이 사용법 확인\n",
    "\n",
    "### 기본사용법 패키지 추가\n",
    "#### 설치\n",
    "> pip install numpy"
   ]
  },
  {
   "cell_type": "markdown",
   "metadata": {},
   "source": [
    "### Numpy 버전확인"
   ]
  },
  {
   "cell_type": "code",
   "execution_count": 1,
   "metadata": {},
   "outputs": [
    {
     "name": "stdout",
     "output_type": "stream",
     "text": [
      "1.21.4\n"
     ]
    }
   ],
   "source": [
    "import numpy as np\n",
    "print(np.__version__)\n"
   ]
  },
  {
   "cell_type": "markdown",
   "metadata": {},
   "source": [
    "### np.array()"
   ]
  },
  {
   "cell_type": "code",
   "execution_count": 5,
   "metadata": {},
   "outputs": [
    {
     "name": "stdout",
     "output_type": "stream",
     "text": [
      "[1 2 3 4 5]\n",
      "[[10 20 30]\n",
      " [40 50 60]]\n"
     ]
    }
   ],
   "source": [
    "# 1차원 배열\n",
    "arr = np.array([1, 2, 3, 4, 5])\n",
    "print(arr)\n",
    "\n",
    "# 2차원 배열\n",
    "mat = np.array([[10,20,30],[40,50,60]])\n",
    "print(mat)"
   ]
  },
  {
   "cell_type": "code",
   "execution_count": 7,
   "metadata": {},
   "outputs": [
    {
     "name": "stdout",
     "output_type": "stream",
     "text": [
      "arr의 타입 : <class 'numpy.ndarray'>\n",
      "mat의 타입 : <class 'numpy.ndarray'>\n",
      "arr의 축 : 1\n",
      "arr의 크기 : (5,)\n",
      "mat의 축 : 2\n",
      "mat의 크기 : (2, 3)\n"
     ]
    }
   ],
   "source": [
    "# 배열의 타입확인\n",
    "print(f'arr의 타입 : {type(arr)}')\n",
    "print(f'mat의 타입 : {type(mat)}')\n",
    "\n",
    "# 배열의 축(ndim)과 크기(shape) 확인\n",
    "print(f'arr의 축 : {arr.ndim}')\n",
    "print(f'arr의 크기 : {arr.shape}')\n",
    "print(f'mat의 축 : {mat.ndim}')\n",
    "print(f'mat의 크기 : {mat.shape}')\n",
    "\n"
   ]
  },
  {
   "cell_type": "code",
   "execution_count": 12,
   "metadata": {},
   "outputs": [
    {
     "name": "stdout",
     "output_type": "stream",
     "text": [
      "[[0. 0. 0.]\n",
      " [0. 0. 0.]]\n",
      "[[1. 1. 1.]\n",
      " [1. 1. 1.]]\n",
      "[[8 8 8]\n",
      " [8 8 8]]\n",
      "[[1. 0. 0.]\n",
      " [0. 1. 0.]\n",
      " [0. 0. 1.]]\n",
      "[[0.60401332 0.87922728 0.81235333]\n",
      " [0.83359204 0.20594759 0.62276732]]\n"
     ]
    }
   ],
   "source": [
    "#ndarray 초기화 방법\n",
    "mat_zero = np.zeros([2, 3])\n",
    "print(mat_zero)\n",
    "\n",
    "mat_one = np.ones([2, 3])\n",
    "print(mat_one)\n",
    "\n",
    "mat_eight = np.full([2, 3], 8)\n",
    "print(mat_eight)\n",
    "\n",
    "mat_eye = np.eye(3)\n",
    "print(mat_eye)\n",
    "\n",
    "mat_rand = np.random.random([2,3])\n",
    "print(mat_rand)"
   ]
  },
  {
   "cell_type": "markdown",
   "metadata": {},
   "source": [
    "### 다양한 기능 메서드"
   ]
  },
  {
   "cell_type": "code",
   "execution_count": 8,
   "metadata": {},
   "outputs": [
    {
     "name": "stdout",
     "output_type": "stream",
     "text": [
      "[0 1 2 3 4 5 6 7 8 9]\n",
      "[ 1  5  9 13 17 21 25 29 33 37 41 45 49]\n",
      "[ 0  1  2  3  4  5  6  7  8  9 10 11]\n",
      "[[ 0  1  2  3]\n",
      " [ 4  5  6  7]\n",
      " [ 8  9 10 11]]\n",
      "[0 1 2 3]\n",
      "[1 5 9]\n"
     ]
    }
   ],
   "source": [
    "# np.arrange\n",
    "import numpy as np\n",
    "\n",
    "# 0부터 9까지\n",
    "arr_range = np.arange(10)\n",
    "print(arr_range)\n",
    "\n",
    "# 1부터 50까지 4씩 증가하는 배열\n",
    "arr_fourtime_to_fifty = np.arange(1, 51, 4)\n",
    "print(arr_fourtime_to_fifty)\n",
    "\n",
    "# 0~11 까지 1차원배열\n",
    "array = np.arange(12)\n",
    "print(array)\n",
    "arr_reshape = np.array(array).reshape([3,4])\n",
    "print(arr_reshape)\n",
    "\n",
    "# 슬라이싱\n",
    "slice_row = arr_reshape[0, :]\n",
    "print(slice_row)\n",
    "\n",
    "# 두번째 열 슬라이싱\n",
    "slice_col = arr_reshape[:, 1]\n",
    "print(slice_col)"
   ]
  },
  {
   "cell_type": "code",
   "execution_count": 28,
   "metadata": {},
   "outputs": [
    {
     "name": "stdout",
     "output_type": "stream",
     "text": [
      "[1 7]\n",
      "[ 1  7 11]\n"
     ]
    }
   ],
   "source": [
    "# 인덱싱으로 새로운 배열 생성\n",
    "arr_ind = arr_reshape[[0, 1], [1, 3]]\n",
    "print(arr_ind)\n",
    "\n",
    "d = np.array([arr_reshape[0, 1], arr_reshape[1, 3], arr_reshape[2, 3]])\n",
    "print(d)"
   ]
  },
  {
   "cell_type": "markdown",
   "metadata": {},
   "source": [
    "### Numpy 연산"
   ]
  },
  {
   "cell_type": "code",
   "execution_count": 29,
   "metadata": {},
   "outputs": [
    {
     "name": "stdout",
     "output_type": "stream",
     "text": [
      "[5 7 9]\n",
      "[-3 -3 -3]\n",
      "[ 4 10 18]\n",
      "[0.25 0.4  0.5 ]\n",
      "[5 7 9]\n",
      "[-3 -3 -3]\n",
      "[ 4 10 18]\n",
      "[0.25 0.4  0.5 ]\n",
      "[[19 22]\n",
      " [43 50]]\n"
     ]
    }
   ],
   "source": [
    "## 연산\n",
    "x = np.array([1,2,3])\n",
    "y = np.array([4,5,6])\n",
    "\n",
    "print(x + y)\n",
    "print(x - y)\n",
    "print(x * y)\n",
    "print(x / y)\n",
    "\n",
    "print(np.add(x, y))\n",
    "print(np.subtract(x, y))\n",
    "print(np.multiply(x, y))\n",
    "print(np.divide(x, y))\n",
    "\n",
    "mat1 = np.array([[1,2],[3,4]])\n",
    "mat2 = np.array([[5,6],[7,8]])\n",
    "print(np.dot(mat1, mat2))"
   ]
  }
 ],
 "metadata": {
  "interpreter": {
   "hash": "f96a9a07a116f6f1ffed9cd3a9ab21c3a5ddd23e72a9eab081c16d79846f9680"
  },
  "kernelspec": {
   "display_name": "Python 3.9.7 64-bit ('venv': venv)",
   "language": "python",
   "name": "python3"
  },
  "language_info": {
   "codemirror_mode": {
    "name": "ipython",
    "version": 3
   },
   "file_extension": ".py",
   "mimetype": "text/x-python",
   "name": "python",
   "nbconvert_exporter": "python",
   "pygments_lexer": "ipython3",
   "version": "3.9.7"
  },
  "orig_nbformat": 4
 },
 "nbformat": 4,
 "nbformat_minor": 2
}
